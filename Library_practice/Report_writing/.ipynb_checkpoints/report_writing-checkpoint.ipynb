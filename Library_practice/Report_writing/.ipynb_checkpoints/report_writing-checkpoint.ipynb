{
 "cells": [
  {
   "cell_type": "markdown",
   "metadata": {},
   "source": [
    "# Assignment 1"
   ]
  },
  {
   "cell_type": "markdown",
   "metadata": {},
   "source": [
    "Name: Mingyu Park\n",
    "\n",
    "Date: 2021 Month Day"
   ]
  },
  {
   "cell_type": "markdown",
   "metadata": {},
   "source": [
    "================================================================="
   ]
  },
  {
   "cell_type": "markdown",
   "metadata": {},
   "source": [
    "THe following equations are plotted for the corresponding domains:\n",
    "\n",
    "$ f(x) = \\frac{1}{10}x^ 2   $ for $ x \\in[0,1.5) $    \n",
    "$ f(x) = \\sum_{n=1,3,5,..}^{N}{ \\frac{4}{\\pi n}}\\text{sin}(\\frac{2\\pi n(x-1.5)}{r})$ for $ x \\in[1.5,3] $    "
   ]
  },
  {
   "cell_type": "markdown",
   "metadata": {},
   "source": [
    "$\n",
    "\\begin{cases}\n",
    "{f(x) = \\frac{1}{10}x^ 2 \\text { for } x \\in[0,1.5) }  \\\\\n",
    "{f(x) = \\sum_{n=1,3,5,..}^{N}{ \\frac{4}{\\pi n}}\\text{sin}(\\frac{2\\pi n(x-1.5)}{r}) \\text { for }  x \\in[1.5,3]}\n",
    "\\end{cases}\n",
    "$"
   ]
  },
  {
   "cell_type": "markdown",
   "metadata": {},
   "source": [
    "$\n",
    "\\begin{align}\n",
    "\\begin{cases}\n",
    "f(x) = \\frac{1}{10}x^ 2 & \\text { for } x \\in[0,1.5)   \\\\\n",
    "f(x) = \\sum_{n=1,3,5,..}^{N}{ \\frac{4}{\\pi n}}\\text{sin}(\\frac{2\\pi n(x-1.5)}{T}) & \\text { for }  x \\in[1.5,3]\n",
    "\\end{cases}\n",
    "\\end{align}\n",
    "$"
   ]
  },
  {
   "cell_type": "code",
   "execution_count": 9,
   "metadata": {},
   "outputs": [],
   "source": [
    "# import libraries\n",
    "import numpy as np\n",
    "import matplotlib.pyplot as plt\n"
   ]
  },
  {
   "cell_type": "code",
   "execution_count": 11,
   "metadata": {},
   "outputs": [],
   "source": [
    "# calculate the first equation\n",
    "dx = 0.01\n",
    "x1 = np.arange(0,1.5,dx)\n",
    "y1 = 1/10*x1**2"
   ]
  },
  {
   "cell_type": "code",
   "execution_count": 35,
   "metadata": {},
   "outputs": [],
   "source": [
    "# calculate the second equation\n",
    "x2 = np.arange(1.5,3+dx,dx)\n",
    "N = 50\n",
    "T = 1\n",
    "y2 = np.zeros(x2.shape)\n",
    "for n in range(N):\n",
    "    if n%2 ==1:\n",
    "        series = (4/(np.pi*n))*np.sin(2*np.pi*n*(x2-1.5)/T)\n",
    "        y2 = y2 + series"
   ]
  },
  {
   "cell_type": "code",
   "execution_count": 36,
   "metadata": {},
   "outputs": [
    {
     "data": {
      "text/plain": [
       "Text(0.5, 1.0, 'Piecewise Functions')"
      ]
     },
     "execution_count": 36,
     "metadata": {},
     "output_type": "execute_result"
    },
    {
     "data": {
      "image/png": "[encoded data removed]",
      "text/plain": [
       "<Figure size 432x288 with 1 Axes>"
      ]
     },
     "metadata": {
      "needs_background": "light"
     },
     "output_type": "display_data"
    }
   ],
   "source": [
    "#plot\n",
    "plt.plot(x1,y1)\n",
    "plt.plot(x2,y2)\n",
    "plt.xlabel('x')\n",
    "plt.ylabel('y')\n",
    "plt.title('Piecewise Functions')"
   ]
  },
  {
   "cell_type": "code",
   "execution_count": null,
   "metadata": {},
   "outputs": [],
   "source": []
  }
 ],
 "metadata": {
  "kernelspec": {
   "display_name": "Python 3",
   "language": "python",
   "name": "python3"
  },
  "language_info": {
   "codemirror_mode": {
    "name": "ipython",
    "version": 3
   },
   "file_extension": ".py",
   "mimetype": "text/x-python",
   "name": "python",
   "nbconvert_exporter": "python",
   "pygments_lexer": "ipython3",
   "version": "3.8.5"
  }
 },
 "nbformat": 4,
 "nbformat_minor": 4
}
