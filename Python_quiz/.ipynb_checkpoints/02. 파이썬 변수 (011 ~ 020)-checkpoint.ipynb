{
 "cells": [
  {
   "cell_type": "markdown",
   "id": "662caef1",
   "metadata": {},
   "source": [
    "# 초보자를 위한 파이썬 300제"
   ]
  },
  {
   "cell_type": "markdown",
   "id": "74965c27",
   "metadata": {},
   "source": [
    "## 02. 파이썬 변수"
   ]
  },
  {
   "cell_type": "markdown",
   "id": "e1a3f5ab",
   "metadata": {},
   "source": [
    "### 011 변수 사용하기\n",
    "삼성전자라는 변수로 50,000원을 바인딩해보세요. 삼성전자 주식 10주를 보유하고 있을 때 총 평가금액을 출력하세요."
   ]
  },
  {
   "cell_type": "code",
   "execution_count": 1,
   "id": "2673fd25",
   "metadata": {},
   "outputs": [
    {
     "name": "stdout",
     "output_type": "stream",
     "text": [
      "500000\n"
     ]
    }
   ],
   "source": [
    "삼성전자 = 50000\n",
    "총평가금액 = 삼성전자 * 10\n",
    "print(총평가금액)"
   ]
  },
  {
   "attachments": {
    "image.png": {
     "image/png": "[encoded data removed]"
    }
   },
   "cell_type": "markdown",
   "id": "0ac4e0b5",
   "metadata": {},
   "source": [
    "### 012 변수 사용하기\n",
    "다음 표는 삼성전자의 일부 투자정보입니다. 변수를 사용해서 시가총액, 현재가, PER 등을 바인딩해보세요.\n",
    "\n",
    "![image.png](attachment:image.png)  "
   ]
  },
  {
   "cell_type": "code",
   "execution_count": 9,
   "id": "426b295e",
   "metadata": {},
   "outputs": [
    {
     "name": "stdout",
     "output_type": "stream",
     "text": [
      "시가총액 : 298조\n",
      "현재가 : 50,000원\n",
      "PER : 15.79\n"
     ]
    }
   ],
   "source": [
    "시가총액 = '298조'\n",
    "현재가 = '50,000원'\n",
    "PER = 15.79\n",
    "print('시가총액 :', 시가총액)\n",
    "print('현재가 :', 현재가)\n",
    "print('PER :', PER)"
   ]
  },
  {
   "cell_type": "markdown",
   "id": "e97845db",
   "metadata": {},
   "source": [
    "### 013 문자열 출력\n",
    "- 변수 s와 t에는 각각 문자열이 바인딩 되어있습니다.\n",
    "\n",
    "s = \"hello\"\n",
    "t = \"python\"\n",
    "- 두 변수를 이용하여 아래와 같이 출력해보세요.\n",
    "\n",
    "실행 예:\n",
    "hello! python"
   ]
  },
  {
   "cell_type": "code",
   "execution_count": 11,
   "id": "f5ca7d6f",
   "metadata": {},
   "outputs": [
    {
     "name": "stdout",
     "output_type": "stream",
     "text": [
      "hello! python\n",
      "hello! python\n"
     ]
    }
   ],
   "source": [
    "s = \"hello\" \n",
    "t = \"python\"\n",
    "print(s,t, sep ='! ')\n",
    "print(s+\"!\", t)"
   ]
  },
  {
   "cell_type": "markdown",
   "id": "42f68f23",
   "metadata": {},
   "source": [
    "### 014 파이썬을 이용한 값 계산\n",
    "아래 코드의 실행 결과를 예상해보세요.\n",
    "\n",
    "- 2 + 2 * 3 "
   ]
  },
  {
   "cell_type": "code",
   "execution_count": 12,
   "id": "3b92976a",
   "metadata": {},
   "outputs": [
    {
     "name": "stdout",
     "output_type": "stream",
     "text": [
      "8\n"
     ]
    }
   ],
   "source": [
    "print(2 + 2 * 3 )"
   ]
  },
  {
   "cell_type": "markdown",
   "id": "d42342bb",
   "metadata": {},
   "source": [
    "### 015 type 함수\n",
    "type() 함수는 데이터 타입을 판별합니다. 변수 a에는 128 숫자가 바인딩돼 있어 type 함수가 int (정수)형임을 알려줍니다.\n",
    "\n",
    "a = 128  \n",
    "print (type(a))  \n",
    "<class 'int'>  \n",
    "\n",
    "아래 변수에 바인딩된 값의 타입을 판별해보세요.  \n",
    "a = \"132\""
   ]
  },
  {
   "cell_type": "code",
   "execution_count": 13,
   "id": "fd864dec",
   "metadata": {},
   "outputs": [
    {
     "name": "stdout",
     "output_type": "stream",
     "text": [
      "<class 'str'>\n"
     ]
    }
   ],
   "source": [
    "a = \"132\"\n",
    "print(type(a))"
   ]
  },
  {
   "cell_type": "markdown",
   "id": "dd5f26a7",
   "metadata": {},
   "source": [
    "### 016 문자열을 정수로 변환\n",
    "문자열 '720'를 정수형으로 변환해보세요.\n",
    "\n",
    "num_str = \"720\""
   ]
  },
  {
   "cell_type": "code",
   "execution_count": 18,
   "id": "afe041fb",
   "metadata": {},
   "outputs": [
    {
     "name": "stdout",
     "output_type": "stream",
     "text": [
      "720 <class 'int'>\n"
     ]
    }
   ],
   "source": [
    "num_str = \"720\"\n",
    "num_int = int(num_str)\n",
    "print(num_int, type(num_int))"
   ]
  },
  {
   "cell_type": "markdown",
   "id": "8a07c8aa",
   "metadata": {},
   "source": [
    "### 017 정수를 문자열 100으로 변환\n",
    "정수 100을 문자열 '100'으로 변환해보세요.\n",
    "\n",
    "num = 100"
   ]
  },
  {
   "cell_type": "code",
   "execution_count": 21,
   "id": "09138e62",
   "metadata": {},
   "outputs": [
    {
     "name": "stdout",
     "output_type": "stream",
     "text": [
      "100 <class 'str'>\n"
     ]
    }
   ],
   "source": [
    "num = 100\n",
    "num_str = str(num)\n",
    "print(num_str, type(num_str))"
   ]
  },
  {
   "cell_type": "markdown",
   "id": "ac7e6fae",
   "metadata": {},
   "source": [
    "### 018 문자열을 실수로 변환\n",
    "문자열 \"15.79\"를 실수(float) 타입으로 변환해보세요."
   ]
  },
  {
   "cell_type": "code",
   "execution_count": 22,
   "id": "baaae061",
   "metadata": {},
   "outputs": [
    {
     "name": "stdout",
     "output_type": "stream",
     "text": [
      "15.79 <class 'float'>\n"
     ]
    }
   ],
   "source": [
    "data =  \"15.79\"\n",
    "data_float = float(data)\n",
    "print(data_float, type(data_float))"
   ]
  },
  {
   "cell_type": "markdown",
   "id": "e5d75ebe",
   "metadata": {},
   "source": [
    "### 019 문자열을 정수로 변환\n",
    "year라는 변수가 문자열 타입의 연도를 바인딩하고 있습니다. 이를 정수로 변환한 후 최근 3년의 연도를 화면에 출력해보세요.\n",
    "\n",
    "year = \"2020\""
   ]
  },
  {
   "cell_type": "code",
   "execution_count": 25,
   "id": "32c35304",
   "metadata": {},
   "outputs": [
    {
     "name": "stdout",
     "output_type": "stream",
     "text": [
      "최근 3년의 연도 : 2019 2020 2021\n"
     ]
    }
   ],
   "source": [
    "year = \"2022\"\n",
    "year = int(year)\n",
    "print(\"최근 3년의 연도 :\", year-3, year-2, year-1)"
   ]
  },
  {
   "cell_type": "markdown",
   "id": "0c863b21",
   "metadata": {},
   "source": [
    "### 020 파이썬 계산\n",
    "에이컨이 월 48,584원에 무이자 36개월의 조건으로 홈쇼핑에서 판매되고 있습니다. 총 금액은 계산한 후 이를 화면에 출력해보세요. (변수사용하기)\n"
   ]
  },
  {
   "cell_type": "code",
   "execution_count": 26,
   "id": "61670ce1",
   "metadata": {},
   "outputs": [
    {
     "name": "stdout",
     "output_type": "stream",
     "text": [
      "1749024\n"
     ]
    }
   ],
   "source": [
    "price_m = 48584\n",
    "month = 36\n",
    "price_total = price_m * month\n",
    "print(price_total)"
   ]
  }
 ],
 "metadata": {
  "kernelspec": {
   "display_name": "practice",
   "language": "python",
   "name": "practice"
  },
  "language_info": {
   "codemirror_mode": {
    "name": "ipython",
    "version": 3
   },
   "file_extension": ".py",
   "mimetype": "text/x-python",
   "name": "python",
   "nbconvert_exporter": "python",
   "pygments_lexer": "ipython3",
   "version": "3.8.11"
  }
 },
 "nbformat": 4,
 "nbformat_minor": 5
}
