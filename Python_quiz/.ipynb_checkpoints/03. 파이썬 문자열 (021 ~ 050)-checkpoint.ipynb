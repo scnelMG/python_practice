{
 "cells": [
  {
   "cell_type": "markdown",
   "id": "662caef1",
   "metadata": {},
   "source": [
    "# 초보자를 위한 파이썬 300제"
   ]
  },
  {
   "cell_type": "markdown",
   "id": "74965c27",
   "metadata": {},
   "source": [
    "## 03. 파이썬 문자열"
   ]
  },
  {
   "cell_type": "markdown",
   "id": "e1a3f5ab",
   "metadata": {},
   "source": [
    "### 021 문자열 인덱싱\n",
    "letters가 바인딩하는 문자열에서 첫번째와 세번째 문자를 출력하세요.  \n",
    "letters = 'python'  \n",
    "\n",
    "실행 예:  \n",
    "p t"
   ]
  },
  {
   "cell_type": "code",
   "execution_count": 3,
   "id": "2673fd25",
   "metadata": {},
   "outputs": [
    {
     "name": "stdout",
     "output_type": "stream",
     "text": [
      "p t\n"
     ]
    }
   ],
   "source": [
    "letters = 'python'\n",
    "print(letters[0], letters[2])"
   ]
  },
  {
   "cell_type": "markdown",
   "id": "0ac4e0b5",
   "metadata": {},
   "source": [
    "### 022 문자열 슬라이싱\n",
    "자동차 번호가 다음과 같을 때 뒤에 4자리만 출력하세요.  \n",
    "license_plate = \"24가 2210\"  \n",
    "\n",
    "실행 예:  \n",
    "2210"
   ]
  },
  {
   "cell_type": "code",
   "execution_count": 6,
   "id": "426b295e",
   "metadata": {},
   "outputs": [
    {
     "name": "stdout",
     "output_type": "stream",
     "text": [
      "2210\n"
     ]
    }
   ],
   "source": [
    "license_plate = \"24가 2210\"  \n",
    "print(license_plate[-4:])"
   ]
  },
  {
   "cell_type": "markdown",
   "id": "e97845db",
   "metadata": {},
   "source": [
    "### 023 문자열 인덱싱\n",
    "아래의 문자열에서 '홀' 만 출력하세요.  \n",
    "string = \"홀짝홀짝홀짝\"\n",
    "\n",
    "실행 예:  \n",
    "홀홀홀"
   ]
  },
  {
   "cell_type": "code",
   "execution_count": 13,
   "id": "f5ca7d6f",
   "metadata": {},
   "outputs": [
    {
     "name": "stdout",
     "output_type": "stream",
     "text": [
      "홀홀홀\n"
     ]
    }
   ],
   "source": [
    "string = \"홀짝홀짝홀짝\"\n",
    "print(string[::2]) # ::숫자 : 첫글자부터 숫자-1 간격을 띄고 출력"
   ]
  },
  {
   "cell_type": "markdown",
   "id": "42f68f23",
   "metadata": {},
   "source": [
    "### 024 문자열 슬라이싱\n",
    "문자열을 거꾸로 뒤집어 출력하세요.  \n",
    "string = \"PYTHON\"\n",
    "\n",
    "실행 예:  \n",
    "NOHTYP"
   ]
  },
  {
   "cell_type": "code",
   "execution_count": 17,
   "id": "3b92976a",
   "metadata": {},
   "outputs": [
    {
     "name": "stdout",
     "output_type": "stream",
     "text": [
      "NOHTYP\n"
     ]
    }
   ],
   "source": [
    "string = \"PYTHON\"\n",
    "print(string[::-1]) # '::숫자'에서 숫자가 음수면 거꾸로 출력"
   ]
  },
  {
   "cell_type": "markdown",
   "id": "d42342bb",
   "metadata": {},
   "source": [
    "### 025 문자열 치환\n",
    "아래의 전화번호에서 하이푼 ('-')을 제거하고 출력하세요.  \n",
    "phone_number = \"010-1111-2222\"\n",
    "\n",
    "실행 예:  \n",
    "010 1111 2222"
   ]
  },
  {
   "cell_type": "code",
   "execution_count": 18,
   "id": "fd864dec",
   "metadata": {},
   "outputs": [
    {
     "name": "stdout",
     "output_type": "stream",
     "text": [
      "010 1111 2222\n"
     ]
    }
   ],
   "source": [
    "phone_number = \"010-1111-2222\"\n",
    "phone_number1 = phone_number.replace(\"-\", \" \")\n",
    "print(phone_number1)"
   ]
  },
  {
   "cell_type": "markdown",
   "id": "dd5f26a7",
   "metadata": {},
   "source": [
    "### 026 문자열 다루기\n",
    "25번 문제의 전화번호를 아래와 같이 모두 붙여 출력하세요.\n",
    "\n",
    "실행 예  \n",
    "01011112222"
   ]
  },
  {
   "cell_type": "code",
   "execution_count": 19,
   "id": "afe041fb",
   "metadata": {},
   "outputs": [
    {
     "name": "stdout",
     "output_type": "stream",
     "text": [
      "01011112222\n"
     ]
    }
   ],
   "source": [
    "phone_number = \"010-1111-2222\"\n",
    "phone_number1 = phone_number.replace(\"-\", \"\")\n",
    "print(phone_number1)"
   ]
  },
  {
   "cell_type": "markdown",
   "id": "8a07c8aa",
   "metadata": {},
   "source": [
    "### 027 문자열 다루기\n",
    "url 에 저장된 웹 페이지 주소에서 도메인을 출력하세요.  \n",
    "url = \"http://sharebook.kr\"\n",
    "\n",
    "실행 예:  \n",
    "kr"
   ]
  },
  {
   "cell_type": "code",
   "execution_count": 20,
   "id": "09138e62",
   "metadata": {},
   "outputs": [
    {
     "name": "stdout",
     "output_type": "stream",
     "text": [
      "['http://sharebook', 'kr']\n",
      "kr\n"
     ]
    }
   ],
   "source": [
    "url = \"http://sharebook.kr\"\n",
    "url_split = url.split('.') # split함수 : 괄호안 문자를 기준으로 자름\n",
    "print(url_split)\n",
    "print(url_split[-1])"
   ]
  },
  {
   "cell_type": "markdown",
   "id": "ac7e6fae",
   "metadata": {},
   "source": [
    "### 028 문자열은 immutable\n",
    "아래 코드의 실행 결과를 예상해보세요.  \n",
    "\n",
    "lang = 'python'  \n",
    "lang[0] = 'P'  \n",
    "print(lang)"
   ]
  },
  {
   "cell_type": "code",
   "execution_count": 22,
   "id": "baaae061",
   "metadata": {},
   "outputs": [],
   "source": [
    "# lang = 'python'\n",
    "# lang[0] = 'P'\n",
    "# print(lang)\n",
    "# 오류발생 : 문자열은 수정할 수 없다."
   ]
  },
  {
   "cell_type": "markdown",
   "id": "e5d75ebe",
   "metadata": {},
   "source": [
    "### 029 replace 메서드\n",
    "아래 문자열에서 소문자 'a'를 대문자 'A'로 변경하세요.  \n",
    "string = 'abcdfe2a354a32a'\n",
    "\n",
    "실행 예:  \n",
    "Abcdfe2A354A32A"
   ]
  },
  {
   "cell_type": "code",
   "execution_count": 23,
   "id": "32c35304",
   "metadata": {},
   "outputs": [
    {
     "name": "stdout",
     "output_type": "stream",
     "text": [
      "Abcdfe2A354A32A\n"
     ]
    }
   ],
   "source": [
    "string = 'abcdfe2a354a32a'\n",
    "string = string.replace('a', 'A')\n",
    "print(string)"
   ]
  },
  {
   "cell_type": "markdown",
   "id": "0c863b21",
   "metadata": {},
   "source": [
    "### 030 replace 메서드\n",
    "아래 코드의 실행 결과를 예상해보세요.\n",
    "\n",
    "string = 'abcd'  \n",
    "string.replace('b', 'B')  \n",
    "print(string)  "
   ]
  },
  {
   "cell_type": "code",
   "execution_count": 24,
   "id": "f01a20cd",
   "metadata": {},
   "outputs": [
    {
     "name": "stdout",
     "output_type": "stream",
     "text": [
      "abcd\n"
     ]
    }
   ],
   "source": [
    "string = 'abcd'\n",
    "string.replace('b', 'B')\n",
    "print(string)\n",
    "# 결과가 변하지 않음. \n",
    "# 문자열은 변경할 수 없는 자료형."
   ]
  },
  {
   "cell_type": "markdown",
   "id": "15f7e266",
   "metadata": {},
   "source": [
    "### 031 문자열 합치기\n",
    "아래 코드의 실행 결과를 예상해보세요.\n",
    "\n",
    "a = \"3\"  \n",
    "b = \"4\"  \n",
    "print(a + b)"
   ]
  },
  {
   "cell_type": "code",
   "execution_count": 1,
   "id": "6ae32d29",
   "metadata": {},
   "outputs": [
    {
     "name": "stdout",
     "output_type": "stream",
     "text": [
      "34\n"
     ]
    }
   ],
   "source": [
    "a = \"3\"\n",
    "b = \"4\"\n",
    "print(a + b) # 문자열이므로 이어서 출력 (계산 X)"
   ]
  },
  {
   "cell_type": "markdown",
   "id": "fcf53d0e",
   "metadata": {},
   "source": [
    "### 032 문자열 곱하기\n",
    "아래 코드의 실행 결과를 예상해보세요.\n",
    "\n",
    "print(\"Hi\" * 3)"
   ]
  },
  {
   "cell_type": "code",
   "execution_count": 3,
   "id": "33e031d7",
   "metadata": {},
   "outputs": [
    {
     "name": "stdout",
     "output_type": "stream",
     "text": [
      "HiHiHi\n"
     ]
    }
   ],
   "source": [
    "print(\"Hi\" * 3) # 문자열 곱셈은 반복 횟수를 나타냄"
   ]
  },
  {
   "cell_type": "markdown",
   "id": "01477bc5",
   "metadata": {},
   "source": [
    "### 033 문자열 곱하기\n",
    "화면에 '-'를 80개 출력하세요."
   ]
  },
  {
   "cell_type": "code",
   "execution_count": 4,
   "id": "f43bfc82",
   "metadata": {},
   "outputs": [
    {
     "name": "stdout",
     "output_type": "stream",
     "text": [
      "--------------------------------------------------------------------------------\n"
     ]
    }
   ],
   "source": [
    "print(\"-\" * 80)"
   ]
  },
  {
   "cell_type": "markdown",
   "id": "6fc398e7",
   "metadata": {},
   "source": [
    "### 034 문자열 곱하기\n",
    "변수에 다음과 같은 문자열이 바인딩되어 있습니다.  \n",
    "변수에 문자열 더하기와 문자열 곱하기를 사용해서 아래와 같이 출력해보세요.  \n",
    "t1 = 'python'  \n",
    "t2 = 'java'\n",
    "\n",
    "실행 예:  \n",
    "python java python java python java python java"
   ]
  },
  {
   "cell_type": "code",
   "execution_count": 12,
   "id": "7e43b493",
   "metadata": {},
   "outputs": [
    {
     "name": "stdout",
     "output_type": "stream",
     "text": [
      "('pythonjava', 'pythonjava', 'pythonjava', 'pythonjava')\n",
      "python java python java python java python java \n"
     ]
    }
   ],
   "source": [
    "t1 = 'python'\n",
    "t2 = 'java'\n",
    "print((t1 + '' + t2,) * 4 ) # 원하는 결과가 아님\n",
    "t3 = t1 + ' ' + t2 + ' '\n",
    "print(t3 * 4)"
   ]
  },
  {
   "cell_type": "markdown",
   "id": "d7e8695a",
   "metadata": {},
   "source": [
    "### 035 문자열 출력\n",
    "변수에 다음과 같이 문자열과 정수가 바인딩되어 있을 때 % formatting을 사용해서 다음과 같이 출력해보세요.\n",
    "\n",
    "name1 = \"김민수\"  \n",
    "age1 = 10  \n",
    "name2 = \"이철희\"  \n",
    "age2 = 13  \n",
    "\n",
    "실행 예:  \n",
    "이름: 김민수 나이: 10  \n",
    "이름: 이철희 나이: 13  "
   ]
  },
  {
   "cell_type": "code",
   "execution_count": 14,
   "id": "9af99d18",
   "metadata": {},
   "outputs": [
    {
     "name": "stdout",
     "output_type": "stream",
     "text": [
      "이름: 김민수 나이: 10\n",
      "이름: 이철희 나이: 13\n"
     ]
    }
   ],
   "source": [
    "name1 = \"김민수\"\n",
    "age1 = 10\n",
    "name2 = \"이철희\"\n",
    "age2 = 13\n",
    "print(\"이름: %s 나이: %d\" % (name1, age1)) # %s는 문자열 데이터 타입의 값\n",
    "print(\"이름: %s 나이: %d\" % (name2, age2)) # %d는 정수형 데이터 타입 값"
   ]
  },
  {
   "cell_type": "markdown",
   "id": "630c8052",
   "metadata": {},
   "source": [
    "### 036 문자열 출력\n",
    "문자열의 format( ) 메서드를 사용해서 035번 문제를 다시 풀어보세요."
   ]
  },
  {
   "cell_type": "code",
   "execution_count": 16,
   "id": "d1db7dfd",
   "metadata": {},
   "outputs": [
    {
     "name": "stdout",
     "output_type": "stream",
     "text": [
      "이름: 김민수 나이: 10\n",
      "이름: 이철희 나이: 13\n"
     ]
    }
   ],
   "source": [
    "print(\"이름: {} 나이: {}\".format(name1, age1))\n",
    "print(\"이름: {} 나이: {}\".format(name2, age2))"
   ]
  },
  {
   "cell_type": "markdown",
   "id": "9197d837",
   "metadata": {},
   "source": [
    "### 037 문자열 출력\n",
    "파이썬 3.6부터 지원하는 f-string을 사용해서 035번 문제를 다시 풀어보세요."
   ]
  },
  {
   "cell_type": "code",
   "execution_count": 19,
   "id": "d36cadbd",
   "metadata": {},
   "outputs": [
    {
     "name": "stdout",
     "output_type": "stream",
     "text": [
      "이름: 김민수 나이: 10\n",
      "이름: 이철희 나이: 13\n"
     ]
    }
   ],
   "source": [
    "print(f\"이름: {name1} 나이: {age1}\")\n",
    "print(f\"이름: {name2} 나이: {age2}\")"
   ]
  },
  {
   "cell_type": "markdown",
   "id": "2ed02144",
   "metadata": {},
   "source": [
    "### 038 컴마 제거하기\n",
    "삼성전자의 상장주식수가 다음과 같습니다. 컴마를 제거한 후 이를 정수 타입으로 변환해보세요.\n",
    "상장주식수 = \"5,969,782,550\""
   ]
  },
  {
   "cell_type": "code",
   "execution_count": 22,
   "id": "aacf315e",
   "metadata": {},
   "outputs": [
    {
     "name": "stdout",
     "output_type": "stream",
     "text": [
      "5969782550 <class 'int'>\n"
     ]
    }
   ],
   "source": [
    "상장주식수 = \"5,969,782,550\"\n",
    "상장주식수 = 상장주식수.replace(\",\", \"\")\n",
    "상장주식수 = int(상장주식수)\n",
    "print(상장주식수, type(상장주식수))"
   ]
  },
  {
   "cell_type": "markdown",
   "id": "24649219",
   "metadata": {},
   "source": [
    "### 039 문자열 슬라이싱\n",
    "다음과 같은 문자열에서 '2020/03'만 출력하세요.\n",
    "\n",
    "분기 = \"2020/03(E) (IFRS연결)\""
   ]
  },
  {
   "cell_type": "code",
   "execution_count": 29,
   "id": "f9840f60",
   "metadata": {},
   "outputs": [
    {
     "data": {
      "text/plain": [
       "'2020/03'"
      ]
     },
     "execution_count": 29,
     "metadata": {},
     "output_type": "execute_result"
    }
   ],
   "source": [
    "분기 = \"2020/03(E) (IFRS연결)\"\n",
    "분기[:7]"
   ]
  },
  {
   "cell_type": "markdown",
   "id": "7d8012ee",
   "metadata": {},
   "source": [
    "### 040 strip 메서드\n",
    "문자열의 좌우의 공백이 있을 때 이를 제거해보세요.\n",
    "\n",
    "data = \"   삼성전자    \""
   ]
  },
  {
   "cell_type": "code",
   "execution_count": 35,
   "id": "50451d0d",
   "metadata": {},
   "outputs": [
    {
     "name": "stdout",
     "output_type": "stream",
     "text": [
      "삼성전자\n",
      "삼성전자\n"
     ]
    }
   ],
   "source": [
    "data = \" 삼성전자 \"\n",
    "result = data.replace(\" \", \"\")\n",
    "print(result)\n",
    "\n",
    "data = \"   삼성전자    \"\n",
    "data1 = data.strip()\n",
    "print(data1)"
   ]
  },
  {
   "cell_type": "markdown",
   "id": "03e9f60a",
   "metadata": {},
   "source": [
    "### 041 upper 메서드\n",
    "다음과 같은 문자열이 있을 때 이를 대문자 BTC_KRW로 변경하세요.\n",
    "\n",
    "ticker = \"btc_krw\""
   ]
  },
  {
   "cell_type": "code",
   "execution_count": 37,
   "id": "e4774bd9",
   "metadata": {},
   "outputs": [
    {
     "name": "stdout",
     "output_type": "stream",
     "text": [
      "BTC_KRW\n"
     ]
    }
   ],
   "source": [
    "ticker = \"btc_krw\"\n",
    "print(ticker.upper())"
   ]
  },
  {
   "cell_type": "markdown",
   "id": "5345a03d",
   "metadata": {},
   "source": [
    "### 042 lower 메서드\n",
    "다음과 같은 문자열이 있을 때 이를 소문자 btc_krw로 변경하세요.\n",
    "\n",
    "ticker = \"BTC_KRW\""
   ]
  },
  {
   "cell_type": "code",
   "execution_count": 38,
   "id": "db29edcc",
   "metadata": {},
   "outputs": [
    {
     "name": "stdout",
     "output_type": "stream",
     "text": [
      "btc_krw\n"
     ]
    }
   ],
   "source": [
    "ticker = \"BTC_KRW\"\n",
    "ticker = ticker.lower()\n",
    "print(ticker)"
   ]
  },
  {
   "cell_type": "markdown",
   "id": "ffb06a51",
   "metadata": {},
   "source": [
    "### 043 capitalize 메서드\n",
    "문자열 'hello'가 있을 때 이를 'Hello'로 변경해보세요."
   ]
  },
  {
   "cell_type": "code",
   "execution_count": 39,
   "id": "a0126e22",
   "metadata": {},
   "outputs": [
    {
     "data": {
      "text/plain": [
       "'Hello'"
      ]
     },
     "execution_count": 39,
     "metadata": {},
     "output_type": "execute_result"
    }
   ],
   "source": [
    "data = 'hello'\n",
    "data.capitalize()"
   ]
  },
  {
   "cell_type": "markdown",
   "id": "0dc0c0dd",
   "metadata": {},
   "source": [
    "### 044 endswith 메서드\n",
    "파일 이름이 문자열로 저장되어 있을 때 endswith 메서드를 사용해서 파일 이름이 'xlsx'로 끝나는지 확인해보세요.\n",
    "\n",
    "file_name = \"보고서.xlsx\""
   ]
  },
  {
   "cell_type": "code",
   "execution_count": 42,
   "id": "5de8e66b",
   "metadata": {},
   "outputs": [
    {
     "data": {
      "text/plain": [
       "True"
      ]
     },
     "execution_count": 42,
     "metadata": {},
     "output_type": "execute_result"
    }
   ],
   "source": [
    "file_name = \"보고서.xlsx\"\n",
    "file_name.endswith(\"xlsx\") # endswith('문자열') : 끝나는 부분이 원하는 문자열인지 확인(boolean 반환)"
   ]
  },
  {
   "cell_type": "markdown",
   "id": "2d19c058",
   "metadata": {},
   "source": [
    "### 045 endswith 메서드\n",
    "파일 이름이 문자열로 저장되어 있을 때 endswith 메서드를 사용해서 파일 이름이 'xlsx' 또는 'xls'로 끝나는지 확인해보세요.\n",
    "\n",
    "file_name = \"보고서.xlsx\""
   ]
  },
  {
   "cell_type": "code",
   "execution_count": 46,
   "id": "6b0d4916",
   "metadata": {},
   "outputs": [
    {
     "data": {
      "text/plain": [
       "True"
      ]
     },
     "execution_count": 46,
     "metadata": {},
     "output_type": "execute_result"
    }
   ],
   "source": [
    "file_name = \"보고서.xlsx\"\n",
    "file_name.endswith((\"xlsx\", \"xls\")) # endswith() : 두개 이상의 문자열 넣을 수 있음(or 형식- 하나만 맞아도 True)"
   ]
  },
  {
   "cell_type": "markdown",
   "id": "265ba2be",
   "metadata": {},
   "source": [
    "### 046 startswith 메서드\n",
    "파일 이름이 문자열로 저장되어 있을 때 startswith 메서드를 사용해서 파일 이름이 '2020'로 시작하는지 확인해보세요.\n",
    "\n",
    "file_name = \"2020_보고서.xlsx\""
   ]
  },
  {
   "cell_type": "code",
   "execution_count": 47,
   "id": "31ffc196",
   "metadata": {},
   "outputs": [
    {
     "data": {
      "text/plain": [
       "True"
      ]
     },
     "execution_count": 47,
     "metadata": {},
     "output_type": "execute_result"
    }
   ],
   "source": [
    "file_name = \"2020_보고서.xlsx\"\n",
    "file_name.startswith(\"2020\") # endswith 랑 같음"
   ]
  },
  {
   "cell_type": "markdown",
   "id": "4efb9ec0",
   "metadata": {},
   "source": [
    "### 047 split 메서드\n",
    "다음과 같은 문자열이 있을 때 공백을 기준으로 문자열을 나눠보세요.\n",
    "\n",
    "a = \"hello world\""
   ]
  },
  {
   "cell_type": "code",
   "execution_count": 51,
   "id": "7307a6e0",
   "metadata": {},
   "outputs": [
    {
     "data": {
      "text/plain": [
       "['hello', 'world']"
      ]
     },
     "execution_count": 51,
     "metadata": {},
     "output_type": "execute_result"
    }
   ],
   "source": [
    "a = \"hello world\"\n",
    "a.split()"
   ]
  },
  {
   "cell_type": "markdown",
   "id": "07472201",
   "metadata": {},
   "source": [
    "### 048 split 메서드\n",
    "다음과 같이 문자열이 있을 때 btc와 krw로 나눠보세요.\n",
    "\n",
    "ticker = \"btc_krw\""
   ]
  },
  {
   "cell_type": "code",
   "execution_count": 52,
   "id": "4b8f0c42",
   "metadata": {},
   "outputs": [
    {
     "data": {
      "text/plain": [
       "['btc', 'krw']"
      ]
     },
     "execution_count": 52,
     "metadata": {},
     "output_type": "execute_result"
    }
   ],
   "source": [
    "ticker = \"btc_krw\"\n",
    "ticker.split('_')"
   ]
  },
  {
   "cell_type": "markdown",
   "id": "2a05c17b",
   "metadata": {},
   "source": [
    "### 049 split 메서드\n",
    "다음과 같이 날짜를 표현하는 문자열이 있을 때 연도, 월, 일로 나눠보세요.\n",
    "\n",
    "date = \"2020-05-01\""
   ]
  },
  {
   "cell_type": "code",
   "execution_count": 53,
   "id": "a9af0023",
   "metadata": {},
   "outputs": [
    {
     "data": {
      "text/plain": [
       "['2020', '05', '01']"
      ]
     },
     "execution_count": 53,
     "metadata": {},
     "output_type": "execute_result"
    }
   ],
   "source": [
    "date = \"2020-05-01\"\n",
    "date.split('-')"
   ]
  },
  {
   "cell_type": "markdown",
   "id": "ec295efd",
   "metadata": {},
   "source": [
    "### 050 rstrip 메서드\n",
    "문자열의 오른쪽에 공백이 있을 때 이를 제거해보세요.\n",
    "\n",
    "data = \"039490     \""
   ]
  },
  {
   "cell_type": "code",
   "execution_count": 56,
   "id": "714faed6",
   "metadata": {},
   "outputs": [
    {
     "name": "stdout",
     "output_type": "stream",
     "text": [
      "039490\n"
     ]
    }
   ],
   "source": [
    "data = \"039490     \"\n",
    "data = data.rstrip()\n",
    "print(data)"
   ]
  }
 ],
 "metadata": {
  "kernelspec": {
   "display_name": "practice",
   "language": "python",
   "name": "practice"
  },
  "language_info": {
   "codemirror_mode": {
    "name": "ipython",
    "version": 3
   },
   "file_extension": ".py",
   "mimetype": "text/x-python",
   "name": "python",
   "nbconvert_exporter": "python",
   "pygments_lexer": "ipython3",
   "version": "3.8.11"
  }
 },
 "nbformat": 4,
 "nbformat_minor": 5
}
