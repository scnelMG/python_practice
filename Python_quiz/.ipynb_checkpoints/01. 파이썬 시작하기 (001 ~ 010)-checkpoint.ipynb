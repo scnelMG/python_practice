{
 "cells": [
  {
   "cell_type": "markdown",
   "id": "662caef1",
   "metadata": {},
   "source": [
    "# 초보자를 위한 파이썬 300제"
   ]
  },
  {
   "cell_type": "markdown",
   "id": "74965c27",
   "metadata": {},
   "source": [
    "## 01. 파이썬 시작하기"
   ]
  },
  {
   "cell_type": "markdown",
   "id": "e1a3f5ab",
   "metadata": {},
   "source": [
    "### 001 print 기초\n",
    "화면에 Hello World 문자열을 출력하세요."
   ]
  },
  {
   "cell_type": "code",
   "execution_count": 1,
   "id": "370a70f0",
   "metadata": {},
   "outputs": [
    {
     "name": "stdout",
     "output_type": "stream",
     "text": [
      "Hello World\n"
     ]
    }
   ],
   "source": [
    "print(\"Hello World\")"
   ]
  },
  {
   "cell_type": "markdown",
   "id": "0ac4e0b5",
   "metadata": {},
   "source": [
    "### 002 print 기초\n",
    "화면에 Mary's cosmetics을 출력하세요. (중간에 '가 있음에 주의하세요)"
   ]
  },
  {
   "cell_type": "code",
   "execution_count": 2,
   "id": "80298bc0",
   "metadata": {},
   "outputs": [
    {
     "name": "stdout",
     "output_type": "stream",
     "text": [
      "Mary's cosmetics\n"
     ]
    }
   ],
   "source": [
    "print(\"Mary's cosmetics\")"
   ]
  },
  {
   "cell_type": "markdown",
   "id": "e97845db",
   "metadata": {},
   "source": [
    "### 003 print 기초\n",
    "화면에 아래 문장을 출력하세요. (중간에 \"가 있음에 주의하세요.)\n",
    "\n",
    "신씨가 소리질렀다. \"도둑이야\"."
   ]
  },
  {
   "cell_type": "code",
   "execution_count": 3,
   "id": "e97e9462",
   "metadata": {},
   "outputs": [
    {
     "name": "stdout",
     "output_type": "stream",
     "text": [
      "신씨가 소리질렀다. \"도둑이야\"\n"
     ]
    }
   ],
   "source": [
    "print('신씨가 소리질렀다. \"도둑이야\"')"
   ]
  },
  {
   "cell_type": "markdown",
   "id": "42f68f23",
   "metadata": {},
   "source": [
    "### 004 print 기초\n",
    "화면에 \"C:\\Windows\"를 출력하세요."
   ]
  },
  {
   "cell_type": "code",
   "execution_count": 12,
   "id": "b820475a",
   "metadata": {},
   "outputs": [
    {
     "name": "stdout",
     "output_type": "stream",
     "text": [
      "C:\\Windows\n"
     ]
    }
   ],
   "source": [
    "print(\"C:\\Windows\")"
   ]
  },
  {
   "cell_type": "markdown",
   "id": "d42342bb",
   "metadata": {},
   "source": [
    "### 005 print 탭과 줄바꿈\n",
    "다음 코드를 실행해보고 \\t와 \\n의 역할을 설명해보세요.\n",
    "\n",
    "print(\"안녕하세요.\\n만나서\\t\\t반갑습니다.\")"
   ]
  },
  {
   "cell_type": "code",
   "execution_count": 14,
   "id": "10c10855",
   "metadata": {},
   "outputs": [
    {
     "name": "stdout",
     "output_type": "stream",
     "text": [
      "안녕하세요.\n",
      "만나서\t\t반갑습니다.\n"
     ]
    }
   ],
   "source": [
    "print(\"안녕하세요.\\n만나서\\t\\t반갑습니다.\")\n",
    "# \\n은 줄 바꿈을 의미함\n",
    "# \\t는 tab을 누를 것과 같은 기능을 함."
   ]
  },
  {
   "cell_type": "markdown",
   "id": "dd5f26a7",
   "metadata": {},
   "source": [
    "### 006 print 여러 데이터 출력\n",
    "print 함수에 두 개의 단어를 입력한 예제입니다. 아래 코드의 출력 결과를 예상해봅시다.\n",
    "\n",
    "print (\"오늘은\", \"일요일\")"
   ]
  },
  {
   "cell_type": "code",
   "execution_count": 15,
   "id": "303ab509",
   "metadata": {},
   "outputs": [
    {
     "name": "stdout",
     "output_type": "stream",
     "text": [
      "오늘은 일요일\n"
     ]
    }
   ],
   "source": [
    "print (\"오늘은\", \"일요일\")"
   ]
  },
  {
   "cell_type": "markdown",
   "id": "8a07c8aa",
   "metadata": {},
   "source": [
    "### 007 print 기초\n",
    "print() 함수를 사용하여 다음과 같이 출력하세요.\n",
    "\n",
    "naver;kakao;sk;samsung"
   ]
  },
  {
   "cell_type": "code",
   "execution_count": 18,
   "id": "c83f7772",
   "metadata": {},
   "outputs": [
    {
     "name": "stdout",
     "output_type": "stream",
     "text": [
      "naver;kakao;sk;samsung\n"
     ]
    }
   ],
   "source": [
    "print('naver', 'kakao','sk', 'samsung', sep =';') # sep 사용"
   ]
  },
  {
   "cell_type": "markdown",
   "id": "ac7e6fae",
   "metadata": {},
   "source": [
    "### 008 print 기초\n",
    "print() 함수를 사용하여 다음과 같이 출력하세요.\n",
    "\n",
    "naver/kakao/sk/samsung"
   ]
  },
  {
   "cell_type": "code",
   "execution_count": 19,
   "id": "df1c8fee",
   "metadata": {},
   "outputs": [
    {
     "name": "stdout",
     "output_type": "stream",
     "text": [
      "naver/kakao/sk/samsung\n"
     ]
    }
   ],
   "source": [
    "print('naver', 'kakao','sk', 'samsung', sep ='/') "
   ]
  },
  {
   "cell_type": "markdown",
   "id": "e5d75ebe",
   "metadata": {},
   "source": [
    "### 009 print 줄바꿈\n",
    "다음 코드를 수정하여 줄바꿈이 없이 출력하세요. (힌트: end='') print 함수는 두 번 사용합니다. 세미콜론 (;)은 한줄에 여러 개의 명령을 작성하기 위해 사용합니다.\n",
    "\n",
    "print(\"first\");print(\"second\")"
   ]
  },
  {
   "cell_type": "code",
   "execution_count": 24,
   "id": "24562d41",
   "metadata": {},
   "outputs": [
    {
     "name": "stdout",
     "output_type": "stream",
     "text": [
      "first\n",
      "second\n",
      "firstsecond\n"
     ]
    }
   ],
   "source": [
    "print(\"first\");print(\"second\")\n",
    "print(\"first\",end='');print(\"second\")"
   ]
  },
  {
   "cell_type": "markdown",
   "id": "0c863b21",
   "metadata": {},
   "source": [
    "### 010 연산 결과 출력\n",
    "5/3의 결과를 화면에 출력하세요."
   ]
  },
  {
   "cell_type": "code",
   "execution_count": 25,
   "id": "724680c0",
   "metadata": {},
   "outputs": [
    {
     "name": "stdout",
     "output_type": "stream",
     "text": [
      "1.6666666666666667\n"
     ]
    }
   ],
   "source": [
    "print(5/3)"
   ]
  }
 ],
 "metadata": {
  "kernelspec": {
   "display_name": "practice",
   "language": "python",
   "name": "practice"
  },
  "language_info": {
   "codemirror_mode": {
    "name": "ipython",
    "version": 3
   },
   "file_extension": ".py",
   "mimetype": "text/x-python",
   "name": "python",
   "nbconvert_exporter": "python",
   "pygments_lexer": "ipython3",
   "version": "3.8.11"
  }
 },
 "nbformat": 4,
 "nbformat_minor": 5
}
