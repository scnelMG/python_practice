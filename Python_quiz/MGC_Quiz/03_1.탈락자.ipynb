{
 "cells": [
  {
   "cell_type": "markdown",
   "id": "527ba022",
   "metadata": {},
   "source": [
    "# 모각코 탈락자"
   ]
  },
  {
   "cell_type": "markdown",
   "id": "2a99a876",
   "metadata": {},
   "source": [
    "## 문제\n",
    "수많은 사람들이 모각코에 참여하였습니다. 그 중 단 한명을 제외하곤 모두가 모각코를 수료했네요!\n",
    "\n",
    "모각코에 참여한 사람들의 이름이 담긴 배열과 수료한 사람들의 이름이 담긴 배열이 주어질 때,\n",
    "\n",
    "수료하지 못한 사람의 이름을 리턴하도록 함수를 작성 해 보세요.\n",
    "\n",
    "참가자 중에는 동명이인이 존재합니다.\n"
   ]
  },
  {
   "cell_type": "code",
   "execution_count": 114,
   "id": "3c172a8d",
   "metadata": {},
   "outputs": [],
   "source": [
    "def solution(start, end):\n",
    "    for i in end:\n",
    "        if i in start:\n",
    "            start.remove(i)\n",
    "            \n",
    "    return start"
   ]
  },
  {
   "cell_type": "code",
   "execution_count": 115,
   "id": "bace4651",
   "metadata": {},
   "outputs": [
    {
     "data": {
      "text/plain": [
       "['곰']"
      ]
     },
     "execution_count": 115,
     "metadata": {},
     "output_type": "execute_result"
    }
   ],
   "source": [
    "solution(['곰', '김변수', '망고'], ['망고', '김변수'])"
   ]
  },
  {
   "cell_type": "code",
   "execution_count": 117,
   "id": "57e49eab",
   "metadata": {},
   "outputs": [
    {
     "data": {
      "text/plain": [
       "['곰']"
      ]
     },
     "execution_count": 117,
     "metadata": {},
     "output_type": "execute_result"
    }
   ],
   "source": [
    "solution(['곰', '곰', '망고', '김변수', '곰'], ['김변수', '망고', '곰', '곰'])"
   ]
  },
  {
   "cell_type": "code",
   "execution_count": 108,
   "id": "f56f4232",
   "metadata": {},
   "outputs": [],
   "source": [
    "start = ['곰', '곰', '망고', '김변수', '곰']\n",
    "end =  ['김변수', '망고', '곰', '곰']"
   ]
  },
  {
   "cell_type": "code",
   "execution_count": 110,
   "id": "f27281e5",
   "metadata": {},
   "outputs": [
    {
     "data": {
      "text/plain": [
       "['곰']"
      ]
     },
     "execution_count": 110,
     "metadata": {},
     "output_type": "execute_result"
    }
   ],
   "source": [
    "for i in end:\n",
    "    if i in start:\n",
    "        start.remove(i)\n",
    "\n",
    "start"
   ]
  }
 ],
 "metadata": {
  "kernelspec": {
   "display_name": "practice",
   "language": "python",
   "name": "practice"
  },
  "language_info": {
   "codemirror_mode": {
    "name": "ipython",
    "version": 3
   },
   "file_extension": ".py",
   "mimetype": "text/x-python",
   "name": "python",
   "nbconvert_exporter": "python",
   "pygments_lexer": "ipython3",
   "version": "3.8.11"
  }
 },
 "nbformat": 4,
 "nbformat_minor": 5
}
