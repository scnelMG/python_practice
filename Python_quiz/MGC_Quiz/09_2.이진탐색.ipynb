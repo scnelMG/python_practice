{
 "cells": [
  {
   "cell_type": "markdown",
   "id": "db19fe66",
   "metadata": {},
   "source": [
    "# 이진탐색"
   ]
  },
  {
   "cell_type": "markdown",
   "id": "0d618ea6",
   "metadata": {},
   "source": [
    "## 문제\n",
    "\n",
    "\n",
    "이진 탐색 알고리즘을 통해 특정 정수가 몇 번째에 존재하는지 찾는 프로그램을 작성해보세요.\n",
    "\n",
    "\n",
    "\n",
    "이진 탐색 알고리즘\n",
    "\n",
    "배열 내에서 찾고싶은 요소가 있을 경우, 아래와 같이 배열의 첫번째 요소와 마지막 요소를 각각 left, right로 설정합니다.\n",
    "찾고싶은 값을 중간(가운데 순서)에서부터 비교합니다.\n",
    "\n",
    "\n",
    "만약 찾고싶은 값이 중간에 있는 값보다 크다면, 그 값은 아래 그림과 같은 범위 내에 존재하게 됩니다.\n",
    "\n",
    "\n",
    "만약 찾고싶은 값이 중간에 있는 값보다 작다면, 그 값은 아래 그림과 같은 범위 내에 존재하게 됩니다.\n",
    "\n",
    "\n",
    "\n",
    "앞의 과정을 여러번 반복하여 찾고싶은 값이 중앙값과 같아질 때까지 반복하면 찾고싶은 수의 순서를 알 수 있습니다.  \n",
    "입력받는 숫자들은 정수이며, 배열로 입력받습니다. 이때, 각 숫자는 오름차순으로 입력됩니다.  \n",
    "중복된 값을 입력받지 않습니다. 만약 찾는 값이 존재하지 않는다면 -1을 출력합니다.  \n",
    "\n",
    "\n",
    "\n",
    "\n",
    "첫 줄에는 N개의 정수가 오름차순으로 주어집니다.\n",
    "\n",
    "다음 줄에는 목표 값 X가 주어질 때, X가 수열에 존재하는지 여부를 출력하세요"
   ]
  },
  {
   "cell_type": "code",
   "execution_count": 34,
   "id": "261ec184",
   "metadata": {},
   "outputs": [
    {
     "name": "stdout",
     "output_type": "stream",
     "text": [
      "숫자들을 오름차순으로 입력하세요:1 2 3 4 5\n",
      "찾고 싶은 숫자를 입력하세요:1\n"
     ]
    }
   ],
   "source": [
    "nums = input(\"숫자들을 오름차순으로 입력하세요:\").split()\n",
    "goal = int(input('찾고 싶은 숫자를 입력하세요:'))"
   ]
  },
  {
   "cell_type": "code",
   "execution_count": 35,
   "id": "0679779e",
   "metadata": {},
   "outputs": [
    {
     "name": "stdout",
     "output_type": "stream",
     "text": [
      "목표 숫자 1은 1번째에 위치합니다.\n"
     ]
    }
   ],
   "source": [
    "nums = list(map(int, nums))\n",
    "left = 0\n",
    "right = len(nums)\n",
    "correct =  0          \n",
    "while left < right:\n",
    "    if goal < nums[(right + left) // 2]:\n",
    "        right = (right + left) // 2 - 1\n",
    "    elif goal >  nums[(right + left) // 2]:\n",
    "        left = (right + left) // 2 + 1\n",
    "    else:\n",
    "        correct = 1\n",
    "        print(f\"목표 숫자 {goal}은 {(right + left) // 2 + 1}번째에 위치합니다.\")\n",
    "        break\n",
    "    \n",
    "if correct != 1:\n",
    "    print(f\"목표 숫자 {goal}은 존재하지 않습니다.(-1)\")"
   ]
  }
 ],
 "metadata": {
  "kernelspec": {
   "display_name": "practice",
   "language": "python",
   "name": "practice"
  },
  "language_info": {
   "codemirror_mode": {
    "name": "ipython",
    "version": 3
   },
   "file_extension": ".py",
   "mimetype": "text/x-python",
   "name": "python",
   "nbconvert_exporter": "python",
   "pygments_lexer": "ipython3",
   "version": "3.8.11"
  }
 },
 "nbformat": 4,
 "nbformat_minor": 5
}
