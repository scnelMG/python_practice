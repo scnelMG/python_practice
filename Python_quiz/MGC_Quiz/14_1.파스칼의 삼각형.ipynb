{
 "cells": [
  {
   "cell_type": "markdown",
   "id": "dd4606e1",
   "metadata": {},
   "source": [
    "# 파스칼의 삼각형"
   ]
  },
  {
   "cell_type": "markdown",
   "id": "61db7c96",
   "metadata": {},
   "source": [
    "## 문제\n",
    "\n",
    "\n",
    "숫자 n을 입력받고, n줄 만큼의 파스칼의 삼각형을 출력하는 프로그램을 작성해주세요.  \n",
    "\n",
    "파스칼의 삼각형이란?  \n",
    "첫 번째 줄은 1입니다.  \n",
    "그 다음 줄을 만들기 위해서는 바로 위의 숫자와 왼쪽 숫자를 더합니다.  \n",
    "가장자리의 수의 경우, 숫자가 없는 자리는 0이라고 생각합니다.  \n",
    "\n",
    "예시   \n",
    "1\n",
    "\n",
    "1 1\n",
    "\n",
    "1 2 1\n",
    "\n",
    "1 3 3 1"
   ]
  },
  {
   "cell_type": "code",
   "execution_count": 47,
   "id": "bcab77cb",
   "metadata": {},
   "outputs": [
    {
     "name": "stdout",
     "output_type": "stream",
     "text": [
      "파스칼 삼각형의 행의 개수를 입력하세요:11\n",
      "1\n",
      "1  1\n",
      "1  2  1\n",
      "1  3  3  1\n",
      "1  4  6  4  1\n",
      "1  5  10  10  5  1\n",
      "1  6  15  20  15  6  1\n",
      "1  7  21  35  35  21  7  1\n",
      "1  8  28  56  70  56  28  8  1\n",
      "1  9  36  84  126  126  84  36  9  1\n",
      "1  10  45  120  210  252  210  120  45  10  1\n"
     ]
    }
   ],
   "source": [
    "row = int(input(\"파스칼 삼각형의 행의 개수를 입력하세요:\"))\n",
    "\n",
    "num_list = []\n",
    "for i in range(row):\n",
    "    num_list.append([]) # num_list 안에 행 별로 리스트를 생성\n",
    "    num_list[i].append(1) # 각 행 리스트 처음에 1을 넣음\n",
    "        \n",
    "    for j in range(1, i): # \n",
    "            num_list[i].append(num_list[i-1][j-1]+num_list[i-1][j]) # 바로 위 숫자와 위의 왼쪽 숫자를 더함\n",
    "    \n",
    "    if i != 0: # 첫 행을 제외한 각 행 리스트 끝에 1을 넣음\n",
    "        num_list[i].append(1)\n",
    "\n",
    "for i in range(row): # 리스트의 대괄호, 콤마 제거하며 출력\n",
    "    print(str(num_list[i])[1:-1].replace(',', ' '))"
   ]
  },
  {
   "cell_type": "code",
   "execution_count": null,
   "id": "21d6e4d6",
   "metadata": {},
   "outputs": [],
   "source": []
  }
 ],
 "metadata": {
  "kernelspec": {
   "display_name": "practice",
   "language": "python",
   "name": "practice"
  },
  "language_info": {
   "codemirror_mode": {
    "name": "ipython",
    "version": 3
   },
   "file_extension": ".py",
   "mimetype": "text/x-python",
   "name": "python",
   "nbconvert_exporter": "python",
   "pygments_lexer": "ipython3",
   "version": "3.8.11"
  }
 },
 "nbformat": 4,
 "nbformat_minor": 5
}
