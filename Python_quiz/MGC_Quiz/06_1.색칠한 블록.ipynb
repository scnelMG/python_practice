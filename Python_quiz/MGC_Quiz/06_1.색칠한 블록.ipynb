{
 "cells": [
  {
   "cell_type": "markdown",
   "id": "b19ec974",
   "metadata": {},
   "source": [
    "# 색칠한 블록"
   ]
  },
  {
   "attachments": {
    "image.png": {
     "image/png": "[encoded data removed]"
    }
   },
   "cell_type": "markdown",
   "id": "bbfb42a6",
   "metadata": {},
   "source": [
    "문제\n",
    "\n",
    "\n",
    "정육면체 모양의 블록을 쌓아 만든 W x L x H 크기의 직육면체가 있습니다.\n",
    "\n",
    "직육면체의 겉면에만 색칠을 할 때, 2개의 면에만 색칠이 된 정육면체는 몇 개인지 구하는 프로그램을 작성해보세요.\n",
    "\n",
    "\n",
    "\n",
    "![image.png](attachment:image.png)\n",
    "\n",
    "\n",
    "\n",
    "조건 1 : 직육면체의 가로 W, 세로 L, 높이 H의 블록 개수를 입력받아야 합니다.  \n",
    "조건 2 : 그 직육면체에서 2개의 면만 색칠이 된 블록을 구해야합니다.\n"
   ]
  },
  {
   "cell_type": "code",
   "execution_count": 1,
   "id": "21466f11",
   "metadata": {},
   "outputs": [
    {
     "name": "stdout",
     "output_type": "stream",
     "text": [
      "직육면체의 가로 블록 개수를 입력해주세요:5\n",
      "직육면체의 세로 블록 개수를 입력해주세요:6\n",
      "직육면체의 놉이 블록 개수를 입력해주세요:5\n"
     ]
    }
   ],
   "source": [
    "W = int(input(\"직육면체의 가로 블록 개수를 입력해주세요:\"))\n",
    "L = int(input(\"직육면체의 세로 블록 개수를 입력해주세요:\"))\n",
    "H = int(input(\"직육면체의 놉이 블록 개수를 입력해주세요:\"))"
   ]
  },
  {
   "cell_type": "code",
   "execution_count": 2,
   "id": "0629ad2d",
   "metadata": {},
   "outputs": [
    {
     "name": "stdout",
     "output_type": "stream",
     "text": [
      "40\n"
     ]
    }
   ],
   "source": [
    "# 두개의 면에만 색칠이 된 정육면체 개수 => 꼭지점을 제외한 모서리에 위치한 정육면체 블록 개수\n",
    "# 가로, 세로, 높이 만큼의 정사각형 블록에서 꼭지점 부분의 중복된 만큼의 개수를 뺴줌\n",
    "# 꼭지점에 위치하는 블록은 제외해야하는데 가로, 세로, 높이, 즉 3번이 꼭지점에서 계산되므로 3번을 빼준다. \n",
    "result = 4* (W + L + H) - 3 * 8\n",
    "print(result)\n"
   ]
  }
 ],
 "metadata": {
  "kernelspec": {
   "display_name": "practice",
   "language": "python",
   "name": "practice"
  },
  "language_info": {
   "codemirror_mode": {
    "name": "ipython",
    "version": 3
   },
   "file_extension": ".py",
   "mimetype": "text/x-python",
   "name": "python",
   "nbconvert_exporter": "python",
   "pygments_lexer": "ipython3",
   "version": "3.8.11"
  }
 },
 "nbformat": 4,
 "nbformat_minor": 5
}
