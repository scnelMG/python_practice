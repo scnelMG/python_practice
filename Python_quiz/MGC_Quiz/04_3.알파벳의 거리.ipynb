{
 "cells": [
  {
   "cell_type": "markdown",
   "id": "042df6ae",
   "metadata": {},
   "source": [
    "# 알파벳의 거리"
   ]
  },
  {
   "cell_type": "markdown",
   "id": "1dfe2e34",
   "metadata": {},
   "source": [
    "## 문제\n",
    "\n",
    "\n",
    "알파벳 거리란, 'A' = 1, 'B' = 2, ... 'Z' = 26과 같은 방식으로 알파벳에 숫자를 할당한 뒤 계산되는 거리를 의미한다.\n",
    "\n",
    "예를 들어, 'B'와 'D'의 거리는 4-2 = 2 이다.\n",
    "\n",
    "길이가 같은 두 단어가 주어졌을 때, 각 단어에 포함된 모든 글자의 알파벳 거리의 합을 구하세요.\n",
    "\n"
   ]
  },
  {
   "cell_type": "code",
   "execution_count": 5,
   "id": "62ef62a1",
   "metadata": {},
   "outputs": [],
   "source": [
    "alphabet = ['A', 'B', 'C', 'D', 'E', 'F', 'G', 'H', 'I', 'J', 'K', 'L', 'M',\n",
    "            'N', 'O', 'P', 'Q', 'R', 'S', 'T', 'U', 'V', 'W', 'X', 'Y', 'Z']"
   ]
  },
  {
   "cell_type": "code",
   "execution_count": 14,
   "id": "8b946acd",
   "metadata": {},
   "outputs": [
    {
     "name": "stdout",
     "output_type": "stream",
     "text": [
      "동일한 길이의 두 단어를 입력하세요: aaaa bbbb\n"
     ]
    }
   ],
   "source": [
    "a1, a2 = input(\"동일한 길이의 두 단어를 입력하세요: \").upper().split()"
   ]
  },
  {
   "cell_type": "code",
   "execution_count": 19,
   "id": "626d750c",
   "metadata": {},
   "outputs": [
    {
     "name": "stdout",
     "output_type": "stream",
     "text": [
      "알파벳 거리의 합은4 입니다.\n"
     ]
    }
   ],
   "source": [
    "sum = 0\n",
    "for i in range(len(a1)):\n",
    "    result = (alphabet.index(a1[i])) - (alphabet.index(a2[i]))\n",
    "    result = abs(result)\n",
    "    sum += result\n",
    "print(f\"알파벳 거리의 합은{sum} 입니다.\")"
   ]
  },
  {
   "cell_type": "code",
   "execution_count": 16,
   "id": "ec5ceae6",
   "metadata": {},
   "outputs": [
    {
     "data": {
      "text/plain": [
       "4"
      ]
     },
     "execution_count": 16,
     "metadata": {},
     "output_type": "execute_result"
    }
   ],
   "source": [
    "sum"
   ]
  },
  {
   "cell_type": "code",
   "execution_count": null,
   "id": "c260e7f2",
   "metadata": {},
   "outputs": [],
   "source": []
  }
 ],
 "metadata": {
  "kernelspec": {
   "display_name": "practice",
   "language": "python",
   "name": "practice"
  },
  "language_info": {
   "codemirror_mode": {
    "name": "ipython",
    "version": 3
   },
   "file_extension": ".py",
   "mimetype": "text/x-python",
   "name": "python",
   "nbconvert_exporter": "python",
   "pygments_lexer": "ipython3",
   "version": "3.8.11"
  }
 },
 "nbformat": 4,
 "nbformat_minor": 5
}
