{
 "cells": [
  {
   "cell_type": "markdown",
   "id": "260fe3d9",
   "metadata": {},
   "source": [
    "# 두 숫자 사이의 n의 배수 찾기"
   ]
  },
  {
   "cell_type": "markdown",
   "id": "81403240",
   "metadata": {},
   "source": [
    "## 문제\n",
    "\n",
    "\n",
    "공백으로 구분된 문자열 형태의 두 숫자를 입력받고, \n",
    "\n",
    "n을 입력받아 두 숫자 사이에 존재하는 n의 배수를 구해보세요.\n",
    "\n",
    "조건 1 : 숫자 두 개는 공백(스페이스 바)로 구분되어 입력됩니다.  \n",
    "조건 2 : 숫자 두 개는 문자열 형태로 입력됩니다.  \n",
    "조건 3 : 입력된 숫자를 포함하여 배수를 출력해보세요."
   ]
  },
  {
   "cell_type": "code",
   "execution_count": 3,
   "id": "3d0419ff",
   "metadata": {},
   "outputs": [
    {
     "name": "stdout",
     "output_type": "stream",
     "text": [
      "숫자 두 개를 입력해주세요11 111\n"
     ]
    }
   ],
   "source": [
    "num1, num2 = input(\"숫자 두 개를 입력해주세요: \").split()"
   ]
  },
  {
   "cell_type": "code",
   "execution_count": 6,
   "id": "92ee177a",
   "metadata": {},
   "outputs": [
    {
     "name": "stdout",
     "output_type": "stream",
     "text": [
      "11과 111 사이에서 배수를 구하고 싶은 숫자를 입력해주세요: 22\n"
     ]
    }
   ],
   "source": [
    "goal = int(input(f\"{num1}과 {num2} 사이에서 배수를 구하고 싶은 숫자를 입력해주세요: \"))"
   ]
  },
  {
   "cell_type": "code",
   "execution_count": 19,
   "id": "b0db0676",
   "metadata": {},
   "outputs": [
    {
     "name": "stdout",
     "output_type": "stream",
     "text": [
      "22 44 66 88 110 "
     ]
    }
   ],
   "source": [
    "i = 1\n",
    "while int(num1) <= i * goal <= int(num2):\n",
    "    print(i * goal, end=' ')\n",
    "    i += 1"
   ]
  }
 ],
 "metadata": {
  "kernelspec": {
   "display_name": "practice",
   "language": "python",
   "name": "practice"
  },
  "language_info": {
   "codemirror_mode": {
    "name": "ipython",
    "version": 3
   },
   "file_extension": ".py",
   "mimetype": "text/x-python",
   "name": "python",
   "nbconvert_exporter": "python",
   "pygments_lexer": "ipython3",
   "version": "3.8.11"
  }
 },
 "nbformat": 4,
 "nbformat_minor": 5
}
