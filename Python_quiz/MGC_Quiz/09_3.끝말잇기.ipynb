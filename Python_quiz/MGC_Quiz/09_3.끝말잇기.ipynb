{
 "cells": [
  {
   "cell_type": "markdown",
   "id": "db638d92",
   "metadata": {},
   "source": [
    "# 끝말잇기"
   ]
  },
  {
   "cell_type": "markdown",
   "id": "202808ff",
   "metadata": {},
   "source": [
    "## 문제\n",
    "\n",
    "\n",
    "끝말잇기 게임을 할 수 있는 코드를 작성해보세요.  \n",
    "\n",
    "조건 1 : 두 번째 단어 입력부터는 앞의 단어의 마지막 글자와 동일한 글자로 시작되어야 합니다(ex. 기차 → 차○). 만약 다른 글자로 시작하게 된다면 게임을 종료합니다.  \n",
    "조건 2 : 5의 배수 번째 단어에서는 현재까지 몇 개의 단어를 입력했는지 알려줘야 합니다.  \n",
    "조건 3 : 앞에서 입력했던 단어와 동일한 단어를 입력한다면 게임을 종료합니다.  "
   ]
  },
  {
   "cell_type": "code",
   "execution_count": 12,
   "id": "67d71b6b",
   "metadata": {},
   "outputs": [
    {
     "name": "stdout",
     "output_type": "stream",
     "text": [
      "1번째 단어를 입력하세요:사과\n",
      "2번째 단어를 입력하세요:과일\n",
      "3번째 단어를 입력하세요:일상\n",
      "4번째 단어를 입력하세요:상자\n",
      "5번째 단어를 입력하세요:자석\n",
      "(중간 점검) 현재 5개의 단어를 입력하셨습니다.\n",
      "6번째 단어를 입력하세요:석사\n",
      "7번째 단어를 입력하세요:사과\n",
      "사과는 이전에 입력하신 단어입니다. 게임을 종료합니다.\n",
      "총 입력한 단어 목록은 ['사과', '과일', '일상', '상자', '자석', '석사']입니다.\n"
     ]
    }
   ],
   "source": [
    "i = 1\n",
    "words =[]\n",
    "while True:\n",
    "    word = input(f\"{i}번째 단어를 입력하세요:\")\n",
    "    if len(words) < 1:\n",
    "        words.append(word)\n",
    "    else:\n",
    "        if word[0] != words[-1][-1]:\n",
    "            print('틀린 단어를 입력하셨습니다. 게임을 종료합니다.')\n",
    "            break\n",
    "        elif word in words:\n",
    "            print(f\"{word}는 이전에 입력하신 단어입니다. 게임을 종료합니다.\")\n",
    "            break\n",
    "        else:\n",
    "            words.append(word)\n",
    "    if i % 5 == 0:\n",
    "        print(f\"(중간 점검) 현재 {i}개의 단어를 입력하셨습니다.\")\n",
    "    i += 1        \n",
    "print(f\"총 입력한 단어 목록은 {words}입니다.\")"
   ]
  }
 ],
 "metadata": {
  "kernelspec": {
   "display_name": "practice",
   "language": "python",
   "name": "practice"
  },
  "language_info": {
   "codemirror_mode": {
    "name": "ipython",
    "version": 3
   },
   "file_extension": ".py",
   "mimetype": "text/x-python",
   "name": "python",
   "nbconvert_exporter": "python",
   "pygments_lexer": "ipython3",
   "version": "3.8.11"
  }
 },
 "nbformat": 4,
 "nbformat_minor": 5
}
