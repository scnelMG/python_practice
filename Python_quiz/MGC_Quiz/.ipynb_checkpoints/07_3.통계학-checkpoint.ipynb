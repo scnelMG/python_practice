{
 "cells": [
  {
   "cell_type": "markdown",
   "id": "d8ebf2c2",
   "metadata": {},
   "source": [
    "# 통계학"
   ]
  },
  {
   "cell_type": "markdown",
   "id": "7e4b2eef",
   "metadata": {},
   "source": [
    "## 문제\n",
    "\n",
    "\n",
    "우리 일상 생활에서, 통계학은 아주 널리 사용됩니다.\n",
    "\n",
    "기본 통계치는 대표적으로 산술평균, 중앙값, 최빈값, 범위등이 존재하죠!\n",
    "\n",
    "입력할 수 N과 N개의 수를 입력받아, 4개의 대표적인 기본 통계치를 출력하는 프로그램을 작성 해 보세요.\n",
    "\n",
    "산술평균 : N개 수의 합을 N으로 나눈 값  \n",
    "중앙값 : N개의 수를 오름차순으로 정렬했을 때 그 중앙에 위치하는 값. N이 짝수인 경우, 중앙 두 값의 평균.  \n",
    "최빈값 : N개의 수들 중 가장 많이 나타나는 값. 2개 이상일 경우 모두 출력.  \n",
    "범위 : N개의 수들 중 최대값과 최소값의 차이  \n"
   ]
  },
  {
   "cell_type": "code",
   "execution_count": 88,
   "id": "917a1b4b",
   "metadata": {},
   "outputs": [
    {
     "name": "stdout",
     "output_type": "stream",
     "text": [
      "숫자들 사이에 공백을 두고 숫자를 입력해주세요:2 2 3 3 4 5\n"
     ]
    }
   ],
   "source": [
    "nums = input(\"숫자들 사이에 공백을 두고 숫자를 입력해주세요:\").split()"
   ]
  },
  {
   "cell_type": "code",
   "execution_count": 89,
   "id": "a95e7652",
   "metadata": {},
   "outputs": [
    {
     "name": "stdout",
     "output_type": "stream",
     "text": [
      "산술평균은  3.17입니다.\n",
      "중앙값은 3.0입니다.\n"
     ]
    }
   ],
   "source": [
    "from math import ceil\n",
    "\n",
    "nums = list(map(int, nums)) # list의 값들을 정수형으로 변환\n",
    "# 산술평균\n",
    "mean = sum(nums)/ len(nums)\n",
    "print(f'산술평균은 {mean : .2f}입니다.')\n",
    "\n",
    "# 중앙값\n",
    "median_nums = nums.copy()\n",
    "for i in range(ceil(len(nums)/2)-1):\n",
    "    median_nums.remove(max(median_nums))\n",
    "    median_nums.remove(min(median_nums))\n",
    "median = sum(median_nums)/len(median_nums)\n",
    "print(f'중앙값은 {median}입니다.')"
   ]
  },
  {
   "cell_type": "code",
   "execution_count": 90,
   "id": "0821532e",
   "metadata": {},
   "outputs": [
    {
     "name": "stdout",
     "output_type": "stream",
     "text": [
      "최빈값은 [2, 3]이고 총 2개 있습니다.\n",
      "범위는 2부터 5로 3입니다\n"
     ]
    }
   ],
   "source": [
    "# 최빈값\n",
    "count = 0\n",
    "for num in nums:\n",
    "    if nums.count(num) > count:\n",
    "        mode = []\n",
    "        count = nums.count(num)\n",
    "        mode.append(num)\n",
    "    elif nums.count(num) == count and num not in mode :\n",
    "        mode.append(num)\n",
    "print(f\"최빈값은 {mode}이고 총 {count}개 있습니다.\")\n",
    "\n",
    "# 범위\n",
    "nums_range = max(nums) - min(nums)\n",
    "print(f\"범위는 {min(nums)}부터 {max(nums)}로 {nums_range}입니다\")"
   ]
  },
  {
   "cell_type": "code",
   "execution_count": null,
   "id": "dba09a6e",
   "metadata": {},
   "outputs": [],
   "source": []
  }
 ],
 "metadata": {
  "kernelspec": {
   "display_name": "practice",
   "language": "python",
   "name": "practice"
  },
  "language_info": {
   "codemirror_mode": {
    "name": "ipython",
    "version": 3
   },
   "file_extension": ".py",
   "mimetype": "text/x-python",
   "name": "python",
   "nbconvert_exporter": "python",
   "pygments_lexer": "ipython3",
   "version": "3.8.11"
  }
 },
 "nbformat": 4,
 "nbformat_minor": 5
}
