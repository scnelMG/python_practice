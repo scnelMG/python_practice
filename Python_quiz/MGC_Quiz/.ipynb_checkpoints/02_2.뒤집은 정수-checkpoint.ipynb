{
 "cells": [
  {
   "cell_type": "markdown",
   "id": "cfe5f3ca",
   "metadata": {},
   "source": [
    "# 뒤집은 정수"
   ]
  },
  {
   "cell_type": "markdown",
   "id": "f738a991",
   "metadata": {},
   "source": [
    "## 뒤집은 정수\n",
    "\n",
    "문제\n",
    "\n",
    "\n",
    "어떤 수 X가 주어졌을 때, X의 모든 자리수를 뒤집은 수를 r(X)라고 하자.\n",
    "\n",
    "예를 들어, X가 123일 때 r(X)는 321이다.\n",
    "\n",
    "두 양의 정수 X, Y가 입력으로 주어질 때 r( r(X) + r(Y) )를 구하세요.\n",
    "\n"
   ]
  },
  {
   "cell_type": "code",
   "execution_count": 35,
   "id": "ac67741a",
   "metadata": {},
   "outputs": [],
   "source": [
    "def reverse(num):\n",
    "    num = num[::-1]\n",
    "    num = int(num)\n",
    "    return num"
   ]
  },
  {
   "cell_type": "code",
   "execution_count": 43,
   "id": "9c8fe90b",
   "metadata": {},
   "outputs": [
    {
     "name": "stdout",
     "output_type": "stream",
     "text": [
      "첫번째 숫자를 입력하세요: 123\n",
      "두번째 숫자를 입력하세요: 100\n",
      "223\n"
     ]
    }
   ],
   "source": [
    "num1 = str(input(\"첫번째 숫자를 입력하세요: \"))\n",
    "num2 = str(input(\"두번째 숫자를 입력하세요: \"))\n",
    "print(reverse(str(reverse(num1) + reverse(num2))))"
   ]
  }
 ],
 "metadata": {
  "kernelspec": {
   "display_name": "practice",
   "language": "python",
   "name": "practice"
  },
  "language_info": {
   "codemirror_mode": {
    "name": "ipython",
    "version": 3
   },
   "file_extension": ".py",
   "mimetype": "text/x-python",
   "name": "python",
   "nbconvert_exporter": "python",
   "pygments_lexer": "ipython3",
   "version": "3.8.11"
  }
 },
 "nbformat": 4,
 "nbformat_minor": 5
}
