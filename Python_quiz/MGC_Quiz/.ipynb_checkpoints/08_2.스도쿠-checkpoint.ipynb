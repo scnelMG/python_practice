{
 "cells": [
  {
   "cell_type": "markdown",
   "id": "ab9e2acb",
   "metadata": {},
   "source": [
    "# 스도쿠"
   ]
  },
  {
   "attachments": {
    "image.png": {
     "image/png": "[encoded data removed]"
    }
   },
   "cell_type": "markdown",
   "id": "9a307f01",
   "metadata": {},
   "source": [
    "## 문제\n",
    "\n",
    "\n",
    "스도쿠는 아래와 같이 9×9크기의 판에 특정 규칙에 따라 1부터 9사이의 숫자들로 채워 나가는 게임입니다.  \n",
    "\n",
    "스도쿠 결과를 입력받고, 해당 스도쿠가 정답인지 판단하는 프로그램을 작성해주세요.\n",
    "\n",
    "![image.png](attachment:image.png)\n",
    "⭐ 스도쿠 게임 규칙 ⭐\n",
    "\n",
    "각 칸에 1부터 9사이의 숫자를 입력할 수 있습니다.  \n",
    "각 가로줄에 1부터 9까지의 숫자가 하나씩 들어가야합니다. (ex. 붉은칸)  \n",
    "각 세로줄에 1부터 9까지의 숫자가 하나씩 들어가야합니다. (ex. 파란칸)  \n",
    "각 굵은 선으로 나누어진 3×3칸마다 1부터 9까지의 숫자가 하나씩 들어가야합니다. (ex. 초록칸)  \n",
    "\n",
    "\n",
    "⭐ 힌트 ⭐\n",
    "\n",
    "이중 리스트를 통해 스도쿠 판을 표현할 수 있습니다. "
   ]
  },
  {
   "cell_type": "code",
   "execution_count": 66,
   "id": "1a53580c",
   "metadata": {},
   "outputs": [
    {
     "name": "stdout",
     "output_type": "stream",
     "text": [
      "스도쿠 결과를 입력하시오(9X9):5 4 3 6 7 8 9 1 2 6 7 2 1 9 5 3 4 8 1 9 8 3 4 2 5 6 7 8 5 9 7 6 1 4 2 3 4 2 6 8 5 3 7 9 1 7 1 3 9 2 4 8 5 6 9 6 1 5 3 7 2 8 4 2 8 7 4 1 9 6 3 5 3 4 5 2 8 6 1 7 9\n",
      "2열에서 숫자3가 존재하지 않습니다.\n",
      "3열에서 숫자4가 존재하지 않습니다.\n"
     ]
    }
   ],
   "source": [
    "nums = input(\"스도쿠 결과를 입력하시오(9X9):\").split()\n",
    "nums = list(map(int, nums)) # 입력 받은 값을 정수형을 변환\n",
    "\n",
    "import numpy as np # 1차원 리스트를 9X9 이중 리스트로 바꾸기 위해 numpy의 reshoape 사용\n",
    "nums = np.array(nums)\n",
    "nums = nums.reshape(9,9)\n",
    "\n",
    "error = 0 # 오류 발생을 확인하는 변수\n",
    "\n",
    "while True:\n",
    "    for i in range(9): # 가로 줄에 1~9가 모두 존재하는지 확인\n",
    "        for j in range(1, 10):\n",
    "            if j not in nums[i]:\n",
    "                print(f\"{i+1}행에서 숫자{j}가 존재하지 않습니다.\") \n",
    "                error += 1\n",
    "    for i in range(9): # 세로 줄에 1~9가 모두 존재하는지 확인\n",
    "        for j in range(1, 10):\n",
    "            if j not in nums.T[i]:\n",
    "                print(f\"{i+1}열에서 숫자{j}가 존재하지 않습니다.\") \n",
    "                error += 1\n",
    "\n",
    "    for i in range(3): # 3X3 박스를 만들고 그 안에 1~9가 모두 존재하는지 확인\n",
    "        for j in range(3):\n",
    "            box = []\n",
    "            for k in range(3):\n",
    "                for l in range(3):\n",
    "                    box.append(nums[3 * i + k][3 * j + l])\n",
    "            for num in range(1,10):\n",
    "                if num not in box:\n",
    "                    print(f\"{i+1}행 {j+1}열 위치의 3X3 박스에 숫자 {num}가 존재하지 않습니다.\" )\n",
    "                    error += 1\n",
    "    \n",
    "    if error > 0:\n",
    "        break\n",
    "    print(\"입력하신 스도쿠는 정답입니다.\")\n",
    "    break"
   ]
  },
  {
   "cell_type": "code",
   "execution_count": null,
   "id": "ddb9e048",
   "metadata": {},
   "outputs": [],
   "source": []
  }
 ],
 "metadata": {
  "kernelspec": {
   "display_name": "practice",
   "language": "python",
   "name": "practice"
  },
  "language_info": {
   "codemirror_mode": {
    "name": "ipython",
    "version": 3
   },
   "file_extension": ".py",
   "mimetype": "text/x-python",
   "name": "python",
   "nbconvert_exporter": "python",
   "pygments_lexer": "ipython3",
   "version": "3.8.11"
  }
 },
 "nbformat": 4,
 "nbformat_minor": 5
}
