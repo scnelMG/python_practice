{
 "cells": [
  {
   "cell_type": "markdown",
   "id": "d5feaeea",
   "metadata": {},
   "source": [
    "# 올바른 괄호"
   ]
  },
  {
   "cell_type": "markdown",
   "id": "a27d3ef6",
   "metadata": {},
   "source": [
    "## 문제\n",
    "프로그래밍에서 괄호는 반드시 바르게 짝지어져 나와야만 합니다.  \n",
    "\n",
    "바르게 짝지어진다는 의미는, ' ( ' 문자로 열렸을 때 반드시 해당 짝으로 ' ) ' 가 나와야 한다는 의미입니다.  \n",
    "\n",
    "'(', ')'로만 이루어진 문자열 S가 주어졌을 때, S가 바르게 짝지어진 괄호인지 아닌지 판정 하세요.  "
   ]
  },
  {
   "cell_type": "code",
   "execution_count": 20,
   "id": "3dfa6c94",
   "metadata": {},
   "outputs": [
    {
     "name": "stdout",
     "output_type": "stream",
     "text": [
      "괄호로 이루어진 문자열을 입력해주세요:((((()))\n",
      "괄호가 바르게 짝지어지지 않았습니다.\n"
     ]
    }
   ],
   "source": [
    "word = input(\"괄호로 이루어진 문자열을 입력해주세요:\")\n",
    "\n",
    "start = end = 0\n",
    "result = 0\n",
    "for i in range(len(word)):\n",
    "    if word[i] == '(':\n",
    "        start += 1\n",
    "    else:\n",
    "        end += 1\n",
    "        if start < end:\n",
    "            result = 1\n",
    "        elif start != end:\n",
    "            result = 1\n",
    "            \n",
    "if result == 0:\n",
    "    print('바르게 짝지어진 괄호입니다.')\n",
    "else:\n",
    "    print('괄호가 바르게 짝지어지지 않았습니다.')"
   ]
  },
  {
   "cell_type": "code",
   "execution_count": null,
   "id": "76db56f5",
   "metadata": {},
   "outputs": [],
   "source": []
  }
 ],
 "metadata": {
  "kernelspec": {
   "display_name": "practice",
   "language": "python",
   "name": "practice"
  },
  "language_info": {
   "codemirror_mode": {
    "name": "ipython",
    "version": 3
   },
   "file_extension": ".py",
   "mimetype": "text/x-python",
   "name": "python",
   "nbconvert_exporter": "python",
   "pygments_lexer": "ipython3",
   "version": "3.8.11"
  }
 },
 "nbformat": 4,
 "nbformat_minor": 5
}
