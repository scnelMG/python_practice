{
 "cells": [
  {
   "cell_type": "markdown",
   "id": "742c11ca",
   "metadata": {},
   "source": [
    "# 소인수 분해"
   ]
  },
  {
   "cell_type": "markdown",
   "id": "5f7d772c",
   "metadata": {},
   "source": [
    "## 문제\n",
    "\n",
    "\n",
    "정수를 소수의 곱만으로 표현하는 것을 소인수분해라고 합니다.\n",
    "\n",
    "소인수분해 프로그램을 작성해보세요.\n",
    "\n",
    "\n",
    "\n",
    "⭐ 힌트 👉 소인수분해 과정 예시 (숫자 12를 소인수분해하는 과정)\n",
    "\n",
    "먼저, 숫자 12를 가장 작은 소수인 2로 나눕니다.  \n",
    "12은 2로 나누어떨어지므로, 2는 12의 소인수입니다. → 2  \n",
    "12을 2로 나눈 값 6을 다시 2로 나눕니다.  \n",
    "6은 2로 나누어떨어지므로, 2는 6의 소인수입니다. → 2  \n",
    "6을 2로 나눈 값 3을 다시 2로 나눕니다.  \n",
    "3은 2로 나누어떨어지지 않습니다.  \n",
    "3을 2 다음으로 작은 소수인 3으로 나눕니다.  \n",
    "3은 3으로 나누어떨어지므로 3은 소인수입니다. →3  \n",
    "3을 3으로 나눈 값은 1인데, 나누는 수 3이 나눠지는 수 1보다 크기 때문에 계산을 종료합니다."
   ]
  },
  {
   "cell_type": "code",
   "execution_count": 6,
   "id": "bff9e533",
   "metadata": {},
   "outputs": [
    {
     "name": "stdout",
     "output_type": "stream",
     "text": [
      "소인수 분해 할 숫자를 입력해 주세요 : 2132\n",
      "2\n",
      "2\n",
      "13\n",
      "41\n"
     ]
    }
   ],
   "source": [
    "num = int(input(\"소인수 분해 할 숫자를 입력해 주세요 : \"))\n",
    "\n",
    "i = 2\n",
    "for i in range(2, num+1):\n",
    "    while num % i == 0:\n",
    "        print(i)\n",
    "        num = num/i"
   ]
  }
 ],
 "metadata": {
  "kernelspec": {
   "display_name": "practice",
   "language": "python",
   "name": "practice"
  },
  "language_info": {
   "codemirror_mode": {
    "name": "ipython",
    "version": 3
   },
   "file_extension": ".py",
   "mimetype": "text/x-python",
   "name": "python",
   "nbconvert_exporter": "python",
   "pygments_lexer": "ipython3",
   "version": "3.8.11"
  }
 },
 "nbformat": 4,
 "nbformat_minor": 5
}
