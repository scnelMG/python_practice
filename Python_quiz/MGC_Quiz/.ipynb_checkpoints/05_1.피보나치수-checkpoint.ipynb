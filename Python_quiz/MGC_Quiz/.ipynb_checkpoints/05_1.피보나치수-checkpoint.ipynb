{
 "cells": [
  {
   "cell_type": "markdown",
   "id": "aa5fbd1b",
   "metadata": {},
   "source": [
    "# 피보나치수"
   ]
  },
  {
   "attachments": {
    "image.png": {
     "image/png": "[encoded data removed]"
    }
   },
   "cell_type": "markdown",
   "id": "161d6588",
   "metadata": {},
   "source": [
    "## 문제\n",
    "\n",
    "\n",
    "피보나치 수열은 수학에서 아래의 점화식으로 정의되는 수열입니다.\n",
    "\n",
    "![image.png](attachment:image.png)\n",
    "\n",
    "\n",
    "피보나치 수는 0 번째 숫자인 0과 첫 번째 숫자인 1로 시작하며,\n",
    "\n",
    "두 번째 숫자는 0 번째 수와 첫 번째 수의 합인 0 + 1 = 1,\n",
    "\n",
    "세 번째 숫자는 첫 번째 수와 두 번째 수의 합인 1 + 1 = 2 의 값을 가집니다.\n",
    "\n",
    "\n",
    "\n",
    "숫자 n을 입력받아 피보나치 수열의 n번째 숫자를 출력하는 프로그램을 작성해보세요.\n",
    "\n",
    "\n",
    "\n",
    "조건 1 : 입력받는 숫자 n은 2 이상의 자연수입니다.\n",
    "조건 2 : n > 2인 피보나치 수에서, n번째 수 = (n - 2)번째 수 + (n - 1)번째 수 입니다.\n",
    "조건 3 : 피보나치 수열을 나열하면 0, 1, 1, 2, 3, 5, 8, 13, 21, 34, ... 입니다.\n"
   ]
  },
  {
   "cell_type": "code",
   "execution_count": 7,
   "id": "18bd6cb0",
   "metadata": {},
   "outputs": [],
   "source": [
    "def fib(num):\n",
    "    if num == 0:\n",
    "        return 0\n",
    "    \n",
    "    elif num ==1  or num == 2:\n",
    "        return 1\n",
    "    \n",
    "    return fib(num-1) + fib(num-2)"
   ]
  },
  {
   "cell_type": "code",
   "execution_count": 9,
   "id": "839947c3",
   "metadata": {},
   "outputs": [
    {
     "data": {
      "text/plain": [
       "0"
      ]
     },
     "execution_count": 9,
     "metadata": {},
     "output_type": "execute_result"
    }
   ],
   "source": [
    "num = int(input(\"피보나치 수열의 원소 개수를 입력하세요: \"))"
   ]
  },
  {
   "cell_type": "code",
   "execution_count": 17,
   "id": "4e6756a5",
   "metadata": {},
   "outputs": [
    {
     "name": "stdout",
     "output_type": "stream",
     "text": [
      "원소가 10개인 피보나치 수열은 0 1 1 2 3 5 8 13 21 34 55 입니다.\n"
     ]
    }
   ],
   "source": [
    "print(f\"원소가 {num}개인 피보나치 수열은\", end = ' ')\n",
    "for i in range(num+1):\n",
    "    print(fib(i), end =' ')\n",
    "    \n",
    "print('입니다.')"
   ]
  }
 ],
 "metadata": {
  "kernelspec": {
   "display_name": "practice",
   "language": "python",
   "name": "practice"
  },
  "language_info": {
   "codemirror_mode": {
    "name": "ipython",
    "version": 3
   },
   "file_extension": ".py",
   "mimetype": "text/x-python",
   "name": "python",
   "nbconvert_exporter": "python",
   "pygments_lexer": "ipython3",
   "version": "3.8.11"
  }
 },
 "nbformat": 4,
 "nbformat_minor": 5
}
