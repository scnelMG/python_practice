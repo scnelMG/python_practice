{
 "cells": [
  {
   "cell_type": "markdown",
   "id": "bf0c511c",
   "metadata": {},
   "source": [
    "# 팩토리얼의 규칙"
   ]
  },
  {
   "cell_type": "markdown",
   "id": "5cf2ceaa",
   "metadata": {},
   "source": [
    "## 문제\n",
    "\n",
    "\n",
    "1000보다 작은 양의 정수 N이 주어질 때, N! 꼬리에 붙은 0의 개수를 출력하세요.\n",
    "\n",
    "5! = 5 * 4 * 3 * 2 * 1 = 120\n"
   ]
  },
  {
   "cell_type": "code",
   "execution_count": 4,
   "id": "cd9dedf5",
   "metadata": {},
   "outputs": [],
   "source": [
    "def factorial(num): # N팩토리얼 구하는 함수\n",
    "    fac = 1\n",
    "    for i in range(2, num+1):\n",
    "        fac *= i\n",
    "    return fac"
   ]
  },
  {
   "cell_type": "code",
   "execution_count": 6,
   "id": "186b37d1",
   "metadata": {},
   "outputs": [
    {
     "name": "stdout",
     "output_type": "stream",
     "text": [
      "1000보다 작은 양의 정수를 입력해주세요.10\n",
      "10! 의 꼬리에 있는 0의 개수는 2개 입니다.\n"
     ]
    }
   ],
   "source": [
    "num = int(input(\"1000보다 작은 양의 정수를 입력해주세요.\"))\n",
    "# 꼬리의 0의 개수는 10이 만들어지면 늘어남 => 2 X 5의 조합이 나오면 꼬리의 0의 개수가 늘어남\n",
    "# 2의 배수와 5의 배수를 구하고 그 중 작은 값 만큼 꼬리의 0의 개수가 나옴\n",
    "# 그런데 1부터 N가지 중 5의 배수가 2의 배수보다 작으므로 그냥 5의 배수를 꼬리의 0의 개수로 취하면 됨\n",
    "# 단 5의 제곱, 세제곱... 형태의 배수가 존재하면 2, 3... 개의 0이 더 생김 => 따로 구해서 더해줘야함\n",
    "result = 0\n",
    "j= 1\n",
    "while 5 ** j <= num + 1:\n",
    "    for i in range(1, num+1):\n",
    "        if i % (5 ** j) == 0:\n",
    "            result += 1   \n",
    "    j += 1\n",
    "        \n",
    "print(f\"{num}! 의 꼬리에 있는 0의 개수는 {result}개 입니다.\")"
   ]
  },
  {
   "cell_type": "code",
   "execution_count": null,
   "id": "c90b32b2",
   "metadata": {},
   "outputs": [],
   "source": []
  }
 ],
 "metadata": {
  "kernelspec": {
   "display_name": "practice",
   "language": "python",
   "name": "practice"
  },
  "language_info": {
   "codemirror_mode": {
    "name": "ipython",
    "version": 3
   },
   "file_extension": ".py",
   "mimetype": "text/x-python",
   "name": "python",
   "nbconvert_exporter": "python",
   "pygments_lexer": "ipython3",
   "version": "3.8.11"
  }
 },
 "nbformat": 4,
 "nbformat_minor": 5
}
