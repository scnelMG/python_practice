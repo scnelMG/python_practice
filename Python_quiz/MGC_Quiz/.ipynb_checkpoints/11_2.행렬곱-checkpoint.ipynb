{
 "cells": [
  {
   "cell_type": "markdown",
   "id": "e9f44422",
   "metadata": {},
   "source": [
    "# 행렬곱"
   ]
  },
  {
   "cell_type": "markdown",
   "id": "46a89e7d",
   "metadata": {},
   "source": [
    "## 문제\n",
    "\n",
    "\n",
    "N x M 크기의 행렬 A와 M x K 크기의 행렬 B가 주어졌을 때, 두 행렬을 곱해서 출력 해 보세요.\n",
    "\n",
    "첫째 줄에는 행렬 A의 크기 N과 M이 주어지며, 둘째 줄 부터 N개의 줄에는 행렬 A의 원소 M개가 순서대로 주어진다.\n",
    "\n",
    "그 다음 줄에는 행렬 B의 크기 M과 K가 주어지며, 이어서 M개의 줄에는 행렬 B의 원소 K개가 순서대로 주어진다."
   ]
  },
  {
   "cell_type": "code",
   "execution_count": 8,
   "id": "06ec499a",
   "metadata": {},
   "outputs": [
    {
     "name": "stdout",
     "output_type": "stream",
     "text": [
      "첫번째 행렬의 크기를 공백을 가지고 입력해주세요3 2\n",
      "1번쨰 행에 들어갈 값들을 공백을 가지고 입력해주세요1 2\n",
      "2번쨰 행에 들어갈 값들을 공백을 가지고 입력해주세요3 4\n",
      "3번쨰 행에 들어갈 값들을 공백을 가지고 입력해주세요5 6\n",
      "두번째 행렬의 크기를 공백을 가지고 입력해주세요2 3\n",
      "1번쨰 행에 들어갈 값들을 공백을 가지고 입력해주세요-1 -2 0\n",
      "2번쨰 행에 들어갈 값들을 공백을 가지고 입력해주세요0 0 3\n",
      "[[-1, -2, 6], [-3, -6, 12], [-5, -10, 18]]\n"
     ]
    }
   ],
   "source": [
    "while True:\n",
    "    n, m = list(map(int, input(\"첫번째 행렬의 크기를 공백을 가지고 입력해주세요\").split())) \n",
    "    matrix_1 = []\n",
    "    for i in range(n):\n",
    "        matrix_1.append(list(map(int, input(f\"{i+1}번쨰 행에 들어갈 값들을 공백을 가지고 입력해주세요\")\\\n",
    "                                 .split())) )\n",
    "    \n",
    "    M, K = list(map(int, input(\"두번째 행렬의 크기를 공백을 가지고 입력해주세요\").split())) \n",
    "    if m != M:\n",
    "        print(\"행렬곱을 하려는 두 행렬의 크기를 맞춰주세요.\")\n",
    "        break\n",
    "\n",
    "    matrix_2 = []\n",
    "    for i in range(M):\n",
    "        matrix_2.append(list(map(int, input(f\"{i+1}번쨰 행에 들어갈 값들을 공백을 가지고 입력해주세요\")\\\n",
    "                                 .split())) )\n",
    "        \n",
    "    result = [[0]*K for i in range(n)] # 행렬곱 결과값의 형태 먼저 구현\n",
    "    for i in range(n): # 행렬곱 계산\n",
    "        for j in range(K):\n",
    "            for k in range(m):\n",
    "                result[i][j] += matrix_1[i][k] * matrix_2[k][j]\n",
    "                \n",
    "    print(f\"행렬곱 연산 후 행렬은 {result}입니다\")\n",
    "    break                "
   ]
  },
  {
   "cell_type": "code",
   "execution_count": 5,
   "id": "6a956a5c",
   "metadata": {},
   "outputs": [
    {
     "data": {
      "text/plain": [
       "[[-1, -2, 0], [0, 0, 3]]"
      ]
     },
     "execution_count": 5,
     "metadata": {},
     "output_type": "execute_result"
    }
   ],
   "source": [
    "matrix_2"
   ]
  },
  {
   "cell_type": "code",
   "execution_count": 6,
   "id": "10d9a8ee",
   "metadata": {},
   "outputs": [
    {
     "data": {
      "text/plain": [
       "[[1, 2], [3, 4], [5, 6]]"
      ]
     },
     "execution_count": 6,
     "metadata": {},
     "output_type": "execute_result"
    }
   ],
   "source": [
    "matrix_1"
   ]
  },
  {
   "cell_type": "code",
   "execution_count": 9,
   "id": "3b8a9f64",
   "metadata": {},
   "outputs": [
    {
     "data": {
      "text/plain": [
       "[[-1, -2, 6], [-3, -6, 12], [-5, -10, 18]]"
      ]
     },
     "execution_count": 9,
     "metadata": {},
     "output_type": "execute_result"
    }
   ],
   "source": [
    "result"
   ]
  }
 ],
 "metadata": {
  "kernelspec": {
   "display_name": "practice",
   "language": "python",
   "name": "practice"
  },
  "language_info": {
   "codemirror_mode": {
    "name": "ipython",
    "version": 3
   },
   "file_extension": ".py",
   "mimetype": "text/x-python",
   "name": "python",
   "nbconvert_exporter": "python",
   "pygments_lexer": "ipython3",
   "version": "3.8.11"
  }
 },
 "nbformat": 4,
 "nbformat_minor": 5
}
