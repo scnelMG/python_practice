{
 "cells": [
  {
   "cell_type": "markdown",
   "id": "dcaf3687",
   "metadata": {},
   "source": [
    "# 거스름돈"
   ]
  },
  {
   "cell_type": "markdown",
   "id": "acfc322e",
   "metadata": {},
   "source": [
    "## 문제\n",
    "\n",
    "\n",
    "변수가 가지고 있는 동전은 총 N종류이고, 그 동전들을 사용해서 그 가치의 합을 X로 만들려고 합니다.\n",
    "\n",
    "이 때 필요한 동전의 개수를 최소로 하는 프로그램을 만들어 보세요.\n",
    "\n",
    "첫째 줄에는 N과 X가 주어지고,\n",
    "\n",
    "둘째 줄 부터는 N개의 줄에 각각 동전의 가치가 오름차순으로 주어집니다.\n",
    "\n",
    "( 단, 각 동전의 가치는 이전 동전의 가치의 배수 )"
   ]
  },
  {
   "cell_type": "code",
   "execution_count": 2,
   "id": "4c0de694",
   "metadata": {},
   "outputs": [
    {
     "name": "stdout",
     "output_type": "stream",
     "text": [
      "동전의 종류 수와 원하는 합을 공백을 두고 입력하시오:10 4200\n"
     ]
    }
   ],
   "source": [
    "nums = input(\"동전의 종류 수(N)와 원하는 합(X)을 공백을 두고 입력하시오:\").split()"
   ]
  },
  {
   "cell_type": "code",
   "execution_count": 9,
   "id": "fe106dba",
   "metadata": {},
   "outputs": [
    {
     "name": "stdout",
     "output_type": "stream",
     "text": [
      "동전의 가치를 오름차순으로 입력하세요. 현재 1번째 입력입니다.    (단, 각 동전의 가치는 이전 동전의 가치의 배수):1\n",
      "동전의 가치를 오름차순으로 입력하세요. 현재 2번째 입력입니다.    (단, 각 동전의 가치는 이전 동전의 가치의 배수):5\n",
      "동전의 가치를 오름차순으로 입력하세요. 현재 3번째 입력입니다.    (단, 각 동전의 가치는 이전 동전의 가치의 배수):10\n",
      "동전의 가치를 오름차순으로 입력하세요. 현재 4번째 입력입니다.    (단, 각 동전의 가치는 이전 동전의 가치의 배수):50\n",
      "동전의 가치를 오름차순으로 입력하세요. 현재 5번째 입력입니다.    (단, 각 동전의 가치는 이전 동전의 가치의 배수):100\n",
      "동전의 가치를 오름차순으로 입력하세요. 현재 6번째 입력입니다.    (단, 각 동전의 가치는 이전 동전의 가치의 배수):500\n",
      "동전의 가치를 오름차순으로 입력하세요. 현재 7번째 입력입니다.    (단, 각 동전의 가치는 이전 동전의 가치의 배수):1000\n",
      "동전의 가치를 오름차순으로 입력하세요. 현재 8번째 입력입니다.    (단, 각 동전의 가치는 이전 동전의 가치의 배수):5000\n",
      "동전의 가치를 오름차순으로 입력하세요. 현재 9번째 입력입니다.    (단, 각 동전의 가치는 이전 동전의 가치의 배수):10000\n",
      "동전의 가치를 오름차순으로 입력하세요. 현재 10번째 입력입니다.    (단, 각 동전의 가치는 이전 동전의 가치의 배수):50000\n",
      "6\n"
     ]
    }
   ],
   "source": [
    "goal = int(nums[1])\n",
    "coin_type = int(nums[0])\n",
    "coin_list = []\n",
    "for i in range(coin_type):\n",
    "    coin = int(input(f\"동전의 가치를 오름차순으로 입력하세요. 현재 {i+1}번째 입력입니다.\\\n",
    "    (단, 각 동전의 가치는 이전 동전의 가치의 배수):\" ))\n",
    "    coin_list.append(coin)\n",
    "    \n",
    "coin_list.reverse() # 금액이 큰 순으로 다시 배열\n",
    "\n",
    "count = 0 \n",
    "\n",
    "for coin in coin_list:\n",
    "    count += goal // coin \n",
    "    goal -= (goal // coin) * coin \n",
    "    \n",
    "print(count)    \n",
    "    "
   ]
  }
 ],
 "metadata": {
  "kernelspec": {
   "display_name": "practice",
   "language": "python",
   "name": "practice"
  },
  "language_info": {
   "codemirror_mode": {
    "name": "ipython",
    "version": 3
   },
   "file_extension": ".py",
   "mimetype": "text/x-python",
   "name": "python",
   "nbconvert_exporter": "python",
   "pygments_lexer": "ipython3",
   "version": "3.8.11"
  }
 },
 "nbformat": 4,
 "nbformat_minor": 5
}
