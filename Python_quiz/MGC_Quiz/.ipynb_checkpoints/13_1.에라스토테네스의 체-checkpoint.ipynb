{
 "cells": [
  {
   "cell_type": "markdown",
   "id": "fc04943f",
   "metadata": {},
   "source": [
    "# 에라스토테네스의 체"
   ]
  },
  {
   "cell_type": "markdown",
   "id": "d9464dcb",
   "metadata": {},
   "source": [
    "## 문제\n",
    "\n",
    "\n",
    "에라스토테네스의 체는 N보다 작거나 같은 모든 소수를 찾는 알고리즘 중 하나입니다.\n",
    "\n",
    "이 알고리즘은 다음과 같이 동작합니다.  \n",
    "\n",
    "2부터 N까지의 모든 수를 나열한다.  \n",
    "나열한 수 중 지우지 않은 가장 작은 수 p를 찾는다.  \n",
    "p를 제외한 p의 배수를 모두 제거한다.  \n",
    "모든 수가 지워질 때 까지 2 - 3번 단계를 반복하면 구하는 구간의 모든 소수가 남게 된다.  \n",
    "( 참고 : https://ko.wikipedia.org/wiki/에라토스테네스의_체 )\n",
    "\n",
    "N을 입력받고 에라스토테네스의 체를 사용하여 2부터 N까지의 모든 소수의 개수를 출력하세요."
   ]
  },
  {
   "cell_type": "code",
   "execution_count": 80,
   "id": "c89b94ec",
   "metadata": {},
   "outputs": [
    {
     "name": "stdout",
     "output_type": "stream",
     "text": [
      "양의 정수를 입력하세요:100\n"
     ]
    }
   ],
   "source": [
    "num = int(input(\"양의 정수를 입력하세요:\"))\n",
    "num_list = list(range(2, num+1))\n",
    "\n",
    "for i in num_list:\n",
    "    for j in num_list[i:]:\n",
    "        if j % i == 0:\n",
    "            num_list.remove(j)\n",
    "            \n",
    "print(f\"2부터 {num}까지에서 소수의 개수는 {len(num_list)}개이고 \\n그 값들은 {num_list} 입니다.\")            "
   ]
  },
  {
   "cell_type": "code",
   "execution_count": 81,
   "id": "ea49b78d",
   "metadata": {},
   "outputs": [
    {
     "name": "stdout",
     "output_type": "stream",
     "text": [
      "2부터 100까지에서 소수의 개수는 25개이고 \n",
      "그 값들은 [2, 3, 5, 7, 11, 13, 17, 19, 23, 29, 31, 37, 41, 43, 47, 53, 59, 61, 67, 71, 73, 79, 83, 89, 97] 입니다.\n"
     ]
    }
   ],
   "source": []
  }
 ],
 "metadata": {
  "kernelspec": {
   "display_name": "practice",
   "language": "python",
   "name": "practice"
  },
  "language_info": {
   "codemirror_mode": {
    "name": "ipython",
    "version": 3
   },
   "file_extension": ".py",
   "mimetype": "text/x-python",
   "name": "python",
   "nbconvert_exporter": "python",
   "pygments_lexer": "ipython3",
   "version": "3.8.11"
  }
 },
 "nbformat": 4,
 "nbformat_minor": 5
}
