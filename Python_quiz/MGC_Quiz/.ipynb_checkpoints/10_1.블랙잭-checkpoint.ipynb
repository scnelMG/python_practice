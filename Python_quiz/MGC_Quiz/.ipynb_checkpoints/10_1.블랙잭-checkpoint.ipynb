{
 "cells": [
  {
   "cell_type": "markdown",
   "id": "65cfbbad",
   "metadata": {},
   "source": [
    "# 블랙잭"
   ]
  },
  {
   "cell_type": "markdown",
   "id": "0bfe030d",
   "metadata": {},
   "source": [
    "## 문제\n",
    "\n",
    "\n",
    "카지노에서 자주 플레이되는 블랙잭의 규칙은 카드의 합이 21이 넘지 않는 한도 내에서, 카드의 합을 가장 크게 만드는 게임이죠.\n",
    "\n",
    "이와 유사하게, 코드메이트 버전의 블랙잭은 N개의 카드중 세장의 카드를 뽑아 X를 넘지 않으면서 X와 가장 가까운 수의 카드조합을 골라내는 규칙으로 진행됩니다.\n",
    "\n",
    "첫째 줄에는 카드의 개수 N과 목표 값 X가 주어지며, 두번째 줄에는 카드에 쓰여있는 수가 입력으로 주어질 때 \n",
    "\n",
    "X에 가장 가까우면서 X를 넘지 않는 카드 세장의 합을 구해서 출력하세요.\n",
    "\n"
   ]
  },
  {
   "cell_type": "code",
   "execution_count": 12,
   "id": "1dcc9b81",
   "metadata": {},
   "outputs": [
    {
     "name": "stdout",
     "output_type": "stream",
     "text": [
      "카듸의 개수(N)과 목표 값(X)를 공백을 가지고 입력하세요:8 100\n",
      "카드에 쓰여있는 숫자들을 입력하세요:16 85 30 14 95 63 52 87\n"
     ]
    }
   ],
   "source": [
    "n, x = input(\"카듸의 개수(N)과 목표 값(X)를 공백을 가지고 입력하세요:\").split()\n",
    "cards = input(\"카드에 쓰여있는 숫자들을 입력하세요:\").split()\n",
    "\n",
    "n = int(n)\n",
    "x = int(x)\n",
    "cards = list(map(int, cards))"
   ]
  },
  {
   "cell_type": "code",
   "execution_count": 17,
   "id": "43281bea",
   "metadata": {},
   "outputs": [
    {
     "name": "stdout",
     "output_type": "stream",
     "text": [
      "100에 가잩 가까우면서 100을 넘지 않는 카드 세장의 합은 98입니다.\n"
     ]
    }
   ],
   "source": [
    "total_list = []        \n",
    "for i in range(n):\n",
    "    for j in range(i+1, n):\n",
    "        for k in range(j+1, n):\n",
    "            total = cards[i] + cards[j] + cards[k]\n",
    "            if total <= x:\n",
    "                total_list.append(total)\n",
    "print(f\"{x}에 가잩 가까우면서 {x}을 넘지 않는 카드 세장의 합은 {max(total_list)}입니다.\")"
   ]
  },
  {
   "cell_type": "code",
   "execution_count": null,
   "id": "3109fddc",
   "metadata": {},
   "outputs": [],
   "source": []
  }
 ],
 "metadata": {
  "kernelspec": {
   "display_name": "practice",
   "language": "python",
   "name": "practice"
  },
  "language_info": {
   "codemirror_mode": {
    "name": "ipython",
    "version": 3
   },
   "file_extension": ".py",
   "mimetype": "text/x-python",
   "name": "python",
   "nbconvert_exporter": "python",
   "pygments_lexer": "ipython3",
   "version": "3.8.11"
  }
 },
 "nbformat": 4,
 "nbformat_minor": 5
}
