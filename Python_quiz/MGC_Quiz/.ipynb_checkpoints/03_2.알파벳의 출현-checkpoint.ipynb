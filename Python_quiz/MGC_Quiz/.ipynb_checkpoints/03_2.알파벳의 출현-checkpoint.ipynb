{
 "cells": [
  {
   "cell_type": "markdown",
   "id": "9c30a5d0",
   "metadata": {},
   "source": [
    "# 알파벳의 출현"
   ]
  },
  {
   "cell_type": "markdown",
   "id": "4fd85dea",
   "metadata": {},
   "source": [
    "## 문제\n",
    "\n",
    "\n",
    "알파벳 대/소문자로 된 문장이 주어질 때, \n",
    "\n",
    "이 문장에서 가장 많이 사용된 알파벳이 무엇인지 알아내서 출력 해 보세요.\n",
    "\n",
    "단, 대/소문자는 구분하지 않습니다.\n",
    "가장 많이 사용 된 알파벳이 여러 개 존재하는 경우 모두 출력합니다."
   ]
  },
  {
   "cell_type": "code",
   "execution_count": 15,
   "id": "d39e02b5",
   "metadata": {},
   "outputs": [
    {
     "name": "stdout",
     "output_type": "stream",
     "text": [
      "영어 문장을 입력해 주세요:Mogakko is god\n",
      "{1: 'm', 2: 'g', 3: 'o'}\n",
      " 가장 많이 사용된 알파벳은 o이고 그 횟수는은 3입니다.\n"
     ]
    }
   ],
   "source": [
    "word = input(\"영어 문장을 입력해 주세요:\").lower()\n",
    "alpha_list = list(set(word))\n",
    "count_list = []\n",
    "\n",
    "for alpha in alpha_list:\n",
    "    count_list.append(word.count(alpha))\n",
    "\n",
    "dictionary = dict(zip(count_list, alpha_list))\n",
    "print(dictionary)\n",
    "print(f\" 가장 많이 사용된 알파벳은 {dictionary[max(count_list)]}이고 그 횟수는은 {max(count_list)}입니다.\" )"
   ]
  },
  {
   "cell_type": "code",
   "execution_count": 13,
   "id": "2d999038",
   "metadata": {},
   "outputs": [
    {
     "data": {
      "text/plain": [
       "{3: 's', 2: 'f', 1: 'a'}"
      ]
     },
     "execution_count": 13,
     "metadata": {},
     "output_type": "execute_result"
    }
   ],
   "source": [
    "dictionary"
   ]
  }
 ],
 "metadata": {
  "kernelspec": {
   "display_name": "practice",
   "language": "python",
   "name": "practice"
  },
  "language_info": {
   "codemirror_mode": {
    "name": "ipython",
    "version": 3
   },
   "file_extension": ".py",
   "mimetype": "text/x-python",
   "name": "python",
   "nbconvert_exporter": "python",
   "pygments_lexer": "ipython3",
   "version": "3.8.11"
  }
 },
 "nbformat": 4,
 "nbformat_minor": 5
}
