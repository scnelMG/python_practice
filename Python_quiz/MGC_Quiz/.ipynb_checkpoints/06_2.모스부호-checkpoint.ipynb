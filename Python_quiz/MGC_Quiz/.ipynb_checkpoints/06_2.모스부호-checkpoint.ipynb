{
 "cells": [
  {
   "cell_type": "markdown",
   "id": "c6746833",
   "metadata": {},
   "source": [
    "# 모스부호"
   ]
  },
  {
   "cell_type": "markdown",
   "id": "a55b1480",
   "metadata": {},
   "source": [
    "## 문제\n",
    "\n",
    "\n",
    "집이 멀리 떨어져있는 당신과 친구는 만나러 나가기가 너무 귀찮아서, 모스 부호를 통해 대화를 하기로 했다.   \n",
    "\n",
    "하지만, 매번 해석하는 일이 여간 힘들일이 아니었기에, 모스 부호를 해독하는 프로그램을 만들기로 했다.   \n",
    "\n",
    "다음 정보를 바탕으로 모스 부호를 해독하는 프로그램을 만들어 보시오.  \n",
    "\n",
    "※모스부호 - dot : . dash: - 를 통해 알파벳과 숫자를 표기한 것."
   ]
  },
  {
   "cell_type": "code",
   "execution_count": 1,
   "id": "ba41ffeb",
   "metadata": {},
   "outputs": [],
   "source": [
    "mos_dic={'.-':'A', '-...':'B', '-.-.':'C', '-..':'D', '.':'E', '..-.':'F', '--.':'G', '....':'H', '..': 'I', '.---': 'J',\n",
    "\n",
    "    '-.-':'K', '.-..':'L', '--':'M', '-.':'N', '---':'O', '.--.':'P', '--.-':'Q', '.-.':'R', '...':'S', '-':'T',\n",
    "\n",
    "    '..-':'U', '...-':'V', '.--':'W', '-..-':'X', '-.--':'Y', '--..':'Z', '/':' '}"
   ]
  },
  {
   "cell_type": "code",
   "execution_count": 11,
   "id": "9b021ab1",
   "metadata": {},
   "outputs": [
    {
     "name": "stdout",
     "output_type": "stream",
     "text": [
      "모스부호를 입력해주세요:... - --- .--. / .-- --- .-. -.- .. -. --.\n",
      "STOP WORKING"
     ]
    }
   ],
   "source": [
    "mos = input(\"모스부호를 입력해주세요:\").split()\n",
    "\n",
    "for i in mos:\n",
    "    if i == '/':\n",
    "        print(end = ' ')\n",
    "    else:\n",
    "        print(mos_dic[i], end='')"
   ]
  }
 ],
 "metadata": {
  "kernelspec": {
   "display_name": "Python 3 (ipykernel)",
   "language": "python",
   "name": "python3"
  },
  "language_info": {
   "codemirror_mode": {
    "name": "ipython",
    "version": 3
   },
   "file_extension": ".py",
   "mimetype": "text/x-python",
   "name": "python",
   "nbconvert_exporter": "python",
   "pygments_lexer": "ipython3",
   "version": "3.8.11"
  }
 },
 "nbformat": 4,
 "nbformat_minor": 5
}
