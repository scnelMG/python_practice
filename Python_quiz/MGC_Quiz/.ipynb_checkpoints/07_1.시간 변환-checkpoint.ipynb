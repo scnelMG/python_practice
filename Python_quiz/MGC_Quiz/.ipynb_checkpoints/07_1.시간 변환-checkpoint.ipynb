{
 "cells": [
  {
   "cell_type": "markdown",
   "id": "6857639b",
   "metadata": {},
   "source": [
    "# 시간 변환"
   ]
  },
  {
   "cell_type": "markdown",
   "id": "2a9d89b7",
   "metadata": {},
   "source": [
    "## 문제\n",
    "\n",
    "\n",
    "초 단위의 시간을 입력 받고, 일, 시, 분, 초로 시간을 계산하여 출력하는 코드를 작성해보세요.\n",
    "\n",
    "사용하지 않는 단위는 출력하지 않습니다 (ex. '3601'초를 입력하면 '1시간 0분 1초'가 아닌 '1시간 1초'로 출력)  \n",
    "1일 = 86400초  \n",
    "1시간 = 3600초  \n",
    "1분 = 60초"
   ]
  },
  {
   "cell_type": "code",
   "execution_count": 56,
   "id": "fb3cc800",
   "metadata": {},
   "outputs": [
    {
     "name": "stdout",
     "output_type": "stream",
     "text": [
      "초 단위의 시간을 입력해주세요: 80000\n",
      "22시간 13분 20초"
     ]
    }
   ],
   "source": [
    "time = int(input(\"초 단위의 시간을 입력해주세요: \"))\n",
    "\n",
    "day = hour = minute = second = 0\n",
    "while time >= 60:\n",
    "    if time // 86400 != 0:\n",
    "        day = time // 86400\n",
    "        print(f\"{day}일\", end =' ')\n",
    "        time = time % 86400\n",
    "\n",
    "    elif time // 3600 != 0:\n",
    "        hour = time // 3600\n",
    "        print(f\"{hour}시간\", end =' ')\n",
    "        time = time % 3600\n",
    "\n",
    "    elif time // 60 != 0:\n",
    "        minute = time // 60\n",
    "        print(f\"{minute}분\", end =' ')\n",
    "        time = time % 60\n",
    "       \n",
    "second = time\n",
    "if second != 0:\n",
    "    print(f\"{second}초\", end ='')"
   ]
  }
 ],
 "metadata": {
  "kernelspec": {
   "display_name": "practice",
   "language": "python",
   "name": "practice"
  },
  "language_info": {
   "codemirror_mode": {
    "name": "ipython",
    "version": 3
   },
   "file_extension": ".py",
   "mimetype": "text/x-python",
   "name": "python",
   "nbconvert_exporter": "python",
   "pygments_lexer": "ipython3",
   "version": "3.8.11"
  }
 },
 "nbformat": 4,
 "nbformat_minor": 5
}
