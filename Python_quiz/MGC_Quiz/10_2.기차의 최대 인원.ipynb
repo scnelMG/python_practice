{
 "cells": [
  {
   "cell_type": "markdown",
   "id": "ed9b11f7",
   "metadata": {},
   "source": [
    "# 기차의 최대 인원"
   ]
  },
  {
   "cell_type": "markdown",
   "id": "21174345",
   "metadata": {},
   "source": [
    "## 문제\n",
    "\n",
    "\n",
    "역이 4개 존재하는 기차가 있습니다. \n",
    "\n",
    "타고 내리는 사람의 명 수가 주어졌을 때, 기차 내에 가장 많은 사람이 존재하는 경우의 사람 수를 출력하는 프로그램을 작성해주세요.\n",
    "\n",
    "조건 1 : 처음 기차에 타고 있는 사람은 0명입니다.  \n",
    "조건 2 : 입력 값은 \"(내리는 인원) (타는 인원)\"으로 주어집니다. 처음 기차에 타고 있는 사람이 0명이므로 처음 내리는 인원은 0명입니다.  \n",
    "조건 3 : 인원이 음수가 될 경우 오류 메시지를 출력합니다.  \n"
   ]
  },
  {
   "cell_type": "code",
   "execution_count": 8,
   "id": "aad81065",
   "metadata": {},
   "outputs": [
    {
     "name": "stdout",
     "output_type": "stream",
     "text": [
      "기차에 내리는 인원과 타는 인원을 공백을 가지고 입력해주세요:0 10\n",
      "기차에 내리는 인원과 타는 인원을 공백을 가지고 입력해주세요:9 12\n",
      "기차에 내리는 인원과 타는 인원을 공백을 가지고 입력해주세요:9 13\n",
      "기차에 내리는 인원과 타는 인원을 공백을 가지고 입력해주세요:3 20\n",
      "기차 내에 사람이 34명으로    3번째 역에서 가장 많았습니다,\n"
     ]
    }
   ],
   "source": [
    "outer = []\n",
    "inner = []\n",
    "total = 0\n",
    "total_list = []\n",
    "error = 0\n",
    "for i in range(4):\n",
    "    nums = input(\"기차에 내리는 인원과 타는 인원을 공백을 가지고 입력해주세요:\").split()\n",
    "    nums = list(map(int, nums))\n",
    "    outer.append(nums[0])\n",
    "    inner.append(nums[1])\n",
    "    if i == 0 :\n",
    "        total = inner[i]\n",
    "    else :\n",
    "        total = total-outer[i]\n",
    "        if total <0:\n",
    "            print('잘못된 입력입니다. 기차 안 인원이 음수가 되지 않도록 하세요.')\n",
    "            error = 1\n",
    "            break\n",
    "        total += inner[i]\n",
    "        total_list.append(total)\n",
    "if error != 1:\n",
    "    print(f\"기차 내에 사람이 {max(total_list)}명으로 {total_list.index(max(total_list)) + 1}번째 역에서 가장 많았습니다,\")\n",
    "    \n"
   ]
  },
  {
   "cell_type": "code",
   "execution_count": null,
   "id": "f244b920",
   "metadata": {},
   "outputs": [],
   "source": []
  }
 ],
 "metadata": {
  "kernelspec": {
   "display_name": "practice",
   "language": "python",
   "name": "practice"
  },
  "language_info": {
   "codemirror_mode": {
    "name": "ipython",
    "version": 3
   },
   "file_extension": ".py",
   "mimetype": "text/x-python",
   "name": "python",
   "nbconvert_exporter": "python",
   "pygments_lexer": "ipython3",
   "version": "3.8.11"
  }
 },
 "nbformat": 4,
 "nbformat_minor": 5
}
