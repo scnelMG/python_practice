{
 "cells": [
  {
   "cell_type": "markdown",
   "id": "85a3aa33",
   "metadata": {},
   "source": [
    "# 물 이동"
   ]
  },
  {
   "cell_type": "markdown",
   "id": "50ff0c06",
   "metadata": {},
   "source": [
    "## 문제\n",
    "\n",
    "\n",
    "물 n리터를 다른 용기에 옮겨야 하는 상황에서 각각 3L , 5L 크기의 양동이가 존재합니다.\n",
    "\n",
    "양동이로 최소 몇 번을 옮겨 담아야 물을 전부 이동시킬 수 있을지 최소 횟수를 출력하는 프로그램을 작성해보세요.\n",
    "\n",
    "조건 1 : 숫자 n은 정수 형태로만 입력됩니다.  \n",
    "조건 2 : 양동이로 모두 옮겨지지 않을 경우 -1을 출력합니다.  \n",
    "조건 3 : 8리터를 옮겨야 하는 경우 5리터 + 3리터와 같은 형식으로 이동이 가능하므로 횟수는 총 2회입니다.  \n",
    "조건 4 : 양동이는 가득 채워서 사용해야 합니다.  "
   ]
  },
  {
   "cell_type": "code",
   "execution_count": 43,
   "id": "db578de6",
   "metadata": {},
   "outputs": [
    {
     "name": "stdout",
     "output_type": "stream",
     "text": [
      "옮겨야하는 물의 양을 입력해주세요(단위; L):11\n",
      "물을 전부 양동이로 옮길 수 있는 최소 횟수는 3번 입니다.\n"
     ]
    }
   ],
   "source": [
    "water = int(input('옮겨야하는 물의 양을 입력해주세요(단위; L):'))\n",
    "num = 0\n",
    "while water >= 3:\n",
    "    if water % 5 == 0:\n",
    "        num += (water // 5)\n",
    "        water = 0\n",
    "    else:\n",
    "        water -= 3\n",
    "        num += 1\n",
    "        \n",
    "if water <3 and water > 0 :\n",
    "    print(\"양동이로 물을 모두 옮길 수 없습니다(-1)\")\n",
    "else:\n",
    "    print(f\"물을 전부 양동이로 옮길 수 있는 최소 횟수는 {num}번 입니다.\")"
   ]
  }
 ],
 "metadata": {
  "kernelspec": {
   "display_name": "practice",
   "language": "python",
   "name": "practice"
  },
  "language_info": {
   "codemirror_mode": {
    "name": "ipython",
    "version": 3
   },
   "file_extension": ".py",
   "mimetype": "text/x-python",
   "name": "python",
   "nbconvert_exporter": "python",
   "pygments_lexer": "ipython3",
   "version": "3.8.11"
  }
 },
 "nbformat": 4,
 "nbformat_minor": 5
}
