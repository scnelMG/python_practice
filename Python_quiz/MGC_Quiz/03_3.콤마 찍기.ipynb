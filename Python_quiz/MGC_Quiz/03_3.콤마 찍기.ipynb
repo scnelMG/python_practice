{
 "cells": [
  {
   "cell_type": "markdown",
   "id": "b5a65fae",
   "metadata": {},
   "source": [
    "# 콤마 찍기"
   ]
  },
  {
   "cell_type": "markdown",
   "id": "7716ca35",
   "metadata": {},
   "source": [
    "## 문제\n",
    "\n",
    "\n",
    "숫자를 입력받고, 숫자 3자리마다 콤마를 찍어 출력하는 프로그램을 작성해주세요.\n",
    "\n",
    "조건 1 : 4자리 미만의 숫자라면 콤마를 찍지 않습니다.  \n",
    "조건 2 : 숫자의 길이는 20을 넘지 않습니다."
   ]
  },
  {
   "cell_type": "code",
   "execution_count": 6,
   "id": "52564a72",
   "metadata": {},
   "outputs": [
    {
     "name": "stdout",
     "output_type": "stream",
     "text": [
      "원하는 숫자를 입력해주세요: 1111111111111111111111111111111111111\n",
      "20자리 이하의 숫자를 입력해주세요..\n"
     ]
    }
   ],
   "source": [
    "num = input(\"원하는 숫자를 입력해주세요: \")\n",
    "\n",
    "if len(num)<=3:\n",
    "    print(num)\n",
    "elif 3<len(num)<=20:\n",
    "    num=int(num)\n",
    "    print(format(num,','))\n",
    "else:\n",
    "    print(\"20자리 이하의 숫자를 입력해주세요..\")"
   ]
  },
  {
   "cell_type": "code",
   "execution_count": null,
   "id": "f3332296",
   "metadata": {},
   "outputs": [],
   "source": []
  }
 ],
 "metadata": {
  "kernelspec": {
   "display_name": "practice",
   "language": "python",
   "name": "practice"
  },
  "language_info": {
   "codemirror_mode": {
    "name": "ipython",
    "version": 3
   },
   "file_extension": ".py",
   "mimetype": "text/x-python",
   "name": "python",
   "nbconvert_exporter": "python",
   "pygments_lexer": "ipython3",
   "version": "3.8.11"
  }
 },
 "nbformat": 4,
 "nbformat_minor": 5
}
