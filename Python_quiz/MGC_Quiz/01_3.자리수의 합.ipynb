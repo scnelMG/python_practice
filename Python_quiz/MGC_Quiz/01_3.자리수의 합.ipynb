{
 "cells": [
  {
   "cell_type": "markdown",
   "id": "48c21d40",
   "metadata": {},
   "source": [
    "# 자리수의 합"
   ]
  },
  {
   "cell_type": "markdown",
   "id": "46c12fb5",
   "metadata": {},
   "source": [
    "## 문제\n",
    "\n",
    "\n",
    "공백으로 구분된 자연수를 입력받은 후, 각 입력된 숫자들 중 자릿수의 합이 가장 큰 수를 구해보세요.\n",
    "\n",
    "(713의 자릿수의 합) = 7 + 1 + 3 = 11 / (112의 자릿수의 합) = 1 + 1+ 2 = 4  \n",
    "조건 1 : 각 숫자들은 공백(스페이스 바)로 구분되어 입력됩니다.  \n",
    "조건 2 : 숫자 두 개는 문자열 형태로 입력됩니다."
   ]
  },
  {
   "cell_type": "code",
   "execution_count": 1,
   "id": "48e5a3bc",
   "metadata": {},
   "outputs": [
    {
     "name": "stdout",
     "output_type": "stream",
     "text": [
      "각 숫자를 공백으로 구분하여 입력해주세요:12 354 34521\n"
     ]
    }
   ],
   "source": [
    "nums = input(\"각 숫자를 공백으로 구분하여 입력해주세요:\")\n",
    "num_list = nums.split(\" \")"
   ]
  },
  {
   "cell_type": "code",
   "execution_count": 2,
   "id": "36a37c16",
   "metadata": {},
   "outputs": [
    {
     "data": {
      "text/plain": [
       "['12', '354', '34521']"
      ]
     },
     "execution_count": 2,
     "metadata": {},
     "output_type": "execute_result"
    }
   ],
   "source": [
    "num_list"
   ]
  },
  {
   "cell_type": "code",
   "execution_count": 15,
   "id": "71649f0e",
   "metadata": {},
   "outputs": [],
   "source": [
    "sum_list = []"
   ]
  },
  {
   "cell_type": "code",
   "execution_count": 19,
   "id": "4fcc7108",
   "metadata": {},
   "outputs": [
    {
     "name": "stdout",
     "output_type": "stream",
     "text": [
      "[2, 4, 1, 3, 12, 15]\n"
     ]
    }
   ],
   "source": [
    "print(sum_list)"
   ]
  },
  {
   "cell_type": "code",
   "execution_count": null,
   "id": "024e4c94",
   "metadata": {},
   "outputs": [],
   "source": []
  },
  {
   "cell_type": "code",
   "execution_count": 18,
   "id": "53c86a95",
   "metadata": {},
   "outputs": [],
   "source": [
    "for num in num_list:\n",
    "    sum = 0\n",
    "    for i in range(0,len(num)):\n",
    "        sum += int(num[i]) \n",
    "    sum_list.append(sum)"
   ]
  },
  {
   "cell_type": "code",
   "execution_count": 35,
   "id": "1b5acb33",
   "metadata": {},
   "outputs": [
    {
     "name": "stdout",
     "output_type": "stream",
     "text": [
      "각 숫자를 공백으로 구분하여 입력해주세요:1111 97 513\n",
      " 자릿수의 합이 가장 큰 수는 97이고 그 합은 16입니다.\n"
     ]
    }
   ],
   "source": [
    "nums = input(\"각 숫자를 공백으로 구분하여 입력해주세요:\")\n",
    "num_list = nums.split(\" \") # 공백을 기준으로 숫자를 잘라서 list 만듬\n",
    "sum_list = [] # 각 자리수의 합을 담을 list\n",
    "\n",
    "for num in num_list:\n",
    "    sum = 0\n",
    "    for i in range(0,len(num)): # 자리수의 합을 구하는 계산\n",
    "        sum += int(num[i]) \n",
    "    sum_list.append(sum)\n",
    "\n",
    "dictionary = dict(zip(sum_list, num_list)) # 숫자와 그 자리수의 합을 dict 형태로 만듬\n",
    "print(f\" 자릿수의 합이 가장 큰 수는 {dictionary[max(sum_list)]}이고 그 합은 {max(sum_list)}입니다.\" )"
   ]
  }
 ],
 "metadata": {
  "kernelspec": {
   "display_name": "Python 3 (ipykernel)",
   "language": "python",
   "name": "python3"
  },
  "language_info": {
   "codemirror_mode": {
    "name": "ipython",
    "version": 3
   },
   "file_extension": ".py",
   "mimetype": "text/x-python",
   "name": "python",
   "nbconvert_exporter": "python",
   "pygments_lexer": "ipython3",
   "version": "3.8.11"
  }
 },
 "nbformat": 4,
 "nbformat_minor": 5
}
