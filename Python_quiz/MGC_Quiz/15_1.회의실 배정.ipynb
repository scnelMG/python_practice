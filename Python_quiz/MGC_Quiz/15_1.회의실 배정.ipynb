{
 "cells": [
  {
   "cell_type": "markdown",
   "id": "ad5af42d",
   "metadata": {},
   "source": [
    "# 회의실 배정"
   ]
  },
  {
   "cell_type": "markdown",
   "id": "835e44d6",
   "metadata": {},
   "source": [
    "## 문제\n",
    "\n",
    "\n",
    "회사에 한 개의 회의실이 존재하고, N개의 회의에 대해서 일정표를 구성하려고 합니다.\n",
    "\n",
    "각 회의 A에 대해 시작 시간과 종료시간이 주어져 있을 때, 각 회의가 겹치지 않게 하면서 회의실을 사용할 수 있는 회의의 최대 개수를 찾아보세요.\n",
    "\n",
    "<조건>  \n",
    "회의는 한번 시작하면 중간에 중단될 수 없다.  \n",
    "한 회의가 끝나는 것과 동시에 다음 회의가 시작될 수 있다.  \n",
    "첫째 줄에는 회의의 수 N이 주어지며, 둘째 줄 부터 N개의 회의에 대한 시작시간과 종료시간이 주어진다.  "
   ]
  },
  {
   "cell_type": "code",
   "execution_count": 76,
   "id": "491c5b9b",
   "metadata": {},
   "outputs": [
    {
     "name": "stdout",
     "output_type": "stream",
     "text": [
      "회의의 수(N)을 입력하세요:2\n",
      "회의들의 시작시간과 종료시간을 입력하세요:1 3\n",
      "회의들의 시작시간과 종료시간을 입력하세요:2 5\n",
      "회의가 겹치지 않게 하면서 회의실을 사용할 수 있는 회의의 최대 개수는 1개이다\n"
     ]
    }
   ],
   "source": [
    "num = int(input(\"회의의 수(N)을 입력하세요:\"))\n",
    "time = []\n",
    "for _ in range(num): \n",
    "    a = tuple(map(int, input(\"회의들의 시작시간과 종료시간을 입력하세요:\").split()))\n",
    "    time.append(a)\n",
    "    \n",
    "time = sorted(time, key=lambda x:(x[1], x[0]))\n",
    "# 회의들의 시작시간, 종료시간을 튜플의 형태로 입력받은 다음에, \n",
    "# 종료시간을 기준으로 오름차순 정렬한 다음, \n",
    "# 종료시간이 같을 떄는 시작시간을 기준으로 오름차순 정렬하도록 설정\n",
    "\n",
    "result = end_time = 0\n",
    "for start, end in time: # 이전 회의의 끝나는 시간이 회의의 시작시간보다 크면 그 회의를 배치함.\n",
    "    if start >= end_time:\n",
    "        result += 1\n",
    "        end_time = end # 이전 회의의 끝나는 시간 갱신\n",
    "\n",
    "print(f\"회의가 겹치지 않게 하면서 회의실을 사용할 수 있는 회의의 최대 개수는 {result}개이다\")"
   ]
  },
  {
   "cell_type": "code",
   "execution_count": null,
   "id": "373c90de",
   "metadata": {},
   "outputs": [],
   "source": [
    "# 입력 예시\n",
    "11\n",
    "1 4\n",
    "3 5\n",
    "0 6\n",
    "5 7\n",
    "3 8\n",
    "5 9\n",
    "6 10\n",
    "8 11\n",
    "8 12\n",
    "2 13\n",
    "12 14"
   ]
  },
  {
   "cell_type": "code",
   "execution_count": null,
   "id": "de9452fb",
   "metadata": {},
   "outputs": [],
   "source": []
  }
 ],
 "metadata": {
  "kernelspec": {
   "display_name": "practice",
   "language": "python",
   "name": "practice"
  },
  "language_info": {
   "codemirror_mode": {
    "name": "ipython",
    "version": 3
   },
   "file_extension": ".py",
   "mimetype": "text/x-python",
   "name": "python",
   "nbconvert_exporter": "python",
   "pygments_lexer": "ipython3",
   "version": "3.8.11"
  }
 },
 "nbformat": 4,
 "nbformat_minor": 5
}
