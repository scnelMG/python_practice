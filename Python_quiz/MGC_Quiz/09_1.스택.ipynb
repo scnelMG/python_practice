{
 "cells": [
  {
   "cell_type": "markdown",
   "id": "f586bef2",
   "metadata": {},
   "source": [
    "# 스택"
   ]
  },
  {
   "cell_type": "markdown",
   "id": "c587cc12",
   "metadata": {},
   "source": [
    "## 문제\n",
    "\n",
    "\n",
    "리스트를 사용하여 정수를 저장하는 스택을 구현하고, 입력으로 주어지는 명령을 처리하는 프로그램을 완성 해 보세요.\n",
    "\n",
    "push N : 스택에 정수 N을 저장한다.  \n",
    "pop : 스택에서 저장되어있는 정수를 빼내고, 해당 값을 출력한다.  \n",
    "top : 스택의 가장 위에 있는 정수를 출력한다.  \n",
    "bottom : 스택의 가장 아래에 있는 정수를 출력한다.  \n",
    "참조 : https://ko.wikipedia.org/wiki/스택"
   ]
  },
  {
   "cell_type": "code",
   "execution_count": 24,
   "id": "2befd7cf",
   "metadata": {},
   "outputs": [],
   "source": [
    "def push(N):\n",
    "    stack.append(N)\n",
    "    \n",
    "def pop():\n",
    "    print(stack[len(stack)-1])\n",
    "    stack.remove(stack[len(stack)-1])\n",
    "    \n",
    "def top():\n",
    "    print(stack[len(stack)-1])\n",
    "    \n",
    "def bottom():\n",
    "    print(stack[0])"
   ]
  },
  {
   "cell_type": "code",
   "execution_count": 25,
   "id": "03d05458",
   "metadata": {},
   "outputs": [
    {
     "name": "stdout",
     "output_type": "stream",
     "text": [
      "3\n",
      "1\n",
      "3\n",
      "2\n"
     ]
    }
   ],
   "source": [
    "stack = []\n",
    "push(1)\n",
    "push(2)\n",
    "push(3)\n",
    "top()\n",
    "bottom()\n",
    "pop()\n",
    "pop()"
   ]
  },
  {
   "cell_type": "code",
   "execution_count": null,
   "id": "ad5cebb9",
   "metadata": {},
   "outputs": [],
   "source": []
  }
 ],
 "metadata": {
  "kernelspec": {
   "display_name": "practice",
   "language": "python",
   "name": "practice"
  },
  "language_info": {
   "codemirror_mode": {
    "name": "ipython",
    "version": 3
   },
   "file_extension": ".py",
   "mimetype": "text/x-python",
   "name": "python",
   "nbconvert_exporter": "python",
   "pygments_lexer": "ipython3",
   "version": "3.8.11"
  }
 },
 "nbformat": 4,
 "nbformat_minor": 5
}
