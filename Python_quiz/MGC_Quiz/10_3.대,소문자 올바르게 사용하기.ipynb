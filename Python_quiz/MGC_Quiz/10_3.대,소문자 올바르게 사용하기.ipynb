{
 "cells": [
  {
   "cell_type": "markdown",
   "id": "8441a62c",
   "metadata": {},
   "source": [
    "# 대/소문자 올바르게 사용하기"
   ]
  },
  {
   "cell_type": "markdown",
   "id": "bae5a51c",
   "metadata": {},
   "source": [
    "## 문제\n",
    "\n",
    "\n",
    "여러 영어 문장을 입력받았을 때, 문장의 대소문자 사용을 올바르게 고치는 프로그램을 만들어보세요.\n",
    "\n",
    "조건 1 : 문장은 마침표(.)를 기준으로 구분됩니다.  \n",
    "조건 2 : 각 문장의 첫 번째 글자와, '나'를 뜻하는 단어 'I'는 무조건 대문자여야 합니다.  \n",
    "조건 3 : 이외의 글자는 소문자여야 합니다."
   ]
  },
  {
   "cell_type": "code",
   "execution_count": 36,
   "id": "893ca63f",
   "metadata": {},
   "outputs": [
    {
     "name": "stdout",
     "output_type": "stream",
     "text": [
      "문장을 입력해주세요: THe wEaTHer iS vERy CleaR TOdAy. i nEEd To go FoR a waLK.\n"
     ]
    }
   ],
   "source": [
    "sentence = input(\"문장을 입력해주세요:\").split('.')"
   ]
  },
  {
   "cell_type": "code",
   "execution_count": 43,
   "id": "a4d347fc",
   "metadata": {},
   "outputs": [
    {
     "name": "stdout",
     "output_type": "stream",
     "text": [
      "수정된 문장: The weather is very clear today. I need to go for a walk. "
     ]
    }
   ],
   "source": [
    "print(\"수정된 문장: \" , end = '')\n",
    "for i in range(len(sentence)-1):\n",
    "    sentence[i] = sentence[i].strip().capitalize()\n",
    "    print(sentence[i], end='. ')\n"
   ]
  },
  {
   "cell_type": "code",
   "execution_count": null,
   "id": "8fa1926f",
   "metadata": {},
   "outputs": [],
   "source": []
  }
 ],
 "metadata": {
  "kernelspec": {
   "display_name": "practice",
   "language": "python",
   "name": "practice"
  },
  "language_info": {
   "codemirror_mode": {
    "name": "ipython",
    "version": 3
   },
   "file_extension": ".py",
   "mimetype": "text/x-python",
   "name": "python",
   "nbconvert_exporter": "python",
   "pygments_lexer": "ipython3",
   "version": "3.8.11"
  }
 },
 "nbformat": 4,
 "nbformat_minor": 5
}
