{
 "cells": [
  {
   "cell_type": "markdown",
   "id": "df58cddc",
   "metadata": {},
   "source": [
    "# 반올림 계산기"
   ]
  },
  {
   "cell_type": "markdown",
   "id": "ec0c6e87",
   "metadata": {},
   "source": [
    "## 문제\n",
    "\n",
    "\n",
    "파이썬에 내장된 round() 함수를 이용하지 않고, 반올림 계산을 실행할 수 있는 코드를 작성해보세요.\n",
    "\n",
    "조건 1 : 소수 첫째 자리에서 반올림이 이루어집니다. (ex. 3.14 → 3 / 1.5 → 1)  \n",
    "조건 2 : 소수 첫째 자리가 0부터 4이면 버림,  5부터 9이면 올림을 합니다."
   ]
  },
  {
   "cell_type": "code",
   "execution_count": 45,
   "id": "dfed271a",
   "metadata": {},
   "outputs": [
    {
     "name": "stdout",
     "output_type": "stream",
     "text": [
      "숫자를 입력해주세요(양수만 입력해주세요): 1.45\n",
      "1.0\n"
     ]
    }
   ],
   "source": [
    "num = (input(\"숫자를 입력해주세요(양수만 입력해주세요): \"))\n",
    "\n",
    "if num.isnumeric() == True: # 정수인지 확인하고 정수면 입력 그래도 출력\n",
    "    print(num)\n",
    "\n",
    "elif float(num) < 0: # 음수인지 확인하고 음수이면 계산 안함\n",
    "    print(\"양수의 숫자를 입력해수제요\")\n",
    "    \n",
    "elif num.isnumeric() == False: # 반올림 계산\n",
    "    if float(num.split('.')[1][0]) >= 5:\n",
    "        print(float(num.split('.')[0]) +1)\n",
    "\n",
    "    else:\n",
    "        print(float(num.split('.')[0]))\n",
    "\n",
    "else:\n",
    "    print(\"숫자만 입력해주세요\")"
   ]
  },
  {
   "cell_type": "code",
   "execution_count": null,
   "id": "754cda05",
   "metadata": {},
   "outputs": [],
   "source": []
  }
 ],
 "metadata": {
  "kernelspec": {
   "display_name": "practice",
   "language": "python",
   "name": "practice"
  },
  "language_info": {
   "codemirror_mode": {
    "name": "ipython",
    "version": 3
   },
   "file_extension": ".py",
   "mimetype": "text/x-python",
   "name": "python",
   "nbconvert_exporter": "python",
   "pygments_lexer": "ipython3",
   "version": "3.8.11"
  }
 },
 "nbformat": 4,
 "nbformat_minor": 5
}
