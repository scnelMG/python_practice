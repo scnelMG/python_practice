{
 "cells": [
  {
   "cell_type": "markdown",
   "id": "6daf4878",
   "metadata": {},
   "source": [
    "# 소수만들기"
   ]
  },
  {
   "cell_type": "markdown",
   "id": "47a14285",
   "metadata": {},
   "source": [
    "## 문제\n",
    "\n",
    "\n",
    "양의 정수 N을 입력받아, N을 한자리씩 분해하고 조합하여 만들 수 있는 소수의 개수는 몇개인지 출력하세요."
   ]
  },
  {
   "cell_type": "code",
   "execution_count": 28,
   "id": "491af44e",
   "metadata": {},
   "outputs": [
    {
     "name": "stdout",
     "output_type": "stream",
     "text": [
      "양의 정수를 입력하세요:11\n"
     ]
    }
   ],
   "source": []
  },
  {
   "cell_type": "code",
   "execution_count": 119,
   "id": "35420dad",
   "metadata": {},
   "outputs": [],
   "source": [
    "# 소수 판별 함수\n",
    "def prime_number(x):\n",
    "    for i in range(2, x):\n",
    "        if x % i == 0:\n",
    "            return False \n",
    "    return True "
   ]
  },
  {
   "cell_type": "code",
   "execution_count": 141,
   "id": "fd929b67",
   "metadata": {},
   "outputs": [
    {
     "name": "stdout",
     "output_type": "stream",
     "text": [
      "양의 정수를 입력하세요:1243\n",
      "숫자 2134을 한자리씩 분해하여 얻은 숫자 조합은 [1, 2, 3, 4, 12, 13, 14, 21, 23, 24, 31, 32, 34, 41, 42, 43, 123, 124, 132, 134, 142, 143, 213, 214, 231, 234, 241, 243, 312, 314, 321, 324, 341, 342, 412, 413, 421, 423, 431, 432, 1234, 1243, 1324, 1342, 1423, 1432, 2134, 2143, 2314, 2341, 2413, 2431, 3124, 3142, 3214, 3241, 3412, 3421, 4123, 4132, 4213, 4231, 4312, 4321]입니다\n",
      "숫자 4321을 한자리씩 분해하여 얻은 숫자 조합 중 소수는 총 14개로, [2, 3, 13, 23, 31, 41, 43, 241, 421, 431, 1423, 2143, 2341, 4231]입니다.\n"
     ]
    }
   ],
   "source": [
    "number = input('양의 정수를 입력하세요:')\n",
    "\n",
    "nums = [] # 분해된 숫자 넣는 list\n",
    "num_list = [] # 분해된 숫자들로 만들 수 있는 모든 값 넣는 list\n",
    "\n",
    "for i in number: # 입력 값을 한자리씩 분해\n",
    "    nums.append(i)\n",
    "    num_list.append(i) # 한자리 수의 값을 num_list에 넣음\n",
    "        \n",
    "from itertools import permutations # 순열 사용을 위한 함수 불러오기\n",
    "for j in range(1, len(nums)): # 두자리 수 이상의 숫자 조합\n",
    "    case = list(permutations(nums, j+1)) # 순열 함수를 이용\n",
    "    case = list(map(''.join, case)) # tuple을 문자열로 변환\n",
    "    for j in case:\n",
    "        num_list.append(j)\n",
    "\n",
    "num_list = list(set(num_list)) # list 내의 중복된 값 제거\n",
    "\n",
    "for num in num_list:  \n",
    "    if num[0] == '0':  #0으로 시작하는 숫자는 필요없음(정수 변환시 방해), \n",
    "        if num == '0': # 0으로 시작하는 숫자 제거,\n",
    "            continue  # 0은 미포함\n",
    "        num_list.remove(num) \n",
    "        \n",
    "num_list = list(map(int, num_list)) # 문자열을 정수로 변환\n",
    "num_list.sort() # list 정렬\n",
    "print(f\"숫자 {num}을 한자리씩 분해하여 얻은 숫자 조합은 {num_list}입니다\")\n",
    "\n",
    "primes = []\n",
    "for num in num_list:\n",
    "    if num >=2 and prime_number(num) == True: # 2 이상의 수 이면서 소수인 수 찾기\n",
    "        primes.append(num)\n",
    "        \n",
    "print(f\"숫자 {num}을 한자리씩 분해하여 얻은 숫자 조합 중 소수는 총 {len(primes)}개로, {primes}입니다.\")"
   ]
  },
  {
   "cell_type": "code",
   "execution_count": 128,
   "id": "30308155",
   "metadata": {},
   "outputs": [
    {
     "data": {
      "text/plain": [
       "True"
      ]
     },
     "execution_count": 128,
     "metadata": {},
     "output_type": "execute_result"
    }
   ],
   "source": [
    "prime_number(1)"
   ]
  },
  {
   "cell_type": "code",
   "execution_count": 90,
   "id": "527d383f",
   "metadata": {},
   "outputs": [
    {
     "data": {
      "text/plain": [
       "['1', '7']"
      ]
     },
     "execution_count": 90,
     "metadata": {},
     "output_type": "execute_result"
    }
   ],
   "source": [
    "nums"
   ]
  },
  {
   "cell_type": "code",
   "execution_count": 135,
   "id": "66e0c369",
   "metadata": {},
   "outputs": [
    {
     "data": {
      "text/plain": [
       "[1, 10, 11, 101, 110]"
      ]
     },
     "execution_count": 135,
     "metadata": {},
     "output_type": "execute_result"
    }
   ],
   "source": []
  },
  {
   "cell_type": "code",
   "execution_count": null,
   "id": "fc8d5470",
   "metadata": {},
   "outputs": [],
   "source": []
  }
 ],
 "metadata": {
  "kernelspec": {
   "display_name": "practice",
   "language": "python",
   "name": "practice"
  },
  "language_info": {
   "codemirror_mode": {
    "name": "ipython",
    "version": 3
   },
   "file_extension": ".py",
   "mimetype": "text/x-python",
   "name": "python",
   "nbconvert_exporter": "python",
   "pygments_lexer": "ipython3",
   "version": "3.8.11"
  }
 },
 "nbformat": 4,
 "nbformat_minor": 5
}
