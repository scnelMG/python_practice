{
 "cells": [
  {
   "cell_type": "markdown",
   "id": "fc29c211",
   "metadata": {},
   "source": [
    "# 도형 별 넓이 계산기"
   ]
  },
  {
   "cell_type": "markdown",
   "id": "39209a80",
   "metadata": {},
   "source": [
    "## 문제\n",
    "\n",
    "\n",
    "메뉴에 있는 도형을 선택하고 길이를 입력받아 넓이를 구할 수 있는 코드를 작성해보세요.\n",
    "\n",
    "조건 1 : 도형은 원, 삼각형, 직사각형, 정사각형이 존재합니다.  \n",
    "조건 2 : 도형의 넓이 계산은 무조건 함수로 정의되어야 합니다.  \n",
    "조건 3 : 도형 별로 필요한 길이를 입력받아야 합니다.  \n",
    "원 → 반지름  \n",
    "삼각형 → 밑변 , 높이  \n",
    "직사각형 → 가로, 세로  \n",
    "정사각형 → 한 변의 길이  \n",
    " \n",
    "\n",
    "[참고] 도형 넓이 계산 공식\n",
    "\n",
    "(원 넓이 공식) : 반지름 * 반지름 * 원주율(3.1415)  \n",
    "(삼각형 넓이 공식) : 밑변 * 높이 / 2  \n",
    "(직사각형 넓이 공식) : 가로 * 세로  \n",
    "(정사각형 넓이 공식) : (한 변 길이) * (한 변 길이)"
   ]
  },
  {
   "cell_type": "code",
   "execution_count": null,
   "id": "21ee9f68",
   "metadata": {},
   "outputs": [],
   "source": [
    "# 원 넓이 함수 정의\n",
    "def circle(r):\n",
    "    area = round(r * r * 3.1415, 4)\n",
    "    return area\n",
    "\n",
    "# 삼각형 넓이 함수 정의\n",
    "def triangle(base, height):\n",
    "    area = round((base * height) / 2, 4)\n",
    "    return area\n",
    "\n",
    "# 직사각형 넓이 함수 정의\n",
    "def rectangle(width, height):\n",
    "    area = round(width * height, 4)\n",
    "    return area\n",
    "\n",
    "# 정사각형 넓이 함수 정의\n",
    "def square(side):\n",
    "    area = round(side * side, 4)\n",
    "    return area"
   ]
  },
  {
   "cell_type": "code",
   "execution_count": 3,
   "id": "f19fbb73",
   "metadata": {},
   "outputs": [
    {
     "name": "stdout",
     "output_type": "stream",
     "text": [
      "==========도형 목록==========\n",
      "1. 원\n",
      "2. 삼각형\n",
      "3. 직사각형\n",
      "4. 정사각형\n",
      "=============================\n"
     ]
    }
   ],
   "source": [
    "print(\"==========도형 목록==========\\n1. 원\\n2. 삼각형\\n3. 직사각형\\n4. 정사각형\\n=============================\")"
   ]
  },
  {
   "cell_type": "code",
   "execution_count": 35,
   "id": "53c8defe",
   "metadata": {},
   "outputs": [
    {
     "name": "stdout",
     "output_type": "stream",
     "text": [
      "도형 목록에서 넓이를 계산할 도형의 번호를 입력해주세요: 4\n",
      "정사각형의 한 변의 길이를 입력해주세요:1.4\n",
      "한 변의 길이가 1.4인 정사각형의 넓이는 1.96입니다.\n"
     ]
    }
   ],
   "source": [
    "# 넓이를 구하고 싶은  도형 선택\n",
    "num = int(input(\"도형 목록에서 넓이를 계산할 도형의 번호를 입력해주세요: \"))\n",
    "\n",
    "if num == 1:\n",
    "    r = float(input(\"원의 반지름 길이를 입력해주세요:\"))\n",
    "    area = circle(r)\n",
    "    print(f\"반지름이 {r}인 원의 넓이는 {area}입니다.\")\n",
    "        \n",
    "elif num == 2:\n",
    "    base = float(input(\"삼각형의 밑변 길이를 입력해주세요:\"))\n",
    "    height = float(input(\"삼각형의 높이 길이를 입력해주세요:\"))\n",
    "    area = triangle(base, height)\n",
    "    print(f\"밑변이 {base}이고 높이가 {height}인 삼각형의 넓이는 {area}입니다.\")\n",
    "\n",
    "elif num == 3:\n",
    "    width = float(input(\"직사각형의 가로 길이를 입력해주세요:\"))\n",
    "    height = float(input(\"직사각형의 높이 길이를 입력해주세요:\"))\n",
    "    area = rectangle(width, height)\n",
    "    print(f\"가로가 {width}이고 세로가 {height}인 직사각형의 넓이는 {area}입니다.\")\n",
    "\n",
    "elif num == 4:\n",
    "    side = float(input(\"정사각형의 한 변의 길이를 입력해주세요:\"))\n",
    "    area = square(side)\n",
    "    print(f\"한 변의 길이가 {side}인 정사각형의 넓이는 {area}입니다.\")\n",
    "\n",
    "else:\n",
    "    print(\"번호를 제대로 입력해주세요.\")"
   ]
  },
  {
   "cell_type": "code",
   "execution_count": null,
   "id": "b9e71ac6",
   "metadata": {},
   "outputs": [],
   "source": []
  }
 ],
 "metadata": {
  "kernelspec": {
   "display_name": "practice",
   "language": "python",
   "name": "practice"
  },
  "language_info": {
   "codemirror_mode": {
    "name": "ipython",
    "version": 3
   },
   "file_extension": ".py",
   "mimetype": "text/x-python",
   "name": "python",
   "nbconvert_exporter": "python",
   "pygments_lexer": "ipython3",
   "version": "3.8.11"
  }
 },
 "nbformat": 4,
 "nbformat_minor": 5
}
