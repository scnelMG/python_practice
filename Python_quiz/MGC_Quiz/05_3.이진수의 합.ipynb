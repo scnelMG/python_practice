{
 "cells": [
  {
   "cell_type": "markdown",
   "id": "a4d9ebe4",
   "metadata": {},
   "source": [
    "# 이진수의 합"
   ]
  },
  {
   "cell_type": "markdown",
   "id": "a985ea3f",
   "metadata": {},
   "source": [
    "## 문제\n",
    "\n",
    "\n",
    "이진수 덧셈은 십진수보다 매우 간단합니다.\n",
    "\n",
    "아래 규칙을 가지고 입력받은 A, B 두 이진수의 합을 이진수로 표현 해 보세요.\n",
    "\n",
    "0 + 0 = 0  \n",
    "1 + 0 = 1  \n",
    "0 + 1 = 1  \n",
    "1 + 1 = 10  \n",
    "1 + 1 + 1 = 11\n"
   ]
  },
  {
   "cell_type": "code",
   "execution_count": 1,
   "id": "5da69e8d",
   "metadata": {
    "scrolled": true
   },
   "outputs": [
    {
     "name": "stdout",
     "output_type": "stream",
     "text": [
      "이진수 두개를 공백을 띄우고 입력하시오: 1001101 10010\n"
     ]
    }
   ],
   "source": [
    "num = input(\"이진수 두개를 공백을 띄우고 입력하시오: \").split()"
   ]
  },
  {
   "cell_type": "code",
   "execution_count": 32,
   "id": "c8172a7d",
   "metadata": {},
   "outputs": [
    {
     "name": "stdout",
     "output_type": "stream",
     "text": [
      "1011111\n"
     ]
    }
   ],
   "source": [
    "num1 = int(num[0], 2) # 이진수를 십진수로 변환\n",
    "num2 = int(num[1], 2)\n",
    "\n",
    "result = num1 + num2 # 십진수 상태에서 더함\n",
    "print(bin(result)[2:]) # 십진수를 이진수로 변환 (bin 함수 이용)"
   ]
  },
  {
   "cell_type": "code",
   "execution_count": null,
   "id": "dc3efb06",
   "metadata": {},
   "outputs": [],
   "source": []
  }
 ],
 "metadata": {
  "kernelspec": {
   "display_name": "practice",
   "language": "python",
   "name": "practice"
  },
  "language_info": {
   "codemirror_mode": {
    "name": "ipython",
    "version": 3
   },
   "file_extension": ".py",
   "mimetype": "text/x-python",
   "name": "python",
   "nbconvert_exporter": "python",
   "pygments_lexer": "ipython3",
   "version": "3.8.11"
  }
 },
 "nbformat": 4,
 "nbformat_minor": 5
}
