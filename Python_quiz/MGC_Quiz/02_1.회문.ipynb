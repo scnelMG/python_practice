{
 "cells": [
  {
   "cell_type": "markdown",
   "id": "ab61c11b",
   "metadata": {},
   "source": [
    "# 회문"
   ]
  },
  {
   "cell_type": "markdown",
   "id": "66f8de82",
   "metadata": {},
   "source": [
    "## 회문\n",
    "\n",
    "문제\n",
    "\n",
    "\n",
    "회문은 순서대로 읽어도, 거꾸로 읽어도 그 내용이 같은 문장을 말합니다.\n",
    "\n",
    "예를 들어 '기러기', '토마토', 'wow', 'level'등의 단어는 회문입니다.\n",
    "\n",
    "단어를 입력했을 때 해당 단어가 회문인지 판단하는 프로그램을 작성해주세요.\n",
    "\n"
   ]
  },
  {
   "cell_type": "code",
   "execution_count": 42,
   "id": "a690bcf2",
   "metadata": {},
   "outputs": [],
   "source": [
    "def palindrome(word):\n",
    "    \n",
    "    if len(word) == 1:\n",
    "        print(\"두 글자 이상의 단어를 입력해주세요\")\n",
    "    \n",
    "    else:\n",
    "        for i in range(0,len(word)//2):\n",
    "            if word[i] != word[-i-1]:\n",
    "                print(f\"{word}는 회문이 아닙니다.\")\n",
    "                break\n",
    "        else:\n",
    "            print(f\"{word}는 회문입니다.\")"
   ]
  },
  {
   "cell_type": "code",
   "execution_count": 47,
   "id": "e9ddb0ef",
   "metadata": {},
   "outputs": [
    {
     "name": "stdout",
     "output_type": "stream",
     "text": [
      "단어를 입력해주세요:가ss가\n",
      "가ss가는 회문입니다.\n"
     ]
    }
   ],
   "source": [
    "word = str(input(\"단어를 입력해주세요:\"))\n",
    "\n",
    "palindrome(word)"
   ]
  },
  {
   "cell_type": "code",
   "execution_count": null,
   "id": "bd55a85d",
   "metadata": {},
   "outputs": [],
   "source": []
  }
 ],
 "metadata": {
  "kernelspec": {
   "display_name": "practice",
   "language": "python",
   "name": "practice"
  },
  "language_info": {
   "codemirror_mode": {
    "name": "ipython",
    "version": 3
   },
   "file_extension": ".py",
   "mimetype": "text/x-python",
   "name": "python",
   "nbconvert_exporter": "python",
   "pygments_lexer": "ipython3",
   "version": "3.8.11"
  }
 },
 "nbformat": 4,
 "nbformat_minor": 5
}
