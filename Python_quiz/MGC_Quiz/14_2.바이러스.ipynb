{
 "cells": [
  {
   "cell_type": "markdown",
   "id": "01997274",
   "metadata": {},
   "source": [
    "# 바이러스"
   ]
  },
  {
   "attachments": {
    "image.png": {
     "image/png": "[encoded data removed]"
    }
   },
   "cell_type": "markdown",
   "id": "5cf2c777",
   "metadata": {},
   "source": [
    "## 문제\n",
    "한국의 한 연구소에서는 바이러스를 연구하고있습니다.\n",
    "\n",
    "이 바이러스는 아래와 같은 격자모양의 상자에 넣어서 보관하고 있습니다.\n",
    "\n",
    "![image.png](attachment:image.png)\n",
    "\n",
    "바이러스는 이 격자에 보관되며, 하루가 지나면 바이러스의 상, 하, 좌, 우에 있는 칸이 바이러스에 오염됩니다.\n",
    "\n",
    "바이러스는 검은색 벽을 통과할 수 없고, 대각선에는 영향을 미치지 못한다고 할 때 모든 격자가 바이러스에 감염되는 최소 일수를 구하세요.\n",
    "\n",
    "입력은 격자의 가로 칸 수 N과 세로 칸 수 M이 첫줄에,  \n",
    "둘째 줄 부터 N개의 줄에는 상자의 상태에 대한 정보가 입력되며, 바이러스는 1, 격자는 0, 벽은 -1로 표현된다."
   ]
  },
  {
   "cell_type": "code",
   "execution_count": null,
   "id": "7193c3bb",
   "metadata": {},
   "outputs": [],
   "source": [
    "# 입력 예시\n",
    "4 6\n",
    "1 -1 0 0 0 0\n",
    "0 -1 0 0 0 0\n",
    "0 0 0 0 -1 0\n",
    "0 0 0 0 -1 1"
   ]
  },
  {
   "cell_type": "code",
   "execution_count": 263,
   "id": "e79c7b95",
   "metadata": {},
   "outputs": [
    {
     "name": "stdout",
     "output_type": "stream",
     "text": [
      "격자의 가로 칸 수(N)와 세로 칸 수(M)을 공백을 가지고 입력하세요4 6\n",
      "5번째 행의 값들을 공백을 가지고 입력하세요(세로 칸 수 6개)1 -1 0 0 0 0\n",
      "5번째 행의 값들을 공백을 가지고 입력하세요(세로 칸 수 6개)0 -1 0 0 0 0\n",
      "5번째 행의 값들을 공백을 가지고 입력하세요(세로 칸 수 6개)0 0 0 0 -1 0\n",
      "5번째 행의 값들을 공백을 가지고 입력하세요(세로 칸 수 6개)0 0 0 0 -1 1\n",
      "[[' ', ' ', ' ', ' ', ' ', ' ', ' ', ' '], [' ', '1', '-1', '0', '0', '0', '0', ' '], [' ', '0', '-1', '0', '0', '0', '0', ' '], [' ', '0', '0', '0', '0', '-1', '0', ' '], [' ', '0', '0', '0', '0', '-1', '1', ' '], [' ', ' ', ' ', ' ', ' ', ' ', ' ', ' ']]\n"
     ]
    }
   ],
   "source": [
    "N, M = map(int, input(\"격자의 가로 칸 수(N)와 세로 칸 수(M)을 공백을 가지고 입력하세요\").split())\n",
    "\n",
    "num_list = [] # 값들이 들어간 격자 테두리에 공백(' ')의 값을 가진 원소를 넣음\n",
    "for i in range(N): \n",
    "    num_list.append([])\n",
    "    num_list[i].append(' ')\n",
    "    column = input(f\"{N+1}번째 행의 값들을 공백을 가지고 입력하세요(세로 칸 수 {M}개)\").split()\n",
    "    for j in range(M):\n",
    "        num_list[i].append(column[j])\n",
    "    num_list[i].append(' ')\n",
    "gap = [' '] * (M+2)     \n",
    "num_list.insert(0, gap)\n",
    "num_list.append(gap)\n",
    "\n",
    "print(num_list)"
   ]
  },
  {
   "cell_type": "code",
   "execution_count": 264,
   "id": "965ca7a4",
   "metadata": {},
   "outputs": [
    {
     "name": "stdout",
     "output_type": "stream",
     "text": [
      "바이러스가 모든 격자를 감염시키는 최소 일수는 6일 입니다.\n"
     ]
    }
   ],
   "source": [
    "day = 0 # 최소 일수를 나타내는 변수\n",
    "\n",
    "# 읽은 값이 1일때 상, 하, 좌, 우의 값들이 0이면 1로 바꿈\n",
    "# 처음부터 끝까지 한번씩 읽는 거를 반복한다.\n",
    "# 그런데 한번의 반복이 끝나지 않는 상황에서 값을 읽다가 1로 새롭게 바뀐 값 주변을 또 1로 바꾸는 경우가 발생\n",
    "# 따라서 바로 1로 바꾸는게 아닌, 임시로 k값으로 바꾼뒤,\n",
    "# 처음부터 끝까지 한번씩 읽는 것을 완료하면 k값을 다시 1로 바꿈\n",
    "\n",
    "while True:\n",
    "    for i in range(N): # 값이 담긴 격자(N X M) 모두를 읽음\n",
    "        for j in range(M):\n",
    "            if num_list[i+1][j+1] == '1': # 읽은 값이 1일때\n",
    "                # 읽은 값의 위쪽이 0일때 k로 바꿈\n",
    "                if num_list[i][j+1] == '0':\n",
    "                    num_list[i][j+1] = 'k'\n",
    "                # 읽은 값의 아래쪽이 0일때 k로 바꿈\n",
    "                if num_list[i+2][j+1] == '0':\n",
    "                    num_list[i+2][j+1] = 'k'\n",
    "                # 읽은 값의 왼쪽이 0일때 k로 바꿈\n",
    "                if num_list[i+1][j] == '0':\n",
    "                    num_list[i+1][j] = 'k'\n",
    "                # 읽은 값의 오른쪽이 0일때 k로 바꿈\n",
    "                if num_list[i+1][j+2] == '0':\n",
    "                    num_list[i+1][j+2] = 'k'\n",
    "    # 처음부터 끝까지 읽는 것을 완료 후 k값을 1로 바꿈\n",
    "    for i in range(N):\n",
    "        for j in range(M):\n",
    "            if num_list[i+1][j+1] == 'k':\n",
    "                num_list[i+1][j+1] = '1'              \n",
    "    day += 1 \n",
    "    \n",
    "    # 모든 행에 0이 없다면 종료\n",
    "    test = 0\n",
    "    for i in range(N):\n",
    "        if '0' not in  num_list[i+1]:\n",
    "            test += 1\n",
    "    if test == N:\n",
    "        break\n",
    "\n",
    "print(f\"바이러스가 모든 격자를 감염시키는 최소 일수는 {day}일 입니다.\")"
   ]
  }
 ],
 "metadata": {
  "kernelspec": {
   "display_name": "practice",
   "language": "python",
   "name": "practice"
  },
  "language_info": {
   "codemirror_mode": {
    "name": "ipython",
    "version": 3
   },
   "file_extension": ".py",
   "mimetype": "text/x-python",
   "name": "python",
   "nbconvert_exporter": "python",
   "pygments_lexer": "ipython3",
   "version": "3.8.11"
  }
 },
 "nbformat": 4,
 "nbformat_minor": 5
}
