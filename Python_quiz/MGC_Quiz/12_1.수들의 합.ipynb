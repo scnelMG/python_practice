{
 "cells": [
  {
   "cell_type": "markdown",
   "id": "9aabe136",
   "metadata": {},
   "source": [
    "# 수들의 합"
   ]
  },
  {
   "cell_type": "markdown",
   "id": "e3f7a877",
   "metadata": {},
   "source": [
    "## 문제\n",
    "\n",
    "\n",
    "N개의 수로 된 수열 A[1], A[2], …, A[N] 이 있습니다. \n",
    "\n",
    "이 수열의 i번째 수부터 j번째 수까지의 합 A[i] + A[i+1] + … + A[j-1] + A[j]가 M이 되는 경우의 수를 출력 해 보세요.\n",
    "\n",
    "첫째 줄에 N과 M이 주어진다. 다음줄에는 수열 A가 공백으로 분리되어 주어진다."
   ]
  },
  {
   "cell_type": "code",
   "execution_count": 51,
   "id": "0dd01add",
   "metadata": {},
   "outputs": [
    {
     "name": "stdout",
     "output_type": "stream",
     "text": [
      "수열의 원소 개수(N)와 목표 수(M)을 공백을 두고 입력하세요:4 2\n",
      "수열을 입력하세요(원소의 개수:4개)1 1 1 1\n",
      "1번쨰 숫자부터 2번쨰 숫자까지의 합이 목표 값인 2입니다\n",
      "2번쨰 숫자부터 3번쨰 숫자까지의 합이 목표 값인 2입니다\n",
      "3번쨰 숫자부터 4번쨰 숫자까지의 합이 목표 값인 2입니다\n",
      "총 경우의 수는 3개 입니다.\n"
     ]
    }
   ],
   "source": [
    "N, M = map(int, input(\"수열의 원소 개수(N)와 목표 수(M)을 공백을 두고 입력하세요:\").split())\n",
    "nums = list(map(int, input(f\"수열을 입력하세요(원소의 개수:{N}개)\").split()))\n",
    "\n",
    "result = 0\n",
    "\n",
    "for i in range(N): \n",
    "    sum = nums[i]\n",
    "    j = 0\n",
    "    while sum < M and i + j + 1 <= N-1 : # 합이 목표값보다 작을동안, 수열의 마지막 원소까지\n",
    "        sum += nums[i + j + 1] #  바로 다음 원소를 더함\n",
    "        j += 1\n",
    "            \n",
    "    if sum == M: # 합이 목표값과 같으면 결과값 출력\n",
    "        if j == 0:\n",
    "             print(f\"{i+1}번쨰 숫자가 목표 값인 {M}입니다.\")\n",
    "        else:\n",
    "            print(f\"{i+1}번쨰 숫자부터 {i+j+1}번쨰 숫자까지의 합이 목표 값인 {M}입니다\")\n",
    "        result += 1\n",
    "    \n",
    "print(f\"총 경우의 수는 {result}개 입니다.\")            "
   ]
  },
  {
   "cell_type": "code",
   "execution_count": null,
   "id": "9af9c25b",
   "metadata": {},
   "outputs": [],
   "source": []
  }
 ],
 "metadata": {
  "kernelspec": {
   "display_name": "practice",
   "language": "python",
   "name": "practice"
  },
  "language_info": {
   "codemirror_mode": {
    "name": "ipython",
    "version": 3
   },
   "file_extension": ".py",
   "mimetype": "text/x-python",
   "name": "python",
   "nbconvert_exporter": "python",
   "pygments_lexer": "ipython3",
   "version": "3.8.11"
  }
 },
 "nbformat": 4,
 "nbformat_minor": 5
}
