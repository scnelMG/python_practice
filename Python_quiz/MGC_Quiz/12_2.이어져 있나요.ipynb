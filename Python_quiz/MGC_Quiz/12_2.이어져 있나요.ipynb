{
 "cells": [
  {
   "cell_type": "markdown",
   "id": "1e699666",
   "metadata": {},
   "source": [
    "# 이어져 있나요?"
   ]
  },
  {
   "cell_type": "markdown",
   "id": "43d0abf2",
   "metadata": {},
   "source": [
    "## 문제\n",
    "\n",
    "\n",
    "가중치 없는 방향그래프 G가 주어졌을 때, 모든 정점 (i , j)에 대해 i에서 j로 가는 경로가 있는지 없는지 출력 해 보세요.\n",
    "\n",
    "첫째 줄에 정점의 개수 N이 주어진다.  \n",
    "둘째 줄 부터 N개 줄에는 그래프의 인접 행렬이 주어진다.   \n",
    "i번째 줄 j번째 수가 1이라면 i에서 j로 가는 길이 존재한다는 뜻이고, 0인 경우는 없다는 뜻이다.  "
   ]
  },
  {
   "cell_type": "code",
   "execution_count": 2,
   "id": "2f5c3836",
   "metadata": {},
   "outputs": [
    {
     "name": "stdout",
     "output_type": "stream",
     "text": [
      "정점의 개수(N)을 입력하세요((N X N)행렬):3\n"
     ]
    }
   ],
   "source": [
    "num = int(input(\"정점의 개수(N)을 입력하세요((N X N)행렬):\"))\n"
   ]
  },
  {
   "cell_type": "code",
   "execution_count": null,
   "id": "118c1fd6",
   "metadata": {},
   "outputs": [],
   "source": []
  }
 ],
 "metadata": {
  "kernelspec": {
   "display_name": "practice",
   "language": "python",
   "name": "practice"
  },
  "language_info": {
   "codemirror_mode": {
    "name": "ipython",
    "version": 3
   },
   "file_extension": ".py",
   "mimetype": "text/x-python",
   "name": "python",
   "nbconvert_exporter": "python",
   "pygments_lexer": "ipython3",
   "version": "3.8.11"
  }
 },
 "nbformat": 4,
 "nbformat_minor": 5
}
