{
 "cells": [
  {
   "cell_type": "markdown",
   "id": "1aee47fd",
   "metadata": {},
   "source": [
    "# 점수에 따른 등급과 평균"
   ]
  },
  {
   "cell_type": "markdown",
   "id": "639bb119",
   "metadata": {},
   "source": [
    "## 문제\n",
    "\n",
    "\n",
    "시험 점수를 입력받고, 그에 따른 등급과 총 평균을 계산하는 프로그램을 작성해주세요.\n",
    "\n",
    "조건 1 : 시험 점수는 0에서 100점 사이입니다.  \n",
    "조건 2 : 점수당 등급은 다음과 같습니다.  \n",
    "90이상 100이하 : A  \n",
    "80이상 90미만 : B  \n",
    "70이상 80미만 : C  \n",
    "60이상 70미만 : D  \n",
    "60미만 : F"
   ]
  },
  {
   "cell_type": "code",
   "execution_count": 7,
   "id": "2a20a510",
   "metadata": {},
   "outputs": [
    {
     "name": "stdout",
     "output_type": "stream",
     "text": [
      "총 과목의 수를 입력해주세요: 5\n",
      "과목 이름을 입력해주세요: 국어\n",
      "시험 점수를 입력해주세요: 90\n",
      "국어의 등급은 A입니다.\n",
      "과목 이름을 입력해주세요: 수학\n",
      "시험 점수를 입력해주세요: 70\n",
      "수학의 등급은 C입니다.\n",
      "과목 이름을 입력해주세요: 국어\n",
      "시험 점수를 입력해주세요: 99\n",
      "국어의 등급은 A입니다.\n",
      "과목 이름을 입력해주세요: 영어\n",
      "시험 점수를 입력해주세요: 32\n",
      "영어의 등급은 F입니다.\n",
      "과목 이름을 입력해주세요: 과학\n",
      "시험 점수를 입력해주세요: 97\n",
      "과학의 등급은 A입니다.\n",
      "시험의 총 평균은 77.6 입니다.\n"
     ]
    }
   ],
   "source": [
    "num = int(input(\"총 과목의 수를 입력해주세요: \"))\n",
    "score_sum = 0\n",
    "for i in range(num):\n",
    "    subject =  input(\"과목 이름을 입력해주세요: \")\n",
    "    score = int(input(\"시험 점수를 입력해주세요: \"))\n",
    "    if 100 >= score >= 90:\n",
    "            print(f\"{subject}의 등급은 A입니다.\")\n",
    "    elif 90 > score >= 80:\n",
    "        print(f\"{subject}의 등급은 B입니다.\")\n",
    "    elif 80 > score >= 70:\n",
    "        print(f\"{subject}의 등급은 C입니다.\")\n",
    "    elif 70 > score >= 60:\n",
    "        print(f\"{subject}의 등급은 D입니다.\")\n",
    "    else:\n",
    "        print(f\"{subject}의 등급은 F입니다.\")\n",
    "    score_sum += score\n",
    "\n",
    "print(f\"시험의 총 평균은 {score_sum/num} 입니다.\")"
   ]
  },
  {
   "cell_type": "code",
   "execution_count": null,
   "id": "f7b11588",
   "metadata": {},
   "outputs": [],
   "source": []
  }
 ],
 "metadata": {
  "kernelspec": {
   "display_name": "practice",
   "language": "python",
   "name": "practice"
  },
  "language_info": {
   "codemirror_mode": {
    "name": "ipython",
    "version": 3
   },
   "file_extension": ".py",
   "mimetype": "text/x-python",
   "name": "python",
   "nbconvert_exporter": "python",
   "pygments_lexer": "ipython3",
   "version": "3.8.11"
  }
 },
 "nbformat": 4,
 "nbformat_minor": 5
}
