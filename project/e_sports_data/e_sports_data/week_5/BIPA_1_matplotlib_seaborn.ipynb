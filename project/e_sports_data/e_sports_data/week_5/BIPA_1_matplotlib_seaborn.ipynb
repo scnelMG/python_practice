{
 "cells": [
  {
   "cell_type": "code",
   "execution_count": null,
   "id": "914be5d4",
   "metadata": {},
   "outputs": [],
   "source": [
    "!pip install seaborn"
   ]
  },
  {
   "cell_type": "code",
   "execution_count": 2,
   "id": "d2276612",
   "metadata": {},
   "outputs": [],
   "source": [
    "import pandas as pd \n",
    "import numpy as np \n",
    "import matplotlib.pyplot as plt \n",
    "import seaborn as sns"
   ]
  },
  {
   "cell_type": "code",
   "execution_count": 3,
   "id": "660c67cd",
   "metadata": {
    "scrolled": true
   },
   "outputs": [
    {
     "data": {
      "image/png": "[encoded data removed]",
      "text/plain": [
       "<Figure size 432x288 with 1 Axes>"
      ]
     },
     "metadata": {
      "needs_background": "light"
     },
     "output_type": "display_data"
    }
   ],
   "source": [
    "plt.plot([1, 2, 3, 5, 8])\n",
    "plt.ylabel('numbers')\n",
    "plt.xlabel('0 to 4')\n",
    "plt.show()"
   ]
  },
  {
   "cell_type": "code",
   "execution_count": 3,
   "id": "fa87dec0",
   "metadata": {},
   "outputs": [
    {
     "data": {
      "text/plain": [
       "Text(0.5, 0.98, 'Categorical Plotting')"
      ]
     },
     "execution_count": 3,
     "metadata": {},
     "output_type": "execute_result"
    },
    {
     "data": {
      "image/png": "[encoded data removed]",
      "text/plain": [
       "<Figure size 864x288 with 3 Axes>"
      ]
     },
     "metadata": {
      "needs_background": "light"
     },
     "output_type": "display_data"
    }
   ],
   "source": [
    "alphabet = ['a', 'b', 'c']\n",
    "values = [1, 50, 100]\n",
    "\n",
    "plt.figure(figsize=(12, 4)) # \n",
    "\n",
    "plt.subplot(131)\n",
    "plt.bar(alphabet, values)\n",
    "plt.subplot(1,3,2)\n",
    "plt.scatter(alphabet, values)\n",
    "plt.subplot(133)\n",
    "plt.plot(alphabet, values)\n",
    "plt.suptitle('Categorical Plotting')"
   ]
  },
  {
   "cell_type": "code",
   "execution_count": 4,
   "id": "2773aae2",
   "metadata": {},
   "outputs": [],
   "source": [
    "data = pd.read_csv(\"BIPA_data.csv\")"
   ]
  },
  {
   "cell_type": "code",
   "execution_count": 7,
   "id": "dde0395f",
   "metadata": {},
   "outputs": [
    {
     "data": {
      "text/html": [
       "<div>\n",
       "<style scoped>\n",
       "    .dataframe tbody tr th:only-of-type {\n",
       "        vertical-align: middle;\n",
       "    }\n",
       "\n",
       "    .dataframe tbody tr th {\n",
       "        vertical-align: top;\n",
       "    }\n",
       "\n",
       "    .dataframe thead th {\n",
       "        text-align: right;\n",
       "    }\n",
       "</style>\n",
       "<table border=\"1\" class=\"dataframe\">\n",
       "  <thead>\n",
       "    <tr style=\"text-align: right;\">\n",
       "      <th></th>\n",
       "      <th>Unnamed: 0</th>\n",
       "      <th>gameId</th>\n",
       "      <th>createDate</th>\n",
       "      <th>tierRank</th>\n",
       "      <th>position</th>\n",
       "      <th>teamId</th>\n",
       "      <th>summonerId</th>\n",
       "      <th>championId</th>\n",
       "      <th>result</th>\n",
       "      <th>level</th>\n",
       "      <th>...</th>\n",
       "      <th>totalDamageTaken</th>\n",
       "      <th>neutralMinionsKilledEnemyJungle</th>\n",
       "      <th>neutralMinionsKilledTeamJungle</th>\n",
       "      <th>visionScore</th>\n",
       "      <th>damageSelfMitigated</th>\n",
       "      <th>damageDealtToObjectives</th>\n",
       "      <th>damageDealtToTurrets</th>\n",
       "      <th>lane</th>\n",
       "      <th>gameLength</th>\n",
       "      <th>version</th>\n",
       "    </tr>\n",
       "  </thead>\n",
       "  <tbody>\n",
       "    <tr>\n",
       "      <th>0</th>\n",
       "      <td>0</td>\n",
       "      <td>5383880006</td>\n",
       "      <td>2021-08-11 06:59:31</td>\n",
       "      <td>P318</td>\n",
       "      <td>S</td>\n",
       "      <td>200</td>\n",
       "      <td>3210877</td>\n",
       "      <td>99</td>\n",
       "      <td>WIN</td>\n",
       "      <td>10</td>\n",
       "      <td>...</td>\n",
       "      <td>3602</td>\n",
       "      <td>0</td>\n",
       "      <td>0</td>\n",
       "      <td>11</td>\n",
       "      <td>2830</td>\n",
       "      <td>2181</td>\n",
       "      <td>2181</td>\n",
       "      <td>NONE</td>\n",
       "      <td>972</td>\n",
       "      <td>11.16.390.1945</td>\n",
       "    </tr>\n",
       "    <tr>\n",
       "      <th>1</th>\n",
       "      <td>1</td>\n",
       "      <td>5383880006</td>\n",
       "      <td>2021-08-11 06:59:31</td>\n",
       "      <td>P466</td>\n",
       "      <td>S</td>\n",
       "      <td>100</td>\n",
       "      <td>7550211</td>\n",
       "      <td>35</td>\n",
       "      <td>LOSE</td>\n",
       "      <td>8</td>\n",
       "      <td>...</td>\n",
       "      <td>5077</td>\n",
       "      <td>0</td>\n",
       "      <td>2</td>\n",
       "      <td>24</td>\n",
       "      <td>2013</td>\n",
       "      <td>0</td>\n",
       "      <td>0</td>\n",
       "      <td>NONE</td>\n",
       "      <td>972</td>\n",
       "      <td>11.16.390.1945</td>\n",
       "    </tr>\n",
       "    <tr>\n",
       "      <th>2</th>\n",
       "      <td>2</td>\n",
       "      <td>5383880006</td>\n",
       "      <td>2021-08-11 06:59:31</td>\n",
       "      <td>P329</td>\n",
       "      <td>M</td>\n",
       "      <td>200</td>\n",
       "      <td>9306696</td>\n",
       "      <td>266</td>\n",
       "      <td>WIN</td>\n",
       "      <td>11</td>\n",
       "      <td>...</td>\n",
       "      <td>11029</td>\n",
       "      <td>0</td>\n",
       "      <td>0</td>\n",
       "      <td>15</td>\n",
       "      <td>6158</td>\n",
       "      <td>585</td>\n",
       "      <td>585</td>\n",
       "      <td>NONE</td>\n",
       "      <td>972</td>\n",
       "      <td>11.16.390.1945</td>\n",
       "    </tr>\n",
       "    <tr>\n",
       "      <th>3</th>\n",
       "      <td>3</td>\n",
       "      <td>5383880006</td>\n",
       "      <td>2021-08-11 06:59:31</td>\n",
       "      <td>P461</td>\n",
       "      <td>T</td>\n",
       "      <td>200</td>\n",
       "      <td>20281103</td>\n",
       "      <td>92</td>\n",
       "      <td>WIN</td>\n",
       "      <td>11</td>\n",
       "      <td>...</td>\n",
       "      <td>9944</td>\n",
       "      <td>0</td>\n",
       "      <td>0</td>\n",
       "      <td>10</td>\n",
       "      <td>7615</td>\n",
       "      <td>2318</td>\n",
       "      <td>2318</td>\n",
       "      <td>NONE</td>\n",
       "      <td>972</td>\n",
       "      <td>11.16.390.1945</td>\n",
       "    </tr>\n",
       "    <tr>\n",
       "      <th>4</th>\n",
       "      <td>4</td>\n",
       "      <td>5383880006</td>\n",
       "      <td>2021-08-11 06:59:31</td>\n",
       "      <td>P30</td>\n",
       "      <td>A</td>\n",
       "      <td>200</td>\n",
       "      <td>26082075</td>\n",
       "      <td>22</td>\n",
       "      <td>WIN</td>\n",
       "      <td>10</td>\n",
       "      <td>...</td>\n",
       "      <td>6387</td>\n",
       "      <td>0</td>\n",
       "      <td>0</td>\n",
       "      <td>13</td>\n",
       "      <td>3218</td>\n",
       "      <td>2370</td>\n",
       "      <td>2370</td>\n",
       "      <td>NONE</td>\n",
       "      <td>972</td>\n",
       "      <td>11.16.390.1945</td>\n",
       "    </tr>\n",
       "  </tbody>\n",
       "</table>\n",
       "<p>5 rows × 38 columns</p>\n",
       "</div>"
      ],
      "text/plain": [
       "   Unnamed: 0      gameId           createDate tierRank position  teamId  \\\n",
       "0           0  5383880006  2021-08-11 06:59:31     P318        S     200   \n",
       "1           1  5383880006  2021-08-11 06:59:31     P466        S     100   \n",
       "2           2  5383880006  2021-08-11 06:59:31     P329        M     200   \n",
       "3           3  5383880006  2021-08-11 06:59:31     P461        T     200   \n",
       "4           4  5383880006  2021-08-11 06:59:31      P30        A     200   \n",
       "\n",
       "   summonerId  championId result  level  ...  totalDamageTaken  \\\n",
       "0     3210877          99    WIN     10  ...              3602   \n",
       "1     7550211          35   LOSE      8  ...              5077   \n",
       "2     9306696         266    WIN     11  ...             11029   \n",
       "3    20281103          92    WIN     11  ...              9944   \n",
       "4    26082075          22    WIN     10  ...              6387   \n",
       "\n",
       "   neutralMinionsKilledEnemyJungle  neutralMinionsKilledTeamJungle  \\\n",
       "0                                0                               0   \n",
       "1                                0                               2   \n",
       "2                                0                               0   \n",
       "3                                0                               0   \n",
       "4                                0                               0   \n",
       "\n",
       "   visionScore  damageSelfMitigated  damageDealtToObjectives  \\\n",
       "0           11                 2830                     2181   \n",
       "1           24                 2013                        0   \n",
       "2           15                 6158                      585   \n",
       "3           10                 7615                     2318   \n",
       "4           13                 3218                     2370   \n",
       "\n",
       "   damageDealtToTurrets  lane  gameLength         version  \n",
       "0                  2181  NONE         972  11.16.390.1945  \n",
       "1                     0  NONE         972  11.16.390.1945  \n",
       "2                   585  NONE         972  11.16.390.1945  \n",
       "3                  2318  NONE         972  11.16.390.1945  \n",
       "4                  2370  NONE         972  11.16.390.1945  \n",
       "\n",
       "[5 rows x 38 columns]"
      ]
     },
     "execution_count": 7,
     "metadata": {},
     "output_type": "execute_result"
    }
   ],
   "source": [
    "data.head(5)"
   ]
  },
  {
   "cell_type": "code",
   "execution_count": 11,
   "id": "c6c274ca",
   "metadata": {},
   "outputs": [],
   "source": [
    "data = pd.read_csv(\"BIPA_data.csv\",index_col = 0)"
   ]
  },
  {
   "cell_type": "code",
   "execution_count": 12,
   "id": "55c202fc",
   "metadata": {},
   "outputs": [],
   "source": [
    "data1_10 = data[data['championId'].isin(range(0,10))]\n",
    "group1_10 = data1_10.groupby(\"championId\", as_index = False).mean()"
   ]
  },
  {
   "cell_type": "code",
   "execution_count": 20,
   "id": "d9ae7f6f",
   "metadata": {},
   "outputs": [
    {
     "data": {
      "text/html": [
       "<div>\n",
       "<style scoped>\n",
       "    .dataframe tbody tr th:only-of-type {\n",
       "        vertical-align: middle;\n",
       "    }\n",
       "\n",
       "    .dataframe tbody tr th {\n",
       "        vertical-align: top;\n",
       "    }\n",
       "\n",
       "    .dataframe thead th {\n",
       "        text-align: right;\n",
       "    }\n",
       "</style>\n",
       "<table border=\"1\" class=\"dataframe\">\n",
       "  <thead>\n",
       "    <tr style=\"text-align: right;\">\n",
       "      <th></th>\n",
       "      <th>gameId</th>\n",
       "      <th>createDate</th>\n",
       "      <th>tierRank</th>\n",
       "      <th>position</th>\n",
       "      <th>teamId</th>\n",
       "      <th>summonerId</th>\n",
       "      <th>championId</th>\n",
       "      <th>result</th>\n",
       "      <th>level</th>\n",
       "      <th>championsKilled</th>\n",
       "      <th>...</th>\n",
       "      <th>totalDamageTaken</th>\n",
       "      <th>neutralMinionsKilledEnemyJungle</th>\n",
       "      <th>neutralMinionsKilledTeamJungle</th>\n",
       "      <th>visionScore</th>\n",
       "      <th>damageSelfMitigated</th>\n",
       "      <th>damageDealtToObjectives</th>\n",
       "      <th>damageDealtToTurrets</th>\n",
       "      <th>lane</th>\n",
       "      <th>gameLength</th>\n",
       "      <th>version</th>\n",
       "    </tr>\n",
       "  </thead>\n",
       "  <tbody>\n",
       "    <tr>\n",
       "      <th>0</th>\n",
       "      <td>5383880006</td>\n",
       "      <td>2021-08-11 06:59:31</td>\n",
       "      <td>P318</td>\n",
       "      <td>S</td>\n",
       "      <td>200</td>\n",
       "      <td>3210877</td>\n",
       "      <td>99</td>\n",
       "      <td>WIN</td>\n",
       "      <td>10</td>\n",
       "      <td>4</td>\n",
       "      <td>...</td>\n",
       "      <td>3602</td>\n",
       "      <td>0</td>\n",
       "      <td>0</td>\n",
       "      <td>11</td>\n",
       "      <td>2830</td>\n",
       "      <td>2181</td>\n",
       "      <td>2181</td>\n",
       "      <td>NONE</td>\n",
       "      <td>972</td>\n",
       "      <td>11.16.390.1945</td>\n",
       "    </tr>\n",
       "    <tr>\n",
       "      <th>1</th>\n",
       "      <td>5383880006</td>\n",
       "      <td>2021-08-11 06:59:31</td>\n",
       "      <td>P466</td>\n",
       "      <td>S</td>\n",
       "      <td>100</td>\n",
       "      <td>7550211</td>\n",
       "      <td>35</td>\n",
       "      <td>LOSE</td>\n",
       "      <td>8</td>\n",
       "      <td>1</td>\n",
       "      <td>...</td>\n",
       "      <td>5077</td>\n",
       "      <td>0</td>\n",
       "      <td>2</td>\n",
       "      <td>24</td>\n",
       "      <td>2013</td>\n",
       "      <td>0</td>\n",
       "      <td>0</td>\n",
       "      <td>NONE</td>\n",
       "      <td>972</td>\n",
       "      <td>11.16.390.1945</td>\n",
       "    </tr>\n",
       "    <tr>\n",
       "      <th>2</th>\n",
       "      <td>5383880006</td>\n",
       "      <td>2021-08-11 06:59:31</td>\n",
       "      <td>P329</td>\n",
       "      <td>M</td>\n",
       "      <td>200</td>\n",
       "      <td>9306696</td>\n",
       "      <td>266</td>\n",
       "      <td>WIN</td>\n",
       "      <td>11</td>\n",
       "      <td>5</td>\n",
       "      <td>...</td>\n",
       "      <td>11029</td>\n",
       "      <td>0</td>\n",
       "      <td>0</td>\n",
       "      <td>15</td>\n",
       "      <td>6158</td>\n",
       "      <td>585</td>\n",
       "      <td>585</td>\n",
       "      <td>NONE</td>\n",
       "      <td>972</td>\n",
       "      <td>11.16.390.1945</td>\n",
       "    </tr>\n",
       "    <tr>\n",
       "      <th>3</th>\n",
       "      <td>5383880006</td>\n",
       "      <td>2021-08-11 06:59:31</td>\n",
       "      <td>P461</td>\n",
       "      <td>T</td>\n",
       "      <td>200</td>\n",
       "      <td>20281103</td>\n",
       "      <td>92</td>\n",
       "      <td>WIN</td>\n",
       "      <td>11</td>\n",
       "      <td>8</td>\n",
       "      <td>...</td>\n",
       "      <td>9944</td>\n",
       "      <td>0</td>\n",
       "      <td>0</td>\n",
       "      <td>10</td>\n",
       "      <td>7615</td>\n",
       "      <td>2318</td>\n",
       "      <td>2318</td>\n",
       "      <td>NONE</td>\n",
       "      <td>972</td>\n",
       "      <td>11.16.390.1945</td>\n",
       "    </tr>\n",
       "    <tr>\n",
       "      <th>4</th>\n",
       "      <td>5383880006</td>\n",
       "      <td>2021-08-11 06:59:31</td>\n",
       "      <td>P30</td>\n",
       "      <td>A</td>\n",
       "      <td>200</td>\n",
       "      <td>26082075</td>\n",
       "      <td>22</td>\n",
       "      <td>WIN</td>\n",
       "      <td>10</td>\n",
       "      <td>3</td>\n",
       "      <td>...</td>\n",
       "      <td>6387</td>\n",
       "      <td>0</td>\n",
       "      <td>0</td>\n",
       "      <td>13</td>\n",
       "      <td>3218</td>\n",
       "      <td>2370</td>\n",
       "      <td>2370</td>\n",
       "      <td>NONE</td>\n",
       "      <td>972</td>\n",
       "      <td>11.16.390.1945</td>\n",
       "    </tr>\n",
       "    <tr>\n",
       "      <th>...</th>\n",
       "      <td>...</td>\n",
       "      <td>...</td>\n",
       "      <td>...</td>\n",
       "      <td>...</td>\n",
       "      <td>...</td>\n",
       "      <td>...</td>\n",
       "      <td>...</td>\n",
       "      <td>...</td>\n",
       "      <td>...</td>\n",
       "      <td>...</td>\n",
       "      <td>...</td>\n",
       "      <td>...</td>\n",
       "      <td>...</td>\n",
       "      <td>...</td>\n",
       "      <td>...</td>\n",
       "      <td>...</td>\n",
       "      <td>...</td>\n",
       "      <td>...</td>\n",
       "      <td>...</td>\n",
       "      <td>...</td>\n",
       "      <td>...</td>\n",
       "    </tr>\n",
       "    <tr>\n",
       "      <th>999995</th>\n",
       "      <td>5384659633</td>\n",
       "      <td>2021-08-11 17:20:44</td>\n",
       "      <td>S146</td>\n",
       "      <td>S</td>\n",
       "      <td>100</td>\n",
       "      <td>21560397</td>\n",
       "      <td>53</td>\n",
       "      <td>WIN</td>\n",
       "      <td>15</td>\n",
       "      <td>1</td>\n",
       "      <td>...</td>\n",
       "      <td>32961</td>\n",
       "      <td>0</td>\n",
       "      <td>0</td>\n",
       "      <td>63</td>\n",
       "      <td>34725</td>\n",
       "      <td>1978</td>\n",
       "      <td>126</td>\n",
       "      <td>BOTTOM</td>\n",
       "      <td>2379</td>\n",
       "      <td>11.16.390.1945</td>\n",
       "    </tr>\n",
       "    <tr>\n",
       "      <th>999996</th>\n",
       "      <td>5384659633</td>\n",
       "      <td>2021-08-11 17:20:44</td>\n",
       "      <td>G442</td>\n",
       "      <td>M</td>\n",
       "      <td>100</td>\n",
       "      <td>46320531</td>\n",
       "      <td>166</td>\n",
       "      <td>WIN</td>\n",
       "      <td>18</td>\n",
       "      <td>10</td>\n",
       "      <td>...</td>\n",
       "      <td>24674</td>\n",
       "      <td>1</td>\n",
       "      <td>16</td>\n",
       "      <td>16</td>\n",
       "      <td>21371</td>\n",
       "      <td>8406</td>\n",
       "      <td>7042</td>\n",
       "      <td>MIDDLE</td>\n",
       "      <td>2379</td>\n",
       "      <td>11.16.390.1945</td>\n",
       "    </tr>\n",
       "    <tr>\n",
       "      <th>999997</th>\n",
       "      <td>5384659633</td>\n",
       "      <td>2021-08-11 17:20:44</td>\n",
       "      <td>G418</td>\n",
       "      <td>J</td>\n",
       "      <td>200</td>\n",
       "      <td>64820251</td>\n",
       "      <td>64</td>\n",
       "      <td>LOSE</td>\n",
       "      <td>17</td>\n",
       "      <td>5</td>\n",
       "      <td>...</td>\n",
       "      <td>45911</td>\n",
       "      <td>6</td>\n",
       "      <td>68</td>\n",
       "      <td>22</td>\n",
       "      <td>62426</td>\n",
       "      <td>20292</td>\n",
       "      <td>454</td>\n",
       "      <td>JUNGLE</td>\n",
       "      <td>2379</td>\n",
       "      <td>11.16.390.1945</td>\n",
       "    </tr>\n",
       "    <tr>\n",
       "      <th>999998</th>\n",
       "      <td>5384659633</td>\n",
       "      <td>2021-08-11 17:20:44</td>\n",
       "      <td>S178</td>\n",
       "      <td>A</td>\n",
       "      <td>100</td>\n",
       "      <td>72310857</td>\n",
       "      <td>81</td>\n",
       "      <td>WIN</td>\n",
       "      <td>17</td>\n",
       "      <td>6</td>\n",
       "      <td>...</td>\n",
       "      <td>28187</td>\n",
       "      <td>8</td>\n",
       "      <td>9</td>\n",
       "      <td>17</td>\n",
       "      <td>19664</td>\n",
       "      <td>11090</td>\n",
       "      <td>1062</td>\n",
       "      <td>BOTTOM</td>\n",
       "      <td>2379</td>\n",
       "      <td>11.16.390.1945</td>\n",
       "    </tr>\n",
       "    <tr>\n",
       "      <th>999999</th>\n",
       "      <td>5384659633</td>\n",
       "      <td>2021-08-11 17:20:44</td>\n",
       "      <td>G456</td>\n",
       "      <td>T</td>\n",
       "      <td>100</td>\n",
       "      <td>72520226</td>\n",
       "      <td>875</td>\n",
       "      <td>WIN</td>\n",
       "      <td>18</td>\n",
       "      <td>3</td>\n",
       "      <td>...</td>\n",
       "      <td>54999</td>\n",
       "      <td>0</td>\n",
       "      <td>9</td>\n",
       "      <td>30</td>\n",
       "      <td>64441</td>\n",
       "      <td>13682</td>\n",
       "      <td>9331</td>\n",
       "      <td>TOP</td>\n",
       "      <td>2379</td>\n",
       "      <td>11.16.390.1945</td>\n",
       "    </tr>\n",
       "  </tbody>\n",
       "</table>\n",
       "<p>1000000 rows × 37 columns</p>\n",
       "</div>"
      ],
      "text/plain": [
       "            gameId           createDate tierRank position  teamId  summonerId  \\\n",
       "0       5383880006  2021-08-11 06:59:31     P318        S     200     3210877   \n",
       "1       5383880006  2021-08-11 06:59:31     P466        S     100     7550211   \n",
       "2       5383880006  2021-08-11 06:59:31     P329        M     200     9306696   \n",
       "3       5383880006  2021-08-11 06:59:31     P461        T     200    20281103   \n",
       "4       5383880006  2021-08-11 06:59:31      P30        A     200    26082075   \n",
       "...            ...                  ...      ...      ...     ...         ...   \n",
       "999995  5384659633  2021-08-11 17:20:44     S146        S     100    21560397   \n",
       "999996  5384659633  2021-08-11 17:20:44     G442        M     100    46320531   \n",
       "999997  5384659633  2021-08-11 17:20:44     G418        J     200    64820251   \n",
       "999998  5384659633  2021-08-11 17:20:44     S178        A     100    72310857   \n",
       "999999  5384659633  2021-08-11 17:20:44     G456        T     100    72520226   \n",
       "\n",
       "        championId result  level  championsKilled  ...  totalDamageTaken  \\\n",
       "0               99    WIN     10                4  ...              3602   \n",
       "1               35   LOSE      8                1  ...              5077   \n",
       "2              266    WIN     11                5  ...             11029   \n",
       "3               92    WIN     11                8  ...              9944   \n",
       "4               22    WIN     10                3  ...              6387   \n",
       "...            ...    ...    ...              ...  ...               ...   \n",
       "999995          53    WIN     15                1  ...             32961   \n",
       "999996         166    WIN     18               10  ...             24674   \n",
       "999997          64   LOSE     17                5  ...             45911   \n",
       "999998          81    WIN     17                6  ...             28187   \n",
       "999999         875    WIN     18                3  ...             54999   \n",
       "\n",
       "        neutralMinionsKilledEnemyJungle  neutralMinionsKilledTeamJungle  \\\n",
       "0                                     0                               0   \n",
       "1                                     0                               2   \n",
       "2                                     0                               0   \n",
       "3                                     0                               0   \n",
       "4                                     0                               0   \n",
       "...                                 ...                             ...   \n",
       "999995                                0                               0   \n",
       "999996                                1                              16   \n",
       "999997                                6                              68   \n",
       "999998                                8                               9   \n",
       "999999                                0                               9   \n",
       "\n",
       "        visionScore  damageSelfMitigated  damageDealtToObjectives  \\\n",
       "0                11                 2830                     2181   \n",
       "1                24                 2013                        0   \n",
       "2                15                 6158                      585   \n",
       "3                10                 7615                     2318   \n",
       "4                13                 3218                     2370   \n",
       "...             ...                  ...                      ...   \n",
       "999995           63                34725                     1978   \n",
       "999996           16                21371                     8406   \n",
       "999997           22                62426                    20292   \n",
       "999998           17                19664                    11090   \n",
       "999999           30                64441                    13682   \n",
       "\n",
       "        damageDealtToTurrets    lane  gameLength         version  \n",
       "0                       2181    NONE         972  11.16.390.1945  \n",
       "1                          0    NONE         972  11.16.390.1945  \n",
       "2                        585    NONE         972  11.16.390.1945  \n",
       "3                       2318    NONE         972  11.16.390.1945  \n",
       "4                       2370    NONE         972  11.16.390.1945  \n",
       "...                      ...     ...         ...             ...  \n",
       "999995                   126  BOTTOM        2379  11.16.390.1945  \n",
       "999996                  7042  MIDDLE        2379  11.16.390.1945  \n",
       "999997                   454  JUNGLE        2379  11.16.390.1945  \n",
       "999998                  1062  BOTTOM        2379  11.16.390.1945  \n",
       "999999                  9331     TOP        2379  11.16.390.1945  \n",
       "\n",
       "[1000000 rows x 37 columns]"
      ]
     },
     "execution_count": 20,
     "metadata": {},
     "output_type": "execute_result"
    }
   ],
   "source": [
    "data"
   ]
  },
  {
   "cell_type": "code",
   "execution_count": 18,
   "id": "cd993edf",
   "metadata": {},
   "outputs": [],
   "source": [
    "data1_10 = data[data['championId'].isin(range(0,10))]\n",
    "group1_10 = data1_10.groupby(\"championId\", as_index = False).mean()"
   ]
  },
  {
   "cell_type": "code",
   "execution_count": 6,
   "id": "05e4cf51",
   "metadata": {},
   "outputs": [
    {
     "data": {
      "text/plain": [
       "<BarContainer object of 9 artists>"
      ]
     },
     "execution_count": 6,
     "metadata": {},
     "output_type": "execute_result"
    },
    {
     "data": {
      "image/png": "[encoded data removed]",
      "text/plain": [
       "<Figure size 504x288 with 1 Axes>"
      ]
     },
     "metadata": {
      "needs_background": "light"
     },
     "output_type": "display_data"
    }
   ],
   "source": [
    "#figure는 캔버스, ax는 그림의 여러 부분\n",
    "fig, ax = plt.subplots(figsize = (7,4))\n",
    "ax.barh(group1_10['championId'], \n",
    "        group1_10['totalDamageDealtToChampions'])"
   ]
  },
  {
   "cell_type": "code",
   "execution_count": 15,
   "id": "d7ab04eb",
   "metadata": {},
   "outputs": [],
   "source": [
    "#champion index 불러오기\n",
    "import requests\n",
    "champ_ver = requests.get('https://ddragon.leagueoflegends.com/realms/na.json').json()['n']['champion']\n",
    "championJsonURL = 'http://ddragon.leagueoflegends.com/cdn/'+champ_ver+'/data/en_US/champion.json'\n",
    "request = requests.get(championJsonURL)\n",
    "champion_data=request.json()\n",
    "champion_data.keys()\n",
    "champion_dict = {}\n",
    "for c_name in champion_data['data'].keys() :\n",
    "    champion_dict[int(champion_data['data'][c_name]['key'])]=c_name\n",
    "champion_dict.keys()\n",
    "champion = pd.DataFrame.from_dict(champion_dict, orient = 'index', columns = ['champion'])"
   ]
  },
  {
   "cell_type": "code",
   "execution_count": 23,
   "id": "c5e9e431",
   "metadata": {},
   "outputs": [],
   "source": [
    "#champion, data merge\n",
    "group1_10 = pd.merge(group1_10, champion, \n",
    "                     left_on = 'championId',right_index = True)"
   ]
  },
  {
   "cell_type": "code",
   "execution_count": 24,
   "id": "6cba8974",
   "metadata": {},
   "outputs": [
    {
     "data": {
      "text/html": [
       "<div>\n",
       "<style scoped>\n",
       "    .dataframe tbody tr th:only-of-type {\n",
       "        vertical-align: middle;\n",
       "    }\n",
       "\n",
       "    .dataframe tbody tr th {\n",
       "        vertical-align: top;\n",
       "    }\n",
       "\n",
       "    .dataframe thead th {\n",
       "        text-align: right;\n",
       "    }\n",
       "</style>\n",
       "<table border=\"1\" class=\"dataframe\">\n",
       "  <thead>\n",
       "    <tr style=\"text-align: right;\">\n",
       "      <th></th>\n",
       "      <th>championId</th>\n",
       "      <th>gameId</th>\n",
       "      <th>teamId</th>\n",
       "      <th>summonerId</th>\n",
       "      <th>level</th>\n",
       "      <th>championsKilled</th>\n",
       "      <th>numDeaths</th>\n",
       "      <th>assists</th>\n",
       "      <th>neutralMinionsKilled</th>\n",
       "      <th>turretsKilled</th>\n",
       "      <th>...</th>\n",
       "      <th>totalDamageDealt</th>\n",
       "      <th>totalDamageTaken</th>\n",
       "      <th>neutralMinionsKilledEnemyJungle</th>\n",
       "      <th>neutralMinionsKilledTeamJungle</th>\n",
       "      <th>visionScore</th>\n",
       "      <th>damageSelfMitigated</th>\n",
       "      <th>damageDealtToObjectives</th>\n",
       "      <th>damageDealtToTurrets</th>\n",
       "      <th>gameLength</th>\n",
       "      <th>champion</th>\n",
       "    </tr>\n",
       "  </thead>\n",
       "  <tbody>\n",
       "    <tr>\n",
       "      <th>0</th>\n",
       "      <td>1</td>\n",
       "      <td>5.384407e+09</td>\n",
       "      <td>149.863574</td>\n",
       "      <td>4.828111e+07</td>\n",
       "      <td>13.522510</td>\n",
       "      <td>5.843793</td>\n",
       "      <td>5.648704</td>\n",
       "      <td>7.482265</td>\n",
       "      <td>5.060027</td>\n",
       "      <td>0.684175</td>\n",
       "      <td>...</td>\n",
       "      <td>79020.755116</td>\n",
       "      <td>13873.920873</td>\n",
       "      <td>0.869031</td>\n",
       "      <td>3.095498</td>\n",
       "      <td>23.654843</td>\n",
       "      <td>8224.886085</td>\n",
       "      <td>3825.978854</td>\n",
       "      <td>1956.866985</td>\n",
       "      <td>1644.729195</td>\n",
       "      <td>Annie</td>\n",
       "    </tr>\n",
       "    <tr>\n",
       "      <th>1</th>\n",
       "      <td>2</td>\n",
       "      <td>5.384392e+09</td>\n",
       "      <td>148.995149</td>\n",
       "      <td>5.375949e+07</td>\n",
       "      <td>13.733888</td>\n",
       "      <td>6.730423</td>\n",
       "      <td>5.649342</td>\n",
       "      <td>6.315315</td>\n",
       "      <td>98.355509</td>\n",
       "      <td>0.970201</td>\n",
       "      <td>...</td>\n",
       "      <td>140331.489951</td>\n",
       "      <td>30216.665974</td>\n",
       "      <td>8.994456</td>\n",
       "      <td>65.050589</td>\n",
       "      <td>19.574498</td>\n",
       "      <td>26459.150381</td>\n",
       "      <td>18985.893278</td>\n",
       "      <td>1788.160776</td>\n",
       "      <td>1635.169785</td>\n",
       "      <td>Olaf</td>\n",
       "    </tr>\n",
       "    <tr>\n",
       "      <th>2</th>\n",
       "      <td>3</td>\n",
       "      <td>5.384396e+09</td>\n",
       "      <td>149.838319</td>\n",
       "      <td>5.641768e+07</td>\n",
       "      <td>12.682498</td>\n",
       "      <td>3.223727</td>\n",
       "      <td>5.536176</td>\n",
       "      <td>10.374091</td>\n",
       "      <td>2.225748</td>\n",
       "      <td>0.415319</td>\n",
       "      <td>...</td>\n",
       "      <td>65968.596200</td>\n",
       "      <td>18422.628335</td>\n",
       "      <td>0.378941</td>\n",
       "      <td>1.060226</td>\n",
       "      <td>28.201091</td>\n",
       "      <td>21981.946443</td>\n",
       "      <td>2720.986661</td>\n",
       "      <td>1188.933508</td>\n",
       "      <td>1622.791027</td>\n",
       "      <td>Galio</td>\n",
       "    </tr>\n",
       "    <tr>\n",
       "      <th>3</th>\n",
       "      <td>4</td>\n",
       "      <td>5.384395e+09</td>\n",
       "      <td>150.449371</td>\n",
       "      <td>4.589860e+07</td>\n",
       "      <td>13.651288</td>\n",
       "      <td>4.387358</td>\n",
       "      <td>5.648292</td>\n",
       "      <td>7.768424</td>\n",
       "      <td>8.230677</td>\n",
       "      <td>1.010785</td>\n",
       "      <td>...</td>\n",
       "      <td>108823.763032</td>\n",
       "      <td>17346.380467</td>\n",
       "      <td>1.172858</td>\n",
       "      <td>5.031756</td>\n",
       "      <td>18.112942</td>\n",
       "      <td>8392.594368</td>\n",
       "      <td>5560.650090</td>\n",
       "      <td>3059.980827</td>\n",
       "      <td>1590.137507</td>\n",
       "      <td>TwistedFate</td>\n",
       "    </tr>\n",
       "    <tr>\n",
       "      <th>4</th>\n",
       "      <td>5</td>\n",
       "      <td>5.384395e+09</td>\n",
       "      <td>150.382831</td>\n",
       "      <td>4.981885e+07</td>\n",
       "      <td>13.369142</td>\n",
       "      <td>6.084803</td>\n",
       "      <td>5.800812</td>\n",
       "      <td>6.957309</td>\n",
       "      <td>103.541415</td>\n",
       "      <td>0.819374</td>\n",
       "      <td>...</td>\n",
       "      <td>129307.661833</td>\n",
       "      <td>28847.416589</td>\n",
       "      <td>8.319606</td>\n",
       "      <td>69.758121</td>\n",
       "      <td>20.622390</td>\n",
       "      <td>19254.804176</td>\n",
       "      <td>17998.159397</td>\n",
       "      <td>1483.745244</td>\n",
       "      <td>1612.376798</td>\n",
       "      <td>XinZhao</td>\n",
       "    </tr>\n",
       "    <tr>\n",
       "      <th>5</th>\n",
       "      <td>6</td>\n",
       "      <td>5.384378e+09</td>\n",
       "      <td>149.351585</td>\n",
       "      <td>4.985643e+07</td>\n",
       "      <td>14.248559</td>\n",
       "      <td>5.936599</td>\n",
       "      <td>5.662824</td>\n",
       "      <td>4.972622</td>\n",
       "      <td>14.265850</td>\n",
       "      <td>1.667867</td>\n",
       "      <td>...</td>\n",
       "      <td>129441.371758</td>\n",
       "      <td>21756.476945</td>\n",
       "      <td>2.865994</td>\n",
       "      <td>6.420029</td>\n",
       "      <td>18.207493</td>\n",
       "      <td>24718.951729</td>\n",
       "      <td>9548.915706</td>\n",
       "      <td>4071.570605</td>\n",
       "      <td>1637.839337</td>\n",
       "      <td>Urgot</td>\n",
       "    </tr>\n",
       "    <tr>\n",
       "      <th>6</th>\n",
       "      <td>7</td>\n",
       "      <td>5.384404e+09</td>\n",
       "      <td>149.812433</td>\n",
       "      <td>5.053182e+07</td>\n",
       "      <td>13.759825</td>\n",
       "      <td>6.782422</td>\n",
       "      <td>4.569310</td>\n",
       "      <td>6.266166</td>\n",
       "      <td>5.830922</td>\n",
       "      <td>0.622544</td>\n",
       "      <td>...</td>\n",
       "      <td>79998.176402</td>\n",
       "      <td>18339.237138</td>\n",
       "      <td>1.080475</td>\n",
       "      <td>3.568149</td>\n",
       "      <td>20.033583</td>\n",
       "      <td>8599.405681</td>\n",
       "      <td>3188.190872</td>\n",
       "      <td>1811.963469</td>\n",
       "      <td>1629.338246</td>\n",
       "      <td>Leblanc</td>\n",
       "    </tr>\n",
       "    <tr>\n",
       "      <th>7</th>\n",
       "      <td>8</td>\n",
       "      <td>5.384376e+09</td>\n",
       "      <td>150.943732</td>\n",
       "      <td>5.599144e+07</td>\n",
       "      <td>14.145833</td>\n",
       "      <td>5.597578</td>\n",
       "      <td>5.204772</td>\n",
       "      <td>5.246617</td>\n",
       "      <td>6.983796</td>\n",
       "      <td>0.873041</td>\n",
       "      <td>...</td>\n",
       "      <td>116093.556090</td>\n",
       "      <td>23501.713497</td>\n",
       "      <td>1.582265</td>\n",
       "      <td>3.392806</td>\n",
       "      <td>15.436610</td>\n",
       "      <td>11059.194979</td>\n",
       "      <td>5358.603276</td>\n",
       "      <td>2471.168803</td>\n",
       "      <td>1609.393697</td>\n",
       "      <td>Vladimir</td>\n",
       "    </tr>\n",
       "    <tr>\n",
       "      <th>8</th>\n",
       "      <td>9</td>\n",
       "      <td>5.384376e+09</td>\n",
       "      <td>150.058343</td>\n",
       "      <td>4.084821e+07</td>\n",
       "      <td>13.368145</td>\n",
       "      <td>5.127771</td>\n",
       "      <td>5.380688</td>\n",
       "      <td>8.717036</td>\n",
       "      <td>98.850350</td>\n",
       "      <td>0.443116</td>\n",
       "      <td>...</td>\n",
       "      <td>120797.366103</td>\n",
       "      <td>24352.407235</td>\n",
       "      <td>6.529463</td>\n",
       "      <td>70.018670</td>\n",
       "      <td>48.835764</td>\n",
       "      <td>13716.184072</td>\n",
       "      <td>13164.863769</td>\n",
       "      <td>725.270128</td>\n",
       "      <td>1647.637106</td>\n",
       "      <td>Fiddlesticks</td>\n",
       "    </tr>\n",
       "  </tbody>\n",
       "</table>\n",
       "<p>9 rows × 32 columns</p>\n",
       "</div>"
      ],
      "text/plain": [
       "   championId        gameId      teamId    summonerId      level  \\\n",
       "0           1  5.384407e+09  149.863574  4.828111e+07  13.522510   \n",
       "1           2  5.384392e+09  148.995149  5.375949e+07  13.733888   \n",
       "2           3  5.384396e+09  149.838319  5.641768e+07  12.682498   \n",
       "3           4  5.384395e+09  150.449371  4.589860e+07  13.651288   \n",
       "4           5  5.384395e+09  150.382831  4.981885e+07  13.369142   \n",
       "5           6  5.384378e+09  149.351585  4.985643e+07  14.248559   \n",
       "6           7  5.384404e+09  149.812433  5.053182e+07  13.759825   \n",
       "7           8  5.384376e+09  150.943732  5.599144e+07  14.145833   \n",
       "8           9  5.384376e+09  150.058343  4.084821e+07  13.368145   \n",
       "\n",
       "   championsKilled  numDeaths    assists  neutralMinionsKilled  turretsKilled  \\\n",
       "0         5.843793   5.648704   7.482265              5.060027       0.684175   \n",
       "1         6.730423   5.649342   6.315315             98.355509       0.970201   \n",
       "2         3.223727   5.536176  10.374091              2.225748       0.415319   \n",
       "3         4.387358   5.648292   7.768424              8.230677       1.010785   \n",
       "4         6.084803   5.800812   6.957309            103.541415       0.819374   \n",
       "5         5.936599   5.662824   4.972622             14.265850       1.667867   \n",
       "6         6.782422   4.569310   6.266166              5.830922       0.622544   \n",
       "7         5.597578   5.204772   5.246617              6.983796       0.873041   \n",
       "8         5.127771   5.380688   8.717036             98.850350       0.443116   \n",
       "\n",
       "   ...  totalDamageDealt  totalDamageTaken  neutralMinionsKilledEnemyJungle  \\\n",
       "0  ...      79020.755116      13873.920873                         0.869031   \n",
       "1  ...     140331.489951      30216.665974                         8.994456   \n",
       "2  ...      65968.596200      18422.628335                         0.378941   \n",
       "3  ...     108823.763032      17346.380467                         1.172858   \n",
       "4  ...     129307.661833      28847.416589                         8.319606   \n",
       "5  ...     129441.371758      21756.476945                         2.865994   \n",
       "6  ...      79998.176402      18339.237138                         1.080475   \n",
       "7  ...     116093.556090      23501.713497                         1.582265   \n",
       "8  ...     120797.366103      24352.407235                         6.529463   \n",
       "\n",
       "   neutralMinionsKilledTeamJungle  visionScore  damageSelfMitigated  \\\n",
       "0                        3.095498    23.654843          8224.886085   \n",
       "1                       65.050589    19.574498         26459.150381   \n",
       "2                        1.060226    28.201091         21981.946443   \n",
       "3                        5.031756    18.112942          8392.594368   \n",
       "4                       69.758121    20.622390         19254.804176   \n",
       "5                        6.420029    18.207493         24718.951729   \n",
       "6                        3.568149    20.033583          8599.405681   \n",
       "7                        3.392806    15.436610         11059.194979   \n",
       "8                       70.018670    48.835764         13716.184072   \n",
       "\n",
       "   damageDealtToObjectives  damageDealtToTurrets   gameLength      champion  \n",
       "0              3825.978854           1956.866985  1644.729195         Annie  \n",
       "1             18985.893278           1788.160776  1635.169785          Olaf  \n",
       "2              2720.986661           1188.933508  1622.791027         Galio  \n",
       "3              5560.650090           3059.980827  1590.137507   TwistedFate  \n",
       "4             17998.159397           1483.745244  1612.376798       XinZhao  \n",
       "5              9548.915706           4071.570605  1637.839337         Urgot  \n",
       "6              3188.190872           1811.963469  1629.338246       Leblanc  \n",
       "7              5358.603276           2471.168803  1609.393697      Vladimir  \n",
       "8             13164.863769            725.270128  1647.637106  Fiddlesticks  \n",
       "\n",
       "[9 rows x 32 columns]"
      ]
     },
     "execution_count": 24,
     "metadata": {},
     "output_type": "execute_result"
    }
   ],
   "source": [
    "group1_10"
   ]
  },
  {
   "cell_type": "code",
   "execution_count": 25,
   "id": "40da133a",
   "metadata": {},
   "outputs": [
    {
     "data": {
      "text/plain": [
       "<BarContainer object of 9 artists>"
      ]
     },
     "execution_count": 25,
     "metadata": {},
     "output_type": "execute_result"
    },
    {
     "data": {
      "image/png": "[encoded data removed]",
      "text/plain": [
       "<Figure size 504x288 with 1 Axes>"
      ]
     },
     "metadata": {
      "needs_background": "light"
     },
     "output_type": "display_data"
    }
   ],
   "source": [
    "#y축 이름 변경\n",
    "fig, ax = plt.subplots(figsize = (7,4))\n",
    "ax.barh(group1_10['champion'], \n",
    "        group1_10['totalDamageDealtToChampions'])"
   ]
  },
  {
   "cell_type": "code",
   "execution_count": 26,
   "id": "b7d6d691",
   "metadata": {},
   "outputs": [
    {
     "data": {
      "text/plain": [
       "<AxesSubplot:>"
      ]
     },
     "execution_count": 26,
     "metadata": {},
     "output_type": "execute_result"
    },
    {
     "data": {
      "image/png": "[encoded data removed]",
      "text/plain": [
       "<Figure size 432x288 with 1 Axes>"
      ]
     },
     "metadata": {
      "needs_background": "light"
     },
     "output_type": "display_data"
    }
   ],
   "source": [
    "#dataframe에서 바로 그리기\n",
    "group1_10['totalDamageDealtToChampions'].plot(kind = 'barh')"
   ]
  },
  {
   "cell_type": "code",
   "execution_count": 27,
   "id": "562754aa",
   "metadata": {},
   "outputs": [
    {
     "data": {
      "text/plain": [
       "<AxesSubplot:ylabel='champion'>"
      ]
     },
     "execution_count": 27,
     "metadata": {},
     "output_type": "execute_result"
    },
    {
     "data": {
      "image/png": "[encoded data removed]",
      "text/plain": [
       "<Figure size 432x288 with 1 Axes>"
      ]
     },
     "metadata": {
      "needs_background": "light"
     },
     "output_type": "display_data"
    }
   ],
   "source": [
    "#인덱스 변경\n",
    "group1_10.index = group1_10.champion\n",
    "group1_10['totalDamageDealtToChampions'].plot(kind = 'barh')"
   ]
  },
  {
   "cell_type": "code",
   "execution_count": 28,
   "id": "bbb419ae",
   "metadata": {},
   "outputs": [
    {
     "data": {
      "text/plain": [
       "<BarContainer object of 9 artists>"
      ]
     },
     "execution_count": 28,
     "metadata": {},
     "output_type": "execute_result"
    },
    {
     "data": {
      "image/png": "[encoded data removed]",
      "text/plain": [
       "<Figure size 504x288 with 1 Axes>"
      ]
     },
     "metadata": {
      "needs_background": "light"
     },
     "output_type": "display_data"
    }
   ],
   "source": [
    "#색상 변경(기본 설정)\n",
    "sns.set_palette('bright')\n",
    "fig, ax = plt.subplots(figsize = (7,4))\n",
    "ax.barh(group1_10['champion'], \n",
    "        group1_10['totalDamageDealtToChampions'])"
   ]
  },
  {
   "cell_type": "code",
   "execution_count": 33,
   "id": "22014979",
   "metadata": {},
   "outputs": [
    {
     "data": {
      "text/plain": [
       "<BarContainer object of 9 artists>"
      ]
     },
     "execution_count": 33,
     "metadata": {},
     "output_type": "execute_result"
    },
    {
     "data": {
      "image/png": "[encoded data removed]",
      "text/plain": [
       "<Figure size 504x288 with 1 Axes>"
      ]
     },
     "metadata": {
      "needs_background": "light"
     },
     "output_type": "display_data"
    }
   ],
   "source": [
    "#색상 변경(하나의 그림만)\n",
    "fig, ax = plt.subplots(figsize = (7,4))\n",
    "ax.barh(group1_10['champion'], \n",
    "        group1_10['totalDamageDealtToChampions'], color = 'red')"
   ]
  },
  {
   "cell_type": "code",
   "execution_count": 14,
   "id": "9ce100f6",
   "metadata": {},
   "outputs": [
    {
     "data": {
      "text/plain": [
       "<AxesSubplot:xlabel='totalDamageDealtToChampions', ylabel='champion'>"
      ]
     },
     "execution_count": 14,
     "metadata": {},
     "output_type": "execute_result"
    },
    {
     "data": {
      "image/png": "[encoded data removed]",
      "text/plain": [
       "<Figure size 504x288 with 1 Axes>"
      ]
     },
     "metadata": {
      "needs_background": "light"
     },
     "output_type": "display_data"
    }
   ],
   "source": [
    "#seaborn\n",
    "fig, ax = plt.subplots(figsize=(7,4))\n",
    "sns.barplot(data = group1_10, x = 'totalDamageDealtToChampions', \n",
    "            y = 'champion')"
   ]
  },
  {
   "cell_type": "code",
   "execution_count": 15,
   "id": "33e44ec8",
   "metadata": {},
   "outputs": [
    {
     "data": {
      "text/plain": [
       "Text(0.5, 1.0, 'Avg Champion Damage')"
      ]
     },
     "execution_count": 15,
     "metadata": {},
     "output_type": "execute_result"
    },
    {
     "data": {
      "image/png": "[encoded data removed]",
      "text/plain": [
       "<Figure size 504x288 with 1 Axes>"
      ]
     },
     "metadata": {
      "needs_background": "light"
     },
     "output_type": "display_data"
    }
   ],
   "source": [
    "#xlabel, ylabel, title 변경\n",
    "fig, ax = plt.subplots(figsize=(7,4))\n",
    "sns.barplot(data = group1_10, x = 'totalDamageDealtToChampions', \n",
    "            y = 'champion')\n",
    "\n",
    "ax.set_xlabel('Avg_damage')\n",
    "ax.set_ylabel('Champion Name')\n",
    "ax.set_title('Avg Champion Damage')"
   ]
  },
  {
   "cell_type": "code",
   "execution_count": 40,
   "id": "44b12c8c",
   "metadata": {},
   "outputs": [
    {
     "data": {
      "text/plain": [
       "Text(0.5, 1.0, 'Avg Champion Damage')"
      ]
     },
     "execution_count": 40,
     "metadata": {},
     "output_type": "execute_result"
    },
    {
     "data": {
      "image/png": "[encoded data removed]",
      "text/plain": [
       "<Figure size 504x288 with 1 Axes>"
      ]
     },
     "metadata": {
      "needs_background": "light"
     },
     "output_type": "display_data"
    }
   ],
   "source": [
    "#font 변경\n",
    "font_label = {\n",
    "    'color' : 'blue',\n",
    "    'weight': 'bold'\n",
    "}\n",
    "\n",
    "font_title = {\n",
    "    'family' : 'serif',\n",
    "    'size' : 20,\n",
    "    #'backgroundcolor' : 'black',\n",
    "    'color' : 'brown',\n",
    "    'weight' : 'bold',\n",
    "    'verticalalignment' : 'baseline',\n",
    "    'horizontalalignment': 'center'\n",
    "}\n",
    "\n",
    "fig, ax = plt.subplots(figsize=(7,4))\n",
    "sns.barplot(data = group1_10, x = 'totalDamageDealtToChampions', \n",
    "            y = 'champion')\n",
    "\n",
    "ax.set_xlabel('Avg_damage', fontdict = font_label, labelpad = 20)\n",
    "ax.set_ylabel('Champion Name', color = 'blue', labelpad = 100)\n",
    "ax.set_title('Avg Champion Damage', fontdict = font_title, pad = 12)"
   ]
  },
  {
   "cell_type": "code",
   "execution_count": 42,
   "id": "2ac85ce1",
   "metadata": {},
   "outputs": [
    {
     "data": {
      "text/plain": [
       "Text(0.5, 1.0, 'Avg Champion Damage')"
      ]
     },
     "execution_count": 42,
     "metadata": {},
     "output_type": "execute_result"
    },
    {
     "data": {
      "image/png": "[encoded data removed]",
      "text/plain": [
       "<Figure size 504x288 with 1 Axes>"
      ]
     },
     "metadata": {
      "needs_background": "light"
     },
     "output_type": "display_data"
    }
   ],
   "source": [
    "#한계선 설정\n",
    "font_label = {\n",
    "    'color' : 'blue',\n",
    "    'weight': 'bold'\n",
    "}\n",
    "\n",
    "font_title = {\n",
    "    'family' : 'serif',\n",
    "    'size' : 20,\n",
    "    #'backgroundcolor' : 'black',\n",
    "    'color' : 'brown',\n",
    "    'weight' : 'bold',\n",
    "    'verticalalignment' : 'baseline',\n",
    "    'horizontalalignment': 'center'\n",
    "}\n",
    "\n",
    "fig, ax = plt.subplots(figsize=(7,4))\n",
    "sns.barplot(data = group1_10, x = 'totalDamageDealtToChampions', \n",
    "            y = 'champion')\n",
    "###\n",
    "ax.set_xlim(10000, 20000)\n",
    "###\n",
    "ax.set_xlabel('Avg_damage', fontdict = font_label, labelpad = 20)\n",
    "ax.set_ylabel('Champion Name', color = 'blue', labelpad = 20)\n",
    "ax.set_title('Avg Champion Damage', fontdict = font_title, pad = 12)"
   ]
  },
  {
   "cell_type": "code",
   "execution_count": 44,
   "id": "51945aa0",
   "metadata": {
    "scrolled": false
   },
   "outputs": [
    {
     "data": {
      "text/plain": [
       "Text(0.5, 1.0, 'Avg Champion Damage')"
      ]
     },
     "execution_count": 44,
     "metadata": {},
     "output_type": "execute_result"
    },
    {
     "data": {
      "image/png": "[encoded data removed]",
      "text/plain": [
       "<Figure size 504x288 with 1 Axes>"
      ]
     },
     "metadata": {
      "needs_background": "light"
     },
     "output_type": "display_data"
    }
   ],
   "source": [
    "#한계선 설정\n",
    "font_label = {\n",
    "    'color' : 'blue',\n",
    "    'weight': 'bold'\n",
    "}\n",
    "\n",
    "font_title = {\n",
    "    'family' : 'serif',\n",
    "    'size' : 20,\n",
    "    #'backgroundcolor' : 'black',\n",
    "    'color' : 'brown',\n",
    "    'weight' : 'bold',\n",
    "    'verticalalignment' : 'baseline',\n",
    "    'horizontalalignment': 'center'\n",
    "}\n",
    "\n",
    "fig, ax = plt.subplots(figsize=(7,4))\n",
    "sns.barplot(data = group1_10, x = 'totalDamageDealtToChampions', \n",
    "            y = 'champion')\n",
    "ax.set_xlim(10000, 20000)\n",
    "###\n",
    "damage_mean = group1_10['totalDamageDealtToChampions'].mean()\n",
    "ax.axvline(damage_mean, ls = 'dotted', lw = 3, color = 'green')\n",
    "arrowprops = {\n",
    "    'arrowstyle' : '->'\n",
    "}\n",
    "ax.annotate(\"average\", (damage_mean, 2.5), \n",
    "            xytext = (17000, 2.5), color='green',\n",
    "           fontfamily = 'serif', fontstyle = 'italic', \n",
    "            fontsize = 15, arrowprops = arrowprops)\n",
    "###\n",
    "ax.set_xlabel('Avg_damage', fontdict = font_label, labelpad = 20)\n",
    "ax.set_ylabel('Champion Name', color = 'blue', labelpad = 20)\n",
    "ax.set_title('Avg Champion Damage', fontdict = font_title, pad = 12)"
   ]
  },
  {
   "cell_type": "code",
   "execution_count": 46,
   "id": "7bd22def",
   "metadata": {},
   "outputs": [],
   "source": [
    "group_data = data[data['gameLength']>1200].groupby(\n",
    "    ['position','championId'], as_index = False).mean()"
   ]
  },
  {
   "cell_type": "code",
   "execution_count": 20,
   "id": "bbf895b9",
   "metadata": {},
   "outputs": [
    {
     "data": {
      "text/plain": [
       "<AxesSubplot:xlabel='position', ylabel='totalDamageDealtToChampions'>"
      ]
     },
     "execution_count": 20,
     "metadata": {},
     "output_type": "execute_result"
    },
    {
     "data": {
      "image/png": "[encoded data removed]",
      "text/plain": [
       "<Figure size 432x288 with 1 Axes>"
      ]
     },
     "metadata": {
      "needs_background": "light"
     },
     "output_type": "display_data"
    }
   ],
   "source": [
    "sns.boxplot(y = data['totalDamageDealtToChampions'], \n",
    "            x = data['position'])"
   ]
  },
  {
   "cell_type": "code",
   "execution_count": 21,
   "id": "3ce329cc",
   "metadata": {},
   "outputs": [
    {
     "data": {
      "text/plain": [
       "<AxesSubplot:xlabel='position', ylabel='totalDamageDealtToChampions'>"
      ]
     },
     "execution_count": 21,
     "metadata": {},
     "output_type": "execute_result"
    },
    {
     "data": {
      "image/png": "[encoded data removed]",
      "text/plain": [
       "<Figure size 432x288 with 1 Axes>"
      ]
     },
     "metadata": {
      "needs_background": "light"
     },
     "output_type": "display_data"
    }
   ],
   "source": [
    "sns.violinplot(y = data['totalDamageDealtToChampions'], \n",
    "               x = data['position'])"
   ]
  },
  {
   "cell_type": "code",
   "execution_count": 43,
   "id": "4bf479e3",
   "metadata": {},
   "outputs": [
    {
     "data": {
      "text/plain": [
       "<seaborn.axisgrid.FacetGrid at 0x7f83b2b8a048>"
      ]
     },
     "execution_count": 43,
     "metadata": {},
     "output_type": "execute_result"
    },
    {
     "data": {
      "image/png": "[encoded data removed]",
      "text/plain": [
       "<Figure size 360x360 with 1 Axes>"
      ]
     },
     "metadata": {
      "needs_background": "light"
     },
     "output_type": "display_data"
    }
   ],
   "source": [
    "sns.displot(data[data['totalDamageDealtToChampions'] < 60000]\n",
    "            ['totalDamageDealtToChampions'])"
   ]
  },
  {
   "cell_type": "code",
   "execution_count": 23,
   "id": "35c00f59",
   "metadata": {},
   "outputs": [
    {
     "data": {
      "text/plain": [
       "<seaborn.axisgrid.FacetGrid at 0x7f8419b2b5c0>"
      ]
     },
     "execution_count": 23,
     "metadata": {},
     "output_type": "execute_result"
    },
    {
     "data": {
      "image/png": "[encoded data removed]",
      "text/plain": [
       "<Figure size 407.5x360 with 1 Axes>"
      ]
     },
     "metadata": {
      "needs_background": "light"
     },
     "output_type": "display_data"
    }
   ],
   "source": [
    "sns.displot(group_data, x = 'totalDamageDealtToChampions', \n",
    "            hue = 'position')"
   ]
  },
  {
   "cell_type": "code",
   "execution_count": 24,
   "id": "78006f8c",
   "metadata": {},
   "outputs": [
    {
     "data": {
      "text/plain": [
       "<seaborn.axisgrid.FacetGrid at 0x7f8417526e10>"
      ]
     },
     "execution_count": 24,
     "metadata": {},
     "output_type": "execute_result"
    },
    {
     "data": {
      "image/png": "[encoded data removed]",
      "text/plain": [
       "<Figure size 576x288 with 1 Axes>"
      ]
     },
     "metadata": {
      "needs_background": "light"
     },
     "output_type": "display_data"
    }
   ],
   "source": [
    "sns.displot(group_data['totalDamageDealtToChampions'], \n",
    "            height = 4, aspect = 2)"
   ]
  },
  {
   "cell_type": "code",
   "execution_count": 50,
   "id": "7e5dea3e",
   "metadata": {},
   "outputs": [
    {
     "data": {
      "text/plain": [
       "array(['A', 'J', 'M', 'S', 'T'], dtype=object)"
      ]
     },
     "execution_count": 50,
     "metadata": {},
     "output_type": "execute_result"
    }
   ],
   "source": [
    "group_data.position.unique()"
   ]
  },
  {
   "cell_type": "code",
   "execution_count": 50,
   "id": "f042f8bf",
   "metadata": {},
   "outputs": [
    {
     "data": {
      "text/plain": [
       "<seaborn.axisgrid.FacetGrid at 0x7f84142843c8>"
      ]
     },
     "execution_count": 50,
     "metadata": {},
     "output_type": "execute_result"
    },
    {
     "data": {
      "image/png": "[encoded data removed]",
      "text/plain": [
       "<Figure size 623.5x288 with 1 Axes>"
      ]
     },
     "metadata": {
      "needs_background": "light"
     },
     "output_type": "display_data"
    }
   ],
   "source": [
    "sns.displot(group_data[group_data['position'].isin(['A','S'])], \n",
    "            x = 'totalDamageDealtToChampions', hue = 'position', \n",
    "            multiple = 'dodge', height = 4, aspect = 2)"
   ]
  },
  {
   "cell_type": "code",
   "execution_count": 52,
   "id": "229f1ec2",
   "metadata": {},
   "outputs": [],
   "source": [
    "champ_stats = pd.read_csv(\"champ_stats.csv\")"
   ]
  },
  {
   "cell_type": "code",
   "execution_count": 53,
   "id": "9ff97eb3",
   "metadata": {},
   "outputs": [
    {
     "data": {
      "text/html": [
       "<div>\n",
       "<style scoped>\n",
       "    .dataframe tbody tr th:only-of-type {\n",
       "        vertical-align: middle;\n",
       "    }\n",
       "\n",
       "    .dataframe tbody tr th {\n",
       "        vertical-align: top;\n",
       "    }\n",
       "\n",
       "    .dataframe thead th {\n",
       "        text-align: right;\n",
       "    }\n",
       "</style>\n",
       "<table border=\"1\" class=\"dataframe\">\n",
       "  <thead>\n",
       "    <tr style=\"text-align: right;\">\n",
       "      <th></th>\n",
       "      <th>championId</th>\n",
       "      <th>championName</th>\n",
       "      <th>versionIndex</th>\n",
       "      <th>version</th>\n",
       "      <th>hp</th>\n",
       "      <th>hpperlevel</th>\n",
       "      <th>mp</th>\n",
       "      <th>mpperlevel</th>\n",
       "      <th>movespeed</th>\n",
       "      <th>armor</th>\n",
       "      <th>...</th>\n",
       "      <th>attackspeed</th>\n",
       "      <th>hp_18</th>\n",
       "      <th>mp_18</th>\n",
       "      <th>armor_18</th>\n",
       "      <th>spellblock_18</th>\n",
       "      <th>hpregen_18</th>\n",
       "      <th>mpregen_18</th>\n",
       "      <th>crit_18</th>\n",
       "      <th>attackdamage_18</th>\n",
       "      <th>attackspeed_18</th>\n",
       "    </tr>\n",
       "  </thead>\n",
       "  <tbody>\n",
       "    <tr>\n",
       "      <th>0</th>\n",
       "      <td>1</td>\n",
       "      <td>Annie</td>\n",
       "      <td>11.17</td>\n",
       "      <td>11.17.394.4489</td>\n",
       "      <td>524.0</td>\n",
       "      <td>88</td>\n",
       "      <td>418.0</td>\n",
       "      <td>25.0</td>\n",
       "      <td>335</td>\n",
       "      <td>19</td>\n",
       "      <td>...</td>\n",
       "      <td>0.579</td>\n",
       "      <td>2020.0</td>\n",
       "      <td>843.0</td>\n",
       "      <td>87.00</td>\n",
       "      <td>38.50</td>\n",
       "      <td>14.85</td>\n",
       "      <td>21.60</td>\n",
       "      <td>0</td>\n",
       "      <td>94.71</td>\n",
       "      <td>0.7129</td>\n",
       "    </tr>\n",
       "    <tr>\n",
       "      <th>1</th>\n",
       "      <td>2</td>\n",
       "      <td>Olaf</td>\n",
       "      <td>11.17</td>\n",
       "      <td>11.17.394.4489</td>\n",
       "      <td>575.0</td>\n",
       "      <td>100</td>\n",
       "      <td>316.0</td>\n",
       "      <td>42.0</td>\n",
       "      <td>350</td>\n",
       "      <td>35</td>\n",
       "      <td>...</td>\n",
       "      <td>0.694</td>\n",
       "      <td>2275.0</td>\n",
       "      <td>1030.0</td>\n",
       "      <td>86.00</td>\n",
       "      <td>53.25</td>\n",
       "      <td>23.80</td>\n",
       "      <td>17.70</td>\n",
       "      <td>0</td>\n",
       "      <td>127.50</td>\n",
       "      <td>1.0125</td>\n",
       "    </tr>\n",
       "    <tr>\n",
       "      <th>2</th>\n",
       "      <td>3</td>\n",
       "      <td>Galio</td>\n",
       "      <td>11.17</td>\n",
       "      <td>11.17.394.4489</td>\n",
       "      <td>562.0</td>\n",
       "      <td>112</td>\n",
       "      <td>500.0</td>\n",
       "      <td>40.0</td>\n",
       "      <td>335</td>\n",
       "      <td>24</td>\n",
       "      <td>...</td>\n",
       "      <td>0.625</td>\n",
       "      <td>2466.0</td>\n",
       "      <td>1180.0</td>\n",
       "      <td>83.50</td>\n",
       "      <td>53.25</td>\n",
       "      <td>21.60</td>\n",
       "      <td>21.40</td>\n",
       "      <td>0</td>\n",
       "      <td>118.50</td>\n",
       "      <td>0.7844</td>\n",
       "    </tr>\n",
       "    <tr>\n",
       "      <th>3</th>\n",
       "      <td>4</td>\n",
       "      <td>TwistedFate</td>\n",
       "      <td>11.17</td>\n",
       "      <td>11.17.394.4489</td>\n",
       "      <td>534.0</td>\n",
       "      <td>94</td>\n",
       "      <td>333.0</td>\n",
       "      <td>39.0</td>\n",
       "      <td>330</td>\n",
       "      <td>21</td>\n",
       "      <td>...</td>\n",
       "      <td>0.651</td>\n",
       "      <td>2132.0</td>\n",
       "      <td>996.0</td>\n",
       "      <td>74.55</td>\n",
       "      <td>38.50</td>\n",
       "      <td>15.70</td>\n",
       "      <td>21.60</td>\n",
       "      <td>0</td>\n",
       "      <td>108.10</td>\n",
       "      <td>1.0074</td>\n",
       "    </tr>\n",
       "    <tr>\n",
       "      <th>4</th>\n",
       "      <td>5</td>\n",
       "      <td>XinZhao</td>\n",
       "      <td>11.17</td>\n",
       "      <td>11.17.394.4489</td>\n",
       "      <td>570.0</td>\n",
       "      <td>92</td>\n",
       "      <td>274.0</td>\n",
       "      <td>55.0</td>\n",
       "      <td>345</td>\n",
       "      <td>35</td>\n",
       "      <td>...</td>\n",
       "      <td>0.645</td>\n",
       "      <td>2134.0</td>\n",
       "      <td>1209.0</td>\n",
       "      <td>94.50</td>\n",
       "      <td>53.25</td>\n",
       "      <td>19.90</td>\n",
       "      <td>14.91</td>\n",
       "      <td>0</td>\n",
       "      <td>114.00</td>\n",
       "      <td>1.0288</td>\n",
       "    </tr>\n",
       "    <tr>\n",
       "      <th>...</th>\n",
       "      <td>...</td>\n",
       "      <td>...</td>\n",
       "      <td>...</td>\n",
       "      <td>...</td>\n",
       "      <td>...</td>\n",
       "      <td>...</td>\n",
       "      <td>...</td>\n",
       "      <td>...</td>\n",
       "      <td>...</td>\n",
       "      <td>...</td>\n",
       "      <td>...</td>\n",
       "      <td>...</td>\n",
       "      <td>...</td>\n",
       "      <td>...</td>\n",
       "      <td>...</td>\n",
       "      <td>...</td>\n",
       "      <td>...</td>\n",
       "      <td>...</td>\n",
       "      <td>...</td>\n",
       "      <td>...</td>\n",
       "      <td>...</td>\n",
       "    </tr>\n",
       "    <tr>\n",
       "      <th>151</th>\n",
       "      <td>555</td>\n",
       "      <td>Pyke</td>\n",
       "      <td>11.17</td>\n",
       "      <td>11.17.394.4489</td>\n",
       "      <td>600.0</td>\n",
       "      <td>90</td>\n",
       "      <td>415.0</td>\n",
       "      <td>50.0</td>\n",
       "      <td>330</td>\n",
       "      <td>45</td>\n",
       "      <td>...</td>\n",
       "      <td>0.667</td>\n",
       "      <td>2130.0</td>\n",
       "      <td>1265.0</td>\n",
       "      <td>104.50</td>\n",
       "      <td>53.25</td>\n",
       "      <td>15.50</td>\n",
       "      <td>25.00</td>\n",
       "      <td>0</td>\n",
       "      <td>96.00</td>\n",
       "      <td>0.9505</td>\n",
       "    </tr>\n",
       "    <tr>\n",
       "      <th>152</th>\n",
       "      <td>777</td>\n",
       "      <td>Yone</td>\n",
       "      <td>11.17</td>\n",
       "      <td>11.17.394.4489</td>\n",
       "      <td>550.0</td>\n",
       "      <td>85</td>\n",
       "      <td>500.0</td>\n",
       "      <td>0.0</td>\n",
       "      <td>345</td>\n",
       "      <td>28</td>\n",
       "      <td>...</td>\n",
       "      <td>0.625</td>\n",
       "      <td>1995.0</td>\n",
       "      <td>500.0</td>\n",
       "      <td>85.80</td>\n",
       "      <td>53.25</td>\n",
       "      <td>20.25</td>\n",
       "      <td>0.00</td>\n",
       "      <td>0</td>\n",
       "      <td>94.00</td>\n",
       "      <td>0.9969</td>\n",
       "    </tr>\n",
       "    <tr>\n",
       "      <th>153</th>\n",
       "      <td>875</td>\n",
       "      <td>Sett</td>\n",
       "      <td>11.17</td>\n",
       "      <td>11.17.394.4489</td>\n",
       "      <td>600.0</td>\n",
       "      <td>93</td>\n",
       "      <td>0.0</td>\n",
       "      <td>0.0</td>\n",
       "      <td>340</td>\n",
       "      <td>33</td>\n",
       "      <td>...</td>\n",
       "      <td>0.625</td>\n",
       "      <td>2181.0</td>\n",
       "      <td>0.0</td>\n",
       "      <td>101.00</td>\n",
       "      <td>53.25</td>\n",
       "      <td>15.50</td>\n",
       "      <td>0.00</td>\n",
       "      <td>0</td>\n",
       "      <td>128.00</td>\n",
       "      <td>0.8109</td>\n",
       "    </tr>\n",
       "    <tr>\n",
       "      <th>154</th>\n",
       "      <td>876</td>\n",
       "      <td>Lillia</td>\n",
       "      <td>11.17</td>\n",
       "      <td>11.17.394.4489</td>\n",
       "      <td>580.0</td>\n",
       "      <td>90</td>\n",
       "      <td>410.0</td>\n",
       "      <td>50.0</td>\n",
       "      <td>330</td>\n",
       "      <td>22</td>\n",
       "      <td>...</td>\n",
       "      <td>0.625</td>\n",
       "      <td>2110.0</td>\n",
       "      <td>1260.0</td>\n",
       "      <td>90.00</td>\n",
       "      <td>44.75</td>\n",
       "      <td>20.25</td>\n",
       "      <td>27.65</td>\n",
       "      <td>0</td>\n",
       "      <td>113.70</td>\n",
       "      <td>0.9119</td>\n",
       "    </tr>\n",
       "    <tr>\n",
       "      <th>155</th>\n",
       "      <td>887</td>\n",
       "      <td>Gwen</td>\n",
       "      <td>11.17</td>\n",
       "      <td>11.17.394.4489</td>\n",
       "      <td>550.0</td>\n",
       "      <td>90</td>\n",
       "      <td>330.0</td>\n",
       "      <td>40.0</td>\n",
       "      <td>340</td>\n",
       "      <td>39</td>\n",
       "      <td>...</td>\n",
       "      <td>0.690</td>\n",
       "      <td>2080.0</td>\n",
       "      <td>1010.0</td>\n",
       "      <td>107.00</td>\n",
       "      <td>53.25</td>\n",
       "      <td>16.35</td>\n",
       "      <td>19.40</td>\n",
       "      <td>0</td>\n",
       "      <td>114.00</td>\n",
       "      <td>0.9539</td>\n",
       "    </tr>\n",
       "  </tbody>\n",
       "</table>\n",
       "<p>156 rows × 33 columns</p>\n",
       "</div>"
      ],
      "text/plain": [
       "     championId championName  versionIndex         version     hp  hpperlevel  \\\n",
       "0             1        Annie         11.17  11.17.394.4489  524.0          88   \n",
       "1             2         Olaf         11.17  11.17.394.4489  575.0         100   \n",
       "2             3        Galio         11.17  11.17.394.4489  562.0         112   \n",
       "3             4  TwistedFate         11.17  11.17.394.4489  534.0          94   \n",
       "4             5      XinZhao         11.17  11.17.394.4489  570.0          92   \n",
       "..          ...          ...           ...             ...    ...         ...   \n",
       "151         555         Pyke         11.17  11.17.394.4489  600.0          90   \n",
       "152         777         Yone         11.17  11.17.394.4489  550.0          85   \n",
       "153         875         Sett         11.17  11.17.394.4489  600.0          93   \n",
       "154         876       Lillia         11.17  11.17.394.4489  580.0          90   \n",
       "155         887         Gwen         11.17  11.17.394.4489  550.0          90   \n",
       "\n",
       "        mp  mpperlevel  movespeed  armor  ...  attackspeed   hp_18   mp_18  \\\n",
       "0    418.0        25.0        335     19  ...        0.579  2020.0   843.0   \n",
       "1    316.0        42.0        350     35  ...        0.694  2275.0  1030.0   \n",
       "2    500.0        40.0        335     24  ...        0.625  2466.0  1180.0   \n",
       "3    333.0        39.0        330     21  ...        0.651  2132.0   996.0   \n",
       "4    274.0        55.0        345     35  ...        0.645  2134.0  1209.0   \n",
       "..     ...         ...        ...    ...  ...          ...     ...     ...   \n",
       "151  415.0        50.0        330     45  ...        0.667  2130.0  1265.0   \n",
       "152  500.0         0.0        345     28  ...        0.625  1995.0   500.0   \n",
       "153    0.0         0.0        340     33  ...        0.625  2181.0     0.0   \n",
       "154  410.0        50.0        330     22  ...        0.625  2110.0  1260.0   \n",
       "155  330.0        40.0        340     39  ...        0.690  2080.0  1010.0   \n",
       "\n",
       "     armor_18  spellblock_18  hpregen_18  mpregen_18  crit_18  \\\n",
       "0       87.00          38.50       14.85       21.60        0   \n",
       "1       86.00          53.25       23.80       17.70        0   \n",
       "2       83.50          53.25       21.60       21.40        0   \n",
       "3       74.55          38.50       15.70       21.60        0   \n",
       "4       94.50          53.25       19.90       14.91        0   \n",
       "..        ...            ...         ...         ...      ...   \n",
       "151    104.50          53.25       15.50       25.00        0   \n",
       "152     85.80          53.25       20.25        0.00        0   \n",
       "153    101.00          53.25       15.50        0.00        0   \n",
       "154     90.00          44.75       20.25       27.65        0   \n",
       "155    107.00          53.25       16.35       19.40        0   \n",
       "\n",
       "     attackdamage_18  attackspeed_18  \n",
       "0              94.71          0.7129  \n",
       "1             127.50          1.0125  \n",
       "2             118.50          0.7844  \n",
       "3             108.10          1.0074  \n",
       "4             114.00          1.0288  \n",
       "..               ...             ...  \n",
       "151            96.00          0.9505  \n",
       "152            94.00          0.9969  \n",
       "153           128.00          0.8109  \n",
       "154           113.70          0.9119  \n",
       "155           114.00          0.9539  \n",
       "\n",
       "[156 rows x 33 columns]"
      ]
     },
     "execution_count": 53,
     "metadata": {},
     "output_type": "execute_result"
    }
   ],
   "source": [
    "champ_stats"
   ]
  },
  {
   "cell_type": "code",
   "execution_count": 27,
   "id": "f50dafdd",
   "metadata": {
    "scrolled": true
   },
   "outputs": [
    {
     "data": {
      "text/plain": [
       "<AxesSubplot:xlabel='hp', ylabel='hp_18'>"
      ]
     },
     "execution_count": 27,
     "metadata": {},
     "output_type": "execute_result"
    },
    {
     "data": {
      "image/png": "[encoded data removed]",
      "text/plain": [
       "<Figure size 432x288 with 1 Axes>"
      ]
     },
     "metadata": {
      "needs_background": "light"
     },
     "output_type": "display_data"
    }
   ],
   "source": [
    "sns.scatterplot(data = champ_stats, x = 'hp', y = 'hp_18')\n",
    "# .set_xlim(450,650)"
   ]
  },
  {
   "cell_type": "markdown",
   "id": "c1245161",
   "metadata": {},
   "source": [
    "scatter plot에 모든 챔피언 이름 새기기"
   ]
  },
  {
   "cell_type": "code",
   "execution_count": 62,
   "id": "da101b1a",
   "metadata": {},
   "outputs": [
    {
     "data": {
      "text/html": [
       "<div>\n",
       "<style scoped>\n",
       "    .dataframe tbody tr th:only-of-type {\n",
       "        vertical-align: middle;\n",
       "    }\n",
       "\n",
       "    .dataframe tbody tr th {\n",
       "        vertical-align: top;\n",
       "    }\n",
       "\n",
       "    .dataframe thead th {\n",
       "        text-align: right;\n",
       "    }\n",
       "</style>\n",
       "<table border=\"1\" class=\"dataframe\">\n",
       "  <thead>\n",
       "    <tr style=\"text-align: right;\">\n",
       "      <th></th>\n",
       "      <th>hp</th>\n",
       "      <th>hp_18</th>\n",
       "    </tr>\n",
       "  </thead>\n",
       "  <tbody>\n",
       "    <tr>\n",
       "      <th>129</th>\n",
       "      <td>340.0</td>\n",
       "      <td>1530.0</td>\n",
       "    </tr>\n",
       "  </tbody>\n",
       "</table>\n",
       "</div>"
      ],
      "text/plain": [
       "        hp   hp_18\n",
       "129  340.0  1530.0"
      ]
     },
     "execution_count": 62,
     "metadata": {},
     "output_type": "execute_result"
    }
   ],
   "source": [
    "champ_stats[champ_stats['championName'] == 'Kled'][['hp','hp_18']]"
   ]
  },
  {
   "cell_type": "code",
   "execution_count": 64,
   "id": "e4475732",
   "metadata": {},
   "outputs": [
    {
     "name": "stdout",
     "output_type": "stream",
     "text": [
      "129    340.0\n",
      "Name: hp, dtype: float64 129    1530.0\n",
      "Name: hp_18, dtype: float64\n"
     ]
    }
   ],
   "source": [
    "print(x,y)"
   ]
  },
  {
   "cell_type": "code",
   "execution_count": 69,
   "id": "bfb43e3d",
   "metadata": {},
   "outputs": [
    {
     "name": "stdout",
     "output_type": "stream",
     "text": [
      "129    345.0\n",
      "Name: hp, dtype: float64 129    1535.0\n",
      "Name: hp_18, dtype: float64\n"
     ]
    },
    {
     "data": {
      "image/png": "[encoded data removed]",
      "text/plain": [
       "<Figure size 432x288 with 1 Axes>"
      ]
     },
     "metadata": {
      "needs_background": "light"
     },
     "output_type": "display_data"
    }
   ],
   "source": [
    "sns.scatterplot(data = champ_stats, x = 'hp', y = 'hp_18')\n",
    "x = champ_stats[champ_stats['championName'] == 'Kled']['hp'] + 5 \n",
    "y = champ_stats[champ_stats['championName'] == 'Kled']['hp_18'] +5 \n",
    "plt.text(x = x,\n",
    "         y = y,\n",
    "         s = 'Kled')\n",
    "print(x,y)"
   ]
  },
  {
   "cell_type": "code",
   "execution_count": 55,
   "id": "cee0d064",
   "metadata": {},
   "outputs": [
    {
     "data": {
      "text/plain": [
       "Text(129    345.0\n",
       "Name: hp, dtype: float64, 129    1535.0\n",
       "Name: hp_18, dtype: float64, 'Kled')"
      ]
     },
     "execution_count": 55,
     "metadata": {},
     "output_type": "execute_result"
    },
    {
     "data": {
      "image/png": "[encoded data removed]",
      "text/plain": [
       "<Figure size 432x288 with 1 Axes>"
      ]
     },
     "metadata": {
      "needs_background": "light"
     },
     "output_type": "display_data"
    }
   ],
   "source": [
    "sns.scatterplot(data = champ_stats, x = 'hp', y = 'hp_18')\n",
    "plt.text(x = champ_stats[champ_stats['championName'] == 'Kled']['hp'] + 5,\n",
    "         y = champ_stats[champ_stats['championName'] == 'Kled']['hp_18'] + 5,\n",
    "         s = 'Kled')"
   ]
  },
  {
   "cell_type": "code",
   "execution_count": null,
   "id": "f795a8a6",
   "metadata": {},
   "outputs": [],
   "source": [
    "scatterplot attackdamage, attackspeed로도 진행하기"
   ]
  },
  {
   "cell_type": "code",
   "execution_count": 70,
   "id": "230b91ff",
   "metadata": {},
   "outputs": [],
   "source": [
    "import matplotlib.pyplot as plt"
   ]
  },
  {
   "cell_type": "code",
   "execution_count": 29,
   "id": "e3d17fd1",
   "metadata": {
    "scrolled": false
   },
   "outputs": [
    {
     "data": {
      "image/png": "[encoded data removed]",
      "text/plain": [
       "<Figure size 1152x1152 with 1 Axes>"
      ]
     },
     "metadata": {
      "needs_background": "light"
     },
     "output_type": "display_data"
    }
   ],
   "source": [
    "# 챔피언 능력치 별로 scatter\n",
    "plt.figure(figsize = (16,16))\n",
    "sns.scatterplot(data = champ_stats, x = 'hp', y = 'hp_18').set_xlim(450,650)\n",
    "for i in range(champ_stats.shape[0]):\n",
    "    if champ_stats.championName[i] == 'Kled':\n",
    "        continue\n",
    "    plt.text(x = champ_stats['hp'][i] + 0.3, \n",
    "             y = champ_stats['hp_18'][i] + 0.3, \n",
    "             s = champ_stats.championName[i])"
   ]
  },
  {
   "cell_type": "markdown",
   "id": "42b62863",
   "metadata": {},
   "source": [
    "1. attackdamage, attackspeed도 같은 방식으로 해보기\n",
    "2. 와드와 승률의 상관관계 그래프로 구하기\n",
    "3. 해보고 싶은 시각화 하기, 질문 시간"
   ]
  }
 ],
 "metadata": {
  "kernelspec": {
   "display_name": "Python 3",
   "language": "python",
   "name": "python3"
  },
  "language_info": {
   "codemirror_mode": {
    "name": "ipython",
    "version": 3
   },
   "file_extension": ".py",
   "mimetype": "text/x-python",
   "name": "python",
   "nbconvert_exporter": "python",
   "pygments_lexer": "ipython3",
   "version": "3.6.9"
  }
 },
 "nbformat": 4,
 "nbformat_minor": 5
}
