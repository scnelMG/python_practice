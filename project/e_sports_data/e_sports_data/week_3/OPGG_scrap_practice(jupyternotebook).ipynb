{
 "cells": [
  {
   "cell_type": "code",
   "execution_count": null,
   "id": "nPBiTQU2FfeW",
   "metadata": {
    "colab": {
     "base_uri": "https://localhost:8080/"
    },
    "id": "nPBiTQU2FfeW",
    "outputId": "b52411dc-1812-4e43-a1f1-6fae532ab4ab"
   },
   "outputs": [],
   "source": []
  },
  {
   "cell_type": "code",
   "execution_count": 1,
   "id": "99c41f3e",
   "metadata": {
    "id": "99c41f3e"
   },
   "outputs": [],
   "source": [
    "import requests\n",
    "import time\n",
    "import pandas as pd\n",
    "from bs4 import BeautifulSoup\n",
    "from selenium import webdriver\n",
    "from selenium.webdriver.support.ui import Select"
   ]
  },
  {
   "cell_type": "code",
   "execution_count": 2,
   "id": "NaF18OQPDkAi",
   "metadata": {
    "colab": {
     "base_uri": "https://localhost:8080/"
    },
    "id": "NaF18OQPDkAi",
    "outputId": "18970bce-fc89-4f8b-f128-e2f3cd9b5fe8"
   },
   "outputs": [],
   "source": [
    "\n",
    "from selenium import webdriver\n",
    "options = webdriver.ChromeOptions()\n",
    "\n",
    "# 우리가 데이터를 가져올 웹 페이지입니다.\n",
    "my_opgg_url = 'https://www.op.gg/summoner/userName=midplayer%20or%20AFK'\n",
    "options.add_argument('headless')\n",
    "driver = webdriver.Chrome(\"/Users/Mgyu/chromedriver\", options= options)"
   ]
  },
  {
   "cell_type": "code",
   "execution_count": 3,
   "id": "d003e032",
   "metadata": {
    "id": "d003e032"
   },
   "outputs": [],
   "source": [
    "# 데이터를 가져올 페이지로 이동합니다.\n",
    "driver.get(my_opgg_url)"
   ]
  },
  {
   "cell_type": "code",
   "execution_count": 4,
   "id": "51cb4a8a",
   "metadata": {
    "id": "51cb4a8a"
   },
   "outputs": [],
   "source": [
    "queue_select = Select(driver.find_element_by_css_selector('select.SelectMatchTypes'))"
   ]
  },
  {
   "cell_type": "code",
   "execution_count": 5,
   "id": "1ed4f411",
   "metadata": {
    "id": "1ed4f411"
   },
   "outputs": [],
   "source": [
    "queue_select.select_by_value('aram')\n",
    "time.sleep(2)"
   ]
  },
  {
   "cell_type": "code",
   "execution_count": 6,
   "id": "53d056f1",
   "metadata": {
    "colab": {
     "base_uri": "https://localhost:8080/"
    },
    "id": "53d056f1",
    "outputId": "155fedf6-6edd-4766-d72b-30de8c83ee29"
   },
   "outputs": [],
   "source": [
    "# '더 보기' 버튼이 활성화되어있으면(리스트의 끝까지 도달하지 않았으면) 계속 클릭하여 이전 게임을 모두 로딩합니다.\n",
    "while True:\n",
    "    try:\n",
    "        driver.find_element_by_css_selector('.GameMoreButton').click()\n",
    "        # 게임 로딩, html 코드 변경까지 여유 시간을 1초 가집니다.\n",
    "        time.sleep(1)\n",
    "        \n",
    "    # 에러가 나면(페이지에서 '더 보기' 버튼이 없을 경우) while문을 탈출합니다.\n",
    "    except Exception as e:\n",
    "        pass\n",
    "        break"
   ]
  },
  {
   "cell_type": "code",
   "execution_count": 7,
   "id": "25aa8e68",
   "metadata": {
    "id": "25aa8e68"
   },
   "outputs": [],
   "source": [
    "# 결과가 들어갈 빈 리스트를 만듭니다.\n",
    "my_gametime= []\n",
    "my_champions = []\n",
    "my_level = []"
   ]
  },
  {
   "cell_type": "code",
   "execution_count": 8,
   "id": "5dded0a5",
   "metadata": {
    "colab": {
     "base_uri": "https://localhost:8080/"
    },
    "id": "5dded0a5",
    "outputId": "ea406729-103c-4a13-a70a-f95cd70ab6a6"
   },
   "outputs": [],
   "source": [
    "# 각 게임에 대해 웹 페이지에 기재된 스탯을 찾아서(selector 사용) 결과 리스트에 append하기\n",
    "for gamelist in driver.find_elements_by_css_selector('div.GameItemList'):\n",
    "    for game in gamelist.find_elements_by_css_selector('div.GameItemWrap'):\n",
    "        my_gametime.append(game.find_element_by_css_selector('div.GameStats').\n",
    "                           find_element_by_css_selector('div.GameLength').text.strip())\n",
    "        my_champions.append(game.find_element_by_css_selector('div.ChampionName').text.strip())\n",
    "        my_level.append(game.find_element_by_css_selector('div.Stats').\n",
    "                           find_element_by_css_selector('div.Level').text.strip())\n",
    "   "
   ]
  },
  {
   "cell_type": "code",
   "execution_count": 9,
   "id": "b2f871ad",
   "metadata": {
    "id": "b2f871ad"
   },
   "outputs": [],
   "source": [
    "# selenium이 제어하는 크롬을 종료합니다.\n",
    "driver.quit()"
   ]
  },
  {
   "cell_type": "code",
   "execution_count": 10,
   "id": "n3axLMAeUdbc",
   "metadata": {
    "colab": {
     "base_uri": "https://localhost:8080/"
    },
    "id": "n3axLMAeUdbc",
    "outputId": "4cda50fe-9136-4eb9-a934-c133875d8fe6"
   },
   "outputs": [
    {
     "data": {
      "text/plain": [
       "301"
      ]
     },
     "execution_count": 10,
     "metadata": {},
     "output_type": "execute_result"
    }
   ],
   "source": [
    "len(my_gametime)"
   ]
  },
  {
   "cell_type": "code",
   "execution_count": 11,
   "id": "de6cdb18",
   "metadata": {
    "colab": {
     "base_uri": "https://localhost:8080/",
     "height": 417
    },
    "id": "de6cdb18",
    "outputId": "4b3257d0-bb74-4863-a73d-05286d45ea30"
   },
   "outputs": [
    {
     "data": {
      "text/html": [
       "<div>\n",
       "<style scoped>\n",
       "    .dataframe tbody tr th:only-of-type {\n",
       "        vertical-align: middle;\n",
       "    }\n",
       "\n",
       "    .dataframe tbody tr th {\n",
       "        vertical-align: top;\n",
       "    }\n",
       "\n",
       "    .dataframe thead th {\n",
       "        text-align: right;\n",
       "    }\n",
       "</style>\n",
       "<table border=\"1\" class=\"dataframe\">\n",
       "  <thead>\n",
       "    <tr style=\"text-align: right;\">\n",
       "      <th></th>\n",
       "      <th>gametime</th>\n",
       "      <th>champion</th>\n",
       "      <th>level</th>\n",
       "    </tr>\n",
       "  </thead>\n",
       "  <tbody>\n",
       "    <tr>\n",
       "      <th>0</th>\n",
       "      <td>17분 38초</td>\n",
       "      <td>요네</td>\n",
       "      <td>레벨17</td>\n",
       "    </tr>\n",
       "    <tr>\n",
       "      <th>1</th>\n",
       "      <td>20분 34초</td>\n",
       "      <td>일라오이</td>\n",
       "      <td>레벨18</td>\n",
       "    </tr>\n",
       "    <tr>\n",
       "      <th>2</th>\n",
       "      <td>24분 32초</td>\n",
       "      <td>룰루</td>\n",
       "      <td>레벨18</td>\n",
       "    </tr>\n",
       "    <tr>\n",
       "      <th>3</th>\n",
       "      <td>12분 20초</td>\n",
       "      <td>트위스티드 페이트</td>\n",
       "      <td>레벨14</td>\n",
       "    </tr>\n",
       "    <tr>\n",
       "      <th>4</th>\n",
       "      <td>19분 9초</td>\n",
       "      <td>아펠리오스</td>\n",
       "      <td>레벨17</td>\n",
       "    </tr>\n",
       "    <tr>\n",
       "      <th>...</th>\n",
       "      <td>...</td>\n",
       "      <td>...</td>\n",
       "      <td>...</td>\n",
       "    </tr>\n",
       "    <tr>\n",
       "      <th>296</th>\n",
       "      <td>24분 44초</td>\n",
       "      <td>제라스</td>\n",
       "      <td>레벨18</td>\n",
       "    </tr>\n",
       "    <tr>\n",
       "      <th>297</th>\n",
       "      <td>18분 40초</td>\n",
       "      <td>사일러스</td>\n",
       "      <td>레벨16</td>\n",
       "    </tr>\n",
       "    <tr>\n",
       "      <th>298</th>\n",
       "      <td>20분 16초</td>\n",
       "      <td>세나</td>\n",
       "      <td>레벨18</td>\n",
       "    </tr>\n",
       "    <tr>\n",
       "      <th>299</th>\n",
       "      <td>24분 31초</td>\n",
       "      <td>모르가나</td>\n",
       "      <td>레벨18</td>\n",
       "    </tr>\n",
       "    <tr>\n",
       "      <th>300</th>\n",
       "      <td>24분 47초</td>\n",
       "      <td>바루스</td>\n",
       "      <td>레벨18</td>\n",
       "    </tr>\n",
       "  </tbody>\n",
       "</table>\n",
       "<p>301 rows × 3 columns</p>\n",
       "</div>"
      ],
      "text/plain": [
       "    gametime   champion level\n",
       "0    17분 38초         요네  레벨17\n",
       "1    20분 34초       일라오이  레벨18\n",
       "2    24분 32초         룰루  레벨18\n",
       "3    12분 20초  트위스티드 페이트  레벨14\n",
       "4     19분 9초      아펠리오스  레벨17\n",
       "..       ...        ...   ...\n",
       "296  24분 44초        제라스  레벨18\n",
       "297  18분 40초       사일러스  레벨16\n",
       "298  20분 16초         세나  레벨18\n",
       "299  24분 31초       모르가나  레벨18\n",
       "300  24분 47초        바루스  레벨18\n",
       "\n",
       "[301 rows x 3 columns]"
      ]
     },
     "execution_count": 11,
     "metadata": {},
     "output_type": "execute_result"
    }
   ],
   "source": [
    "# DataFrame으로 변환 후 출력\n",
    "my_total_df = pd.DataFrame([my_gametime,\n",
    "                               my_champions,\n",
    "                                my_level],\n",
    "                               index = ['gametime','champion','level']).T\n",
    "my_total_df"
   ]
  },
  {
   "cell_type": "code",
   "execution_count": null,
   "id": "67cfa0f0",
   "metadata": {},
   "outputs": [],
   "source": []
  }
 ],
 "metadata": {
  "colab": {
   "name": "Faker_OPGG_scrap practice.ipynb",
   "provenance": []
  },
  "kernelspec": {
   "display_name": "Python 3 (ipykernel)",
   "language": "python",
   "name": "python3"
  },
  "language_info": {
   "codemirror_mode": {
    "name": "ipython",
    "version": 3
   },
   "file_extension": ".py",
   "mimetype": "text/x-python",
   "name": "python",
   "nbconvert_exporter": "python",
   "pygments_lexer": "ipython3",
   "version": "3.8.11"
  },
  "varInspector": {
   "cols": {
    "lenName": 16,
    "lenType": 16,
    "lenVar": 40
   },
   "kernels_config": {
    "python": {
     "delete_cmd_postfix": "",
     "delete_cmd_prefix": "del ",
     "library": "var_list.py",
     "varRefreshCmd": "print(var_dic_list())"
    },
    "r": {
     "delete_cmd_postfix": ") ",
     "delete_cmd_prefix": "rm(",
     "library": "var_list.r",
     "varRefreshCmd": "cat(var_dic_list()) "
    }
   },
   "types_to_exclude": [
    "module",
    "function",
    "builtin_function_or_method",
    "instance",
    "_Feature"
   ],
   "window_display": false
  }
 },
 "nbformat": 4,
 "nbformat_minor": 5
}
