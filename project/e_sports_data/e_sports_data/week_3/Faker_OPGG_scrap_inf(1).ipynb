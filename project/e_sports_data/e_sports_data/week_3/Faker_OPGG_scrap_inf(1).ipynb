{
 "cells": [
  {
   "cell_type": "code",
   "execution_count": null,
   "id": "99c41f3e",
   "metadata": {},
   "outputs": [],
   "source": [
    "import requests\n",
    "import time\n",
    "import pandas as pd\n",
    "from bs4 import BeautifulSoup\n",
    "from selenium import webdriver"
   ]
  },
  {
   "cell_type": "code",
   "execution_count": null,
   "id": "ff8df5c2",
   "metadata": {},
   "outputs": [],
   "source": [
    "# selenium을 백그라운드로 실행하기 위해 옵션 설정\n",
    "options = webdriver.ChromeOptions()\n",
    "options.add_argument('headless')\n",
    "options.add_argument('window-size=1920x1080')"
   ]
  },
  {
   "cell_type": "code",
   "execution_count": null,
   "id": "0ed6aeb7",
   "metadata": {
    "scrolled": true
   },
   "outputs": [],
   "source": [
    "# 우리가 데이터를 가져올 웹 페이지입니다.\n",
    "faker_opgg_url = 'https://www.op.gg/summoner/userName=Hide%20on%20bush'\n",
    "\n",
    "# selenium이 제어할 chrome을 실행합니다.\n",
    "# driver = webdriver.Chrome(\"/Users/namshin/chromedriver\")\n",
    "driver = webdriver.Chrome(\"/Users/namshin/chromedriver\", options= options)"
   ]
  },
  {
   "cell_type": "code",
   "execution_count": null,
   "id": "d003e032",
   "metadata": {},
   "outputs": [],
   "source": [
    "# 데이터를 가져올 페이지로 이동합니다.\n",
    "driver.get(faker_opgg_url)"
   ]
  },
  {
   "cell_type": "code",
   "execution_count": null,
   "id": "53d056f1",
   "metadata": {},
   "outputs": [],
   "source": [
    "# '더 보기' 버튼이 활성화되어있으면(리스트의 끝까지 도달하지 않았으면) 계속 클릭하여 이전 게임을 모두 로딩합니다.\n",
    "while True:\n",
    "    try:\n",
    "        driver.find_element_by_css_selector('.GameMoreButton').click()\n",
    "        # 게임 로딩, html 코드 변경까지 여유 시간을 1초 가집니다.\n",
    "        time.sleep(1)\n",
    "        \n",
    "    # 에러가 나면(페이지에서 '더 보기' 버튼이 없을 경우) while문을 탈출합니다.\n",
    "    except Exception as e:\n",
    "        pass\n",
    "        break"
   ]
  },
  {
   "cell_type": "code",
   "execution_count": null,
   "id": "e160cc88",
   "metadata": {},
   "outputs": [],
   "source": [
    "# 게임이 모두 로딩된 페이지의 html 코드를 faker_total_html로 저장합니다.\n",
    "faker_total_html = driver.page_source\n",
    "\n",
    "# selenium이 제어하는 크롬을 종료합니다.\n",
    "driver.quit()"
   ]
  },
  {
   "cell_type": "code",
   "execution_count": null,
   "id": "4790542e",
   "metadata": {},
   "outputs": [],
   "source": [
    "# html 형식에 맞춰 파싱(parsing; 추후 이용하기 쉽도록 쪼개기)합니다.\n",
    "faker_total_soup = BeautifulSoup(faker_total_html, 'html.parser')"
   ]
  },
  {
   "cell_type": "code",
   "execution_count": null,
   "id": "38bae6df",
   "metadata": {},
   "outputs": [],
   "source": [
    "# 결과가 들어갈 빈 리스트를 만듭니다.\n",
    "faker_champions = []\n",
    "faker_kills = []\n",
    "faker_deaths = []\n",
    "faker_assists = []\n",
    "faker_results = []"
   ]
  },
  {
   "cell_type": "code",
   "execution_count": null,
   "id": "9a3c1ecb",
   "metadata": {
    "scrolled": true
   },
   "outputs": [],
   "source": [
    "# 전체 html 코드 중 우리가 원하는 selector를 만족하는 것만 가져오기\n",
    "faker_total_games_html = faker_total_soup.select('div.GameItemList div.GameItemWrap')\n",
    "\n",
    "# 그렇게 가져온 html 코드의 element 개수 == 끝까지 로딩된 모든 게임 수 출력\n",
    "total_game_len = len(faker_total_games_html)\n",
    "print(total_game_len)"
   ]
  },
  {
   "cell_type": "code",
   "execution_count": null,
   "id": "6d7c3099",
   "metadata": {},
   "outputs": [],
   "source": [
    "# 각 게임에 대해 웹 페이지에 기재된 스탯을 찾아서(selector 사용) 결과 리스트에 append하기\n",
    "for i in range(total_game_len):\n",
    "    faker_champions.append(list(faker_total_games_html[i].select_one('div.ChampionName').\n",
    "                                               stripped_strings)[0])\n",
    "    faker_kills.append(list(faker_total_games_html[i].select_one('div.KDA div.KDA span.Kill').\n",
    "                                               stripped_strings)[0])\n",
    "    faker_deaths.append(list(faker_total_games_html[i].select_one('div.KDA div.KDA span.Death').\n",
    "                                               stripped_strings)[0])\n",
    "    faker_assists.append(list(faker_total_games_html[i].select_one('div.KDA div.KDA span.Assist').\n",
    "                                               stripped_strings)[0])\n",
    "    faker_results.append(list(faker_total_games_html[i].select_one('div.GameStats div.GameResult').\n",
    "                                               stripped_strings)[0])"
   ]
  },
  {
   "cell_type": "code",
   "execution_count": null,
   "id": "de6cdb18",
   "metadata": {},
   "outputs": [],
   "source": [
    "# DataFrame으로 변환 후 출력\n",
    "faker_total_df = pd.DataFrame([faker_champions,\n",
    "                                faker_results,\n",
    "                                faker_kills,\n",
    "                                faker_deaths,\n",
    "                                faker_assists],\n",
    "                               index = ['champion', 'result', 'kills', 'deaths', 'assists']).T\n",
    "faker_total_df"
   ]
  }
 ],
 "metadata": {
  "kernelspec": {
   "display_name": "Python 3",
   "language": "python",
   "name": "python3"
  },
  "language_info": {
   "codemirror_mode": {
    "name": "ipython",
    "version": 3
   },
   "file_extension": ".py",
   "mimetype": "text/x-python",
   "name": "python",
   "nbconvert_exporter": "python",
   "pygments_lexer": "ipython3",
   "version": "3.8.8"
  },
  "varInspector": {
   "cols": {
    "lenName": 16,
    "lenType": 16,
    "lenVar": 40
   },
   "kernels_config": {
    "python": {
     "delete_cmd_postfix": "",
     "delete_cmd_prefix": "del ",
     "library": "var_list.py",
     "varRefreshCmd": "print(var_dic_list())"
    },
    "r": {
     "delete_cmd_postfix": ") ",
     "delete_cmd_prefix": "rm(",
     "library": "var_list.r",
     "varRefreshCmd": "cat(var_dic_list()) "
    }
   },
   "types_to_exclude": [
    "module",
    "function",
    "builtin_function_or_method",
    "instance",
    "_Feature"
   ],
   "window_display": false
  }
 },
 "nbformat": 4,
 "nbformat_minor": 5
}
