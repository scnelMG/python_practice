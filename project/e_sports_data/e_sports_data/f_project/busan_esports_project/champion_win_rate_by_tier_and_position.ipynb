{
 "cells": [
  {
   "cell_type": "code",
   "execution_count": 4,
   "id": "48e2c042",
   "metadata": {},
   "outputs": [],
   "source": [
    "import pandas as pd\n",
    "import numpy as np\n",
    "import requests\n",
    "import matplotlib.pyplot as plt\n",
    "import seaborn as sns"
   ]
  },
  {
   "cell_type": "code",
   "execution_count": 7,
   "id": "18aa08e6",
   "metadata": {},
   "outputs": [],
   "source": [
    "constant_patch = '11.23.1'\n",
    "\n",
    "# 라이엇 개발자 페이지에서 최신 버전 한국 서버 챔피언 정보 가져오기\n",
    "champion_info = requests.get(\"http://ddragon.leagueoflegends.com/cdn/\" + constant_patch + \"/data/ko_KR/champion.json\").json()     "
   ]
  },
  {
   "cell_type": "code",
   "execution_count": 9,
   "id": "f270ffb7",
   "metadata": {},
   "outputs": [],
   "source": [
    "# 챔피언 정보 => DataFrame으로 변환\n",
    "# champion_df는 'key'로 id값, 'name'으로 챔피언 한국어 이름을 가지는 156rows짜리 DataFrame\n",
    "champion_df = pd.DataFrame(champion_info['data']).T[['key', 'name']]\n",
    "\n",
    "# champion_df의 'key' column string => numeric 변환\n",
    "champion_df['key'] = pd.to_numeric(champion_df['key'])"
   ]
  },
  {
   "cell_type": "code",
   "execution_count": 10,
   "id": "c70413a1",
   "metadata": {},
   "outputs": [],
   "source": [
    "df = pd.read_csv('BIPA_data.csv', index_col=0)"
   ]
  },
  {
   "cell_type": "code",
   "execution_count": 11,
   "id": "4a5ebc3b",
   "metadata": {},
   "outputs": [],
   "source": [
    "df = df.merge(champion_df, how = 'left', left_on = 'championId', right_on = 'key')"
   ]
  },
  {
   "cell_type": "code",
   "execution_count": 12,
   "id": "70641a99",
   "metadata": {},
   "outputs": [],
   "source": [
    "data = pd.DataFrame()\n",
    "data = df[['tierRank', 'position', 'name', 'result']]"
   ]
  },
  {
   "cell_type": "code",
   "execution_count": 13,
   "id": "cda55305",
   "metadata": {},
   "outputs": [
    {
     "name": "stdout",
     "output_type": "stream",
     "text": [
      "data :  963577\n"
     ]
    }
   ],
   "source": [
    "# 결측치 드랍\n",
    "data = data.dropna(axis=0)\n",
    "# 다시하기 드랍\n",
    "data.drop(data.loc[data['result']=='UNKNOWN'].index, inplace=True)\n",
    "print('data : ', len(data))"
   ]
  },
  {
   "cell_type": "code",
   "execution_count": 14,
   "id": "f23a43f4",
   "metadata": {},
   "outputs": [],
   "source": [
    "# result 숫자로 변환\n",
    "data.loc[data['result'] == 'WIN', 'result'] = 1\n",
    "data.loc[data['result'] == 'LOSE', 'result'] = 0\n",
    "data['game'] = 1\n",
    "data = data.astype({'result' : 'int'})"
   ]
  },
  {
   "cell_type": "code",
   "execution_count": 15,
   "id": "a37399f5",
   "metadata": {},
   "outputs": [
    {
     "name": "stdout",
     "output_type": "stream",
     "text": [
      "IRON :  9857\n",
      "BRONZE :  125597\n",
      "SILVER :  344653\n",
      "GOLD :  328557\n",
      "PLATINUM :  124452\n",
      "DIAMOND :  26585\n",
      "MASTER :  2953\n",
      "GRAND_MASTER :  712\n",
      "CHALLENGER :  211\n",
      "SUM :  963577\n"
     ]
    }
   ],
   "source": [
    "# 티어별 데이터 프레임 생성\n",
    "IRON = data[data['tierRank'].str.contains('I')]\n",
    "print('IRON : ', len(IRON))\n",
    "BRONZE = data[data['tierRank'].str.contains('B')]\n",
    "print('BRONZE : ', len(BRONZE))\n",
    "SILVER = data[data['tierRank'].str.contains('S')]\n",
    "print('SILVER : ', len(SILVER))\n",
    "GOLD = data[data['tierRank'].str.contains('G')]\n",
    "print('GOLD : ', len(GOLD))\n",
    "PLATINUM = data[data['tierRank'].str.contains('P')]\n",
    "print('PLATINUM : ', len(PLATINUM))\n",
    "DIAMOND = data[data['tierRank'].str.contains('D')]\n",
    "print('DIAMOND : ', len(DIAMOND))\n",
    "MASTER = data[data['tierRank'].str.contains('M')]\n",
    "print('MASTER : ', len(MASTER))\n",
    "GRAND_MASTER = data[data['tierRank'].str.contains('R')]\n",
    "print('GRAND_MASTER : ', len(GRAND_MASTER))\n",
    "CHALLENGER = data[data['tierRank'].str.contains('C')]\n",
    "print('CHALLENGER : ', len(CHALLENGER))\n",
    "print('SUM : ', len(IRON)+len(BRONZE)+len(SILVER)+len(GOLD)+len(PLATINUM)+len(DIAMOND)+len(MASTER)+len(GRAND_MASTER)+len(CHALLENGER))"
   ]
  },
  {
   "cell_type": "code",
   "execution_count": 62,
   "id": "2f128a19",
   "metadata": {},
   "outputs": [],
   "source": [
    "# 티어별 픽률\n",
    "IRON_pickRate = IRON.groupby(\"name\", as_index = False).size()\n",
    "IRON_pickRate['PickRate'] = (IRON_pickRate['size']/len(IRON))*100\n",
    "\n",
    "BRONZE_pickRate = BRONZE.groupby(\"name\", as_index = False).size()\n",
    "BRONZE_pickRate['PickRate'] = (BRONZE_pickRate['size']/len(IRON))*100\n",
    "\n",
    "SILVER_pickRate = SILVER.groupby(\"name\", as_index = False).size()\n",
    "SILVER_pickRate['PickRate'] = (SILVER_pickRate['size']/len(IRON))*100\n",
    "\n",
    "GOLD_pickRate = GOLD.groupby(\"name\", as_index = False).size()\n",
    "GOLD_pickRate['PickRate'] = (GOLD_pickRate['size']/len(IRON))*100\n",
    "\n",
    "PLATINUM_pickRate = PLATINUM.groupby(\"name\", as_index = False).size()\n",
    "PLATINUM_pickRate['PickRate'] = (PLATINUM_pickRate['size']/len(IRON))*100\n",
    "\n",
    "DIAMOND_pickRate = DIAMOND.groupby(\"name\", as_index = False).size()\n",
    "DIAMOND_pickRate['PickRate'] = (DIAMOND_pickRate['size']/len(IRON))*100\n",
    "\n",
    "MASTER_pickRate = MASTER.groupby(\"name\", as_index = False).size()\n",
    "MASTER_pickRate['PickRate'] = (MASTER_pickRate['size']/len(IRON))*100\n",
    "\n",
    "GRAND_MASTER_pickRate = GRAND_MASTER.groupby(\"name\", as_index = False).size()\n",
    "GRAND_MASTER_pickRate['PickRate'] = (GRAND_MASTER_pickRate['size']/len(IRON))*100\n",
    "\n",
    "CHALLENGER_pickRate = CHALLENGER.groupby(\"name\", as_index = False).size()\n",
    "CHALLENGER_pickRate['PickRate'] = (CHALLENGER_pickRate['size']/len(IRON))*100"
   ]
  },
  {
   "cell_type": "code",
   "execution_count": 63,
   "id": "c2a53143",
   "metadata": {},
   "outputs": [],
   "source": [
    "# 티어별-포지션별 승률\n",
    "IRON_winRate = IRON.groupby(['position', 'name'], as_index=False).sum()\n",
    "IRON_winRate['winRate'] = IRON_winRate['result'] / IRON_winRate['game']\n",
    "IRON_winRate = IRON_winRate.sort_values(by=['position', 'winRate'], ascending=False) \n",
    "\n",
    "BRONZE_winRate = BRONZE.groupby(['position', 'name'], as_index=False).sum()\n",
    "BRONZE_winRate['winRate'] = BRONZE_winRate['result'] / BRONZE_winRate['game']\n",
    "BRONZE_winRate = BRONZE_winRate.sort_values(by=['position', 'winRate'], ascending=False) \n",
    "\n",
    "SILVER_winRate = SILVER.groupby(['position', 'name'], as_index=False).sum()\n",
    "SILVER_winRate['winRate'] = SILVER_winRate['result'] / SILVER_winRate['game']\n",
    "SILVER_winRate = SILVER_winRate.sort_values(by=['position', 'winRate'], ascending=False) \n",
    "\n",
    "GOLD_winRate = GOLD.groupby(['position', 'name'], as_index=False).sum()\n",
    "GOLD_winRate['winRate'] = GOLD_winRate['result'] / GOLD_winRate['game']\n",
    "GOLD_winRate = GOLD_winRate.sort_values(by=['position', 'winRate'], ascending=False) \n",
    "\n",
    "PLATINUM_winRate = PLATINUM.groupby(['position', 'name'], as_index=False).sum()\n",
    "PLATINUM_winRate['winRate'] = PLATINUM_winRate['result'] / PLATINUM_winRate['game']\n",
    "PLATINUM_winRate = PLATINUM_winRate.sort_values(by=['position', 'winRate'], ascending=False) \n",
    "\n",
    "DIAMOND_winRate = DIAMOND.groupby(['position', 'name'], as_index=False).sum()\n",
    "DIAMOND_winRate['winRate'] = DIAMOND_winRate['result'] / DIAMOND_winRate['game']\n",
    "DIAMOND_winRate = DIAMOND_winRate.sort_values(by=['position', 'winRate'], ascending=False) \n",
    "\n",
    "MASTER_winRate = MASTER.groupby(['position', 'name'], as_index=False).sum()\n",
    "MASTER_winRate['winRate'] = MASTER_winRate['result'] / MASTER_group['game']\n",
    "MASTER_winRate = MASTER_winRate.sort_values(by=['position', 'winRate'], ascending=False) \n",
    "\n",
    "GRAND_MASTER_winRate = GRAND_MASTER.groupby(['position', 'name'], as_index=False).sum()\n",
    "GRAND_MASTER_winRate['winRate'] = GRAND_MASTER_winRate['result'] / GRAND_MASTER_group['game']\n",
    "GRAND_MASTER_winRate = GRAND_MASTER_winRate.sort_values(by=['position', 'winRate'], ascending=False) \n",
    "\n",
    "CHALLENGER_winRate = CHALLENGER.groupby(['position', 'name'], as_index=False).sum()\n",
    "CHALLENGER_winRate['winRate'] = CHALLENGER_winRate['result'] / CHALLENGER_winRate['game']\n",
    "CHALLENGER_winRate = CHALLENGER_winRate.sort_values(by=['position', 'winRate'], ascending=False) "
   ]
  },
  {
   "cell_type": "code",
   "execution_count": 2,
   "id": "3fda5fa5",
   "metadata": {},
   "outputs": [
    {
     "ename": "NameError",
     "evalue": "name 'IRON_winRate' is not defined",
     "output_type": "error",
     "traceback": [
      "\u001b[1;31m---------------------------------------------------------------------------\u001b[0m",
      "\u001b[1;31mNameError\u001b[0m                                 Traceback (most recent call last)",
      "\u001b[1;32m<ipython-input-2-058df9849c1f>\u001b[0m in \u001b[0;36m<module>\u001b[1;34m\u001b[0m\n\u001b[1;32m----> 1\u001b[1;33m \u001b[0mIRON_total\u001b[0m \u001b[1;33m=\u001b[0m \u001b[0mIRON_winRate\u001b[0m\u001b[1;33m.\u001b[0m\u001b[0mmerge\u001b[0m\u001b[1;33m(\u001b[0m\u001b[0mIRON_pickRate\u001b[0m\u001b[1;33m,\u001b[0m \u001b[0mhow\u001b[0m \u001b[1;33m=\u001b[0m \u001b[1;34m'left'\u001b[0m\u001b[1;33m,\u001b[0m \u001b[0mon\u001b[0m \u001b[1;33m=\u001b[0m \u001b[1;34m'name'\u001b[0m\u001b[1;33m)\u001b[0m\u001b[1;33m\u001b[0m\u001b[1;33m\u001b[0m\u001b[0m\n\u001b[0m\u001b[0;32m      2\u001b[0m \u001b[0mBRONZE_total\u001b[0m \u001b[1;33m=\u001b[0m \u001b[0mBRONZE_winRate\u001b[0m\u001b[1;33m.\u001b[0m\u001b[0mmerge\u001b[0m\u001b[1;33m(\u001b[0m\u001b[0mBRONZE_pickRate\u001b[0m\u001b[1;33m,\u001b[0m \u001b[0mhow\u001b[0m \u001b[1;33m=\u001b[0m \u001b[1;34m'left'\u001b[0m\u001b[1;33m,\u001b[0m \u001b[0mon\u001b[0m \u001b[1;33m=\u001b[0m \u001b[1;34m'name'\u001b[0m\u001b[1;33m)\u001b[0m\u001b[1;33m\u001b[0m\u001b[1;33m\u001b[0m\u001b[0m\n\u001b[0;32m      3\u001b[0m \u001b[0mSILVER_total\u001b[0m \u001b[1;33m=\u001b[0m \u001b[0mSILVER_winRate\u001b[0m\u001b[1;33m.\u001b[0m\u001b[0mmerge\u001b[0m\u001b[1;33m(\u001b[0m\u001b[0mSILVER_pickRate\u001b[0m\u001b[1;33m,\u001b[0m \u001b[0mhow\u001b[0m \u001b[1;33m=\u001b[0m \u001b[1;34m'left'\u001b[0m\u001b[1;33m,\u001b[0m \u001b[0mon\u001b[0m \u001b[1;33m=\u001b[0m \u001b[1;34m'name'\u001b[0m\u001b[1;33m)\u001b[0m\u001b[1;33m\u001b[0m\u001b[1;33m\u001b[0m\u001b[0m\n\u001b[0;32m      4\u001b[0m \u001b[0mGOLD_total\u001b[0m \u001b[1;33m=\u001b[0m \u001b[0mGOLD_winRate\u001b[0m\u001b[1;33m.\u001b[0m\u001b[0mmerge\u001b[0m\u001b[1;33m(\u001b[0m\u001b[0mGOLD_pickRate\u001b[0m\u001b[1;33m,\u001b[0m \u001b[0mhow\u001b[0m \u001b[1;33m=\u001b[0m \u001b[1;34m'left'\u001b[0m\u001b[1;33m,\u001b[0m \u001b[0mon\u001b[0m \u001b[1;33m=\u001b[0m \u001b[1;34m'name'\u001b[0m\u001b[1;33m)\u001b[0m\u001b[1;33m\u001b[0m\u001b[1;33m\u001b[0m\u001b[0m\n\u001b[0;32m      5\u001b[0m \u001b[0mPLATINUM_total\u001b[0m \u001b[1;33m=\u001b[0m \u001b[0mPLATINUM_winRate\u001b[0m\u001b[1;33m.\u001b[0m\u001b[0mmerge\u001b[0m\u001b[1;33m(\u001b[0m\u001b[0mPLATINUM_pickRate\u001b[0m\u001b[1;33m,\u001b[0m \u001b[0mhow\u001b[0m \u001b[1;33m=\u001b[0m \u001b[1;34m'left'\u001b[0m\u001b[1;33m,\u001b[0m \u001b[0mon\u001b[0m \u001b[1;33m=\u001b[0m \u001b[1;34m'name'\u001b[0m\u001b[1;33m)\u001b[0m\u001b[1;33m\u001b[0m\u001b[1;33m\u001b[0m\u001b[0m\n",
      "\u001b[1;31mNameError\u001b[0m: name 'IRON_winRate' is not defined"
     ]
    }
   ],
   "source": [
    "IRON_total = IRON_winRate.merge(IRON_pickRate, how = 'left', on = 'name')\n",
    "BRONZE_total = BRONZE_winRate.merge(BRONZE_pickRate, how = 'left', on = 'name')\n",
    "SILVER_total = SILVER_winRate.merge(SILVER_pickRate, how = 'left', on = 'name')\n",
    "GOLD_total = GOLD_winRate.merge(GOLD_pickRate, how = 'left', on = 'name')\n",
    "PLATINUM_total = PLATINUM_winRate.merge(PLATINUM_pickRate, how = 'left', on = 'name')\n",
    "DIAMOND_total = DIAMOND_winRate.merge(DIAMOND_pickRate, how = 'left', on = 'name')\n",
    "GRAND_MASTER_total = GRAND_MASTER_winRate.merge(GRAND_MASTER_pickRate, how = 'left', on = 'name')\n",
    "CHALLENGER_total = CHALLENGER_winRate.merge(CHALLENGER_pickRate, how = 'left', on = 'name')"
   ]
  },
  {
   "cell_type": "code",
   "execution_count": 1,
   "id": "d7897a20",
   "metadata": {},
   "outputs": [
    {
     "ename": "NameError",
     "evalue": "name 'CHALLENGER_total' is not defined",
     "output_type": "error",
     "traceback": [
      "\u001b[1;31m---------------------------------------------------------------------------\u001b[0m",
      "\u001b[1;31mNameError\u001b[0m                                 Traceback (most recent call last)",
      "\u001b[1;32m<ipython-input-1-a4f710404926>\u001b[0m in \u001b[0;36m<module>\u001b[1;34m\u001b[0m\n\u001b[1;32m----> 1\u001b[1;33m \u001b[0mCHALLENGER_total\u001b[0m\u001b[1;33m\u001b[0m\u001b[1;33m\u001b[0m\u001b[0m\n\u001b[0m",
      "\u001b[1;31mNameError\u001b[0m: name 'CHALLENGER_total' is not defined"
     ]
    }
   ],
   "source": [
    "CHALLENGER_total"
   ]
  },
  {
   "cell_type": "code",
   "execution_count": null,
   "id": "c39e73d9",
   "metadata": {},
   "outputs": [],
   "source": []
  }
 ],
 "metadata": {
  "kernelspec": {
   "display_name": "Python 3",
   "language": "python",
   "name": "python3"
  },
  "language_info": {
   "codemirror_mode": {
    "name": "ipython",
    "version": 3
   },
   "file_extension": ".py",
   "mimetype": "text/x-python",
   "name": "python",
   "nbconvert_exporter": "python",
   "pygments_lexer": "ipython3",
   "version": "3.8.8"
  }
 },
 "nbformat": 4,
 "nbformat_minor": 5
}
