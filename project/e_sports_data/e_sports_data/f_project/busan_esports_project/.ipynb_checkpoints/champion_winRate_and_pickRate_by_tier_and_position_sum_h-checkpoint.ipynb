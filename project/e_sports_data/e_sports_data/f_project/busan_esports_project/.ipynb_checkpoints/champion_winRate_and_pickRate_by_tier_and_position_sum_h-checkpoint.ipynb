{
 "cells": [
  {
   "cell_type": "code",
   "execution_count": 1,
   "id": "48e2c042",
   "metadata": {},
   "outputs": [],
   "source": [
    "import pandas as pd\n",
    "import numpy as np\n",
    "import requests\n",
    "import matplotlib.pyplot as plt\n",
    "import seaborn as sns"
   ]
  },
  {
   "cell_type": "code",
   "execution_count": 2,
   "id": "18aa08e6",
   "metadata": {},
   "outputs": [],
   "source": [
    "constant_patch = '11.23.1'\n",
    "\n",
    "# 라이엇 개발자 페이지에서 최신 버전 한국 서버 챔피언 정보 가져오기\n",
    "champion_info = requests.get(\"http://ddragon.leagueoflegends.com/cdn/\" + constant_patch + \"/data/ko_KR/champion.json\").json()     "
   ]
  },
  {
   "cell_type": "code",
   "execution_count": 3,
   "id": "f270ffb7",
   "metadata": {},
   "outputs": [],
   "source": [
    "# 챔피언 정보 => DataFrame으로 변환\n",
    "# champion_df는 'key'로 id값, 'name'으로 챔피언 한국어 이름을 가지는 156rows짜리 DataFrame\n",
    "champion_df = pd.DataFrame(champion_info['data']).T[['key', 'name']]\n",
    "\n",
    "# champion_df의 'key' column string => numeric 변환\n",
    "champion_df['key'] = pd.to_numeric(champion_df['key'])"
   ]
  },
  {
   "cell_type": "code",
   "execution_count": 6,
   "id": "c70413a1",
   "metadata": {},
   "outputs": [
    {
     "ename": "MemoryError",
     "evalue": "Unable to allocate 64.0 KiB for an array with shape (8192,) and data type int64",
     "output_type": "error",
     "traceback": [
      "\u001b[1;31m---------------------------------------------------------------------------\u001b[0m",
      "\u001b[1;31mMemoryError\u001b[0m                               Traceback (most recent call last)",
      "\u001b[1;32m~\\AppData\\Local\\Temp/ipykernel_26616/3172627186.py\u001b[0m in \u001b[0;36m<module>\u001b[1;34m\u001b[0m\n\u001b[1;32m----> 1\u001b[1;33m \u001b[0mdf\u001b[0m \u001b[1;33m=\u001b[0m \u001b[0mpd\u001b[0m\u001b[1;33m.\u001b[0m\u001b[0mread_csv\u001b[0m\u001b[1;33m(\u001b[0m\u001b[1;34m'11.23.csv'\u001b[0m\u001b[1;33m,\u001b[0m \u001b[0mindex_col\u001b[0m\u001b[1;33m=\u001b[0m\u001b[1;36m0\u001b[0m\u001b[1;33m)\u001b[0m\u001b[1;33m\u001b[0m\u001b[1;33m\u001b[0m\u001b[0m\n\u001b[0m",
      "\u001b[1;32mC:\\anaconda3\\envs\\practice\\lib\\site-packages\\pandas\\util\\_decorators.py\u001b[0m in \u001b[0;36mwrapper\u001b[1;34m(*args, **kwargs)\u001b[0m\n\u001b[0;32m    309\u001b[0m                     \u001b[0mstacklevel\u001b[0m\u001b[1;33m=\u001b[0m\u001b[0mstacklevel\u001b[0m\u001b[1;33m,\u001b[0m\u001b[1;33m\u001b[0m\u001b[1;33m\u001b[0m\u001b[0m\n\u001b[0;32m    310\u001b[0m                 )\n\u001b[1;32m--> 311\u001b[1;33m             \u001b[1;32mreturn\u001b[0m \u001b[0mfunc\u001b[0m\u001b[1;33m(\u001b[0m\u001b[1;33m*\u001b[0m\u001b[0margs\u001b[0m\u001b[1;33m,\u001b[0m \u001b[1;33m**\u001b[0m\u001b[0mkwargs\u001b[0m\u001b[1;33m)\u001b[0m\u001b[1;33m\u001b[0m\u001b[1;33m\u001b[0m\u001b[0m\n\u001b[0m\u001b[0;32m    312\u001b[0m \u001b[1;33m\u001b[0m\u001b[0m\n\u001b[0;32m    313\u001b[0m         \u001b[1;32mreturn\u001b[0m \u001b[0mwrapper\u001b[0m\u001b[1;33m\u001b[0m\u001b[1;33m\u001b[0m\u001b[0m\n",
      "\u001b[1;32mC:\\anaconda3\\envs\\practice\\lib\\site-packages\\pandas\\io\\parsers\\readers.py\u001b[0m in \u001b[0;36mread_csv\u001b[1;34m(filepath_or_buffer, sep, delimiter, header, names, index_col, usecols, squeeze, prefix, mangle_dupe_cols, dtype, engine, converters, true_values, false_values, skipinitialspace, skiprows, skipfooter, nrows, na_values, keep_default_na, na_filter, verbose, skip_blank_lines, parse_dates, infer_datetime_format, keep_date_col, date_parser, dayfirst, cache_dates, iterator, chunksize, compression, thousands, decimal, lineterminator, quotechar, quoting, doublequote, escapechar, comment, encoding, encoding_errors, dialect, error_bad_lines, warn_bad_lines, on_bad_lines, delim_whitespace, low_memory, memory_map, float_precision, storage_options)\u001b[0m\n\u001b[0;32m    584\u001b[0m     \u001b[0mkwds\u001b[0m\u001b[1;33m.\u001b[0m\u001b[0mupdate\u001b[0m\u001b[1;33m(\u001b[0m\u001b[0mkwds_defaults\u001b[0m\u001b[1;33m)\u001b[0m\u001b[1;33m\u001b[0m\u001b[1;33m\u001b[0m\u001b[0m\n\u001b[0;32m    585\u001b[0m \u001b[1;33m\u001b[0m\u001b[0m\n\u001b[1;32m--> 586\u001b[1;33m     \u001b[1;32mreturn\u001b[0m \u001b[0m_read\u001b[0m\u001b[1;33m(\u001b[0m\u001b[0mfilepath_or_buffer\u001b[0m\u001b[1;33m,\u001b[0m \u001b[0mkwds\u001b[0m\u001b[1;33m)\u001b[0m\u001b[1;33m\u001b[0m\u001b[1;33m\u001b[0m\u001b[0m\n\u001b[0m\u001b[0;32m    587\u001b[0m \u001b[1;33m\u001b[0m\u001b[0m\n\u001b[0;32m    588\u001b[0m \u001b[1;33m\u001b[0m\u001b[0m\n",
      "\u001b[1;32mC:\\anaconda3\\envs\\practice\\lib\\site-packages\\pandas\\io\\parsers\\readers.py\u001b[0m in \u001b[0;36m_read\u001b[1;34m(filepath_or_buffer, kwds)\u001b[0m\n\u001b[0;32m    486\u001b[0m \u001b[1;33m\u001b[0m\u001b[0m\n\u001b[0;32m    487\u001b[0m     \u001b[1;32mwith\u001b[0m \u001b[0mparser\u001b[0m\u001b[1;33m:\u001b[0m\u001b[1;33m\u001b[0m\u001b[1;33m\u001b[0m\u001b[0m\n\u001b[1;32m--> 488\u001b[1;33m         \u001b[1;32mreturn\u001b[0m \u001b[0mparser\u001b[0m\u001b[1;33m.\u001b[0m\u001b[0mread\u001b[0m\u001b[1;33m(\u001b[0m\u001b[0mnrows\u001b[0m\u001b[1;33m)\u001b[0m\u001b[1;33m\u001b[0m\u001b[1;33m\u001b[0m\u001b[0m\n\u001b[0m\u001b[0;32m    489\u001b[0m \u001b[1;33m\u001b[0m\u001b[0m\n\u001b[0;32m    490\u001b[0m \u001b[1;33m\u001b[0m\u001b[0m\n",
      "\u001b[1;32mC:\\anaconda3\\envs\\practice\\lib\\site-packages\\pandas\\io\\parsers\\readers.py\u001b[0m in \u001b[0;36mread\u001b[1;34m(self, nrows)\u001b[0m\n\u001b[0;32m   1045\u001b[0m     \u001b[1;32mdef\u001b[0m \u001b[0mread\u001b[0m\u001b[1;33m(\u001b[0m\u001b[0mself\u001b[0m\u001b[1;33m,\u001b[0m \u001b[0mnrows\u001b[0m\u001b[1;33m=\u001b[0m\u001b[1;32mNone\u001b[0m\u001b[1;33m)\u001b[0m\u001b[1;33m:\u001b[0m\u001b[1;33m\u001b[0m\u001b[1;33m\u001b[0m\u001b[0m\n\u001b[0;32m   1046\u001b[0m         \u001b[0mnrows\u001b[0m \u001b[1;33m=\u001b[0m \u001b[0mvalidate_integer\u001b[0m\u001b[1;33m(\u001b[0m\u001b[1;34m\"nrows\"\u001b[0m\u001b[1;33m,\u001b[0m \u001b[0mnrows\u001b[0m\u001b[1;33m)\u001b[0m\u001b[1;33m\u001b[0m\u001b[1;33m\u001b[0m\u001b[0m\n\u001b[1;32m-> 1047\u001b[1;33m         \u001b[0mindex\u001b[0m\u001b[1;33m,\u001b[0m \u001b[0mcolumns\u001b[0m\u001b[1;33m,\u001b[0m \u001b[0mcol_dict\u001b[0m \u001b[1;33m=\u001b[0m \u001b[0mself\u001b[0m\u001b[1;33m.\u001b[0m\u001b[0m_engine\u001b[0m\u001b[1;33m.\u001b[0m\u001b[0mread\u001b[0m\u001b[1;33m(\u001b[0m\u001b[0mnrows\u001b[0m\u001b[1;33m)\u001b[0m\u001b[1;33m\u001b[0m\u001b[1;33m\u001b[0m\u001b[0m\n\u001b[0m\u001b[0;32m   1048\u001b[0m \u001b[1;33m\u001b[0m\u001b[0m\n\u001b[0;32m   1049\u001b[0m         \u001b[1;32mif\u001b[0m \u001b[0mindex\u001b[0m \u001b[1;32mis\u001b[0m \u001b[1;32mNone\u001b[0m\u001b[1;33m:\u001b[0m\u001b[1;33m\u001b[0m\u001b[1;33m\u001b[0m\u001b[0m\n",
      "\u001b[1;32mC:\\anaconda3\\envs\\practice\\lib\\site-packages\\pandas\\io\\parsers\\c_parser_wrapper.py\u001b[0m in \u001b[0;36mread\u001b[1;34m(self, nrows)\u001b[0m\n\u001b[0;32m    221\u001b[0m         \u001b[1;32mtry\u001b[0m\u001b[1;33m:\u001b[0m\u001b[1;33m\u001b[0m\u001b[1;33m\u001b[0m\u001b[0m\n\u001b[0;32m    222\u001b[0m             \u001b[1;32mif\u001b[0m \u001b[0mself\u001b[0m\u001b[1;33m.\u001b[0m\u001b[0mlow_memory\u001b[0m\u001b[1;33m:\u001b[0m\u001b[1;33m\u001b[0m\u001b[1;33m\u001b[0m\u001b[0m\n\u001b[1;32m--> 223\u001b[1;33m                 \u001b[0mchunks\u001b[0m \u001b[1;33m=\u001b[0m \u001b[0mself\u001b[0m\u001b[1;33m.\u001b[0m\u001b[0m_reader\u001b[0m\u001b[1;33m.\u001b[0m\u001b[0mread_low_memory\u001b[0m\u001b[1;33m(\u001b[0m\u001b[0mnrows\u001b[0m\u001b[1;33m)\u001b[0m\u001b[1;33m\u001b[0m\u001b[1;33m\u001b[0m\u001b[0m\n\u001b[0m\u001b[0;32m    224\u001b[0m                 \u001b[1;31m# destructive to chunks\u001b[0m\u001b[1;33m\u001b[0m\u001b[1;33m\u001b[0m\u001b[1;33m\u001b[0m\u001b[0m\n\u001b[0;32m    225\u001b[0m                 \u001b[0mdata\u001b[0m \u001b[1;33m=\u001b[0m \u001b[0m_concatenate_chunks\u001b[0m\u001b[1;33m(\u001b[0m\u001b[0mchunks\u001b[0m\u001b[1;33m)\u001b[0m\u001b[1;33m\u001b[0m\u001b[1;33m\u001b[0m\u001b[0m\n",
      "\u001b[1;32mC:\\anaconda3\\envs\\practice\\lib\\site-packages\\pandas\\_libs\\parsers.pyx\u001b[0m in \u001b[0;36mpandas._libs.parsers.TextReader.read_low_memory\u001b[1;34m()\u001b[0m\n",
      "\u001b[1;32mC:\\anaconda3\\envs\\practice\\lib\\site-packages\\pandas\\_libs\\parsers.pyx\u001b[0m in \u001b[0;36mpandas._libs.parsers.TextReader._read_rows\u001b[1;34m()\u001b[0m\n",
      "\u001b[1;32mC:\\anaconda3\\envs\\practice\\lib\\site-packages\\pandas\\_libs\\parsers.pyx\u001b[0m in \u001b[0;36mpandas._libs.parsers.TextReader._convert_column_data\u001b[1;34m()\u001b[0m\n",
      "\u001b[1;32mC:\\anaconda3\\envs\\practice\\lib\\site-packages\\pandas\\_libs\\parsers.pyx\u001b[0m in \u001b[0;36mpandas._libs.parsers.TextReader._convert_tokens\u001b[1;34m()\u001b[0m\n",
      "\u001b[1;32mC:\\anaconda3\\envs\\practice\\lib\\site-packages\\pandas\\_libs\\parsers.pyx\u001b[0m in \u001b[0;36mpandas._libs.parsers.TextReader._convert_with_dtype\u001b[1;34m()\u001b[0m\n",
      "\u001b[1;32mC:\\anaconda3\\envs\\practice\\lib\\site-packages\\pandas\\_libs\\parsers.pyx\u001b[0m in \u001b[0;36mpandas._libs.parsers._try_int64\u001b[1;34m()\u001b[0m\n",
      "\u001b[1;31mMemoryError\u001b[0m: Unable to allocate 64.0 KiB for an array with shape (8192,) and data type int64"
     ]
    }
   ],
   "source": [
    "df = pd.read_csv('11.23.csv', index_col=0)"
   ]
  },
  {
   "cell_type": "code",
   "execution_count": null,
   "id": "4a5ebc3b",
   "metadata": {},
   "outputs": [],
   "source": [
    "df = df.merge(champion_df, how = 'left', left_on = 'championId', right_on = 'key')"
   ]
  },
  {
   "cell_type": "code",
   "execution_count": null,
   "id": "70641a99",
   "metadata": {},
   "outputs": [],
   "source": [
    "data = pd.DataFrame()\n",
    "data = df[['tierRank', 'position', 'name', 'result']]"
   ]
  },
  {
   "cell_type": "code",
   "execution_count": null,
   "id": "cda55305",
   "metadata": {},
   "outputs": [],
   "source": [
    "# 결측치 드랍\n",
    "data = data.dropna(axis=0)\n",
    "# 다시하기 드랍\n",
    "data.drop(data.loc[data['result']=='UNKNOWN'].index, inplace=True)\n",
    "print('data : ', len(data))"
   ]
  },
  {
   "cell_type": "code",
   "execution_count": null,
   "id": "f23a43f4",
   "metadata": {},
   "outputs": [],
   "source": [
    "# result 숫자로 변환\n",
    "data.loc[data['result'] == 'WIN', 'result'] = 1\n",
    "data.loc[data['result'] == 'LOSE', 'result'] = 0\n",
    "data['games'] = 1\n",
    "data = data.astype({'result' : 'int'})\n",
    "# result -> wins로 컬럼명 변경\n",
    "data.rename(columns = {'result':'wins'},inplace=True)"
   ]
  },
  {
   "cell_type": "code",
   "execution_count": null,
   "id": "a37399f5",
   "metadata": {
    "scrolled": true
   },
   "outputs": [],
   "source": [
    "# 티어별 데이터 프레임 생성\n",
    "\n",
    "IRON = data[data['tierRank'].str.contains('I')]\n",
    "print('IRON : ', len(IRON))\n",
    "BRONZE = data[data['tierRank'].str.contains('B')]\n",
    "print('BRONZE : ', len(BRONZE))\n",
    "SILVER = data[data['tierRank'].str.contains('S')]\n",
    "print('SILVER : ', len(SILVER))\n",
    "GOLD = data[data['tierRank'].str.contains('G')]\n",
    "print('GOLD : ', len(GOLD))\n",
    "PLATINUM = data[data['tierRank'].str.contains('P')]\n",
    "print('PLATINUM : ', len(PLATINUM))\n",
    "DIAMOND = data[data['tierRank'].str.contains('D')]\n",
    "print('DIAMOND : ', len(DIAMOND))\n",
    "m_list = ['M', 'R', 'C']\n",
    "m_list = '|'.join(m_list)\n",
    "ABOVE_MASTER = data[data['tierRank'].str.contains(m_list)]\n",
    "print('MASTER+ : ', len(ABOVE_MASTER))\n",
    "# GRAND_MASTER = data[data['tierRank'].str.contains('R')]\n",
    "# print('GRAND_MASTER : ', len(GRAND_MASTER))\n",
    "# CHALLENGER = data[data['tierRank'].str.contains('C')]\n",
    "# print('CHALLENGER : ', len(CHALLENGER))\n",
    "print('SUM : ', len(IRON)+len(BRONZE)+len(SILVER)+len(GOLD)+len(PLATINUM)+len(DIAMOND)+len(ABOVE_MASTER))"
   ]
  },
  {
   "cell_type": "code",
   "execution_count": null,
   "id": "c2a53143",
   "metadata": {},
   "outputs": [],
   "source": [
    "IRON_total = IRON.groupby(['position', 'name'], as_index=False).sum()\n",
    "IRON_sum = IRON.groupby(['position'], as_index=False).sum()\n",
    "IRON_sum.columns = ['position', 'wins', 'total_games']\n",
    "IRON_sum = IRON_sum[['position', 'total_games']]\n",
    "IRON_total = IRON_total.merge(IRON_sum, how = 'left', on = 'position')\n",
    "IRON_total = IRON_total[IRON_total.games > 50]\n",
    "IRON_total['winRate'] = IRON_total['wins'] / IRON_total['games']\n",
    "IRON_total['pickRate'] = IRON_total['games'] / IRON_total['total_games']\n",
    "IRON_total = IRON_total.sort_values(by=['position', 'winRate', 'pickRate'], ascending=False) \n",
    "\n",
    "BRONZE_total = BRONZE.groupby(['position', 'name'], as_index=False).sum()\n",
    "BRONZE_sum = BRONZE.groupby(['position'], as_index=False).sum()\n",
    "BRONZE_sum.columns = ['position', 'wins', 'total_games']\n",
    "BRONZE_sum = BRONZE_sum[['position', 'total_games']]\n",
    "BRONZE_total = BRONZE_total.merge(BRONZE_sum, how = 'left', on = 'position')\n",
    "BRONZE_total = BRONZE_total[BRONZE_total.games > 50]\n",
    "BRONZE_total['winRate'] = BRONZE_total['wins'] / BRONZE_total['games']\n",
    "BRONZE_total['pickRate'] = BRONZE_total['games'] / BRONZE_total['total_games']\n",
    "BRONZE_total = BRONZE_total.sort_values(by=['position', 'winRate', 'pickRate'], ascending=False) \n",
    "\n",
    "SILVER_total = SILVER.groupby(['position', 'name'], as_index=False).sum()\n",
    "SILVER_sum = SILVER.groupby(['position'], as_index=False).sum()\n",
    "SILVER_sum.columns = ['position', 'wins', 'total_games']\n",
    "SILVER_sum = SILVER_sum[['position', 'total_games']]\n",
    "SILVER_total = SILVER_total.merge(SILVER_sum, how = 'left', on = 'position')\n",
    "SILVER_total = SILVER_total[SILVER_total.games > 50]\n",
    "SILVER_total['winRate'] = SILVER_total['wins'] / SILVER_total['games']\n",
    "SILVER_total['pickRate'] = SILVER_total['games'] / SILVER_total['total_games']\n",
    "SILVER_total = SILVER_total.sort_values(by=['position', 'winRate', 'pickRate'], ascending=False) \n",
    "\n",
    "GOLD_total = GOLD.groupby(['position', 'name'], as_index=False).sum()\n",
    "GOLD_sum = GOLD.groupby(['position'], as_index=False).sum()\n",
    "GOLD_sum.columns = ['position', 'wins', 'total_games']\n",
    "GOLD_sum = GOLD_sum[['position', 'total_games']]\n",
    "GOLD_total = GOLD_total.merge(GOLD_sum, how = 'left', on = 'position')\n",
    "GOLD_total = GOLD_total[GOLD_total.games > 50]\n",
    "GOLD_total['winRate'] = GOLD_total['wins'] / GOLD_total['games']\n",
    "GOLD_total['pickRate'] = GOLD_total['games'] / GOLD_total['total_games']\n",
    "GOLD_total = GOLD_total.sort_values(by=['position', 'winRate', 'pickRate'], ascending=False) \n",
    "\n",
    "PLATINUM_total = PLATINUM.groupby(['position', 'name'], as_index=False).sum()\n",
    "PLATINUM_sum = PLATINUM.groupby(['position'], as_index=False).sum()\n",
    "PLATINUM_sum.columns = ['position', 'wins', 'total_games']\n",
    "PLATINUM_sum = PLATINUM_sum[['position', 'total_games']]\n",
    "PLATINUM_total = PLATINUM_total.merge(PLATINUM_sum, how = 'left', on = 'position')\n",
    "PLATINUM_total = PLATINUM_total[PLATINUM_total.games > 50]\n",
    "PLATINUM_total['winRate'] = PLATINUM_total['wins'] / PLATINUM_total['games']\n",
    "PLATINUM_total['pickRate'] = PLATINUM_total['games'] / PLATINUM_total['total_games']\n",
    "PLATINUM_total = PLATINUM_total.sort_values(by=['position', 'winRate', 'pickRate'], ascending=False) \n",
    "\n",
    "DIAMOND_total = DIAMOND.groupby(['position', 'name'], as_index=False).sum()\n",
    "DIAMOND_sum = DIAMOND.groupby(['position'], as_index=False).sum()\n",
    "DIAMOND_sum.columns = ['position', 'wins', 'total_games']\n",
    "DIAMOND_sum = DIAMOND_sum[['position', 'total_games']]\n",
    "DIAMOND_total = DIAMOND_total.merge(DIAMOND_sum, how = 'left', on = 'position')\n",
    "DIAMOND_total = DIAMOND_total[DIAMOND_total.games > 50]\n",
    "DIAMOND_total['winRate'] = DIAMOND_total['wins'] / DIAMOND_total['games']\n",
    "DIAMOND_total['pickRate'] = DIAMOND_total['games'] / DIAMOND_total['total_games']\n",
    "DIAMOND_total = DIAMOND_total.sort_values(by=['position', 'winRate', 'pickRate'], ascending=False) \n",
    "\n",
    "ABOVE_MASTER_total = ABOVE_MASTER.groupby(['position', 'name'], as_index=False).sum()\n",
    "ABOVE_MASTER_sum = ABOVE_MASTER.groupby(['position'], as_index=False).sum()\n",
    "ABOVE_MASTER_sum.columns = ['position', 'wins', 'total_games']\n",
    "ABOVE_MASTER_sum = ABOVE_MASTER_sum[['position', 'total_games']]\n",
    "ABOVE_MASTER_total = ABOVE_MASTER_total.merge(ABOVE_MASTER_sum, how = 'left', on = 'position')\n",
    "ABOVE_MASTER_total = ABOVE_MASTER_total[ABOVE_MASTER_total.games > 50]\n",
    "ABOVE_MASTER_total['winRate'] = ABOVE_MASTER_total['wins'] / ABOVE_MASTER_total['games']\n",
    "ABOVE_MASTER_total['pickRate'] = ABOVE_MASTER_total['games'] / ABOVE_MASTER_total['total_games']\n",
    "ABOVE_MASTER_total = ABOVE_MASTER_total.sort_values(by=['position', 'winRate', 'pickRate'], ascending=False) "
   ]
  },
  {
   "cell_type": "code",
   "execution_count": null,
   "id": "cd11e399",
   "metadata": {},
   "outputs": [],
   "source": [
    "IRON_total"
   ]
  },
  {
   "cell_type": "code",
   "execution_count": null,
   "id": "8d130e8d",
   "metadata": {},
   "outputs": [],
   "source": [
    "BRONZE_total"
   ]
  },
  {
   "cell_type": "code",
   "execution_count": null,
   "id": "a4410147",
   "metadata": {},
   "outputs": [],
   "source": [
    "SILVER_total"
   ]
  },
  {
   "cell_type": "code",
   "execution_count": null,
   "id": "28c4b47c",
   "metadata": {},
   "outputs": [],
   "source": [
    "GOLD_total"
   ]
  },
  {
   "cell_type": "code",
   "execution_count": null,
   "id": "c75a89f0",
   "metadata": {},
   "outputs": [],
   "source": [
    "PLATINUM_total"
   ]
  },
  {
   "cell_type": "code",
   "execution_count": null,
   "id": "e6ff06b1",
   "metadata": {},
   "outputs": [],
   "source": [
    "DIAMOND_total"
   ]
  },
  {
   "cell_type": "code",
   "execution_count": null,
   "id": "fb6b8d1a",
   "metadata": {},
   "outputs": [],
   "source": [
    "ABOVE_MASTER_Top = ABOVE_MASTER_total[ABOVE_MASTER_total['position'] == 'T'].sort_values(by=['pickRate'], ascending=False).head(20)"
   ]
  },
  {
   "cell_type": "code",
   "execution_count": null,
   "id": "b326f0b0",
   "metadata": {},
   "outputs": [],
   "source": [
    "ABOVE_MASTER_total[ABOVE_MASTER_total['position'] == 'T'].sort_values(by=['pickRate'], ascending=False).head(20)"
   ]
  },
  {
   "cell_type": "code",
   "execution_count": null,
   "id": "ef691b87",
   "metadata": {
    "scrolled": false
   },
   "outputs": [],
   "source": [
    "DIAMOND_total[DIAMOND_total['position'] == 'A'].sort_values(by=['winRate'], ascending=False)"
   ]
  },
  {
   "cell_type": "code",
   "execution_count": null,
   "id": "bab96936",
   "metadata": {},
   "outputs": [],
   "source": [
    "GOLD_Top"
   ]
  },
  {
   "cell_type": "code",
   "execution_count": null,
   "id": "45ea6040",
   "metadata": {},
   "outputs": [],
   "source": [
    "I = IRON_total[IRON_total['position'] == 'T'].sort_values(by=['games'], ascending=True)"
   ]
  },
  {
   "cell_type": "code",
   "execution_count": null,
   "id": "8fc35daa",
   "metadata": {},
   "outputs": [],
   "source": [
    "sns.displot(data = GOLD_Top, x= 'winRate' ,hue = 'position')"
   ]
  },
  {
   "cell_type": "code",
   "execution_count": 24,
   "id": "e61327a2",
   "metadata": {},
   "outputs": [
    {
     "data": {
      "text/plain": [
       "142.0"
      ]
     },
     "execution_count": 24,
     "metadata": {},
     "output_type": "execute_result"
    }
   ],
   "source": [
    "IRON_total['games'].quantile(0.50)"
   ]
  },
  {
   "cell_type": "code",
   "execution_count": 25,
   "id": "59abcdd6",
   "metadata": {},
   "outputs": [
    {
     "data": {
      "text/plain": [
       "192.0"
      ]
     },
     "execution_count": 25,
     "metadata": {},
     "output_type": "execute_result"
    }
   ],
   "source": [
    "GOLD_total['games'].quantile(0.30)"
   ]
  },
  {
   "cell_type": "code",
   "execution_count": null,
   "id": "a56a8bfe",
   "metadata": {},
   "outputs": [],
   "source": []
  }
 ],
 "metadata": {
  "kernelspec": {
   "display_name": "Python 3 (ipykernel)",
   "language": "python",
   "name": "python3"
  },
  "language_info": {
   "codemirror_mode": {
    "name": "ipython",
    "version": 3
   },
   "file_extension": ".py",
   "mimetype": "text/x-python",
   "name": "python",
   "nbconvert_exporter": "python",
   "pygments_lexer": "ipython3",
   "version": "3.8.11"
  }
 },
 "nbformat": 4,
 "nbformat_minor": 5
}
