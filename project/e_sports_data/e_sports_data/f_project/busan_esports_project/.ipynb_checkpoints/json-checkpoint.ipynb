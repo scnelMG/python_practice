{
 "cells": [
  {
   "cell_type": "code",
   "execution_count": 1,
   "id": "2fa400e1",
   "metadata": {},
   "outputs": [],
   "source": [
    "import pandas as pd\n",
    "import numpy as np\n",
    "import requests\n",
    "import matplotlib.pyplot as plt\n",
    "import seaborn as sns\n",
    "import json"
   ]
  },
  {
   "cell_type": "code",
   "execution_count": 2,
   "id": "f1c50460",
   "metadata": {},
   "outputs": [],
   "source": [
    "json_champ = pd.DataFrame()"
   ]
  },
  {
   "cell_type": "code",
   "execution_count": 3,
   "id": "797efed4",
   "metadata": {},
   "outputs": [],
   "source": [
    "data = pd.read_csv('BIPA_data.csv', index_col=0)"
   ]
  },
  {
   "cell_type": "code",
   "execution_count": 4,
   "id": "3971471f",
   "metadata": {},
   "outputs": [],
   "source": [
    "value = data['championId'].value_counts()"
   ]
  },
  {
   "cell_type": "code",
   "execution_count": 5,
   "id": "c91596d3",
   "metadata": {},
   "outputs": [],
   "source": [
    "champId = value.index"
   ]
  },
  {
   "cell_type": "code",
   "execution_count": 6,
   "id": "95f2c133",
   "metadata": {},
   "outputs": [],
   "source": [
    "champId = champId.sort_values( ascending=False) "
   ]
  },
  {
   "cell_type": "code",
   "execution_count": 7,
   "id": "16816651",
   "metadata": {},
   "outputs": [
    {
     "data": {
      "text/plain": [
       "Int64Index([887, 876, 875, 777, 555, 526, 523, 518, 517, 516,\n",
       "            ...\n",
       "             10,   9,   8,   7,   6,   5,   4,   3,   2,   1],\n",
       "           dtype='int64', length=156)"
      ]
     },
     "execution_count": 7,
     "metadata": {},
     "output_type": "execute_result"
    }
   ],
   "source": [
    "champId"
   ]
  },
  {
   "cell_type": "code",
   "execution_count": 8,
   "id": "5dfc6c1c",
   "metadata": {},
   "outputs": [],
   "source": [
    "list = champId\n",
    "json_id = []\n",
    "for i in list:\n",
    "    file = open(f'{i}.json', 'rt', encoding='UTF8')\n",
    "    globals()[f'champ_{i}'] = json.load(file)\n",
    "    json_id.append(globals()[f'champ_{i}'])"
   ]
  },
  {
   "cell_type": "code",
   "execution_count": 9,
   "id": "cc6e4458",
   "metadata": {},
   "outputs": [
    {
     "name": "stdout",
     "output_type": "stream",
     "text": [
      "['fighter', 'assassin']\n"
     ]
    }
   ],
   "source": [
    "print(champ_887.get('roles'))"
   ]
  },
  {
   "cell_type": "code",
   "execution_count": 10,
   "id": "e376da2e",
   "metadata": {},
   "outputs": [],
   "source": [
    "style = []\n",
    "difficulty = []\n",
    "damageType = []\n",
    "damage = []\n",
    "durability = []\n",
    "crowdControl = []\n",
    "mobility = []\n",
    "utility = []\n",
    "championId = []\n",
    "name = []\n",
    "roles = []\n"
   ]
  },
  {
   "cell_type": "code",
   "execution_count": 11,
   "id": "df791a4d",
   "metadata": {},
   "outputs": [],
   "source": [
    "list = json_id\n",
    "for num in list:\n",
    "    style.append(num.get(\"tacticalInfo\").get('style'))\n",
    "    difficulty.append(num.get(\"tacticalInfo\").get('difficulty'))\n",
    "    damageType.append(num.get(\"tacticalInfo\").get('damageType'))\n",
    "    damage.append(num.get(\"playstyleInfo\").get('damage'))\n",
    "    durability.append(num.get(\"playstyleInfo\").get('durability'))\n",
    "    crowdControl.append(num.get(\"playstyleInfo\").get('crowdControl'))\n",
    "    mobility.append(num.get(\"playstyleInfo\").get('mobility'))\n",
    "    utility.append(num.get(\"playstyleInfo\").get('utility'))\n",
    "    championId.append(num.get(\"id\"))\n",
    "    name.append(num.get(\"name\"))\n",
    "    a = []\n",
    "    for list in num.get(\"roles\"):\n",
    "        a.append(list)\n",
    "    roles.append(a)"
   ]
  },
  {
   "cell_type": "code",
   "execution_count": 12,
   "id": "ed45e2a3",
   "metadata": {},
   "outputs": [],
   "source": [
    "json_champ['championId'] = championId\n",
    "json_champ['name'] = name\n",
    "json_champ['style'] = style\n",
    "json_champ['difficulty'] = difficulty\n",
    "json_champ['damageType'] = damageType\n",
    "json_champ['damage'] = damage\n",
    "json_champ['durability'] = durability\n",
    "json_champ['crowdControl'] = crowdControl\n",
    "json_champ['mobility'] = mobility\n",
    "json_champ['utility'] = utility\n",
    "json_champ['roles'] = roles"
   ]
  },
  {
   "cell_type": "code",
   "execution_count": 13,
   "id": "669cd29d",
   "metadata": {},
   "outputs": [
    {
     "data": {
      "text/html": [
       "<div>\n",
       "<style scoped>\n",
       "    .dataframe tbody tr th:only-of-type {\n",
       "        vertical-align: middle;\n",
       "    }\n",
       "\n",
       "    .dataframe tbody tr th {\n",
       "        vertical-align: top;\n",
       "    }\n",
       "\n",
       "    .dataframe thead th {\n",
       "        text-align: right;\n",
       "    }\n",
       "</style>\n",
       "<table border=\"1\" class=\"dataframe\">\n",
       "  <thead>\n",
       "    <tr style=\"text-align: right;\">\n",
       "      <th></th>\n",
       "      <th>championId</th>\n",
       "      <th>name</th>\n",
       "      <th>style</th>\n",
       "      <th>difficulty</th>\n",
       "      <th>damageType</th>\n",
       "      <th>damage</th>\n",
       "      <th>durability</th>\n",
       "      <th>crowdControl</th>\n",
       "      <th>mobility</th>\n",
       "      <th>utility</th>\n",
       "      <th>roles</th>\n",
       "    </tr>\n",
       "  </thead>\n",
       "  <tbody>\n",
       "    <tr>\n",
       "      <th>0</th>\n",
       "      <td>887</td>\n",
       "      <td>Gwen</td>\n",
       "      <td>5</td>\n",
       "      <td>2</td>\n",
       "      <td>kMagic</td>\n",
       "      <td>3</td>\n",
       "      <td>2</td>\n",
       "      <td>1</td>\n",
       "      <td>3</td>\n",
       "      <td>1</td>\n",
       "      <td>[fighter, assassin]</td>\n",
       "    </tr>\n",
       "    <tr>\n",
       "      <th>1</th>\n",
       "      <td>876</td>\n",
       "      <td>Lillia</td>\n",
       "      <td>8</td>\n",
       "      <td>3</td>\n",
       "      <td>kMagic</td>\n",
       "      <td>3</td>\n",
       "      <td>1</td>\n",
       "      <td>2</td>\n",
       "      <td>2</td>\n",
       "      <td>2</td>\n",
       "      <td>[fighter, mage]</td>\n",
       "    </tr>\n",
       "    <tr>\n",
       "      <th>2</th>\n",
       "      <td>875</td>\n",
       "      <td>Sett</td>\n",
       "      <td>4</td>\n",
       "      <td>2</td>\n",
       "      <td>kPhysical</td>\n",
       "      <td>2</td>\n",
       "      <td>2</td>\n",
       "      <td>2</td>\n",
       "      <td>2</td>\n",
       "      <td>1</td>\n",
       "      <td>[fighter, tank]</td>\n",
       "    </tr>\n",
       "    <tr>\n",
       "      <th>3</th>\n",
       "      <td>777</td>\n",
       "      <td>Yone</td>\n",
       "      <td>5</td>\n",
       "      <td>3</td>\n",
       "      <td>kMixed</td>\n",
       "      <td>3</td>\n",
       "      <td>1</td>\n",
       "      <td>2</td>\n",
       "      <td>3</td>\n",
       "      <td>1</td>\n",
       "      <td>[assassin, fighter]</td>\n",
       "    </tr>\n",
       "    <tr>\n",
       "      <th>4</th>\n",
       "      <td>555</td>\n",
       "      <td>Pyke</td>\n",
       "      <td>7</td>\n",
       "      <td>2</td>\n",
       "      <td>kPhysical</td>\n",
       "      <td>2</td>\n",
       "      <td>1</td>\n",
       "      <td>3</td>\n",
       "      <td>3</td>\n",
       "      <td>1</td>\n",
       "      <td>[support, assassin]</td>\n",
       "    </tr>\n",
       "    <tr>\n",
       "      <th>...</th>\n",
       "      <td>...</td>\n",
       "      <td>...</td>\n",
       "      <td>...</td>\n",
       "      <td>...</td>\n",
       "      <td>...</td>\n",
       "      <td>...</td>\n",
       "      <td>...</td>\n",
       "      <td>...</td>\n",
       "      <td>...</td>\n",
       "      <td>...</td>\n",
       "      <td>...</td>\n",
       "    </tr>\n",
       "    <tr>\n",
       "      <th>151</th>\n",
       "      <td>5</td>\n",
       "      <td>Xin Zhao</td>\n",
       "      <td>4</td>\n",
       "      <td>1</td>\n",
       "      <td>kPhysical</td>\n",
       "      <td>2</td>\n",
       "      <td>2</td>\n",
       "      <td>2</td>\n",
       "      <td>2</td>\n",
       "      <td>1</td>\n",
       "      <td>[fighter, assassin]</td>\n",
       "    </tr>\n",
       "    <tr>\n",
       "      <th>152</th>\n",
       "      <td>4</td>\n",
       "      <td>Twisted Fate</td>\n",
       "      <td>7</td>\n",
       "      <td>2</td>\n",
       "      <td>kMagic</td>\n",
       "      <td>3</td>\n",
       "      <td>1</td>\n",
       "      <td>2</td>\n",
       "      <td>2</td>\n",
       "      <td>2</td>\n",
       "      <td>[mage]</td>\n",
       "    </tr>\n",
       "    <tr>\n",
       "      <th>153</th>\n",
       "      <td>3</td>\n",
       "      <td>Galio</td>\n",
       "      <td>10</td>\n",
       "      <td>2</td>\n",
       "      <td>kMagic</td>\n",
       "      <td>2</td>\n",
       "      <td>3</td>\n",
       "      <td>3</td>\n",
       "      <td>2</td>\n",
       "      <td>1</td>\n",
       "      <td>[tank, mage]</td>\n",
       "    </tr>\n",
       "    <tr>\n",
       "      <th>154</th>\n",
       "      <td>2</td>\n",
       "      <td>Olaf</td>\n",
       "      <td>4</td>\n",
       "      <td>2</td>\n",
       "      <td>kPhysical</td>\n",
       "      <td>2</td>\n",
       "      <td>2</td>\n",
       "      <td>2</td>\n",
       "      <td>1</td>\n",
       "      <td>1</td>\n",
       "      <td>[fighter, tank]</td>\n",
       "    </tr>\n",
       "    <tr>\n",
       "      <th>155</th>\n",
       "      <td>1</td>\n",
       "      <td>Annie</td>\n",
       "      <td>10</td>\n",
       "      <td>1</td>\n",
       "      <td>kMagic</td>\n",
       "      <td>3</td>\n",
       "      <td>1</td>\n",
       "      <td>3</td>\n",
       "      <td>1</td>\n",
       "      <td>2</td>\n",
       "      <td>[mage]</td>\n",
       "    </tr>\n",
       "  </tbody>\n",
       "</table>\n",
       "<p>156 rows × 11 columns</p>\n",
       "</div>"
      ],
      "text/plain": [
       "     championId          name  style  difficulty damageType  damage  \\\n",
       "0           887          Gwen      5           2     kMagic       3   \n",
       "1           876        Lillia      8           3     kMagic       3   \n",
       "2           875          Sett      4           2  kPhysical       2   \n",
       "3           777          Yone      5           3     kMixed       3   \n",
       "4           555          Pyke      7           2  kPhysical       2   \n",
       "..          ...           ...    ...         ...        ...     ...   \n",
       "151           5      Xin Zhao      4           1  kPhysical       2   \n",
       "152           4  Twisted Fate      7           2     kMagic       3   \n",
       "153           3         Galio     10           2     kMagic       2   \n",
       "154           2          Olaf      4           2  kPhysical       2   \n",
       "155           1         Annie     10           1     kMagic       3   \n",
       "\n",
       "     durability  crowdControl  mobility  utility                roles  \n",
       "0             2             1         3        1  [fighter, assassin]  \n",
       "1             1             2         2        2      [fighter, mage]  \n",
       "2             2             2         2        1      [fighter, tank]  \n",
       "3             1             2         3        1  [assassin, fighter]  \n",
       "4             1             3         3        1  [support, assassin]  \n",
       "..          ...           ...       ...      ...                  ...  \n",
       "151           2             2         2        1  [fighter, assassin]  \n",
       "152           1             2         2        2               [mage]  \n",
       "153           3             3         2        1         [tank, mage]  \n",
       "154           2             2         1        1      [fighter, tank]  \n",
       "155           1             3         1        2               [mage]  \n",
       "\n",
       "[156 rows x 11 columns]"
      ]
     },
     "execution_count": 13,
     "metadata": {},
     "output_type": "execute_result"
    }
   ],
   "source": [
    "json_champ"
   ]
  },
  {
   "cell_type": "code",
   "execution_count": null,
   "id": "e6a23fa9",
   "metadata": {},
   "outputs": [],
   "source": []
  }
 ],
 "metadata": {
  "kernelspec": {
   "display_name": "practice",
   "language": "python",
   "name": "practice"
  },
  "language_info": {
   "codemirror_mode": {
    "name": "ipython",
    "version": 3
   },
   "file_extension": ".py",
   "mimetype": "text/x-python",
   "name": "python",
   "nbconvert_exporter": "python",
   "pygments_lexer": "ipython3",
   "version": "3.8.11"
  }
 },
 "nbformat": 4,
 "nbformat_minor": 5
}
