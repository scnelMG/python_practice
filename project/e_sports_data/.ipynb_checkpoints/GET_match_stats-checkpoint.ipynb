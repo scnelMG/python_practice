{
 "cells": [
  {
   "cell_type": "code",
   "execution_count": 1,
   "id": "91386e17",
   "metadata": {},
   "outputs": [],
   "source": [
    "import pandas as pd\n",
    "import numpy as np\n",
    "import requests"
   ]
  },
  {
   "cell_type": "code",
   "execution_count": 2,
   "id": "57544359",
   "metadata": {},
   "outputs": [],
   "source": [
    "# Riot Developer Portal에서 받은 API KEY입니다.\n",
    "# 해당 값을 포함한 모든 종류의 KEY는 코드에 직접적으로 노출되지 않도록 하는 것이 좋습니다.\n",
    "api_key = 'RGAPI-########-####-####-####-############'\n",
    "\n",
    "# 본인 소환사명입니다.\n",
    "summoner_name = '소환사명'"
   ]
  },
  {
   "cell_type": "code",
   "execution_count": 3,
   "id": "8a40fae7",
   "metadata": {},
   "outputs": [],
   "source": [
    "# SUMMONER-V4 API URL\n",
    "requesturl = 'https://kr.api.riotgames.com/lol/summoner/v4/summoners/by-name/'+summoner_name+\\\n",
    "'?api_key='+api_key"
   ]
  },
  {
   "cell_type": "code",
   "execution_count": 4,
   "id": "03ed8126",
   "metadata": {},
   "outputs": [],
   "source": [
    "r = requests.get(requesturl)"
   ]
  },
  {
   "cell_type": "code",
   "execution_count": 5,
   "id": "9d63ad21",
   "metadata": {
    "scrolled": false
   },
   "outputs": [
    {
     "data": {
      "text/plain": [
       "{'status': {'message': 'Forbidden', 'status_code': 403}}"
      ]
     },
     "execution_count": 5,
     "metadata": {},
     "output_type": "execute_result"
    }
   ],
   "source": [
    "# 불러온 데이터 확인\n",
    "r.json()"
   ]
  },
  {
   "cell_type": "code",
   "execution_count": 6,
   "id": "2fad941c",
   "metadata": {},
   "outputs": [
    {
     "ename": "KeyError",
     "evalue": "'puuid'",
     "output_type": "error",
     "traceback": [
      "\u001b[1;31m---------------------------------------------------------------------------\u001b[0m",
      "\u001b[1;31mKeyError\u001b[0m                                  Traceback (most recent call last)",
      "\u001b[1;32m~\\AppData\\Local\\Temp/ipykernel_13856/852388049.py\u001b[0m in \u001b[0;36m<module>\u001b[1;34m\u001b[0m\n\u001b[0;32m      1\u001b[0m \u001b[1;31m# 본인 puuid입니다.\u001b[0m\u001b[1;33m\u001b[0m\u001b[1;33m\u001b[0m\u001b[1;33m\u001b[0m\u001b[0m\n\u001b[1;32m----> 2\u001b[1;33m \u001b[0msummoner_puuid\u001b[0m \u001b[1;33m=\u001b[0m \u001b[0mr\u001b[0m\u001b[1;33m.\u001b[0m\u001b[0mjson\u001b[0m\u001b[1;33m(\u001b[0m\u001b[1;33m)\u001b[0m\u001b[1;33m[\u001b[0m\u001b[1;34m'puuid'\u001b[0m\u001b[1;33m]\u001b[0m\u001b[1;33m\u001b[0m\u001b[1;33m\u001b[0m\u001b[0m\n\u001b[0m",
      "\u001b[1;31mKeyError\u001b[0m: 'puuid'"
     ]
    }
   ],
   "source": [
    "# 본인 puuid입니다.\n",
    "summoner_puuid = r.json()['puuid']"
   ]
  },
  {
   "cell_type": "code",
   "execution_count": null,
   "id": "603e1f65",
   "metadata": {},
   "outputs": [],
   "source": [
    "# MATCH-V5 API URL\n",
    "requesturl = 'https://asia.api.riotgames.com/lol/match/v5/matches/by-puuid/'+summoner_puuid+\\\n",
    "'/ids?start=0&count=20&api_key='+api_key"
   ]
  },
  {
   "cell_type": "code",
   "execution_count": 7,
   "id": "2115e88f",
   "metadata": {},
   "outputs": [],
   "source": [
    "r = requests.get(requesturl)"
   ]
  },
  {
   "cell_type": "code",
   "execution_count": null,
   "id": "e307fa29",
   "metadata": {
    "scrolled": true
   },
   "outputs": [],
   "source": [
    "# 불러온 데이터 확인\n",
    "r.json()"
   ]
  },
  {
   "cell_type": "code",
   "execution_count": null,
   "id": "38f06958",
   "metadata": {},
   "outputs": [],
   "source": [
    "# 데이터 가져올 matchId입니다.\n",
    "matchId = r.json()[0]"
   ]
  },
  {
   "cell_type": "code",
   "execution_count": null,
   "id": "241888bd",
   "metadata": {},
   "outputs": [],
   "source": [
    "# MATCH-V5 API URL\n",
    "requesturl = 'https://asia.api.riotgames.com/lol/match/v5/matches/'+matchId\\\n",
    "+'?api_key='+api_key"
   ]
  },
  {
   "cell_type": "code",
   "execution_count": null,
   "id": "9773ae29",
   "metadata": {},
   "outputs": [],
   "source": [
    "r = requests.get(requesturl)"
   ]
  },
  {
   "cell_type": "code",
   "execution_count": null,
   "id": "5eb4955f",
   "metadata": {},
   "outputs": [],
   "source": [
    "# 불러온 데이터 확인\n",
    "r.json()"
   ]
  },
  {
   "cell_type": "code",
   "execution_count": null,
   "id": "1fa9b808",
   "metadata": {},
   "outputs": [],
   "source": [
    "# 모든 column print하게 설정 변경\n",
    "pd.set_option('display.max_columns',None)"
   ]
  },
  {
   "cell_type": "code",
   "execution_count": null,
   "id": "0c747286",
   "metadata": {},
   "outputs": [],
   "source": [
    "# DataFrame으로 변환\n",
    "df = pd.DataFrame(r.json()['info']['participants'])"
   ]
  },
  {
   "cell_type": "code",
   "execution_count": null,
   "id": "8a07348f",
   "metadata": {},
   "outputs": [],
   "source": [
    "# 확인할 변수\n",
    "COLUMNS = ['summonerName','teamId','championName','summoner1Id','summoner2Id','win',\n",
    "          'item0','item1','item2','item3','item4','item5','item6',\n",
    "          'kills','deaths','assists','totalDamageDealtToChampions','totalDamageTaken','goldEarned']"
   ]
  },
  {
   "cell_type": "code",
   "execution_count": null,
   "id": "066d8a97",
   "metadata": {},
   "outputs": [],
   "source": [
    "# 확인할 변수만 가져와서 새로운 DataFrame에 저장\n",
    "df2 = df[COLUMNS]"
   ]
  },
  {
   "cell_type": "code",
   "execution_count": null,
   "id": "cac26d93",
   "metadata": {},
   "outputs": [],
   "source": [
    "# 최종 추출 형태 확인\n",
    "df2"
   ]
  },
  {
   "cell_type": "code",
   "execution_count": null,
   "id": "48a200c8",
   "metadata": {},
   "outputs": [],
   "source": [
    "df3 = df2.copy()"
   ]
  },
  {
   "cell_type": "code",
   "execution_count": null,
   "id": "9ca35ffe",
   "metadata": {},
   "outputs": [],
   "source": [
    "# 각종 개인 지표 추가해서 새로운 DataFrame에 저장\n",
    "# KDA = (K + A) / D\n",
    "# GPM = goldEarned / (gameDuration_In_Munite)\n",
    "# DPM = damageDealt / (gameDuration_In_Munite)\n",
    "# DTPM = damageTaken / (gameDuration_In_Munite)\n",
    "df3['KDA'] = (df3['kills'] + df3['assists']) / df3['deaths']\n",
    "df3['GPM'] = df3['goldEarned'] / r.json()['info']['gameDuration'] * 60\n",
    "df3['DPM'] = df3['totalDamageDealtToChampions'] / r.json()['info']['gameDuration'] * 60\n",
    "df3['DTPM'] = df3['totalDamageTaken'] / r.json()['info']['gameDuration'] * 60"
   ]
  },
  {
   "cell_type": "code",
   "execution_count": null,
   "id": "07aa3a9f",
   "metadata": {},
   "outputs": [],
   "source": [
    "df3"
   ]
  },
  {
   "cell_type": "code",
   "execution_count": null,
   "id": "d3304c22",
   "metadata": {},
   "outputs": [],
   "source": [
    "# 숫자로 된 각종 Key값에 대한 Value 가져오기\n",
    "spell_constant = requests.get(\"http://ddragon.leagueoflegends.com/cdn/11.20.1/data/ko_KR/summoner.json\")\n",
    "item_constant = requests.get(\"http://ddragon.leagueoflegends.com/cdn/11.20.1/data/ko_KR/item.json\")"
   ]
  },
  {
   "cell_type": "code",
   "execution_count": null,
   "id": "2bd6660b",
   "metadata": {},
   "outputs": [],
   "source": [
    "spell_constant.json()"
   ]
  },
  {
   "cell_type": "code",
   "execution_count": null,
   "id": "02f9d48e",
   "metadata": {},
   "outputs": [],
   "source": [
    "# Json 파일을 DataFrame으로 변환\n",
    "spell_df = pd.DataFrame(spell_constant.json()['data']).T[['key','name']]\n",
    "item_df = pd.DataFrame(item_constant.json()['data']).T['name'].rename_axis(\"key\").reset_index()\n",
    "\n",
    "# 변수형 문자 -> 숫자\n",
    "spell_df['key'] = pd.to_numeric(spell_df['key'])\n",
    "item_df['key'] = pd.to_numeric(item_df['key'])"
   ]
  },
  {
   "cell_type": "code",
   "execution_count": null,
   "id": "6f8d1309",
   "metadata": {},
   "outputs": [],
   "source": [
    "item_df"
   ]
  },
  {
   "cell_type": "code",
   "execution_count": null,
   "id": "9a99c4b4",
   "metadata": {},
   "outputs": [],
   "source": [
    "df4 = df3.copy()"
   ]
  },
  {
   "cell_type": "code",
   "execution_count": null,
   "id": "6eb7d210",
   "metadata": {},
   "outputs": [],
   "source": [
    "df4 = pd.merge(df4,spell_df,how = 'left', left_on = 'summoner1Id', right_on = 'key').\\\n",
    "rename(columns={'name': 'D'})\n",
    "df4 = pd.merge(df4,spell_df,how = 'left', left_on = 'summoner2Id', right_on = 'key').\\\n",
    "rename(columns={'name': 'F'})"
   ]
  },
  {
   "cell_type": "code",
   "execution_count": null,
   "id": "9b07a422",
   "metadata": {},
   "outputs": [],
   "source": [
    "df4 = pd.merge(df4,item_df,how = 'left', left_on = 'item0', right_on = 'key').\\\n",
    "rename(columns={'name': 'Item1'})\n",
    "df4 = pd.merge(df4,item_df,how = 'left', left_on = 'item1', right_on = 'key').\\\n",
    "rename(columns={'name': 'Item2'})\n",
    "df4 = pd.merge(df4,item_df,how = 'left', left_on = 'item2', right_on = 'key').\\\n",
    "rename(columns={'name': 'Item3'})\n",
    "df4 = pd.merge(df4,item_df,how = 'left', left_on = 'item3', right_on = 'key').\\\n",
    "rename(columns={'name': 'Item4'})\n",
    "df4 = pd.merge(df4,item_df,how = 'left', left_on = 'item4', right_on = 'key').\\\n",
    "rename(columns={'name': 'Item5'})\n",
    "df4 = pd.merge(df4,item_df,how = 'left', left_on = 'item5', right_on = 'key').\\\n",
    "rename(columns={'name': 'Item6'})\n",
    "df4 = pd.merge(df4,item_df,how = 'left', left_on = 'item6', right_on = 'key').\\\n",
    "rename(columns={'name': 'Trinket'})"
   ]
  },
  {
   "cell_type": "code",
   "execution_count": null,
   "id": "4f2aec59",
   "metadata": {},
   "outputs": [],
   "source": [
    "df4"
   ]
  },
  {
   "cell_type": "code",
   "execution_count": null,
   "id": "0b360d0c",
   "metadata": {},
   "outputs": [],
   "source": [
    "# 확인할 변수\n",
    "COLUMNS_NEW = ['summonerName','teamId','championName','D','F','win',\n",
    "               'Item1','Item2','Item3','Item4','Item5','Item6','Trinket',\n",
    "               'KDA','kills','deaths','assists','GPM','DPM','DTPM']"
   ]
  },
  {
   "cell_type": "code",
   "execution_count": null,
   "id": "a02a5d84",
   "metadata": {},
   "outputs": [],
   "source": [
    "df5 = df4[COLUMNS_NEW]"
   ]
  },
  {
   "cell_type": "code",
   "execution_count": null,
   "id": "862afb6a",
   "metadata": {},
   "outputs": [],
   "source": [
    "df5"
   ]
  }
 ],
 "metadata": {
  "kernelspec": {
   "display_name": "Python 3 (ipykernel)",
   "language": "python",
   "name": "python3"
  },
  "language_info": {
   "codemirror_mode": {
    "name": "ipython",
    "version": 3
   },
   "file_extension": ".py",
   "mimetype": "text/x-python",
   "name": "python",
   "nbconvert_exporter": "python",
   "pygments_lexer": "ipython3",
   "version": "3.8.11"
  },
  "varInspector": {
   "cols": {
    "lenName": 16,
    "lenType": 16,
    "lenVar": 40
   },
   "kernels_config": {
    "python": {
     "delete_cmd_postfix": "",
     "delete_cmd_prefix": "del ",
     "library": "var_list.py",
     "varRefreshCmd": "print(var_dic_list())"
    },
    "r": {
     "delete_cmd_postfix": ") ",
     "delete_cmd_prefix": "rm(",
     "library": "var_list.r",
     "varRefreshCmd": "cat(var_dic_list()) "
    }
   },
   "position": {
    "height": "144px",
    "left": "1423px",
    "right": "20px",
    "top": "120px",
    "width": "350px"
   },
   "types_to_exclude": [
    "module",
    "function",
    "builtin_function_or_method",
    "instance",
    "_Feature"
   ],
   "window_display": false
  }
 },
 "nbformat": 4,
 "nbformat_minor": 5
}
