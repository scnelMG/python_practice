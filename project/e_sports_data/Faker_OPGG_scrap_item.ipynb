{
 "cells": [
  {
   "cell_type": "code",
   "execution_count": 1,
   "id": "99c41f3e",
   "metadata": {},
   "outputs": [],
   "source": [
    "import requests\n",
    "import time\n",
    "import pandas as pd\n",
    "from bs4 import BeautifulSoup\n",
    "from selenium import webdriver"
   ]
  },
  {
   "cell_type": "code",
   "execution_count": 2,
   "id": "ff8df5c2",
   "metadata": {},
   "outputs": [],
   "source": [
    "# selenium을 백그라운드로 실행하기 위해 옵션 설정\n",
    "options = webdriver.ChromeOptions()\n",
    "options.add_argument('headless')\n",
    "options.add_argument('window-size=1920x1080')"
   ]
  },
  {
   "cell_type": "code",
   "execution_count": 3,
   "id": "0ed6aeb7",
   "metadata": {},
   "outputs": [],
   "source": [
    "# 우리가 데이터를 가져올 웹 페이지입니다.\n",
    "faker_opgg_url = 'https://www.op.gg/summoner/userName=Hide%20on%20bush'\n",
    "\n",
    "# selenium이 제어할 chrome을 실행합니다.\n",
    "driver = webdriver.Chrome(\"/Users/namshin/chromedriver\")\n",
    "# driver = webdriver.Chrome(\"/Users/namshin/chromedriver\", options= options)"
   ]
  },
  {
   "cell_type": "code",
   "execution_count": 4,
   "id": "d003e032",
   "metadata": {},
   "outputs": [],
   "source": [
    "# 데이터를 가져올 페이지로 이동합니다.\n",
    "driver.get(faker_opgg_url)"
   ]
  },
  {
   "cell_type": "code",
   "execution_count": 5,
   "id": "b119deed",
   "metadata": {},
   "outputs": [],
   "source": [
    "game_list = driver.find_element_by_css_selector('div.GameItemList')\n",
    "game = game_list.find_element_by_css_selector('div.GameItemWrap')\n",
    "items = game.find_elements_by_css_selector('div.Item')\n",
    "item_name = items[0].find_element_by_css_selector('img').get_attribute('alt')\n"
   ]
  },
  {
   "cell_type": "code",
   "execution_count": 6,
   "id": "9883f53a",
   "metadata": {},
   "outputs": [
    {
     "data": {
      "text/plain": [
       "'Hextech Rocketbelt'"
      ]
     },
     "execution_count": 6,
     "metadata": {},
     "output_type": "execute_result"
    }
   ],
   "source": [
    "item_name"
   ]
  },
  {
   "cell_type": "code",
   "execution_count": 7,
   "id": "53d056f1",
   "metadata": {},
   "outputs": [],
   "source": [
    "# '더 보기' 버튼이 활성화되어있으면(리스트의 끝까지 도달하지 않았으면) 계속 클릭하여 이전 게임을 모두 로딩합니다.\n",
    "while True:\n",
    "    try:\n",
    "        driver.find_element_by_css_selector('.GameMoreButton').click()\n",
    "        # 게임 로딩, html 코드 변경까지 여유 시간을 1초 가집니다.\n",
    "        time.sleep(1)\n",
    "        \n",
    "    # 에러가 나면(페이지에서 '더 보기' 버튼이 없을 경우) while문을 탈출합니다.\n",
    "    except Exception as e:\n",
    "        pass\n",
    "        break"
   ]
  },
  {
   "cell_type": "code",
   "execution_count": 8,
   "id": "e160cc88",
   "metadata": {},
   "outputs": [],
   "source": [
    "# 게임이 모두 로딩된 페이지의 html 코드를 faker_total_html로 저장합니다.\n",
    "faker_total_html = driver.page_source\n",
    "\n",
    "# selenium이 제어하는 크롬을 종료합니다.\n",
    "driver.quit()"
   ]
  },
  {
   "cell_type": "code",
   "execution_count": 9,
   "id": "4790542e",
   "metadata": {},
   "outputs": [],
   "source": [
    "# html 형식에 맞춰 파싱(parsing; 추후 이용하기 쉽도록 쪼개기)합니다.\n",
    "faker_total_soup = BeautifulSoup(faker_total_html, 'html.parser')"
   ]
  },
  {
   "cell_type": "code",
   "execution_count": 10,
   "id": "38bae6df",
   "metadata": {},
   "outputs": [],
   "source": [
    "# 결과가 들어갈 빈 리스트를 만듭니다.\n",
    "faker_champions = []\n",
    "faker_kills = []\n",
    "faker_deaths = []\n",
    "faker_assists = []\n",
    "faker_results = []"
   ]
  },
  {
   "cell_type": "code",
   "execution_count": 11,
   "id": "9a3c1ecb",
   "metadata": {
    "scrolled": true
   },
   "outputs": [
    {
     "name": "stdout",
     "output_type": "stream",
     "text": [
      "140\n"
     ]
    }
   ],
   "source": [
    "# 전체 html 코드 중 우리가 원하는 selector를 만족하는 것만 가져오기\n",
    "faker_total_games_html = faker_total_soup.select('div.GameItemList div.GameItemWrap')\n",
    "\n",
    "# 그렇게 가져온 html 코드의 element 개수 == 끝까지 로딩된 모든 게임 수 출력\n",
    "total_game_len = len(faker_total_games_html)\n",
    "print(total_game_len)"
   ]
  },
  {
   "cell_type": "code",
   "execution_count": 12,
   "id": "6d7c3099",
   "metadata": {},
   "outputs": [],
   "source": [
    "# 각 게임에 대해 웹 페이지에 기재된 스탯을 찾아서(selector 사용) 결과 리스트에 append하기\n",
    "for i in range(total_game_len):\n",
    "    faker_champions.append(list(faker_total_games_html[i].select_one('div.ChampionName').\n",
    "                                               stripped_strings)[0])\n",
    "    faker_kills.append(list(faker_total_games_html[i].select_one('div.KDA div.KDA span.Kill').\n",
    "                                               stripped_strings)[0])\n",
    "    faker_deaths.append(list(faker_total_games_html[i].select_one('div.KDA div.KDA span.Death').\n",
    "                                               stripped_strings)[0])\n",
    "    faker_assists.append(list(faker_total_games_html[i].select_one('div.KDA div.KDA span.Assist').\n",
    "                                               stripped_strings)[0])\n",
    "    faker_results.append(list(faker_total_games_html[i].select_one('div.GameStats div.GameResult').\n",
    "                                               stripped_strings)[0])"
   ]
  },
  {
   "cell_type": "code",
   "execution_count": 13,
   "id": "de6cdb18",
   "metadata": {},
   "outputs": [
    {
     "data": {
      "text/html": [
       "<div>\n",
       "<style scoped>\n",
       "    .dataframe tbody tr th:only-of-type {\n",
       "        vertical-align: middle;\n",
       "    }\n",
       "\n",
       "    .dataframe tbody tr th {\n",
       "        vertical-align: top;\n",
       "    }\n",
       "\n",
       "    .dataframe thead th {\n",
       "        text-align: right;\n",
       "    }\n",
       "</style>\n",
       "<table border=\"1\" class=\"dataframe\">\n",
       "  <thead>\n",
       "    <tr style=\"text-align: right;\">\n",
       "      <th></th>\n",
       "      <th>champion</th>\n",
       "      <th>result</th>\n",
       "      <th>kills</th>\n",
       "      <th>deaths</th>\n",
       "      <th>assists</th>\n",
       "    </tr>\n",
       "  </thead>\n",
       "  <tbody>\n",
       "    <tr>\n",
       "      <th>0</th>\n",
       "      <td>Ekko</td>\n",
       "      <td>Victory</td>\n",
       "      <td>4</td>\n",
       "      <td>7</td>\n",
       "      <td>11</td>\n",
       "    </tr>\n",
       "    <tr>\n",
       "      <th>1</th>\n",
       "      <td>LeBlanc</td>\n",
       "      <td>Defeat</td>\n",
       "      <td>2</td>\n",
       "      <td>2</td>\n",
       "      <td>5</td>\n",
       "    </tr>\n",
       "    <tr>\n",
       "      <th>2</th>\n",
       "      <td>LeBlanc</td>\n",
       "      <td>Victory</td>\n",
       "      <td>6</td>\n",
       "      <td>4</td>\n",
       "      <td>4</td>\n",
       "    </tr>\n",
       "    <tr>\n",
       "      <th>3</th>\n",
       "      <td>Taliyah</td>\n",
       "      <td>Defeat</td>\n",
       "      <td>5</td>\n",
       "      <td>10</td>\n",
       "      <td>7</td>\n",
       "    </tr>\n",
       "    <tr>\n",
       "      <th>4</th>\n",
       "      <td>LeBlanc</td>\n",
       "      <td>Victory</td>\n",
       "      <td>8</td>\n",
       "      <td>5</td>\n",
       "      <td>10</td>\n",
       "    </tr>\n",
       "    <tr>\n",
       "      <th>...</th>\n",
       "      <td>...</td>\n",
       "      <td>...</td>\n",
       "      <td>...</td>\n",
       "      <td>...</td>\n",
       "      <td>...</td>\n",
       "    </tr>\n",
       "    <tr>\n",
       "      <th>135</th>\n",
       "      <td>Orianna</td>\n",
       "      <td>Victory</td>\n",
       "      <td>10</td>\n",
       "      <td>5</td>\n",
       "      <td>6</td>\n",
       "    </tr>\n",
       "    <tr>\n",
       "      <th>136</th>\n",
       "      <td>Xin Zhao</td>\n",
       "      <td>Victory</td>\n",
       "      <td>8</td>\n",
       "      <td>4</td>\n",
       "      <td>13</td>\n",
       "    </tr>\n",
       "    <tr>\n",
       "      <th>137</th>\n",
       "      <td>LeBlanc</td>\n",
       "      <td>Defeat</td>\n",
       "      <td>3</td>\n",
       "      <td>2</td>\n",
       "      <td>1</td>\n",
       "    </tr>\n",
       "    <tr>\n",
       "      <th>138</th>\n",
       "      <td>Sylas</td>\n",
       "      <td>Defeat</td>\n",
       "      <td>12</td>\n",
       "      <td>4</td>\n",
       "      <td>4</td>\n",
       "    </tr>\n",
       "    <tr>\n",
       "      <th>139</th>\n",
       "      <td>Ryze</td>\n",
       "      <td>Defeat</td>\n",
       "      <td>12</td>\n",
       "      <td>8</td>\n",
       "      <td>9</td>\n",
       "    </tr>\n",
       "  </tbody>\n",
       "</table>\n",
       "<p>140 rows × 5 columns</p>\n",
       "</div>"
      ],
      "text/plain": [
       "     champion   result kills deaths assists\n",
       "0        Ekko  Victory     4      7      11\n",
       "1     LeBlanc   Defeat     2      2       5\n",
       "2     LeBlanc  Victory     6      4       4\n",
       "3     Taliyah   Defeat     5     10       7\n",
       "4     LeBlanc  Victory     8      5      10\n",
       "..        ...      ...   ...    ...     ...\n",
       "135   Orianna  Victory    10      5       6\n",
       "136  Xin Zhao  Victory     8      4      13\n",
       "137   LeBlanc   Defeat     3      2       1\n",
       "138     Sylas   Defeat    12      4       4\n",
       "139      Ryze   Defeat    12      8       9\n",
       "\n",
       "[140 rows x 5 columns]"
      ]
     },
     "execution_count": 13,
     "metadata": {},
     "output_type": "execute_result"
    }
   ],
   "source": [
    "# DataFrame으로 변환 후 출력\n",
    "faker_total_df = pd.DataFrame([faker_champions,\n",
    "                                faker_results,\n",
    "                                faker_kills,\n",
    "                                faker_deaths,\n",
    "                                faker_assists],\n",
    "                               index = ['champion', 'result', 'kills', 'deaths', 'assists']).T\n",
    "faker_total_df"
   ]
  }
 ],
 "metadata": {
  "kernelspec": {
   "display_name": "Python 3",
   "language": "python",
   "name": "python3"
  },
  "language_info": {
   "codemirror_mode": {
    "name": "ipython",
    "version": 3
   },
   "file_extension": ".py",
   "mimetype": "text/x-python",
   "name": "python",
   "nbconvert_exporter": "python",
   "pygments_lexer": "ipython3",
   "version": "3.8.8"
  },
  "varInspector": {
   "cols": {
    "lenName": 16,
    "lenType": 16,
    "lenVar": 40
   },
   "kernels_config": {
    "python": {
     "delete_cmd_postfix": "",
     "delete_cmd_prefix": "del ",
     "library": "var_list.py",
     "varRefreshCmd": "print(var_dic_list())"
    },
    "r": {
     "delete_cmd_postfix": ") ",
     "delete_cmd_prefix": "rm(",
     "library": "var_list.r",
     "varRefreshCmd": "cat(var_dic_list()) "
    }
   },
   "types_to_exclude": [
    "module",
    "function",
    "builtin_function_or_method",
    "instance",
    "_Feature"
   ],
   "window_display": false
  }
 },
 "nbformat": 4,
 "nbformat_minor": 5
}
