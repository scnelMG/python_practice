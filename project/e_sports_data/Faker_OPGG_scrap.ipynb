{
 "cells": [
  {
   "cell_type": "code",
   "execution_count": null,
   "id": "107a1dfa",
   "metadata": {},
   "outputs": [],
   "source": [
    "import requests\n",
    "from bs4 import BeautifulSoup\n",
    "import pandas as pd"
   ]
  },
  {
   "cell_type": "code",
   "execution_count": null,
   "id": "4e8ecda4",
   "metadata": {},
   "outputs": [],
   "source": [
    "# 우리가 데이터를 가져올 웹 페이지입니다.\n",
    "faker_opgg_url = 'https://www.op.gg/summoner/userName=Hide%20on%20bush'"
   ]
  },
  {
   "cell_type": "code",
   "execution_count": null,
   "id": "bd8abeac",
   "metadata": {},
   "outputs": [],
   "source": [
    "# 페이지의 html 코드를 faker_html로 저장합니다.\n",
    "faker_html = requests.get(faker_opgg_url).text"
   ]
  },
  {
   "cell_type": "code",
   "execution_count": null,
   "id": "0b5ac98c",
   "metadata": {},
   "outputs": [],
   "source": [
    "# html 형식에 맞춰 파싱(parsing; 추후 이용하기 쉽도록 쪼개기)합니다.\n",
    "faker_soup = BeautifulSoup(faker_html, \"html.parser\")"
   ]
  },
  {
   "cell_type": "code",
   "execution_count": null,
   "id": "f0da9a52",
   "metadata": {},
   "outputs": [],
   "source": [
    "# 결과가 들어갈 빈 리스트를 만듭니다.\n",
    "faker_recent_champions = []\n",
    "faker_recent_kills = []\n",
    "faker_recent_deaths = []\n",
    "faker_recent_assists = []\n",
    "faker_recent_results = []"
   ]
  },
  {
   "cell_type": "code",
   "execution_count": null,
   "id": "5c025f19",
   "metadata": {},
   "outputs": [],
   "source": [
    "# 전체 html 코드 중 우리가 원하는 selector를 만족하는 것만 가져오기\n",
    "faker_recent_games_html = faker_soup.select('div.GameItemList div.GameItemWrap')"
   ]
  },
  {
   "cell_type": "code",
   "execution_count": null,
   "id": "b254cc16",
   "metadata": {},
   "outputs": [],
   "source": [
    "# 그렇게 가져온 html 코드의 element 개수 == 한 페이지에 최초로 로딩된 최근 게임 수 출력\n",
    "recent_game_len = len(faker_recent_games_html)\n",
    "print(recent_game_len)"
   ]
  },
  {
   "cell_type": "code",
   "execution_count": null,
   "id": "abca9b71",
   "metadata": {},
   "outputs": [],
   "source": [
    "# 각 게임에 대해 웹 페이지에 기재된 스탯을 찾아서(selector 사용) 결과 리스트에 append하기\n",
    "for i in range(recent_game_len):\n",
    "    faker_recent_champions.append(''.join(list(faker_recent_games_html[i].select('div.ChampionName')[0].\n",
    "                                               stripped_strings)))\n",
    "    faker_recent_kills.append(list(faker_recent_games_html[i].select('div.KDA div.KDA span.Kill')[0].\n",
    "                                               stripped_strings)[0])\n",
    "    faker_recent_deaths.append(list(faker_recent_games_html[i].select_one('div.KDA div.KDA span.Death').\n",
    "                                               stripped_strings)[0])\n",
    "    faker_recent_assists.append(list(faker_recent_games_html[i].select('div.KDA div.KDA span.Assist')[0].\n",
    "                                               stripped_strings)[0])\n",
    "    faker_recent_results.append(list(faker_recent_games_html[i].select('div.GameStats div.GameResult')[0].\n",
    "                                               stripped_strings)[0])\n",
    "#     faker_recent_results.append(faker_recent_games_html[i].select_one('div.GameItem')['data-game-result'])"
   ]
  },
  {
   "cell_type": "code",
   "execution_count": null,
   "id": "e8c441e2",
   "metadata": {
    "scrolled": true
   },
   "outputs": [],
   "source": [
    "# DataFrame으로 변환 후 출력\n",
    "faker_recent_df = pd.DataFrame([faker_recent_champions,\n",
    "                                faker_recent_results,\n",
    "                                faker_recent_kills,\n",
    "                                faker_recent_deaths,\n",
    "                                faker_recent_assists],\n",
    "                               index = ['champion', 'result', 'kills', 'deaths', 'assists']).T\n",
    "faker_recent_df"
   ]
  }
 ],
 "metadata": {
  "kernelspec": {
   "display_name": "Python 3",
   "language": "python",
   "name": "python3"
  },
  "language_info": {
   "codemirror_mode": {
    "name": "ipython",
    "version": 3
   },
   "file_extension": ".py",
   "mimetype": "text/x-python",
   "name": "python",
   "nbconvert_exporter": "python",
   "pygments_lexer": "ipython3",
   "version": "3.8.8"
  },
  "varInspector": {
   "cols": {
    "lenName": 16,
    "lenType": 16,
    "lenVar": 40
   },
   "kernels_config": {
    "python": {
     "delete_cmd_postfix": "",
     "delete_cmd_prefix": "del ",
     "library": "var_list.py",
     "varRefreshCmd": "print(var_dic_list())"
    },
    "r": {
     "delete_cmd_postfix": ") ",
     "delete_cmd_prefix": "rm(",
     "library": "var_list.r",
     "varRefreshCmd": "cat(var_dic_list()) "
    }
   },
   "position": {
    "height": "144px",
    "left": "1550px",
    "right": "20px",
    "top": "119px",
    "width": "350px"
   },
   "types_to_exclude": [
    "module",
    "function",
    "builtin_function_or_method",
    "instance",
    "_Feature"
   ],
   "window_display": true
  }
 },
 "nbformat": 4,
 "nbformat_minor": 5
}
