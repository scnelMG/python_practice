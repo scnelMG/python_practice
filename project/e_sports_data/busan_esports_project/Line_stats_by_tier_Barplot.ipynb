{
 "cells": [
  {
   "cell_type": "code",
   "execution_count": 1,
   "id": "48e2c042",
   "metadata": {},
   "outputs": [],
   "source": [
    "import pandas as pd\n",
    "import numpy as np\n",
    "import requests\n",
    "import matplotlib.pyplot as plt\n",
    "import seaborn as sns"
   ]
  },
  {
   "cell_type": "code",
   "execution_count": 2,
   "id": "18aa08e6",
   "metadata": {},
   "outputs": [],
   "source": [
    "constant_patch = '11.23.1'\n",
    "\n",
    "# 라이엇 개발자 페이지에서 최신 버전 한국 서버 챔피언 정보 가져오기\n",
    "champion_info = requests.get(\"http://ddragon.leagueoflegends.com/cdn/\" + constant_patch + \"/data/ko_KR/champion.json\").json()     "
   ]
  },
  {
   "cell_type": "code",
   "execution_count": 3,
   "id": "f270ffb7",
   "metadata": {},
   "outputs": [],
   "source": [
    "# 챔피언 정보 => DataFrame으로 변환\n",
    "# champion_df는 'key'로 id값, 'name'으로 챔피언 한국어 이름을 가지는 156rows짜리 DataFrame\n",
    "champion_df = pd.DataFrame(champion_info['data']).T[['key', 'name']]\n",
    "\n",
    "# champion_df의 'key' column string => numeric 변환\n",
    "champion_df['key'] = pd.to_numeric(champion_df['key'])"
   ]
  },
  {
   "cell_type": "code",
   "execution_count": 4,
   "id": "c70413a1",
   "metadata": {},
   "outputs": [
    {
     "ename": "FileNotFoundError",
     "evalue": "[Errno 2] No such file or directory: 'BIPA_data.csv'",
     "output_type": "error",
     "traceback": [
      "\u001b[1;31m---------------------------------------------------------------------------\u001b[0m",
      "\u001b[1;31mFileNotFoundError\u001b[0m                         Traceback (most recent call last)",
      "\u001b[1;32m~\\AppData\\Local\\Temp/ipykernel_11088/3344257244.py\u001b[0m in \u001b[0;36m<module>\u001b[1;34m\u001b[0m\n\u001b[1;32m----> 1\u001b[1;33m \u001b[0mdf\u001b[0m \u001b[1;33m=\u001b[0m \u001b[0mpd\u001b[0m\u001b[1;33m.\u001b[0m\u001b[0mread_csv\u001b[0m\u001b[1;33m(\u001b[0m\u001b[1;34m'BIPA_data.csv'\u001b[0m\u001b[1;33m,\u001b[0m \u001b[0mindex_col\u001b[0m\u001b[1;33m=\u001b[0m\u001b[1;36m0\u001b[0m\u001b[1;33m)\u001b[0m\u001b[1;33m\u001b[0m\u001b[1;33m\u001b[0m\u001b[0m\n\u001b[0m",
      "\u001b[1;32mC:\\anaconda3\\envs\\practice\\lib\\site-packages\\pandas\\util\\_decorators.py\u001b[0m in \u001b[0;36mwrapper\u001b[1;34m(*args, **kwargs)\u001b[0m\n\u001b[0;32m    309\u001b[0m                     \u001b[0mstacklevel\u001b[0m\u001b[1;33m=\u001b[0m\u001b[0mstacklevel\u001b[0m\u001b[1;33m,\u001b[0m\u001b[1;33m\u001b[0m\u001b[1;33m\u001b[0m\u001b[0m\n\u001b[0;32m    310\u001b[0m                 )\n\u001b[1;32m--> 311\u001b[1;33m             \u001b[1;32mreturn\u001b[0m \u001b[0mfunc\u001b[0m\u001b[1;33m(\u001b[0m\u001b[1;33m*\u001b[0m\u001b[0margs\u001b[0m\u001b[1;33m,\u001b[0m \u001b[1;33m**\u001b[0m\u001b[0mkwargs\u001b[0m\u001b[1;33m)\u001b[0m\u001b[1;33m\u001b[0m\u001b[1;33m\u001b[0m\u001b[0m\n\u001b[0m\u001b[0;32m    312\u001b[0m \u001b[1;33m\u001b[0m\u001b[0m\n\u001b[0;32m    313\u001b[0m         \u001b[1;32mreturn\u001b[0m \u001b[0mwrapper\u001b[0m\u001b[1;33m\u001b[0m\u001b[1;33m\u001b[0m\u001b[0m\n",
      "\u001b[1;32mC:\\anaconda3\\envs\\practice\\lib\\site-packages\\pandas\\io\\parsers\\readers.py\u001b[0m in \u001b[0;36mread_csv\u001b[1;34m(filepath_or_buffer, sep, delimiter, header, names, index_col, usecols, squeeze, prefix, mangle_dupe_cols, dtype, engine, converters, true_values, false_values, skipinitialspace, skiprows, skipfooter, nrows, na_values, keep_default_na, na_filter, verbose, skip_blank_lines, parse_dates, infer_datetime_format, keep_date_col, date_parser, dayfirst, cache_dates, iterator, chunksize, compression, thousands, decimal, lineterminator, quotechar, quoting, doublequote, escapechar, comment, encoding, encoding_errors, dialect, error_bad_lines, warn_bad_lines, on_bad_lines, delim_whitespace, low_memory, memory_map, float_precision, storage_options)\u001b[0m\n\u001b[0;32m    584\u001b[0m     \u001b[0mkwds\u001b[0m\u001b[1;33m.\u001b[0m\u001b[0mupdate\u001b[0m\u001b[1;33m(\u001b[0m\u001b[0mkwds_defaults\u001b[0m\u001b[1;33m)\u001b[0m\u001b[1;33m\u001b[0m\u001b[1;33m\u001b[0m\u001b[0m\n\u001b[0;32m    585\u001b[0m \u001b[1;33m\u001b[0m\u001b[0m\n\u001b[1;32m--> 586\u001b[1;33m     \u001b[1;32mreturn\u001b[0m \u001b[0m_read\u001b[0m\u001b[1;33m(\u001b[0m\u001b[0mfilepath_or_buffer\u001b[0m\u001b[1;33m,\u001b[0m \u001b[0mkwds\u001b[0m\u001b[1;33m)\u001b[0m\u001b[1;33m\u001b[0m\u001b[1;33m\u001b[0m\u001b[0m\n\u001b[0m\u001b[0;32m    587\u001b[0m \u001b[1;33m\u001b[0m\u001b[0m\n\u001b[0;32m    588\u001b[0m \u001b[1;33m\u001b[0m\u001b[0m\n",
      "\u001b[1;32mC:\\anaconda3\\envs\\practice\\lib\\site-packages\\pandas\\io\\parsers\\readers.py\u001b[0m in \u001b[0;36m_read\u001b[1;34m(filepath_or_buffer, kwds)\u001b[0m\n\u001b[0;32m    480\u001b[0m \u001b[1;33m\u001b[0m\u001b[0m\n\u001b[0;32m    481\u001b[0m     \u001b[1;31m# Create the parser.\u001b[0m\u001b[1;33m\u001b[0m\u001b[1;33m\u001b[0m\u001b[1;33m\u001b[0m\u001b[0m\n\u001b[1;32m--> 482\u001b[1;33m     \u001b[0mparser\u001b[0m \u001b[1;33m=\u001b[0m \u001b[0mTextFileReader\u001b[0m\u001b[1;33m(\u001b[0m\u001b[0mfilepath_or_buffer\u001b[0m\u001b[1;33m,\u001b[0m \u001b[1;33m**\u001b[0m\u001b[0mkwds\u001b[0m\u001b[1;33m)\u001b[0m\u001b[1;33m\u001b[0m\u001b[1;33m\u001b[0m\u001b[0m\n\u001b[0m\u001b[0;32m    483\u001b[0m \u001b[1;33m\u001b[0m\u001b[0m\n\u001b[0;32m    484\u001b[0m     \u001b[1;32mif\u001b[0m \u001b[0mchunksize\u001b[0m \u001b[1;32mor\u001b[0m \u001b[0miterator\u001b[0m\u001b[1;33m:\u001b[0m\u001b[1;33m\u001b[0m\u001b[1;33m\u001b[0m\u001b[0m\n",
      "\u001b[1;32mC:\\anaconda3\\envs\\practice\\lib\\site-packages\\pandas\\io\\parsers\\readers.py\u001b[0m in \u001b[0;36m__init__\u001b[1;34m(self, f, engine, **kwds)\u001b[0m\n\u001b[0;32m    809\u001b[0m             \u001b[0mself\u001b[0m\u001b[1;33m.\u001b[0m\u001b[0moptions\u001b[0m\u001b[1;33m[\u001b[0m\u001b[1;34m\"has_index_names\"\u001b[0m\u001b[1;33m]\u001b[0m \u001b[1;33m=\u001b[0m \u001b[0mkwds\u001b[0m\u001b[1;33m[\u001b[0m\u001b[1;34m\"has_index_names\"\u001b[0m\u001b[1;33m]\u001b[0m\u001b[1;33m\u001b[0m\u001b[1;33m\u001b[0m\u001b[0m\n\u001b[0;32m    810\u001b[0m \u001b[1;33m\u001b[0m\u001b[0m\n\u001b[1;32m--> 811\u001b[1;33m         \u001b[0mself\u001b[0m\u001b[1;33m.\u001b[0m\u001b[0m_engine\u001b[0m \u001b[1;33m=\u001b[0m \u001b[0mself\u001b[0m\u001b[1;33m.\u001b[0m\u001b[0m_make_engine\u001b[0m\u001b[1;33m(\u001b[0m\u001b[0mself\u001b[0m\u001b[1;33m.\u001b[0m\u001b[0mengine\u001b[0m\u001b[1;33m)\u001b[0m\u001b[1;33m\u001b[0m\u001b[1;33m\u001b[0m\u001b[0m\n\u001b[0m\u001b[0;32m    812\u001b[0m \u001b[1;33m\u001b[0m\u001b[0m\n\u001b[0;32m    813\u001b[0m     \u001b[1;32mdef\u001b[0m \u001b[0mclose\u001b[0m\u001b[1;33m(\u001b[0m\u001b[0mself\u001b[0m\u001b[1;33m)\u001b[0m\u001b[1;33m:\u001b[0m\u001b[1;33m\u001b[0m\u001b[1;33m\u001b[0m\u001b[0m\n",
      "\u001b[1;32mC:\\anaconda3\\envs\\practice\\lib\\site-packages\\pandas\\io\\parsers\\readers.py\u001b[0m in \u001b[0;36m_make_engine\u001b[1;34m(self, engine)\u001b[0m\n\u001b[0;32m   1038\u001b[0m             )\n\u001b[0;32m   1039\u001b[0m         \u001b[1;31m# error: Too many arguments for \"ParserBase\"\u001b[0m\u001b[1;33m\u001b[0m\u001b[1;33m\u001b[0m\u001b[1;33m\u001b[0m\u001b[0m\n\u001b[1;32m-> 1040\u001b[1;33m         \u001b[1;32mreturn\u001b[0m \u001b[0mmapping\u001b[0m\u001b[1;33m[\u001b[0m\u001b[0mengine\u001b[0m\u001b[1;33m]\u001b[0m\u001b[1;33m(\u001b[0m\u001b[0mself\u001b[0m\u001b[1;33m.\u001b[0m\u001b[0mf\u001b[0m\u001b[1;33m,\u001b[0m \u001b[1;33m**\u001b[0m\u001b[0mself\u001b[0m\u001b[1;33m.\u001b[0m\u001b[0moptions\u001b[0m\u001b[1;33m)\u001b[0m  \u001b[1;31m# type: ignore[call-arg]\u001b[0m\u001b[1;33m\u001b[0m\u001b[1;33m\u001b[0m\u001b[0m\n\u001b[0m\u001b[0;32m   1041\u001b[0m \u001b[1;33m\u001b[0m\u001b[0m\n\u001b[0;32m   1042\u001b[0m     \u001b[1;32mdef\u001b[0m \u001b[0m_failover_to_python\u001b[0m\u001b[1;33m(\u001b[0m\u001b[0mself\u001b[0m\u001b[1;33m)\u001b[0m\u001b[1;33m:\u001b[0m\u001b[1;33m\u001b[0m\u001b[1;33m\u001b[0m\u001b[0m\n",
      "\u001b[1;32mC:\\anaconda3\\envs\\practice\\lib\\site-packages\\pandas\\io\\parsers\\c_parser_wrapper.py\u001b[0m in \u001b[0;36m__init__\u001b[1;34m(self, src, **kwds)\u001b[0m\n\u001b[0;32m     49\u001b[0m \u001b[1;33m\u001b[0m\u001b[0m\n\u001b[0;32m     50\u001b[0m         \u001b[1;31m# open handles\u001b[0m\u001b[1;33m\u001b[0m\u001b[1;33m\u001b[0m\u001b[1;33m\u001b[0m\u001b[0m\n\u001b[1;32m---> 51\u001b[1;33m         \u001b[0mself\u001b[0m\u001b[1;33m.\u001b[0m\u001b[0m_open_handles\u001b[0m\u001b[1;33m(\u001b[0m\u001b[0msrc\u001b[0m\u001b[1;33m,\u001b[0m \u001b[0mkwds\u001b[0m\u001b[1;33m)\u001b[0m\u001b[1;33m\u001b[0m\u001b[1;33m\u001b[0m\u001b[0m\n\u001b[0m\u001b[0;32m     52\u001b[0m         \u001b[1;32massert\u001b[0m \u001b[0mself\u001b[0m\u001b[1;33m.\u001b[0m\u001b[0mhandles\u001b[0m \u001b[1;32mis\u001b[0m \u001b[1;32mnot\u001b[0m \u001b[1;32mNone\u001b[0m\u001b[1;33m\u001b[0m\u001b[1;33m\u001b[0m\u001b[0m\n\u001b[0;32m     53\u001b[0m \u001b[1;33m\u001b[0m\u001b[0m\n",
      "\u001b[1;32mC:\\anaconda3\\envs\\practice\\lib\\site-packages\\pandas\\io\\parsers\\base_parser.py\u001b[0m in \u001b[0;36m_open_handles\u001b[1;34m(self, src, kwds)\u001b[0m\n\u001b[0;32m    220\u001b[0m         \u001b[0mLet\u001b[0m \u001b[0mthe\u001b[0m \u001b[0mreaders\u001b[0m \u001b[0mopen\u001b[0m \u001b[0mIOHandles\u001b[0m \u001b[0mafter\u001b[0m \u001b[0mthey\u001b[0m \u001b[0mare\u001b[0m \u001b[0mdone\u001b[0m \u001b[1;32mwith\u001b[0m \u001b[0mtheir\u001b[0m \u001b[0mpotential\u001b[0m \u001b[0mraises\u001b[0m\u001b[1;33m.\u001b[0m\u001b[1;33m\u001b[0m\u001b[1;33m\u001b[0m\u001b[0m\n\u001b[0;32m    221\u001b[0m         \"\"\"\n\u001b[1;32m--> 222\u001b[1;33m         self.handles = get_handle(\n\u001b[0m\u001b[0;32m    223\u001b[0m             \u001b[0msrc\u001b[0m\u001b[1;33m,\u001b[0m\u001b[1;33m\u001b[0m\u001b[1;33m\u001b[0m\u001b[0m\n\u001b[0;32m    224\u001b[0m             \u001b[1;34m\"r\"\u001b[0m\u001b[1;33m,\u001b[0m\u001b[1;33m\u001b[0m\u001b[1;33m\u001b[0m\u001b[0m\n",
      "\u001b[1;32mC:\\anaconda3\\envs\\practice\\lib\\site-packages\\pandas\\io\\common.py\u001b[0m in \u001b[0;36mget_handle\u001b[1;34m(path_or_buf, mode, encoding, compression, memory_map, is_text, errors, storage_options)\u001b[0m\n\u001b[0;32m    699\u001b[0m         \u001b[1;32mif\u001b[0m \u001b[0mioargs\u001b[0m\u001b[1;33m.\u001b[0m\u001b[0mencoding\u001b[0m \u001b[1;32mand\u001b[0m \u001b[1;34m\"b\"\u001b[0m \u001b[1;32mnot\u001b[0m \u001b[1;32min\u001b[0m \u001b[0mioargs\u001b[0m\u001b[1;33m.\u001b[0m\u001b[0mmode\u001b[0m\u001b[1;33m:\u001b[0m\u001b[1;33m\u001b[0m\u001b[1;33m\u001b[0m\u001b[0m\n\u001b[0;32m    700\u001b[0m             \u001b[1;31m# Encoding\u001b[0m\u001b[1;33m\u001b[0m\u001b[1;33m\u001b[0m\u001b[1;33m\u001b[0m\u001b[0m\n\u001b[1;32m--> 701\u001b[1;33m             handle = open(\n\u001b[0m\u001b[0;32m    702\u001b[0m                 \u001b[0mhandle\u001b[0m\u001b[1;33m,\u001b[0m\u001b[1;33m\u001b[0m\u001b[1;33m\u001b[0m\u001b[0m\n\u001b[0;32m    703\u001b[0m                 \u001b[0mioargs\u001b[0m\u001b[1;33m.\u001b[0m\u001b[0mmode\u001b[0m\u001b[1;33m,\u001b[0m\u001b[1;33m\u001b[0m\u001b[1;33m\u001b[0m\u001b[0m\n",
      "\u001b[1;31mFileNotFoundError\u001b[0m: [Errno 2] No such file or directory: 'BIPA_data.csv'"
     ]
    }
   ],
   "source": [
    "df = pd.read_csv('BIPA_data.csv', index_col=0)"
   ]
  },
  {
   "cell_type": "code",
   "execution_count": null,
   "id": "4a5ebc3b",
   "metadata": {},
   "outputs": [],
   "source": [
    "df = df.merge(champion_df, how = 'left', left_on = 'championId', right_on = 'key')"
   ]
  },
  {
   "cell_type": "code",
   "execution_count": null,
   "id": "70641a99",
   "metadata": {},
   "outputs": [],
   "source": [
    "data = pd.DataFrame()\n",
    "data = df[['tierRank', 'position', 'name', 'result']]"
   ]
  },
  {
   "cell_type": "code",
   "execution_count": null,
   "id": "cda55305",
   "metadata": {},
   "outputs": [],
   "source": [
    "# 결측치 드랍\n",
    "data = data.dropna(axis=0)\n",
    "# 다시하기 드랍\n",
    "data.drop(data.loc[data['result']=='UNKNOWN'].index, inplace=True)\n",
    "print('data : ', len(data))"
   ]
  },
  {
   "cell_type": "code",
   "execution_count": null,
   "id": "f23a43f4",
   "metadata": {},
   "outputs": [],
   "source": [
    "# result 숫자로 변환\n",
    "data.loc[data['result'] == 'WIN', 'result'] = 1\n",
    "data.loc[data['result'] == 'LOSE', 'result'] = 0\n",
    "data['games'] = 1\n",
    "data = data.astype({'result' : 'int'})\n",
    "# result -> wins로 컬럼명 변경\n",
    "data.rename(columns = {'result':'wins'},inplace=True)"
   ]
  },
  {
   "cell_type": "code",
   "execution_count": null,
   "id": "a37399f5",
   "metadata": {},
   "outputs": [],
   "source": [
    "# 티어별 데이터 프레임 생성\n",
    "TierList = ['IRON', 'BRONZE', 'SILVER', 'GOLD', 'PLATINUM', 'DIAMOND',\n",
    "        'MASTER', 'GRAND_MASTER','CHALLENGER']\n",
    "TierFront = ['I', 'B', 'S', 'G', 'P', 'D', 'M', 'G', 'C']\n",
    "\n",
    "for i, j in zip(TierList, TierFront) :\n",
    "    globals()[f'{i}'] = data[data['tierRank'].str.contains(f'{j}')]\n",
    "\n",
    "m_list = ['M', 'R', 'C']\n",
    "m_list = '|'.join(m_list)\n",
    "ABOVE_MASTER = data[data['tierRank'].str.contains(m_list)]\n",
    "print('MASTER+ : ', len(ABOVE_MASTER))\n",
    "\n",
    "print('SUM : ', len(IRON)+len(BRONZE)+len(SILVER)+len(GOLD)+len(PLATINUM)+len(DIAMOND)+len(ABOVE_MASTER))"
   ]
  },
  {
   "cell_type": "code",
   "execution_count": null,
   "id": "c2a53143",
   "metadata": {},
   "outputs": [],
   "source": [
    "# 티어별-포지션별 승률, 픽률\n",
    "\n",
    "IRON_total = IRON.groupby(['position', 'name'], as_index=False).sum()\n",
    "IRON_sum = IRON.groupby(['position'], as_index=False).sum()\n",
    "IRON_sum.columns = ['position', 'wins', 'total_games']\n",
    "IRON_sum = IRON_sum[['position', 'total_games']]\n",
    "IRON_total = IRON_total.merge(IRON_sum, how = 'left', on = 'position')\n",
    "IRON_total = IRON_total[IRON_total.games > 50]\n",
    "IRON_total['winRate'] = IRON_total['wins'] / IRON_total['games']\n",
    "IRON_total['pickRate'] = IRON_total['games'] / IRON_total['total_games']\n",
    "IRON_total = IRON_total.sort_values(by=['position', 'winRate', 'pickRate'], ascending=False) \n",
    "\n",
    "BRONZE_total = BRONZE.groupby(['position', 'name'], as_index=False).sum()\n",
    "BRONZE_sum = BRONZE.groupby(['position'], as_index=False).sum()\n",
    "BRONZE_sum.columns = ['position', 'wins', 'total_games']\n",
    "BRONZE_sum = BRONZE_sum[['position', 'total_games']]\n",
    "BRONZE_total = BRONZE_total.merge(BRONZE_sum, how = 'left', on = 'position')\n",
    "BRONZE_total = BRONZE_total[BRONZE_total.games > 50]\n",
    "BRONZE_total['winRate'] = BRONZE_total['wins'] / BRONZE_total['games']\n",
    "BRONZE_total['pickRate'] = BRONZE_total['games'] / BRONZE_total['total_games']\n",
    "BRONZE_total = BRONZE_total.sort_values(by=['position', 'winRate', 'pickRate'], ascending=False) \n",
    "\n",
    "SILVER_total = SILVER.groupby(['position', 'name'], as_index=False).sum()\n",
    "SILVER_sum = SILVER.groupby(['position'], as_index=False).sum()\n",
    "SILVER_sum.columns = ['position', 'wins', 'total_games']\n",
    "SILVER_sum = SILVER_sum[['position', 'total_games']]\n",
    "SILVER_total = SILVER_total.merge(SILVER_sum, how = 'left', on = 'position')\n",
    "SILVER_total = SILVER_total[SILVER_total.games > 50]\n",
    "SILVER_total['winRate'] = SILVER_total['wins'] / SILVER_total['games']\n",
    "SILVER_total['pickRate'] = SILVER_total['games'] / SILVER_total['total_games']\n",
    "SILVER_total = SILVER_total.sort_values(by=['position', 'winRate', 'pickRate'], ascending=False) \n",
    "\n",
    "GOLD_total = GOLD.groupby(['position', 'name'], as_index=False).sum()\n",
    "GOLD_sum = GOLD.groupby(['position'], as_index=False).sum()\n",
    "GOLD_sum.columns = ['position', 'wins', 'total_games']\n",
    "GOLD_sum = GOLD_sum[['position', 'total_games']]\n",
    "GOLD_total = GOLD_total.merge(GOLD_sum, how = 'left', on = 'position')\n",
    "GOLD_total = GOLD_total[GOLD_total.games > 50]\n",
    "GOLD_total['winRate'] = GOLD_total['wins'] / GOLD_total['games']\n",
    "GOLD_total['pickRate'] = GOLD_total['games'] / GOLD_total['total_games']\n",
    "GOLD_total = GOLD_total.sort_values(by=['position', 'winRate', 'pickRate'], ascending=False) \n",
    "\n",
    "PLATINUM_total = PLATINUM.groupby(['position', 'name'], as_index=False).sum()\n",
    "PLATINUM_sum = PLATINUM.groupby(['position'], as_index=False).sum()\n",
    "PLATINUM_sum.columns = ['position', 'wins', 'total_games']\n",
    "PLATINUM_sum = PLATINUM_sum[['position', 'total_games']]\n",
    "PLATINUM_total = PLATINUM_total.merge(PLATINUM_sum, how = 'left', on = 'position')\n",
    "PLATINUM_total = PLATINUM_total[PLATINUM_total.games > 50]\n",
    "PLATINUM_total['winRate'] = PLATINUM_total['wins'] / PLATINUM_total['games']\n",
    "PLATINUM_total['pickRate'] = PLATINUM_total['games'] / PLATINUM_total['total_games']\n",
    "PLATINUM_total = PLATINUM_total.sort_values(by=['position', 'winRate', 'pickRate'], ascending=False) \n",
    "\n",
    "DIAMOND_total = DIAMOND.groupby(['position', 'name'], as_index=False).sum()\n",
    "DIAMOND_sum = DIAMOND.groupby(['position'], as_index=False).sum()\n",
    "DIAMOND_sum.columns = ['position', 'wins', 'total_games']\n",
    "DIAMOND_sum = DIAMOND_sum[['position', 'total_games']]\n",
    "DIAMOND_total = DIAMOND_total.merge(DIAMOND_sum, how = 'left', on = 'position')\n",
    "DIAMOND_total = DIAMOND_total[DIAMOND_total.games > 50]\n",
    "DIAMOND_total['winRate'] = DIAMOND_total['wins'] / DIAMOND_total['games']\n",
    "DIAMOND_total['pickRate'] = DIAMOND_total['games'] / DIAMOND_total['total_games']\n",
    "DIAMOND_total = DIAMOND_total.sort_values(by=['position', 'winRate', 'pickRate'], ascending=False) \n",
    "\n",
    "MASTER_total = MASTER.groupby(['position', 'name'], as_index=False).sum()\n",
    "MASTER_sum = MASTER.groupby(['position'], as_index=False).sum()\n",
    "MASTER_sum.columns = ['position', 'wins', 'total_games']\n",
    "MASTER_sum = MASTER_sum[['position', 'total_games']]\n",
    "MASTER_total = MASTER_total.merge(MASTER_sum, how = 'left', on = 'position')\n",
    "MASTER_total['winRate'] = MASTER_total['wins'] / MASTER_total['games']\n",
    "MASTER_total['pickRate'] = MASTER_total['games'] / MASTER_total['total_games']\n",
    "MASTER_total = MASTER_total.sort_values(by=['position', 'winRate', 'pickRate'], ascending=False) \n",
    "\n",
    "GRAND_MASTER_total = GRAND_MASTER.groupby(['position', 'name'], as_index=False).sum()\n",
    "GRAND_MASTER_sum = GRAND_MASTER.groupby(['position'], as_index=False).sum()\n",
    "GRAND_MASTER_sum.columns = ['position', 'wins', 'total_games']\n",
    "GRAND_MASTER_sum = GRAND_MASTER_sum[['position', 'total_games']]\n",
    "GRAND_MASTER_total = GRAND_MASTER_total.merge(GRAND_MASTER_sum, how = 'left', on = 'position')\n",
    "GRAND_MASTER_total['winRate'] = GRAND_MASTER_total['wins'] / GRAND_MASTER_total['games']\n",
    "GRAND_MASTER_total['pickRate'] = GRAND_MASTER_total['games'] / GRAND_MASTER_total['total_games']\n",
    "GRAND_MASTER_total = GRAND_MASTER_total.sort_values(by=['position', 'winRate', 'pickRate'], ascending=False) \n",
    "\n",
    "CHALLENGER_total = CHALLENGER.groupby(['position', 'name'], as_index=False).sum()\n",
    "CHALLENGER_sum = CHALLENGER.groupby(['position'], as_index=False).sum()\n",
    "CHALLENGER_sum.columns = ['position', 'wins', 'total_games']\n",
    "CHALLENGER_sum = CHALLENGER_sum[['position', 'total_games']]\n",
    "CHALLENGER_total = CHALLENGER_total.merge(CHALLENGER_sum, how = 'left', on = 'position')\n",
    "CHALLENGER_total['winRate'] = CHALLENGER_total['wins'] / CHALLENGER_total['games']\n",
    "CHALLENGER_total['pickRate'] = CHALLENGER_total['games'] / CHALLENGER_total['total_games']\n",
    "CHALLENGER_total = CHALLENGER_total.sort_values(by=['position', 'winRate', 'pickRate'], ascending=False) \n",
    "\n",
    "ABOVE_MASTER_total = ABOVE_MASTER.groupby(['position', 'name'], as_index=False).sum()\n",
    "ABOVE_MASTER_sum = ABOVE_MASTER.groupby(['position'], as_index=False).sum()\n",
    "ABOVE_MASTER_sum.columns = ['position', 'wins', 'total_games']\n",
    "ABOVE_MASTER_sum = ABOVE_MASTER_sum[['position', 'total_games']]\n",
    "ABOVE_MASTER_total = ABOVE_MASTER_total.merge(ABOVE_MASTER_sum, how = 'left', on = 'position')\n",
    "ABOVE_MASTER_total = ABOVE_MASTER_total[ABOVE_MASTER_total.games > 50]\n",
    "ABOVE_MASTER_total['winRate'] = ABOVE_MASTER_total['wins'] / ABOVE_MASTER_total['games']\n",
    "ABOVE_MASTER_total['pickRate'] = ABOVE_MASTER_total['games'] / ABOVE_MASTER_total['total_games']\n",
    "ABOVE_MASTER_total = ABOVE_MASTER_total.sort_values(by=['position', 'winRate', 'pickRate'], ascending=False) "
   ]
  },
  {
   "cell_type": "code",
   "execution_count": null,
   "id": "1ef4d230",
   "metadata": {},
   "outputs": [],
   "source": [
    "GOLD_TOP = GOLD_total[GOLD_total['position'] == 'T'].sort_values(by=['pickRate'], ascending=False).head(20)\n",
    "GOLD_JUG = GOLD_total[GOLD_total['position'] == 'J'].sort_values(by=['pickRate'], ascending=False).head(20)\n",
    "GOLD_MID = GOLD_total[GOLD_total['position'] == 'M'].sort_values(by=['pickRate'], ascending=False).head(20)\n",
    "GOLD_AD = GOLD_total[GOLD_total['position'] == 'A'].sort_values(by=['pickRate'], ascending=False).head(20)\n",
    "GOLD_SUP = GOLD_total[GOLD_total['position'] == 'S'].sort_values(by=['pickRate'], ascending=False).head(20)"
   ]
  },
  {
   "cell_type": "code",
   "execution_count": null,
   "id": "021f767f",
   "metadata": {},
   "outputs": [],
   "source": [
    "# IRON_TOP = IRON_total[IRON_total['position'] == 'T'].sort_values(by=['pickRate'], ascending=False).head(10)\n",
    "# BRONZE_TOP = BRONZE_total[BRONZE_total['position'] == 'T'].sort_values(by=['pickRate'], ascending=False).head(10)\n",
    "# SILVER_TOP = SILVER_total[SILVER_total['position'] == 'T'].sort_values(by=['pickRate'], ascending=False).head(10)\n",
    "# GOLD_TOP = GOLD_total[GOLD_total['position'] == 'T'].sort_values(by=['pickRate'], ascending=False).head(10)\n",
    "# PLATINUM_TOP = PLATINUM_total[PLATINUM_total['position'] == 'T'].sort_values(by=['pickRate'], ascending=False).head(10)\n",
    "# DIAMOND_TOP = DIAMOND_total[DIAMOND_total['position'] == 'T'].sort_values(by=['pickRate'], ascending=False).head(10)\n",
    "# MASTER_TOP = MASTER_total[MASTER_total['position'] == 'T'].sort_values(by=['pickRate'], ascending=False).head(10)\n",
    "# GRAND_MASTER_TOP = GRAND_MASTER_total[GRAND_MASTER_total['position'] == 'T'].sort_values(by=['pickRate'], ascending=False).head(10)\n",
    "# CHALLENGER_TOP = CHALLENGER_total[CHALLENGER_total['position'] == 'T'].sort_values(by=['pickRate'], ascending=False).head(10)\n",
    "# ABOVE_MASTER_TOP = ABOVE_MASTER_total[ABOVE_MASTER_total['position'] == 'T'].sort_values(by=['pickRate'], ascending=False).head(10)"
   ]
  },
  {
   "cell_type": "code",
   "execution_count": null,
   "id": "8cc8b151",
   "metadata": {},
   "outputs": [],
   "source": [
    "P = ['T','J', 'M','A','S']\n",
    "line = ['TOP', 'JUG', 'MID', 'AD', 'SUP']\n",
    "tier = ['IRON', 'BRONZE', 'SILVER', 'GOLD', 'PLATINUM', 'DIAMOND', 'MASTER', 'GRAND_MASTER','CHALLENGER', 'ABOVE_MASTER']\n",
    "for i in tier:\n",
    "    for j, k in zip(line, P):\n",
    "        a = globals()[f'{i}_total']\n",
    "        globals()[f'{i}_{j}'] = a[a['position'] == f'{k}'].sort_values(by=['pickRate'], ascending=False).head(10)"
   ]
  },
  {
   "cell_type": "code",
   "execution_count": null,
   "id": "3cb3bda5",
   "metadata": {},
   "outputs": [],
   "source": []
  },
  {
   "cell_type": "code",
   "execution_count": null,
   "id": "70d0541f",
   "metadata": {},
   "outputs": [],
   "source": [
    "data = pd.read_csv('json_champ.csv', index_col=0)"
   ]
  },
  {
   "cell_type": "code",
   "execution_count": null,
   "id": "d752825c",
   "metadata": {},
   "outputs": [],
   "source": [
    "json_champ = data.merge(champion_df, how = 'left', left_on = 'championId', right_on = 'key')"
   ]
  },
  {
   "cell_type": "code",
   "execution_count": null,
   "id": "aa623937",
   "metadata": {},
   "outputs": [],
   "source": [
    "json_champ"
   ]
  },
  {
   "cell_type": "code",
   "execution_count": null,
   "id": "4f01a361",
   "metadata": {},
   "outputs": [],
   "source": [
    "json_champ['name_x'] = json_champ['name_y']"
   ]
  },
  {
   "cell_type": "code",
   "execution_count": null,
   "id": "b07150e2",
   "metadata": {},
   "outputs": [],
   "source": [
    "json_champ = json_champ.iloc[:,0:11]"
   ]
  },
  {
   "cell_type": "code",
   "execution_count": null,
   "id": "09a0faf3",
   "metadata": {},
   "outputs": [],
   "source": [
    "json_champ"
   ]
  },
  {
   "cell_type": "code",
   "execution_count": null,
   "id": "d5621b97",
   "metadata": {},
   "outputs": [],
   "source": [
    "json_champ"
   ]
  },
  {
   "cell_type": "code",
   "execution_count": null,
   "id": "fae20a8d",
   "metadata": {},
   "outputs": [],
   "source": [
    "# IRON_TOP = IRON_TOP.merge(json_champ, how = 'left', left_on = 'name', right_on = 'name_x')\n",
    "# BRONZE_TOP = BRONZE_TOP.merge(json_champ, how = 'left', left_on = 'name', right_on = 'name_x')\n",
    "# SILVER_TOP = SILVER_TOP.merge(json_champ, how = 'left', left_on = 'name', right_on = 'name_x')\n",
    "# GOLD_TOP = GOLD_TOP.merge(json_champ, how = 'left', left_on = 'name', right_on = 'name_x')\n",
    "# PLATINUM_TOP = IRON_TOP.merge(json_champ, how = 'left', left_on = 'name', right_on = 'name_x')\n",
    "# DIAMOND_TOP = IRON_TOP.merge(json_champ, how = 'left', left_on = 'name', right_on = 'name_x')\n",
    "# MASTER_TOP = IRON_TOP.merge(json_champ, how = 'left', left_on = 'name', right_on = 'name_x')\n",
    "# GRAND_MASTER_TOP = IRON_TOP.merge(json_champ, how = 'left', left_on = 'name', right_on = 'name_x')\n",
    "# CHALLENGER_TOP = CHALLENGER_TOP.merge(json_champ, how = 'left', left_on = 'name', right_on = 'name_x')\n",
    "# ABOVE_MASTER_TOP = ABOVE_MASTER_TOP.merge(json_champ, how = 'left', left_on = 'name', right_on = 'name_x')"
   ]
  },
  {
   "cell_type": "code",
   "execution_count": null,
   "id": "8a7bfa49",
   "metadata": {},
   "outputs": [],
   "source": [
    "IRON_TOP['weighted'] = IRON_TOP['pickRate']/IRON_TOP['pickRate'].sum()"
   ]
  },
  {
   "cell_type": "code",
   "execution_count": null,
   "id": "191488f0",
   "metadata": {},
   "outputs": [],
   "source": [
    "line = ['TOP', 'JUG', 'MID', 'AD', 'SUP']\n",
    "tier = ['IRON', 'BRONZE', 'SILVER', 'GOLD', 'PLATINUM', 'DIAMOND', 'MASTER', 'GRAND_MASTER','CHALLENGER', 'ABOVE_MASTER']\n",
    "value = ['difficulty','damage', 'durability', 'crowdControl', 'mobility', 'utility']\n",
    "for j in line:\n",
    "    for i in tier:\n",
    "        globals()[f'{i}_{j}']['weighted'] = globals()[f'{i}_{j}']['pickRate']/globals()[f'{i}_{j}']['pickRate'].sum()"
   ]
  },
  {
   "cell_type": "code",
   "execution_count": null,
   "id": "04dcd62c",
   "metadata": {},
   "outputs": [],
   "source": [
    "IRON_TOP"
   ]
  },
  {
   "cell_type": "code",
   "execution_count": null,
   "id": "9c9b0033",
   "metadata": {},
   "outputs": [],
   "source": [
    "line = ['TOP', 'JUG', 'MID', 'AD', 'SUP']\n",
    "tier = ['IRON', 'BRONZE', 'SILVER', 'GOLD', 'PLATINUM', 'DIAMOND', 'MASTER', 'GRAND_MASTER','CHALLENGER', 'ABOVE_MASTER']\n",
    "for j in line:\n",
    "    for i in tier:\n",
    "        globals()[f'{i}_{j}'] = globals()[f'{i}_{j}'].merge(json_champ, how = 'left', left_on = 'name', right_on = 'name_x')\n",
    "        "
   ]
  },
  {
   "cell_type": "code",
   "execution_count": null,
   "id": "e8df3b59",
   "metadata": {
    "scrolled": false
   },
   "outputs": [],
   "source": [
    "# IRON_TOP_mean = IRON_TOP.mean()[5:12]\n",
    "# BRONZE_TOP_mean = BRONZE_TOP.mean()[5:12]\n",
    "# SILVER_TOP_mean = SILVER_TOP.mean()[5:12]\n",
    "# GOLD_TOP_mean = GOLD_TOP.mean()[5:12]\n",
    "# PLATINUM_TOP_mean = PLATINUM_TOP.mean()[5:12]\n",
    "# DIAMOND_TOP_mean = DIAMOND_TOP.mean()[5:12]\n",
    "# MASTER_TOP_mean = MASTER_TOP.mean()[5:12]\n",
    "# GRAND_MASTER_TOP_mean = GRAND_MASTER_TOP.mean()[5:12]\n",
    "# CHALLENGER_TOP_mean = CHALLENGER_TOP.mean()[5:12]\n",
    "# ABOVE_MASTER_TOP_mean = ABOVE_MASTER_TOP.mean()[5:12]"
   ]
  },
  {
   "cell_type": "code",
   "execution_count": null,
   "id": "df8860e3",
   "metadata": {},
   "outputs": [],
   "source": [
    "ABOVE_MASTER_SUP"
   ]
  },
  {
   "cell_type": "code",
   "execution_count": null,
   "id": "861c0091",
   "metadata": {},
   "outputs": [],
   "source": [
    "a = []\n",
    "line = ['TOP', 'JUG', 'MID', 'AD', 'SUP']\n",
    "tier = ['IRON', 'BRONZE', 'SILVER', 'GOLD', 'PLATINUM', 'DIAMOND', 'MASTER', 'GRAND_MASTER','CHALLENGER', 'ABOVE_MASTER']\n",
    "value = ['difficulty','damage', 'durability', 'crowdControl', 'mobility', 'utility']\n",
    "for i in line:\n",
    "    for j in tier:\n",
    "        a.append(f'{j}_{i}')\n",
    "\n",
    "# def weight(x):\n",
    "#     for i in value:\n",
    "#         print(i,x)\n",
    "#         x[f'W{i}'] = x[f'{i}']*x['weighted']\n",
    "#     return x\n",
    "# for i in abc:\n",
    "#     weight(i)"
   ]
  },
  {
   "cell_type": "code",
   "execution_count": null,
   "id": "9a1a2c57",
   "metadata": {},
   "outputs": [],
   "source": [
    "print(a)"
   ]
  },
  {
   "cell_type": "code",
   "execution_count": null,
   "id": "2c0f03ed",
   "metadata": {},
   "outputs": [],
   "source": [
    "abc = [IRON_TOP, IRON_JUG, IRON_MID, IRON_AD, IRON_SUP,\n",
    "      BRONZE_TOP, BRONZE_JUG, BRONZE_MID, BRONZE_AD, BRONZE_SUP,\n",
    "      SILVER_TOP, SILVER_JUG, SILVER_MID, SILVER_AD, SILVER_SUP,  \n",
    "      GOLD_TOP, GOLD_JUG, GOLD_MID, GOLD_AD, GOLD_SUP,\n",
    "      PLATINUM_TOP, PLATINUM_JUG, PLATINUM_MID, PLATINUM_AD, PLATINUM_SUP,\n",
    "      DIAMOND_TOP, DIAMOND_JUG, DIAMOND_MID, DIAMOND_AD, DIAMOND_SUP,\n",
    "      MASTER_TOP, MASTER_JUG, MASTER_MID, MASTER_AD, MASTER_SUP,\n",
    "      GRAND_MASTER_TOP, GRAND_MASTER_JUG, GRAND_MASTER_MID, GRAND_MASTER_AD,GRAND_MASTER_SUP,\n",
    "      CHALLENGER_TOP, CHALLENGER_JUG, CHALLENGER_MID, CHALLENGER_AD, CHALLENGER_SUP,\n",
    "      ABOVE_MASTER_TOP, ABOVE_MASTER_JUG, ABOVE_MASTER_MID, ABOVE_MASTER_AD, ABOVE_MASTER_SUP,\n",
    "      ]\n",
    "for j in abc:\n",
    "    for i in value:\n",
    "        j[f'w_{i}'] = j.apply(lambda x : x[i] * x['weighted'], axis = 1)"
   ]
  },
  {
   "cell_type": "code",
   "execution_count": null,
   "id": "9d3b66b9",
   "metadata": {},
   "outputs": [],
   "source": [
    "line = ['TOP', 'JUG', 'MID', 'AD', 'SUP']\n",
    "tier = ['IRON', 'BRONZE', 'SILVER', 'GOLD', 'PLATINUM', 'DIAMOND', 'MASTER', 'GRAND_MASTER','CHALLENGER', 'ABOVE_MASTER']\n",
    "for j in line:\n",
    "    for i in tier:\n",
    "        globals()[f'{i}_{j}_w_mean'] = globals()[f'{i}_{j}'].sum()[19:25]\n",
    "        globals()[f'{i}_{j}_w_mean']['tier'] = i\n",
    "        globals()[f'{i}_{j}_w_mean']['position'] = j"
   ]
  },
  {
   "cell_type": "code",
   "execution_count": null,
   "id": "a6e802ec",
   "metadata": {},
   "outputs": [],
   "source": [
    "IRON_TOP.sum()[19:25]"
   ]
  },
  {
   "cell_type": "code",
   "execution_count": null,
   "id": "17927f35",
   "metadata": {},
   "outputs": [],
   "source": [
    "GOLD_JUG.sum()"
   ]
  },
  {
   "cell_type": "code",
   "execution_count": null,
   "id": "8dd67b09",
   "metadata": {},
   "outputs": [],
   "source": [
    "GOLD_JUG_w_mean"
   ]
  },
  {
   "cell_type": "code",
   "execution_count": null,
   "id": "709cfc6d",
   "metadata": {},
   "outputs": [],
   "source": [
    "plt.figure(figsize=(12, 4)) \n",
    "fig, ax = plt.subplots(4, 3)\n",
    "\n",
    "# ax[0, 0].plot(x, y1)\n",
    "# ax[0, 1].plot(x, y2)\n",
    "# ax[1, 0].plot(x, y3)\n",
    "# ax[1, 1].plot(x,y4)\n",
    "\n",
    "# ax[0, 0].set_title(\"Sine function\")\n",
    "# ax[0, 1].set_title(\"Cosine function\")\n",
    "# ax[1, 0].set_title(\"Sigmoid function\")\n",
    "# ax[1, 1].set_title(\"Exponential function\")\n",
    "# plt.subplot(131)\n",
    "ratio = IRON_TOP_mean[2:7]\n",
    "labels = IRON_TOP_mean[2:7].index\n",
    "plt.title(\"IRON_TOP\")\n",
    "plt.pie(ratio, labels=labels, autopct='%.1f%%')\n",
    "plt.subplot(132)\n",
    "ratio = BRONZE_TOP_mean[2:7]\n",
    "labels = BRONZE_TOP_mean[2:7].index\n",
    "plt.title(\"BRONZE_TOP\")\n",
    "plt.pie(ratio, labels=labels, autopct='%.1f%%')\n",
    "plt.subplot(133)\n",
    "ratio = SILVER_TOP_mean[2:7]\n",
    "labels = SILVER_TOP_mean[2:7].index\n",
    "plt.title(\"SILVER_TOP\")\n",
    "plt.pie(ratio, labels=labels, autopct='%.1f%%')\n",
    "plt.subplot(231)\n",
    "ratio = SILVER_TOP_mean[2:7]\n",
    "labels = SILVER_TOP_mean[2:7].index\n",
    "plt.title(\"SILVER_TOP\")\n",
    "plt.pie(ratio, labels=labels, autopct='%.1f%%')"
   ]
  },
  {
   "cell_type": "code",
   "execution_count": null,
   "id": "c243b742",
   "metadata": {},
   "outputs": [],
   "source": [
    "ratio = CHALLENGER_TOP_mean[2:7]\n",
    "labels = CHALLENGER_TOP_mean[2:7].index\n",
    "plt.title(\"GOLD_TOP\")\n",
    "plt.pie(ratio, labels=labels, autopct='%.1f%%')\n",
    "plt.show()"
   ]
  },
  {
   "cell_type": "code",
   "execution_count": null,
   "id": "1cb0094c",
   "metadata": {},
   "outputs": [],
   "source": [
    "Tier = ['IRON', 'BRONZE', 'SLIVER', 'GOLD', 'PLATINUM', 'DIAMOND', 'MASTER', 'GRAND_MASTER','CHALLENGER', 'ABOVE_MASTER']\n",
    "line = ['TOP', 'JUG', 'MID', 'AD', 'SUP']\n",
    "for j in line:\n",
    "    globals()[f'{j}_w_difficulty'] = []\n",
    "    for i in tier:\n",
    "        globals()[f'{j}_w_difficulty'].append(globals()[f'{i}_{j}_w_mean'][0]) "
   ]
  },
  {
   "cell_type": "code",
   "execution_count": null,
   "id": "6756729f",
   "metadata": {
    "scrolled": true
   },
   "outputs": [],
   "source": [
    "JUG_w_difficulty"
   ]
  },
  {
   "cell_type": "code",
   "execution_count": null,
   "id": "bae71843",
   "metadata": {
    "scrolled": true
   },
   "outputs": [],
   "source": [
    "colors = ['dimgray', 'darkgoldenrod', 'silver', 'gold', 'turquoise', \n",
    "          'deepskyblue', 'violet', 'firebrick', 'yellow', 'violet']\n",
    "\n",
    "plt.figure(figsize= (20, 7))\n",
    "plt.bar(Tier, TOP_w_difficulty, color = colors, edgecolor = colors, alpha = 0.7, linewidth = 4)\n",
    "plt.title(\"TOP_difficulty\")\n",
    "\n",
    "plt.gca().spines['right'].set_visible(False) #오른쪽 테두리 제거\n",
    "plt.gca().spines['top'].set_visible(False) #위 테두리 제거\n",
    "plt.gca().spines['left'].set_visible(False) #왼쪽 테두리 제거\n",
    "\n",
    "plt.show()"
   ]
  },
  {
   "cell_type": "code",
   "execution_count": null,
   "id": "81512baf",
   "metadata": {
    "scrolled": true
   },
   "outputs": [],
   "source": [
    "colors = ['dimgray', 'darkgoldenrod', 'silver', 'gold', 'turquoise', \n",
    "          'deepskyblue', 'violet', 'firebrick', 'yellow', 'violet']\n",
    "\n",
    "plt.figure(figsize= (20, 7))\n",
    "plt.bar(Tier, JUG_w_difficulty, color = colors, edgecolor = colors, alpha = 0.7, linewidth = 4)\n",
    "plt.title(\"JUG_difficulty\")\n",
    "\n",
    "plt.gca().spines['right'].set_visible(False) #오른쪽 테두리 제거\n",
    "plt.gca().spines['top'].set_visible(False) #위 테두리 제거\n",
    "plt.gca().spines['left'].set_visible(False) #왼쪽 테두리 제거\n",
    "\n",
    "plt.show()"
   ]
  },
  {
   "cell_type": "code",
   "execution_count": null,
   "id": "4ec84009",
   "metadata": {
    "scrolled": true
   },
   "outputs": [],
   "source": [
    "colors = ['dimgray', 'darkgoldenrod', 'silver', 'gold', 'turquoise', \n",
    "          'deepskyblue', 'violet', 'firebrick', 'yellow', 'violet']\n",
    "\n",
    "plt.figure(figsize= (20, 7))\n",
    "plt.bar(Tier, MID_w_difficulty, color = colors, edgecolor = colors, alpha = 0.7, linewidth = 4)\n",
    "plt.title(\"MID_difficulty\")\n",
    "\n",
    "plt.gca().spines['right'].set_visible(False) #오른쪽 테두리 제거\n",
    "plt.gca().spines['top'].set_visible(False) #위 테두리 제거\n",
    "plt.gca().spines['left'].set_visible(False) #왼쪽 테두리 제거\n",
    "\n",
    "plt.show()"
   ]
  },
  {
   "cell_type": "code",
   "execution_count": null,
   "id": "80673845",
   "metadata": {},
   "outputs": [],
   "source": [
    "colors = ['dimgray', 'darkgoldenrod', 'silver', 'gold', 'turquoise', \n",
    "          'deepskyblue', 'violet', 'firebrick', 'yellow', 'violet']\n",
    "\n",
    "plt.figure(figsize= (20, 7))\n",
    "plt.bar(Tier, AD_w_difficulty, color = colors, edgecolor = colors, alpha = 0.7, linewidth = 4)\n",
    "plt.title(\"AD_difficulty\")\n",
    "\n",
    "plt.gca().spines['right'].set_visible(False) #오른쪽 테두리 제거\n",
    "plt.gca().spines['top'].set_visible(False) #위 테두리 제거\n",
    "plt.gca().spines['left'].set_visible(False) #왼쪽 테두리 제거\n",
    "#plt.ylim(0,2.5)\n",
    "plt.show()"
   ]
  },
  {
   "cell_type": "code",
   "execution_count": null,
   "id": "681e1139",
   "metadata": {},
   "outputs": [],
   "source": [
    "colors = ['dimgray', 'darkgoldenrod', 'silver', 'gold', 'turquoise', \n",
    "          'deepskyblue', 'violet', 'firebrick', 'yellow', 'violet']\n",
    "\n",
    "plt.figure(figsize= (20, 7))\n",
    "plt.bar(Tier, SUP_w_difficulty, color = colors, edgecolor = colors, alpha = 0.7, linewidth = 4)\n",
    "plt.title(\"SUP_difficulty\")\n",
    "\n",
    "plt.gca().spines['right'].set_visible(False) #오른쪽 테두리 제거\n",
    "plt.gca().spines['top'].set_visible(False) #위 테두리 제거\n",
    "plt.gca().spines['left'].set_visible(False) #왼쪽 테두리 제거\n",
    "\n",
    "#plt.ylim(1,2)\n",
    "plt.show()"
   ]
  },
  {
   "cell_type": "code",
   "execution_count": null,
   "id": "4e540e59",
   "metadata": {},
   "outputs": [],
   "source": []
  }
 ],
 "metadata": {
  "kernelspec": {
   "display_name": "Python 3 (ipykernel)",
   "language": "python",
   "name": "python3"
  },
  "language_info": {
   "codemirror_mode": {
    "name": "ipython",
    "version": 3
   },
   "file_extension": ".py",
   "mimetype": "text/x-python",
   "name": "python",
   "nbconvert_exporter": "python",
   "pygments_lexer": "ipython3",
   "version": "3.8.11"
  }
 },
 "nbformat": 4,
 "nbformat_minor": 5
}
