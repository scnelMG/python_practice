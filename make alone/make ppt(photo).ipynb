{
 "cells": [
  {
   "cell_type": "code",
   "execution_count": 1,
   "id": "9816acb8",
   "metadata": {},
   "outputs": [],
   "source": [
    "from pptx import Presentation\n",
    "from pptx.util import Inches\n",
    "import os"
   ]
  },
  {
   "cell_type": "code",
   "execution_count": 2,
   "id": "e741d310",
   "metadata": {},
   "outputs": [],
   "source": [
    "prs = Presentation()"
   ]
  },
  {
   "cell_type": "code",
   "execution_count": 3,
   "id": "533745d2",
   "metadata": {},
   "outputs": [],
   "source": [
    "path_dir = 'C:/Users/Mgyu/Desktop/photo'\n",
    "file_list = os.listdir(path_dir)"
   ]
  },
  {
   "cell_type": "code",
   "execution_count": 4,
   "id": "99a1a232",
   "metadata": {},
   "outputs": [
    {
     "data": {
      "text/plain": [
       "['00501883_20181223.PNG',\n",
       " 'KakaoTalk_20210315_215543170.jpg',\n",
       " 'KakaoTalk_20210408_115112083.jpg',\n",
       " 'KakaoTalk_20210516_193756692.jpg',\n",
       " '다운로드.jpg',\n",
       " '제목 없음.png']"
      ]
     },
     "execution_count": 4,
     "metadata": {},
     "output_type": "execute_result"
    }
   ],
   "source": [
    "file_list"
   ]
  },
  {
   "cell_type": "code",
   "execution_count": 5,
   "id": "3d041c40",
   "metadata": {},
   "outputs": [],
   "source": [
    "top = 0\n",
    "left = Inches(1)\n",
    "height = Inches(7.5)\n",
    "\n",
    "for i in range(len(file_list)):\n",
    "    img_slide_layout = prs.slide_layouts[6]\n",
    "    slide = prs.slides.add_slide(img_slide_layout)\n",
    "    img_name = path_dir + '/' + file_list[i]\n",
    "    pic = slide.shapes.add_picture(img_name, left, top, height = height)"
   ]
  },
  {
   "cell_type": "code",
   "execution_count": 6,
   "id": "d943a695",
   "metadata": {},
   "outputs": [],
   "source": [
    "prs.save(\"test.pptx\")"
   ]
  }
 ],
 "metadata": {
  "kernelspec": {
   "display_name": "Python [conda env:practice]",
   "language": "python",
   "name": "conda-env-practice-py"
  },
  "language_info": {
   "codemirror_mode": {
    "name": "ipython",
    "version": 3
   },
   "file_extension": ".py",
   "mimetype": "text/x-python",
   "name": "python",
   "nbconvert_exporter": "python",
   "pygments_lexer": "ipython3",
   "version": "3.8.11"
  }
 },
 "nbformat": 4,
 "nbformat_minor": 5
}
