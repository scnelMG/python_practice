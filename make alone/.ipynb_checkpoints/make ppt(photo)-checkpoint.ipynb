{
 "cells": [
  {
   "cell_type": "code",
   "execution_count": 5,
   "id": "9816acb8",
   "metadata": {},
   "outputs": [],
   "source": [
    "from pptx import Presentation\n",
    "from pptx.util import Inches\n",
    "import os"
   ]
  },
  {
   "cell_type": "code",
   "execution_count": 6,
   "id": "e741d310",
   "metadata": {},
   "outputs": [],
   "source": [
    "prs = Presentation()"
   ]
  },
  {
   "cell_type": "code",
   "execution_count": 7,
   "id": "533745d2",
   "metadata": {},
   "outputs": [],
   "source": [
    "path_dir = 'C:/Users/Mgyu/Desktop/photo'\n",
    "file_list = os.listdir(path_dir)"
   ]
  },
  {
   "cell_type": "code",
   "execution_count": 8,
   "id": "99a1a232",
   "metadata": {},
   "outputs": [
    {
     "data": {
      "text/plain": [
       "['KakaoTalk_20220128_201903726.jpg',\n",
       " 'KakaoTalk_20220128_201903726_01.jpg',\n",
       " 'KakaoTalk_20220128_201903726_02.jpg',\n",
       " 'KakaoTalk_20220128_201903726_03.jpg',\n",
       " 'KakaoTalk_20220128_201903726_04.jpg',\n",
       " 'KakaoTalk_20220128_201903726_05.jpg',\n",
       " 'KakaoTalk_20220128_201903726_06.jpg',\n",
       " 'KakaoTalk_20220128_202214788.jpg',\n",
       " 'KakaoTalk_20220128_202214788_01.jpg',\n",
       " 'KakaoTalk_20220128_202214788_02.jpg',\n",
       " 'KakaoTalk_20220128_202214788_03.jpg']"
      ]
     },
     "execution_count": 8,
     "metadata": {},
     "output_type": "execute_result"
    }
   ],
   "source": [
    "file_list"
   ]
  },
  {
   "cell_type": "code",
   "execution_count": 9,
   "id": "3d041c40",
   "metadata": {},
   "outputs": [],
   "source": [
    "top = 0\n",
    "left = Inches(2)\n",
    "height = Inches(7.5)\n",
    "\n",
    "for i in range(len(file_list)):\n",
    "    img_slide_layout = prs.slide_layouts[6]\n",
    "    slide = prs.slides.add_slide(img_slide_layout)\n",
    "    img_name = path_dir + '/' + file_list[i]\n",
    "    pic = slide.shapes.add_picture(img_name, left, top, height = height)"
   ]
  },
  {
   "cell_type": "code",
   "execution_count": 10,
   "id": "d943a695",
   "metadata": {},
   "outputs": [],
   "source": [
    "prs.save(\"자료.pptx\")"
   ]
  },
  {
   "cell_type": "code",
   "execution_count": null,
   "id": "7ec7809a",
   "metadata": {},
   "outputs": [],
   "source": []
  }
 ],
 "metadata": {
  "kernelspec": {
   "display_name": "Python 3 (ipykernel)",
   "language": "python",
   "name": "python3"
  },
  "language_info": {
   "codemirror_mode": {
    "name": "ipython",
    "version": 3
   },
   "file_extension": ".py",
   "mimetype": "text/x-python",
   "name": "python",
   "nbconvert_exporter": "python",
   "pygments_lexer": "ipython3",
   "version": "3.8.11"
  }
 },
 "nbformat": 4,
 "nbformat_minor": 5
}
