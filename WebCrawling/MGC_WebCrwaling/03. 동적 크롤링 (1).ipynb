{
 "cells": [
  {
   "cell_type": "markdown",
   "id": "0858e172",
   "metadata": {},
   "source": [
    "# 동적 크롤링"
   ]
  },
  {
   "cell_type": "code",
   "execution_count": 1,
   "id": "afff9bf2",
   "metadata": {},
   "outputs": [
    {
     "name": "stdout",
     "output_type": "stream",
     "text": [
      "selenium installed!\n"
     ]
    }
   ],
   "source": [
    "import selenium\n",
    "\n",
    "print(\"selenium installed!\")"
   ]
  },
  {
   "cell_type": "code",
   "execution_count": 5,
   "id": "53945d71",
   "metadata": {},
   "outputs": [],
   "source": [
    "from selenium import webdriver\n",
    "import time # 대기시간 부여를 위한 time 라이브러리 import\n",
    "\n",
    "driver = webdriver.Chrome('./chromedriver')\n",
    "URL = \"https://www.gmarket.co.kr/\"\n",
    "driver.get(URL)\n",
    "\n",
    "time.sleep(3) # 대기시간 3초 설정\n",
    "\n",
    "driver.close()"
   ]
  },
  {
   "cell_type": "markdown",
   "id": "82b5671b",
   "metadata": {},
   "source": [
    "## Quiz\n",
    "- 네이버 국내 증시 사이트를 selenium을 이용해 들어가기"
   ]
  },
  {
   "cell_type": "code",
   "execution_count": 7,
   "id": "843f202a",
   "metadata": {},
   "outputs": [],
   "source": [
    "from selenium import webdriver\n",
    "import time # 대기시간 부여를 위한 time 라이브러리 import\n",
    "\n",
    "driver = webdriver.Chrome('./chromedriver')\n",
    "URL = \"https://finance.naver.com/sise/\"\n",
    "driver.get(URL)\n",
    "\n",
    "time.sleep(3) # 대기시간 3초 설정\n",
    "\n",
    "driver.close()"
   ]
  },
  {
   "cell_type": "markdown",
   "id": "5e1dcbc2",
   "metadata": {},
   "source": [
    "## 번역하기 (파파고 사용)"
   ]
  },
  {
   "cell_type": "code",
   "execution_count": 15,
   "id": "26e74b9a",
   "metadata": {},
   "outputs": [
    {
     "name": "stdout",
     "output_type": "stream",
     "text": [
      "번역 할 영단어를 입력하세요. : apple\n",
      "apple -> 사과\n"
     ]
    }
   ],
   "source": [
    "from selenium import webdriver\n",
    "import time\n",
    "\n",
    "driver = webdriver.Chrome('./chromedriver')\n",
    "\n",
    "URL = \"https://papago.naver.com/\"\n",
    "driver.get(URL)\n",
    "time.sleep(3)\n",
    "\n",
    "question = input(\"번역 할 영단어를 입력하세요. : \")\n",
    "\n",
    "#driver.find_element_by_css_selector(\" 태그와 선택자조합 \" )\n",
    "form = driver.find_element_by_css_selector(\"textarea#txtSource\") # 번역할 내용 입력 칸의 태그, 선택자 입력\n",
    "form.send_keys(question) # [ Selenium의 HTML요소 ].send_keys(\"전송할 값\")\n",
    "\n",
    "button = driver.find_element_by_css_selector(\"button#btnTranslate\") # '번역하기'버튼의 태크, 선택자 입력\n",
    "button.click() # 버튼 클릭하기\n",
    "time.sleep(2) \n",
    "\n",
    "result = driver.find_element_by_css_selector(\"div#txtTarget\") # 변역한 내용 출력 칸의 태그, 선택자 입력\n",
    "print(question, \"->\", result.text) # 결과값 출력\n",
    "\n",
    "driver.close() # 크롬창 닫기"
   ]
  },
  {
   "cell_type": "markdown",
   "id": "e31baf82",
   "metadata": {},
   "source": [
    "## Quiz\n",
    "- 나만의 번역 사전 만들기"
   ]
  },
  {
   "cell_type": "code",
   "execution_count": 17,
   "id": "d9b81783",
   "metadata": {},
   "outputs": [
    {
     "name": "stdout",
     "output_type": "stream",
     "text": [
      "번역 할 영단어를 입력하세요(0을 입력하면 종료됩니다.) : apple\n",
      "번역 할 영단어를 입력하세요(0을 입력하면 종료됩니다.) : book\n",
      "번역 할 영단어를 입력하세요(0을 입력하면 종료됩니다.) : crayon\n",
      "번역 할 영단어를 입력하세요(0을 입력하면 종료됩니다.) : 0\n",
      "{'apple': '사과', 'book': '책', 'crayon': '연필'}\n"
     ]
    }
   ],
   "source": [
    "from selenium import webdriver\n",
    "import time\n",
    "\n",
    "driver = webdriver.Chrome('./chromedriver')\n",
    "\n",
    "URL = \"https://papago.naver.com/\"\n",
    "driver.get(URL)\n",
    "time.sleep(3)\n",
    "\n",
    "WordDict = {}\n",
    "\n",
    "\n",
    "\n",
    "while True:\n",
    "    word = input(\"번역 할 영단어를 입력하세요(0을 입력하면 종료됩니다.) : \")\n",
    "    if word == '0':\n",
    "        break\n",
    "    \n",
    "    #driver.find_element_by_css_selector(\" 태그와 선택자조합 \" )\n",
    "    form = driver.find_element_by_css_selector(\"textarea#txtSource\") # 번역할 내용 입력 칸의 태그, 선택자 입력\n",
    "    form.send_keys(word) # [ Selenium의 HTML요소 ].send_keys(\"전송할 값\")\n",
    "\n",
    "    button = driver.find_element_by_css_selector(\"button#btnTranslate\") # '번역하기'버튼의 태크, 선택자 입력\n",
    "    button.click() # 버튼 클릭하기\n",
    "    time.sleep(2) \n",
    "\n",
    "    result = driver.find_element_by_css_selector(\"div#txtTarget\") # 변역한 내용 출력 칸의 태그, 선택자 입력\n",
    "    WordDict[word] = result.text\n",
    "\n",
    "    form.clear()\n",
    "    \n",
    "print(WordDict)\n",
    "driver.close() # 크롬창 닫기"
   ]
  }
 ],
 "metadata": {
  "kernelspec": {
   "display_name": "practice",
   "language": "python",
   "name": "practice"
  },
  "language_info": {
   "codemirror_mode": {
    "name": "ipython",
    "version": 3
   },
   "file_extension": ".py",
   "mimetype": "text/x-python",
   "name": "python",
   "nbconvert_exporter": "python",
   "pygments_lexer": "ipython3",
   "version": "3.8.11"
  }
 },
 "nbformat": 4,
 "nbformat_minor": 5
}
