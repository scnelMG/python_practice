{
 "cells": [
  {
   "cell_type": "markdown",
   "id": "66f70105",
   "metadata": {},
   "source": [
    "# 동적 크롤링 (2)\n",
    "- 동적 크롤링과 파이썬의 'csv' 라이브러리를 함께 사용"
   ]
  },
  {
   "cell_type": "markdown",
   "id": "fa5a2d2a",
   "metadata": {},
   "source": [
    "## csv 파일에 단어와 그 뜻을 입력"
   ]
  },
  {
   "cell_type": "code",
   "execution_count": 2,
   "id": "e5bf6779",
   "metadata": {},
   "outputs": [
    {
     "name": "stdout",
     "output_type": "stream",
     "text": [
      "번역할 영단어 입력 (0 입력하면 종료) : apple\n",
      "번역할 영단어 입력 (0 입력하면 종료) : work\n",
      "번역할 영단어 입력 (0 입력하면 종료) : science\n",
      "번역할 영단어 입력 (0 입력하면 종료) : 0\n",
      "번역 종료\n"
     ]
    }
   ],
   "source": [
    "from selenium import webdriver\n",
    "import time\n",
    "import csv\n",
    "\n",
    "# 자동화된 크롬 창 실행\n",
    "driver = webdriver.Chrome('./chromedriver')\n",
    "\n",
    "# 파파고 웹 페이지 접속\n",
    "papago_url = 'https://papago.naver.com/'\n",
    "driver.get(papago_url)\n",
    "\n",
    "# 시간적 여유 3초\n",
    "time.sleep(3)\n",
    "\n",
    "# 작성할 'my_papago.csv' 파일을 생성하여 변수 'f'에 저장\n",
    "f = open('./my_papago.csv', 'w', newline = '')\n",
    "\n",
    "# CSV 파일을 작성하는 객체 변수 'wtr' 생성\n",
    "wtr = csv.writer(f)\n",
    "\n",
    "# 열 제목 작성\n",
    "wtr.writerow(['영단어', '번역결과'])\n",
    "\n",
    "# 그만 두고 싶을 떄 까지 영단어 입력, 저장 반복\n",
    "while True:\n",
    "    keyword = input('번역할 영단어 입력 (0 입력하면 종료) : ')\n",
    "    if keyword == '0':\n",
    "        print('번역 종료')\n",
    "        break\n",
    "\n",
    "    # 영단어 입력, 번역 버튼 클릭\n",
    "    form = driver.find_element_by_css_selector('textarea#txtSource')\n",
    "    form.send_keys(keyword)\n",
    "\n",
    "    button = driver.find_element_by_css_selector('button#btnTranslate')\n",
    "    button.click()\n",
    "    time.sleep(1)\n",
    "\n",
    "    # 번역 결과 저장\n",
    "    output = driver.find_element_by_css_selector('div#txtTarget').text\n",
    "    \n",
    "    # my_papago.csv 파일에 [영단어, 번역결과] 작성\n",
    "    wtr.writerow([keyword, output])\n",
    "    \n",
    "    # 영단어 입력 칸 초기화  # [ Selenium의 HTML 요소 ].clear()\n",
    "    driver.find_element_by_css_selector('textarea#txtSource').clear()\n",
    "\n",
    "# 크롬 창 닫기\n",
    "driver.close()\n",
    "\n",
    "# 파일 닫기\n",
    "f.close()"
   ]
  },
  {
   "cell_type": "markdown",
   "id": "14b9b3b2",
   "metadata": {},
   "source": [
    "## 사전 속 중복 없애기\n",
    "- csv 파일에 있는 영단어일 경우, 저장하지 않음\n",
    "- csv 파일에 없는 영단어는 번역 결과 저장"
   ]
  },
  {
   "cell_type": "code",
   "execution_count": 7,
   "id": "a4b508b4",
   "metadata": {},
   "outputs": [
    {
     "name": "stdout",
     "output_type": "stream",
     "text": [
      "번역할 영단어 입력 (0 입력하면 종료) : song\n",
      "번역할 영단어 입력 (0 입력하면 종료) : knee\n",
      "번역할 영단어 입력 (0 입력하면 종료) : 0\n",
      "번역 종료\n",
      "나의 사전 : {'apple': '사과', 'work': '일하다.', 'science': '과학', 'yellow': '노란 색', 'aplle': '아플', 'home': '집입니다', 'song': '노래를 부르다', 'knee': '무릎을 꿇다'}\n"
     ]
    }
   ],
   "source": [
    "from selenium import webdriver\n",
    "import time\n",
    "import csv\n",
    "\n",
    "driver = webdriver.Chrome('./chromedriver')\n",
    "papago_url = 'https://papago.naver.com/'\n",
    "driver.get(papago_url)\n",
    "time.sleep(3)\n",
    "\n",
    "# 읽어올 'my_papago.csv' 파일을 변수 'f'에 저장\n",
    "f = open('./my_papago.csv', 'r') # CSV 파일을 불러오기 때문에 읽기 옵션 'r'\n",
    "\n",
    "# CSV 파일의 모든 데이터를 변수 'rdr'에 저장\n",
    "rdr = csv.reader(f)\n",
    "\n",
    "# 'rdr'의 첫 번째 (열 제목)는 건너뜀\n",
    "next(rdr)\n",
    "\n",
    "# 딕셔너리 생성\n",
    "my_dict = {}\n",
    "\n",
    "# 딕셔너리에 영단어와 번역 결과를 모두 저장\n",
    "for row in rdr:\n",
    "    keyword = row[0]\n",
    "    korean = row[1]\n",
    "    my_dict[keyword] = korean\n",
    "# 파일 닫기\n",
    "f.close()\n",
    "\n",
    "# 추가 옵션 'a'를 사용하여 파일 다시 열기\n",
    "f = open('./my_papago.csv', 'a', newline = '')\n",
    "wtr = csv.writer(f)\n",
    "\n",
    "# 단어 입력과 저장을 위한 반복 \n",
    "while True:\n",
    "    keyword = input('번역할 영단어 입력 (0 입력하면 종료) : ')\n",
    "    if keyword == '0':\n",
    "        print('번역 종료')\n",
    "        break\n",
    "    \n",
    "    # 영단어가 'my_dict'의 키 값 중에 있다면, 이 사실을 알려주고 저장되어있던 번역 결과 출력\n",
    "    if keyword in my_dict.keys():\n",
    "        print('이미 번역한 영단어입니다! 뜻은', my_dict[keyword], '입니다.')\n",
    "    # 위의 경우에 포함되지 않으면, 딕셔너리와 CSV 파일에 추가\n",
    "    else:\n",
    "        driver.find_element_by_css_selector('textarea#txtSource').send_keys(keyword)\n",
    "        driver.find_element_by_css_selector('button#btnTranslate').click()\n",
    "        time.sleep(1)\n",
    "\n",
    "        output = driver.find_element_by_css_selector('div#txtTarget').text\n",
    "\n",
    "        # CSV 파일에 행 추가\n",
    "        wtr.writerow([keyword, output])\n",
    "\n",
    "        # 딕셔너리에 추가\n",
    "        my_dict[keyword] = output\n",
    "\n",
    "        driver.find_element_by_css_selector('textarea#txtSource').clear()\n",
    "        \n",
    "# 크롬 창 닫기\n",
    "driver.close()\n",
    "\n",
    "# 파일 닫기\n",
    "f.close()\n",
    "\n",
    "print(f\"나의 사전 : {my_dict}\")"
   ]
  },
  {
   "cell_type": "markdown",
   "id": "790abcc2",
   "metadata": {},
   "source": [
    "## Quiz\n",
    "- 번역 결과가 제대로 된 번역인지 확인\n",
    "한글 뜻을 입력하고 영어를 출력"
   ]
  },
  {
   "cell_type": "code",
   "execution_count": 13,
   "id": "34705afe",
   "metadata": {},
   "outputs": [
    {
     "name": "stdout",
     "output_type": "stream",
     "text": [
      "사과 : apple\n",
      "일하다. : Work.\n",
      "과학 : Science\n",
      "노란 색 : Yellow\n",
      "아플 : It hurts.\n",
      "집입니다 : Home.\n",
      "노래를 부르다 : Sing a song.\n",
      "무릎을 꿇다 : Go down on one's knees.\n"
     ]
    }
   ],
   "source": [
    "from selenium import webdriver\n",
    "import time\n",
    "import csv\n",
    "\n",
    "driver = webdriver.Chrome('./chromedriver')\n",
    "papago_url = 'https://papago.naver.com/'\n",
    "driver.get(papago_url)\n",
    "time.sleep(3)\n",
    "\n",
    "# 읽어올 'my_papago.csv' 파일을 변수 'f'에 저장\n",
    "f = open('./my_papago.csv', 'r') # CSV 파일을 불러오기 때문에 읽기 옵션 'r'\n",
    "\n",
    "rdr = csv.reader(f)\n",
    "\n",
    "next(rdr) # 열의 제목은 필요하지 않는다면 next 함수 사용\n",
    "# csv 파일의 한국어 부분만 리스트에 담음\n",
    "korean = []\n",
    "for row in rdr:\n",
    "    korean.append(row[1])\n",
    "    \n",
    "# 파일 닫기\n",
    "f.close()\n",
    "# 영어' ↔ '한국어' 버튼 누르기\n",
    "driver.find_element_by_css_selector('button.btn_switch___x4Tcl').click()\n",
    "\n",
    "# 단어 입력과 저장을 위한 반복 \n",
    "for kor in korean:\n",
    "    driver.find_element_by_css_selector('textarea#txtSource').send_keys(kor)\n",
    "    driver.find_element_by_css_selector('button#btnTranslate').click()\n",
    "    time.sleep(1)\n",
    "\n",
    "    output = driver.find_element_by_css_selector('div#txtTarget').text\n",
    "    driver.find_element_by_css_selector('textarea#txtSource').clear()\n",
    "    print(f\"{kor} : {output}\")\n",
    "        \n",
    "# 크롬 창 닫기\n",
    "driver.close()"
   ]
  },
  {
   "cell_type": "code",
   "execution_count": null,
   "id": "d75745b1",
   "metadata": {},
   "outputs": [],
   "source": []
  }
 ],
 "metadata": {
  "kernelspec": {
   "display_name": "practice",
   "language": "python",
   "name": "practice"
  },
  "language_info": {
   "codemirror_mode": {
    "name": "ipython",
    "version": 3
   },
   "file_extension": ".py",
   "mimetype": "text/x-python",
   "name": "python",
   "nbconvert_exporter": "python",
   "pygments_lexer": "ipython3",
   "version": "3.8.11"
  }
 },
 "nbformat": 4,
 "nbformat_minor": 5
}
