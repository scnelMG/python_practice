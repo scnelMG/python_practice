{
 "cells": [
  {
   "cell_type": "markdown",
   "id": "aea59992",
   "metadata": {},
   "source": [
    "# 정적 크롤링 (2)"
   ]
  },
  {
   "cell_type": "markdown",
   "id": "eafd3aeb",
   "metadata": {},
   "source": [
    "## G마켓 상품 목록 가져오기"
   ]
  },
  {
   "cell_type": "code",
   "execution_count": 1,
   "id": "18f4b2b8",
   "metadata": {},
   "outputs": [],
   "source": [
    "import requests\n",
    "import bs4"
   ]
  },
  {
   "cell_type": "code",
   "execution_count": 6,
   "id": "b89a895e",
   "metadata": {},
   "outputs": [],
   "source": [
    "url = \"https://browse.gmarket.co.kr/search?keyword=마스크\"\n",
    "raw = requests.get(url)\n",
    "html = bs4.BeautifulSoup(raw.text, 'html.parser')\n",
    "\n",
    "box = html.find('div', {'class' : 'section__module-wrap', 'module-design-id' : '15'}) # 상품 정보가 담긴 큰 틀 선택\n",
    "items = box.find_all('div', {\"class\" : 'box__item-container'}) # 위 틀에서 상품 정보 가져오기"
   ]
  },
  {
   "cell_type": "code",
   "execution_count": 7,
   "id": "2eaf424e",
   "metadata": {},
   "outputs": [
    {
     "data": {
      "text/plain": [
       "100"
      ]
     },
     "execution_count": 7,
     "metadata": {},
     "output_type": "execute_result"
    }
   ],
   "source": [
    "len(items) # 한 페이지에 100개의 상품"
   ]
  },
  {
   "cell_type": "code",
   "execution_count": 8,
   "id": "88a15b39",
   "metadata": {},
   "outputs": [
    {
     "name": "stdout",
     "output_type": "stream",
     "text": [
      "G마켓의 마스크 상품 정보\n",
      "이름 :   일회용 마스크 50매 국산 MB필터 검정/블랙마스크3중 \n",
      "가격 :  6,500\n",
      "\n",
      "이름 :   국산 식약처인증 KF-AD 비말차단 데일리쿨마스크100매 \n",
      "가격 :  14,610\n",
      "\n",
      "이름 :   참존 굿매너 마스크 KF94  대형 흰색 100매 \n",
      "가격 :  35,100\n",
      "\n",
      "이름 :   KF94 100%국내 에어블링 황사 마스크(대형) 100매 \n",
      "가격 :  35,000\n",
      "\n",
      "이름 :   소프트 핏 마스크 대형 세탁 가능 블랙(대형) 1매입 \n",
      "가격 :  19,900\n",
      "\n",
      "이름 :   KF94 국내생산 100매 화이트50 블랙50 혼합 황사마스크 \n",
      "가격 :  12,560\n",
      "\n",
      "이름 :   퓨어맥스 KF94 마스크 블랙 50매 국내생산 식약처인증 \n",
      "가격 :  17,900\n",
      "\n",
      "이름 :   CLA KF94 새부리형  50매 마스크 대형 화이트 \n",
      "가격 :  24,500\n",
      "\n",
      "이름 :   국산 3중 구조 일회용 마스크 대형 화이트 50매 \n",
      "가격 :  7,900\n",
      "\n",
      "이름 :   식약처인증 국산 위즈윈 덴탈마스크 50매 일회용 비말 \n",
      "가격 :  7,500\n",
      "\n"
     ]
    }
   ],
   "source": [
    "print(\"G마켓의 마스크 상품 정보\")\n",
    "for item in items[:10]:\n",
    "    title = item.find('span', {'class' : 'text__item'}) # 이름 부분 \n",
    "    price = item.find('strong', {'class' : 'text__value'}) # 가격 부분\n",
    "    print(\"이름 : \", title.text)\n",
    "    print('가격 : ', price.text)\n",
    "    print()"
   ]
  },
  {
   "cell_type": "markdown",
   "id": "0ad35f6a",
   "metadata": {},
   "source": [
    "## 검색하고 싶은 키워드 입력받고 크롤링"
   ]
  },
  {
   "cell_type": "code",
   "execution_count": 13,
   "id": "33d7e37a",
   "metadata": {},
   "outputs": [
    {
     "name": "stdout",
     "output_type": "stream",
     "text": [
      "검색을 원하는 키워드를 입력하세요. ( 0을 입력하면 종료 )김\n",
      "< G마켓의김상품 정보 >\n",
      "이름 :   파래식탁김28매30봉/광천김/광천조양맛김/광천직송 \n",
      "가격 :  28,000\n",
      "\n",
      "이름 :   광천김 명작 실속 전장김 9봉 선물세트5+1 \n",
      "가격 :  12,250\n",
      "\n",
      "이름 :   재래식탁김30봉지/광천조양맛김/광천 본사직송 햇김 \n",
      "가격 :  27,000\n",
      "\n",
      "이름 :   달인 김병만의 광천김 선물세트 7호 / 9+1 \n",
      "가격 :  11,900\n",
      "\n",
      "이름 :   백제광천김 재래도시락김27봉 선물세트5+1 \n",
      "가격 :  9,730\n",
      "\n",
      "이름 :   백제광천김 재래 도시락김4g 48봉 \n",
      "가격 :  13,710\n",
      "\n",
      "이름 :   달인 김병만의 광천김 선물세트 30-5호 \n",
      "가격 :  21,560\n",
      "\n",
      "이름 :   광천김 재래 전장김 (20봉) 1박스 /재래김 광천재래김 \n",
      "가격 :  18,420\n",
      "\n",
      "이름 :   불맛이 살아있는 철판구이 조미 전장 구이김 20봉 \n",
      "가격 :  21,800\n",
      "\n",
      "이름 :   서울김 재래김 10봉 /원초부터 깐깐하게 고른 맛있는김 \n",
      "가격 :  12,650\n",
      "\n",
      "검색을 원하는 키워드를 입력하세요. ( 0을 입력하면 종료 )0\n"
     ]
    }
   ],
   "source": [
    "import requests\n",
    "import bs4\n",
    "\n",
    "while True:\n",
    "    keyword = input(\"검색을 원하는 키워드를 입력하세요. ( 0을 입력하면 종료 )\")\n",
    "    if keyword == \"0\":\n",
    "        break\n",
    "\n",
    "    # 위의 기존 코드\n",
    "    URL = \"https://browse.gmarket.co.kr/search?keyword=\"+keyword\n",
    "    raw = requests.get(URL)\n",
    "\n",
    "    html = bs4.BeautifulSoup(raw.text, 'html.parser')\n",
    "\n",
    "    box = html.find('div', {'class' : 'section__module-wrap', 'module-design-id' : '15'})\n",
    "\n",
    "    items = box.find_all('div', {\"class\" : 'box__item-container'})\n",
    "\n",
    "    print(\"< G마켓의\"+ keyword + \"상품 정보 >\")\n",
    "    for item in items[:10]:\n",
    "        title = item.find('span', {'class' : 'text__item'})\n",
    "        price = item.find('strong', {'class' : 'text__value'})\n",
    "        print(\"이름 : \", title.text)\n",
    "        print('가격 : ', price.text)\n",
    "        print()"
   ]
  },
  {
   "cell_type": "markdown",
   "id": "8f42e883",
   "metadata": {},
   "source": [
    "## 관심 있는 키워드를 입력받고, 관련 뉴스 기사 제목 수집"
   ]
  },
  {
   "cell_type": "code",
   "execution_count": 15,
   "id": "a6f035dc",
   "metadata": {},
   "outputs": [
    {
     "name": "stdout",
     "output_type": "stream",
     "text": [
      "뉴스 검색 키워드: 부산\n",
      "1 - 19일 5000명 중반 예상…오후 9시까지 신규 확진 4846명\n",
      "2 - 오후 9시까지 전국서 4천846명 확진…어제보다 1천512명 급증(종합)\n",
      "3 - [날씨] 수도권 등 곳곳 오후 들어 강한 눈…낮에도 강추위\n",
      "4 - 오후 6시까지 신규 확진 4256명…전날 대비 1522명 '급증'\n",
      "5 - 오후 6시까지 4,256명 확진…전날보다 1,522명 급증\n",
      "6 - 오후 6시까지 전국서 4천256명 확진…어제보다 1천522명 급증\n",
      "7 - 걷는 게임에서 원격 게임으로…코로나 시대 '포켓몬 고'의 변화\n",
      "8 - \"연내 상장, 대형마트 시총 넘어설 것…뷰티 등 사업 확대\"\n",
      "9 - 부산 'b-space' 입주 기업 모집\n",
      "10 - 92세 노모와 마지막 여행 떠난 마가스님 \"효는 인간회복의 길\"\n",
      "11 - BNK부산은행 '핀테크랩' 560억 투자 유치\n",
      "12 - 경남 12개 시·군서 172명 확진…양산 주간보호센터 집단감염(종합)\n",
      "13 - [인사] SGI서울보증 ; 한국원자력안전기술원\n",
      "14 - 김슬아 컬리 대표 \"죽기 전 후회할 것 같을 때만 창업하라\"\n",
      "15 - 김해시, 생활쓰레기 자체 처리용량 늘린다…연내 착공\n",
      "16 - 부산 해운대구, 직원 집단감염 첫 발생 때 '깜깜이 대응' 논란\n",
      "17 - 프로농구 수원 kt, 수원특례시 축하 유니폼 제작\n",
      "18 - 축구도 아닌데…공격수·수비수 나눠 고의로 자동차 사고\n",
      "19 - 경남도의회, 부울경 특별지자체 의회 정수 합의 놓고 '이견'\n",
      "20 - 민주당 문화강국 전남위원회 출범 \"이재명표 문화정책 구현\"\n"
     ]
    }
   ],
   "source": [
    "import requests\n",
    "from bs4 import BeautifulSoup\n",
    "\n",
    "keyword = input(\"뉴스 검색 키워드: \")\n",
    "count = 0\n",
    "\n",
    "for page in range(1, 3):\n",
    "    news_url = 'https://search.hankyung.com/apps.frm/search.news?query=' + keyword + '&page=' + str(page)\n",
    "    raw = requests.get(news_url)\n",
    "\n",
    "    soup = BeautifulSoup(raw.text, 'html.parser')\n",
    "\n",
    "    box = soup.find('ul', {'class' : 'article'})\n",
    "    all_title = box.find_all('em', {'class': 'tit'})\n",
    "\n",
    "    for title in all_title:\n",
    "        count += 1\n",
    "        t = title.text\n",
    "        print(count, '-', t.strip())"
   ]
  },
  {
   "cell_type": "markdown",
   "id": "37f4e0cf",
   "metadata": {},
   "source": [
    "## Quiz (3)\n",
    "- 정렬방식에 따른 상품목록 수집"
   ]
  },
  {
   "cell_type": "code",
   "execution_count": 24,
   "id": "a87a305b",
   "metadata": {},
   "outputs": [
    {
     "name": "stdout",
     "output_type": "stream",
     "text": [
      "검색을 원하는 키워드를 입력하세요. ( 0을 입력하면 종료 )갤럭시\n",
      "\n",
      "< G마켓의갤럭시상품 정보 >\n",
      "<G마켓 랭크 순>\n",
      "이름 :   삼성갤럭시노트10 256g lte알뜰폰공기계 랜덤색상s급 \n",
      "가격 :  387,500\n",
      "\n",
      "이름 :   갤럭시 노트10+ 256GB  공기계 중고폰 알뜰폰 S급 \n",
      "가격 :  500,000\n",
      "\n",
      "이름 :   삼성전자 갤럭시Z폴드3 256GB 자급제폰 SM-F926N 그린 \n",
      "가격 :  1,998,700\n",
      "\n",
      "\n",
      "< G마켓의갤럭시상품 정보 >\n",
      "<판매 인기 순>\n",
      "이름 :   갤럭시 핏2 스마트밴드 SM-R220+할인쿠폰+리뷰혜택 \n",
      "가격 :  49,500\n",
      "\n",
      "이름 :   갤럭시북 NT750XDZ-A51A 1.55kg 대학생 15인치 인강 \n",
      "가격 :  999,000\n",
      "\n",
      "이름 :   공식인증 갤럭시A52s 128GB 자급제 SM-A528N 사은품 \n",
      "가격 :  599,500\n",
      "\n",
      "\n",
      "< G마켓의갤럭시상품 정보 >\n",
      "<낮은 가격 순>\n",
      "이름 :   갤럭시a325(선약/세이브/번이)/갤럭시z플립 \n",
      "가격 :  0\n",
      "\n",
      "이름 :   갤럭시z플립(공시/퍼펙트/번이)/갤럭시a325 \n",
      "가격 :  98,000\n",
      "\n",
      "이름 :   갤럭시노트10 노트10플러스 특별사은품증정/KT프라자 \n",
      "가격 :  190,500\n",
      "\n",
      "\n",
      "< G마켓의갤럭시상품 정보 >\n",
      "<높은 가격 순>\n",
      "이름 :   스타 문 갤럭시 프로젝터 라이트 스카이 레이저 다채 \n",
      "가격 :  48,693,800\n",
      "\n",
      "이름 :   DND RPG 용 고품질 15 색 크리 에이 티브 우주 갤럭시 \n",
      "가격 :  21,616,200\n",
      "\n",
      "이름 :   갤럭시 G6 GNSS RTK 수신기 1 베이스 및 로버 \n",
      "가격 :  16,520,970\n",
      "\n",
      "\n",
      "< G마켓의갤럭시상품 정보 >\n",
      "<상품평 많은 순>\n",
      "이름 :   강화유리 플립 폴드 갤럭시S21 20 노트20 10 아이폰13 \n",
      "가격 :  14,900\n",
      "\n",
      "이름 :   (1.2m)(1+1) 3in1 멀티 충전케이블 5핀+8핀+C타입 \n",
      "가격 :  4,900\n",
      "\n",
      "이름 :   갤럭시S21 S20 노트20 LG 아이폰 강화유리 필름2매 \n",
      "가격 :  7,600\n",
      "\n",
      "\n",
      "< G마켓의갤럭시상품 정보 >\n",
      "<신규 상품 순>\n",
      "이름 :   보거스 트리머 갤럭시5 GALAXY5 전자이발기 전문가용 \n",
      "가격 :  41,040\n",
      "\n",
      "이름 :   갤럭시노트8 N950 달고나 어몽어스 투명케이스 \n",
      "가격 :  25,260\n",
      "\n",
      "이름 :   폰애드 가나다 슬라이드 카드 범퍼 케이스 갤럭시A12 \n",
      "가격 :  1,470\n",
      "\n",
      "검색을 원하는 키워드를 입력하세요. ( 0을 입력하면 종료 )0\n"
     ]
    }
   ],
   "source": [
    "import requests\n",
    "import bs4\n",
    "\n",
    "while True:\n",
    "    keyword = input(\"검색을 원하는 키워드를 입력하세요. ( 0을 입력하면 종료 )\")\n",
    "    if keyword == \"0\":\n",
    "        break\n",
    "    for type_num in range(0, 6):\n",
    "        list_type = [['G마켓 랭크 순', 7], ['판매 인기 순', 8], ['낮은 가격 순', 1], ['높은 가격 순', 2], ['상품평 많은 순', 13], ['신규 상품 순', 3]]\n",
    "        URL = \"https://browse.gmarket.co.kr/search?keyword=\" + keyword +'&s=' + str(list_type[type_num][1])\n",
    "        raw = requests.get(URL)\n",
    "\n",
    "        html = bs4.BeautifulSoup(raw.text, 'html.parser')\n",
    "\n",
    "        box = html.find('div', {'class' : 'section__module-wrap', 'module-design-id' : '15'})\n",
    "\n",
    "        items = box.find_all('div', {\"class\" : 'box__item-container'})\n",
    "        print()\n",
    "        print(\"< G마켓의\"+ keyword + \"상품 정보 >\")\n",
    "        print(\"<\" + list_type[type_num][0] + \">\")\n",
    "        for item in items[:3]:\n",
    "            title = item.find('span', {'class' : 'text__item'})\n",
    "            price = item.find('strong', {'class' : 'text__value'})\n",
    "            print(\"이름 : \", title.text)\n",
    "            print('가격 : ', price.text)\n",
    "            print()"
   ]
  },
  {
   "cell_type": "code",
   "execution_count": null,
   "id": "ba1e1514",
   "metadata": {},
   "outputs": [],
   "source": []
  }
 ],
 "metadata": {
  "kernelspec": {
   "display_name": "practice",
   "language": "python",
   "name": "practice"
  },
  "language_info": {
   "codemirror_mode": {
    "name": "ipython",
    "version": 3
   },
   "file_extension": ".py",
   "mimetype": "text/x-python",
   "name": "python",
   "nbconvert_exporter": "python",
   "pygments_lexer": "ipython3",
   "version": "3.8.11"
  }
 },
 "nbformat": 4,
 "nbformat_minor": 5
}
