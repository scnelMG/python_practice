{
 "cells": [
  {
   "cell_type": "markdown",
   "id": "0858e172",
   "metadata": {},
   "source": [
    "# 동적 크롤링"
   ]
  },
  {
   "cell_type": "code",
   "execution_count": 1,
   "id": "afff9bf2",
   "metadata": {},
   "outputs": [
    {
     "name": "stdout",
     "output_type": "stream",
     "text": [
      "selenium installed!\n"
     ]
    }
   ],
   "source": [
    "import selenium\n",
    "\n",
    "print(\"selenium installed!\")"
   ]
  },
  {
   "cell_type": "code",
   "execution_count": 5,
   "id": "53945d71",
   "metadata": {},
   "outputs": [],
   "source": [
    "from selenium import webdriver\n",
    "import time # 대기시간 부여를 위한 time 라이브러리 import\n",
    "\n",
    "driver = webdriver.Chrome('./chromedriver')\n",
    "URL = \"https://www.gmarket.co.kr/\"\n",
    "driver.get(URL)\n",
    "\n",
    "time.sleep(3) # 대기시간 3초 설정\n",
    "\n",
    "driver.close()"
   ]
  },
  {
   "cell_type": "markdown",
   "id": "82b5671b",
   "metadata": {},
   "source": [
    "## Quiz\n",
    "- 네이버 국내 증시 사이트를 selenium을 이용해 들어가기"
   ]
  },
  {
   "cell_type": "code",
   "execution_count": 7,
   "id": "843f202a",
   "metadata": {},
   "outputs": [],
   "source": [
    "from selenium import webdriver\n",
    "import time # 대기시간 부여를 위한 time 라이브러리 import\n",
    "\n",
    "driver = webdriver.Chrome('./chromedriver')\n",
    "URL = \"https://finance.naver.com/sise/\"\n",
    "driver.get(URL)\n",
    "\n",
    "time.sleep(3) # 대기시간 3초 설정\n",
    "\n",
    "driver.close()"
   ]
  },
  {
   "cell_type": "code",
   "execution_count": null,
   "id": "a309a46b",
   "metadata": {},
   "outputs": [],
   "source": []
  }
 ],
 "metadata": {
  "kernelspec": {
   "display_name": "practice",
   "language": "python",
   "name": "practice"
  },
  "language_info": {
   "codemirror_mode": {
    "name": "ipython",
    "version": 3
   },
   "file_extension": ".py",
   "mimetype": "text/x-python",
   "name": "python",
   "nbconvert_exporter": "python",
   "pygments_lexer": "ipython3",
   "version": "3.8.11"
  }
 },
 "nbformat": 4,
 "nbformat_minor": 5
}
