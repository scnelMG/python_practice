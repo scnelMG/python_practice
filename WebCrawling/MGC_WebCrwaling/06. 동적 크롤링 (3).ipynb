{
 "cells": [
  {
   "cell_type": "markdown",
   "id": "ad861408",
   "metadata": {},
   "source": [
    "# 동적 크롤링 (3)\n",
    "-  네이버 로그인 후 카페 게시물의 글 내용 수집"
   ]
  },
  {
   "cell_type": "markdown",
   "id": "39d38975",
   "metadata": {},
   "source": [
    "## 네이버 로그인 후 카페 첫 게시물 내용 가져오기"
   ]
  },
  {
   "cell_type": "code",
   "execution_count": 1,
   "id": "e902ea2d",
   "metadata": {},
   "outputs": [
    {
     "name": "stdout",
     "output_type": "stream",
     "text": [
      "잘부탁드려요 ㅎㅎ\n"
     ]
    }
   ],
   "source": [
    "from selenium import webdriver\n",
    "import time\n",
    "\n",
    "driver = webdriver.Chrome('./chromedriver')\n",
    "\n",
    "login_url = 'https://nid.naver.com/nidlogin.login'\n",
    "driver.get(login_url)\n",
    "\n",
    "time.sleep(2)\n",
    "\n",
    "# 본인의 아이디, 비밀번호를 각각 변수에 저장\n",
    "# ex) 아이디 : comu, 비밀번호 : 12345\n",
    "my_id = 'comu'\n",
    "my_pw = '12345'\n",
    "\n",
    "# 자동 로그인 입력 방지 문자를 피하기 위해 send_keys()' 함수가 아니라 'execute_script()' 함수를 사용\n",
    "# 아이디와 비밀번호 입력\n",
    "driver.execute_script(\"document.getElementsByName('id')[0].value = \\'\" + my_id + \"\\'\")\n",
    "driver.execute_script(\"document.getElementsByName('pw')[0].value = \\'\" + my_pw + \"\\'\")\n",
    "\n",
    "time.sleep(1)\n",
    "\n",
    "# '로그인' 버튼 클릭 # id에 .이 포함되어 있어, find_element_by_css_selector 함수 대신, find_element_by_id 함수를 사용\n",
    "button = driver.find_element_by_id('log.login')\n",
    "button.click()\n",
    "\n",
    "time.sleep(1)\n",
    "\n",
    "# 원하는 카페 접속\n",
    "comu_url = 'https://cafe.naver.com/codeuniv'\n",
    "driver.get(comu_url)\n",
    "\n",
    "time.sleep(1)\n",
    "\n",
    "# '신규회원게시판' 클릭\n",
    "menu = driver.find_element_by_id('menuLink90')\n",
    "menu.click()\n",
    "\n",
    "time.sleep(1)\n",
    "\n",
    "# selenium의 탐색 위치를 프레임 내부로 전환, 이 때 switch_to.frame 함수 사용\n",
    "# 프레임 전환\n",
    "driver.switch_to.frame('cafe_main') #  iframe을 검색 # driver.switch_to.frame(\"프레임의 이름\")\n",
    "\n",
    "# 첫번째 글 클릭 # 첫번째 글의 제목의 XPath 가져옴\n",
    "writing = driver.find_element_by_xpath('//*[@id=\"main-area\"]/div[4]/table/tbody/tr[1]/td[1]/div[2]/div/a')\n",
    "writing.click()\n",
    "\n",
    "time.sleep(1)\n",
    "\n",
    "# 글 내용 출력\n",
    "content = driver.find_element_by_css_selector('div.se-component-content').text\n",
    "print(content)\n",
    "# 크롬 창 닫기\n",
    "driver.close()"
   ]
  },
  {
   "cell_type": "markdown",
   "id": "a6a018bb",
   "metadata": {},
   "source": [
    "## 여러 게시물의 내용 가져오기\n",
    "- 뒤로가기 기능이 필요 (driver.back() 함수 사용)\n",
    "- XPath의 패턴을 이용해 반복문 구현  \n",
    "//*[@id=\"main-area\"]/div[4]/table/tbody/tr[4]/td[1]/div[2]/div/a[1]  \n",
    "//*[@id=\"main-area\"]/div[4]/table/tbody/tr[1]/td[1]/div[2]/div/a  \n",
    "//*[@id=\"main-area\"]/div[4]/table/tbody/tr[10]/td[1]/div[2]/div/a[1]"
   ]
  },
  {
   "cell_type": "code",
   "execution_count": 8,
   "id": "a47c3b21",
   "metadata": {},
   "outputs": [
    {
     "name": "stdout",
     "output_type": "stream",
     "text": [
      "가입은 며칠전에 했는데 이제 인사드리네요\n",
      "잘부탁드려요 ㅎㅎ\n",
      "잘부탁드립니다!!\n",
      "1학년 때 너무 놀아서 다시 공부하려고 가입했습니당\n",
      "안녕하세요~~\n",
      "열심히 하겠씁니다/\n",
      "네 안녕하세요\n",
      "같이 열심히 공부해여\n",
      "디자인 전공으로 졸업했는데, 웹디자인 수업 때 잠깐 들었던 코딩에 흥미가 생겨서 html과 css를 생활코딩으로 가볍게 접해보고 개인 홈페이지를 만들어보고 있는데 쉽지 않네요ㅎㅎ... 배우는 단계라 생각하고 천천히 해보려고 합니다 잘부탁드립니다~\n",
      "안녕하세요 새로 가입했습니다!\n",
      "잘 부탁드립니다:)\n",
      "가입했습니다.\n",
      "코딩은 막 시작했습니다. 열심히 해보겠습니다.^^ \n",
      "반갑습니다\n",
      "열심히 하겠습니다!\n",
      "안녕하세요. \n",
      "코딩 실력이 부족하지만 열심히 하겠습니다.\n",
      "안녕하세요~\n",
      "리액트 하고 있습니다! 더 잘하고 싶어서!\n",
      "더 많은 고민을 하고자 모각코를 통해 가입했습니다 잘부탁드립니다~!\n",
      "안녕하세요. 학원을 다니며 개발자를 꿈꾸고 있는 수련생입니다.\n",
      "다름이 아니라 이번에 c언어를 끝내고 다음 언어를 배워야 하는데요. 제가 지원금으로 이수하고 있는 중이라 언어 선택에 고민이 있습니다. 선생님은 c++이 학원 정석 커리큘럼이라 하시고 c++이 난이도가 있다고 해서 재미있을거 같지만 이제 취업도 슬슬 병행해야해서 알아보니 c++은 잘 안쓰는 추세라고 하더라구요...그래서 요즘 취업시장에서 찾아주는 파이썬을 추천해 주셨는데, 이게 앞으로의 일들에 큰 변환점으로 작용할거 같아 선뜻 무엇하나를 선택하기가 어렵습니다..두개 다 배우자니 시간은 부족하고, 병행해서 배우는건 제가 너무 힘들거 같아서요...(학원에서 과제를 잘 주는 편이고, 제가 문제가 막히면 오늘 안되는거 하루종일 머리속에서 굴리다 내일하면 되는 스타일이라서요) 어떤게 현명한 선택일까요? 제가 잘 생각해봐야 하겠지만, 정보를 얻을 곳이 없어 결정 내리기가 주저되네요..ㅜ\n"
     ]
    }
   ],
   "source": [
    "from selenium import webdriver\n",
    "import time\n",
    "\n",
    "driver = webdriver.Chrome('./chromedriver')\n",
    "\n",
    "login_url = 'https://nid.naver.com/nidlogin.login'\n",
    "driver.get(login_url)\n",
    "time.sleep(2)\n",
    "\n",
    "my_id = 'ID'\n",
    "my_pw = 'PW'\n",
    "\n",
    "driver.execute_script(\"document.getElementsByName('id')[0].value = \\'\" + my_id + \"\\'\")\n",
    "driver.execute_script(\"document.getElementsByName('pw')[0].value = \\'\" + my_pw + \"\\'\")\n",
    "time.sleep(1)\n",
    "\n",
    "button = driver.find_element_by_id('log.login')\n",
    "button.click()\n",
    "time.sleep(1)\n",
    "\n",
    "comu_url = 'https://cafe.naver.com/codeuniv'\n",
    "driver.get(comu_url)\n",
    "time.sleep(1)\n",
    "\n",
    "menu = driver.find_element_by_id('menuLink90')\n",
    "menu.click()\n",
    "time.sleep(1)\n",
    "\n",
    "for i in range(1, 16):\n",
    "    XPath = '//*[@id=\"main-area\"]/div[4]/table/tbody/tr[' +str(i) + \"]/td[1]/div[2]/div/a[1]\"\n",
    "\n",
    "    driver.switch_to.frame('cafe_main')\n",
    "    time.sleep(1)\n",
    "\n",
    "    writing = driver.find_element_by_xpath(XPath)\n",
    "    writing.click()\n",
    "    time.sleep(1)\n",
    "\n",
    "    content = driver.find_element_by_css_selector('div.se-component-content').text\n",
    "    print(content)\n",
    "    # 뒤로 가기\n",
    "    driver.back()\n",
    "    time.sleep(1)\n",
    "\n",
    "driver.close()"
   ]
  }
 ],
 "metadata": {
  "kernelspec": {
   "display_name": "practice",
   "language": "python",
   "name": "practice"
  },
  "language_info": {
   "codemirror_mode": {
    "name": "ipython",
    "version": 3
   },
   "file_extension": ".py",
   "mimetype": "text/x-python",
   "name": "python",
   "nbconvert_exporter": "python",
   "pygments_lexer": "ipython3",
   "version": "3.8.11"
  }
 },
 "nbformat": 4,
 "nbformat_minor": 5
}
