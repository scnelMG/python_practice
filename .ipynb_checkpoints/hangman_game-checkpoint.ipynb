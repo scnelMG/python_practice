{
 "cells": [
  {
   "cell_type": "code",
   "execution_count": 19,
   "id": "f46d33bb",
   "metadata": {},
   "outputs": [],
   "source": [
    "from random import * # 랜덤 모듈 import - 랜덤으로 단어 고를 떄 사용"
   ]
  },
  {
   "cell_type": "code",
   "execution_count": 20,
   "id": "fd0dd287",
   "metadata": {},
   "outputs": [
    {
     "name": "stdout",
     "output_type": "stream",
     "text": [
      "answer : apple\n",
      "한 글자씩 입력해주세요 > a\n",
      "a가 정답단어에 포함되어 있습니다.\n",
      "\n",
      "a _ _ _ _ \n",
      "한 글자씩 입력해주세요 > p\n",
      "p가 정답단어에 포함되어 있습니다.\n",
      "\n",
      "a p p _ _ \n",
      "한 글자씩 입력해주세요 > l\n",
      "l가 정답단어에 포함되어 있습니다.\n",
      "\n",
      "a p p l _ \n",
      "한 글자씩 입력해주세요 > e\n",
      "e가 정답단어에 포함되어 있습니다.\n",
      "\n",
      "a p p l e \n",
      "정답입니다! 정답단어는 apple였습니다!\n"
     ]
    }
   ],
   "source": [
    "words = [\"apple\", \"banana\", \"orange\"] # 리스트에 영어 단어 후보를 나열\n",
    "word = choice(words) # 랜덤으로 단어 중 1개를 선택 # random 모듈의 choice 함수\n",
    "print(\"answer : \" + word) # 참고용으로 정답 출력 (실제 게임에서는 지우기)\n",
    "letters = \"\" # 플레이어가 지금까지 입력한 알파벳들 저장\n",
    "while True: # 정답을 맞힐 때까지 무한 반복\n",
    "    letter = input(\"한 글자씩 입력해주세요 > \") # 플레이어로부터 한 글자씩 입력받음\n",
    "    if letter not in letters: # 이전에 플레이어가 입력한 값 중에 포함되어 있지 않다면\n",
    "        letters += letter # 새로 입력받은 글자를 입력값(letters)에 추가\n",
    "\n",
    "    if letter in word: # 입력한 글자가 제시 단어에 포함되었다면\n",
    "        print(f\"{letter}가 정답단어에 포함되어 있습니다.\")\n",
    "    else: # 포함되어있지 않다면\n",
    "        print(f\"{letter}가 정답단어에 포함되어 있지 않습니다.\")\n",
    "        \n",
    "    succeed = True # 성공 여부 확인 변수값 지정\n",
    "    print() # 빈칸 만들기\n",
    "    for w in word: # 제시 단어를 알파벳별로 한 글자씩 비교\n",
    "        if w in letters: # 현재 알파벳이 플레이어가 입력한 값들 중에 있으면 \n",
    "            print(w, end=\" \") # 그 알파벳을 표시 # end =''는 옆에 한줄로 표시하기 위함\n",
    "        else: # 입력한 값들 중에 없으면\n",
    "            print(\"_\", end=\" \") # 밑줄을 표시\n",
    "            succeed = False # 밑줄이 있다는 것은 아직 다 풀지 못했음을 의미 !\n",
    "    print()\n",
    "\n",
    "    if succeed: # 만약 성공했다면 게임 종료\n",
    "        print(f\"정답입니다! 정답단어는 {word}였습니다!\")\n",
    "        break"
   ]
  }
 ],
 "metadata": {
  "kernelspec": {
   "display_name": "practice",
   "language": "python",
   "name": "practice"
  },
  "language_info": {
   "codemirror_mode": {
    "name": "ipython",
    "version": 3
   },
   "file_extension": ".py",
   "mimetype": "text/x-python",
   "name": "python",
   "nbconvert_exporter": "python",
   "pygments_lexer": "ipython3",
   "version": "3.8.11"
  }
 },
 "nbformat": 4,
 "nbformat_minor": 5
}
